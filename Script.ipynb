{
 "cells": [
  {
   "cell_type": "code",
   "execution_count": 1,
   "metadata": {},
   "outputs": [
    {
     "name": "stderr",
     "output_type": "stream",
     "text": [
      "C:\\Users\\markv\\AppData\\Local\\Temp\\ipykernel_14324\\4080736814.py:1: DeprecationWarning: \n",
      "Pyarrow will become a required dependency of pandas in the next major release of pandas (pandas 3.0),\n",
      "(to allow more performant data types, such as the Arrow string type, and better interoperability with other libraries)\n",
      "but was not found to be installed on your system.\n",
      "If this would cause problems for you,\n",
      "please provide us feedback at https://github.com/pandas-dev/pandas/issues/54466\n",
      "        \n",
      "  import pandas as pd\n"
     ]
    }
   ],
   "source": [
    "import pandas as pd"
   ]
  },
  {
   "cell_type": "code",
   "execution_count": 2,
   "metadata": {},
   "outputs": [
    {
     "name": "stdout",
     "output_type": "stream",
     "text": [
      "geef me je geld\n",
      "of ik gebruik geweld,\n",
      "toen kwam de controle aangesneld\n"
     ]
    }
   ],
   "source": [
    "print(\"geef me je geld\")\n",
    "print(\"of ik gebruik geweld,\")\n",
    "print(\"toen kwam de controle aangesneld\")\n"
   ]
  },
  {
   "cell_type": "code",
   "execution_count": 3,
   "metadata": {},
   "outputs": [
    {
     "name": "stdout",
     "output_type": "stream",
     "text": [
      "Apenhoofd\n",
      "Paardenstaart\n"
     ]
    }
   ],
   "source": [
    "Apenhoofd = \"Apenhoofd\"\n",
    "PaardenStaart = \"Paardenstaart\"\n",
    "print(Apenhoofd)\n",
    "print(PaardenStaart)"
   ]
  },
  {
   "cell_type": "code",
   "execution_count": 5,
   "metadata": {},
   "outputs": [
    {
     "name": "stdout",
     "output_type": "stream",
     "text": [
      "Het is inderdaad:\n",
      "E\n"
     ]
    }
   ],
   "source": [
    "letter = input(\"A,B,C,D, ...., F, G\")\n",
    "print(\"Het is inderdaad:\")\n",
    "print(letter)"
   ]
  },
  {
   "cell_type": "code",
   "execution_count": 1,
   "metadata": {},
   "outputs": [
    {
     "name": "stdout",
     "output_type": "stream",
     "text": [
      "Uw inkomen (yes) is zeer acceptabel\n"
     ]
    }
   ],
   "source": [
    "inkomen = input(\"\")\n",
    "print(f\"Uw inkomen ({inkomen}) is zeer acceptabel\")"
   ]
  },
  {
   "cell_type": "code",
   "execution_count": 1,
   "metadata": {},
   "outputs": [
    {
     "name": "stdout",
     "output_type": "stream",
     "text": [
      "De oppervlakte van de driehoek is 100.0\n"
     ]
    }
   ],
   "source": [
    "basis = int(input(\"wat is de basis?\"))\n",
    "hoogte = int(input(\"wat is de hoogte?\"))\n",
    "print(f\"De oppervlakte van de driehoek is {0.5*hoogte*basis}\")"
   ]
  },
  {
   "cell_type": "code",
   "execution_count": 3,
   "metadata": {},
   "outputs": [
    {
     "name": "stdout",
     "output_type": "stream",
     "text": [
      "Waarom heb je nog je ouders mee?\n"
     ]
    }
   ],
   "source": [
    "l = int(input(\"geef je leeftijd\"))\n",
    "o = input(\"Zijn je ouders mee j/n\")\n",
    "if (o == \"j\"):\n",
    "    if (l < 6):\n",
    "        print(\"Je mag het zwembad in\")\n",
    "    else:\n",
    "        print(\"Waarom heb je nog je ouders mee?\")\n",
    "else:\n",
    "    if(l < 6):\n",
    "        print(\"Je mag het niet zwembad in\")\n",
    "    else:\n",
    "        print(\"Je mag het zwembad in als je een diploma hebt\")"
   ]
  },
  {
   "cell_type": "code",
   "execution_count": 7,
   "metadata": {},
   "outputs": [
    {
     "name": "stdout",
     "output_type": "stream",
     "text": [
      "gelijk\n"
     ]
    }
   ],
   "source": [
    "def wachtwoord1(een, twee):\n",
    "    if(een == twee):\n",
    "        print(\"gelijk\")\n",
    "    else:\n",
    "        print(\"ongelijk\")\n",
    "\n",
    "wachtwoord1(\"gelijk\", \"gelijk\")"
   ]
  },
  {
   "cell_type": "code",
   "execution_count": 6,
   "metadata": {},
   "outputs": [
    {
     "name": "stdout",
     "output_type": "stream",
     "text": [
      "shang\n"
     ]
    }
   ],
   "source": [
    "def zoekPrins(prinses):\n",
    "    if(prinses == \"aurora\"):\n",
    "        print(\"philip\")\n",
    "    elif(prinses == \"ariel\"):\n",
    "        print(\"Eric\")\n",
    "    elif(prinses == \"Jasmine\"): \n",
    "        print(\"aladdin\")\n",
    "    elif(prinses == \"pocahontas\"):\n",
    "        print(\"john\")\n",
    "    elif(prinses == \"belle\"):\n",
    "        print(\"beast\")\n",
    "    elif(prinses == \"tiana\"):\n",
    "        print(\"naveen\")\n",
    "    elif(prinses == \"mulan\"):\n",
    "        print(\"shang\")\n",
    "zoekPrins(\"mulan\")"
   ]
  },
  {
   "cell_type": "code",
   "execution_count": 1,
   "metadata": {},
   "outputs": [
    {
     "name": "stdout",
     "output_type": "stream",
     "text": [
      "succes\n"
     ]
    }
   ],
   "source": [
    "def wachtwoord():\n",
    "    w1 = input()\n",
    "    w2 = input()\n",
    "    while(w1 != w2):\n",
    "        print(\"probeer het opnieuw\")\n",
    "    print(\"succes\")\n",
    "wachtwoord()"
   ]
  },
  {
   "cell_type": "code",
   "execution_count": 6,
   "metadata": {},
   "outputs": [
    {
     "name": "stdout",
     "output_type": "stream",
     "text": [
      "1\n",
      "\n",
      "2\n",
      "\n"
     ]
    }
   ],
   "source": [
    "def tafel(getal: int):\n",
    "    teller: int = 1\n",
    "    while(teller <= 10):\n",
    "        print(f'{teller} x {getal} = {teller * getal}')\n",
    "        teller += 1\n",
    "def tafels(getal: int):\n",
    "    teller: int = 1\n",
    "    while(teller <= x):\n",
    "        print(f'{teller}')\n",
    "        print('')\n",
    "        teller += 1\n",
    "    \n",
    "x: int = int(input())\n",
    "tafels(x)"
   ]
  },
  {
   "cell_type": "code",
   "execution_count": 13,
   "metadata": {},
   "outputs": [
    {
     "name": "stdout",
     "output_type": "stream",
     "text": [
      "huidige getal: 0\n",
      "huidige getal: 1\n",
      "huidige getal: 2\n",
      "huidige getal: 3\n",
      "huidige getal: 4\n",
      "huidige getal: 5\n",
      "huidige getal: 6\n",
      "huidige getal: 7\n",
      "huidige getal: 8\n",
      "huidige getal: 9\n",
      "huidige getal: 10\n"
     ]
    }
   ],
   "source": [
    "def loopje():\n",
    "\n",
    "    for x in range(11):\n",
    "        print(f\"huidige getal: {x}\")\n",
    "\n",
    "loopje()"
   ]
  },
  {
   "cell_type": "code",
   "execution_count": 12,
   "metadata": {},
   "outputs": [
    {
     "name": "stdout",
     "output_type": "stream",
     "text": [
      "0\n",
      "1\n",
      "2\n",
      "3\n",
      "4\n",
      "5\n",
      "6\n",
      "7\n",
      "8\n",
      "9\n",
      "10\n",
      "11\n",
      "aantal even getallen: 6\n"
     ]
    }
   ],
   "source": [
    "def checkEven():\n",
    "    evenGetallen = 0\n",
    "    for x in range(12):\n",
    "        print(f\"{x}\")\n",
    "        if(x % 2 == 0):\n",
    "            evenGetallen += 1\n",
    "    print(f\"aantal even getallen: {evenGetallen}\")\n",
    "\n",
    "checkEven()"
   ]
  },
  {
   "cell_type": "code",
   "execution_count": 1,
   "metadata": {},
   "outputs": [
    {
     "name": "stdout",
     "output_type": "stream",
     "text": [
      "Prada 35 500\n",
      "Prada 35 500 Spijker\n",
      "Prada 35 500 Bloussie\n",
      "Prada 35 500 Spijker Extrablauw\n",
      "Prada 35 500 Polo Rond\n"
     ]
    }
   ],
   "source": [
    "class Kledingstuk:\n",
    "    def __init__(self, merk, maat, prijs):\n",
    "        self.merk = merk\n",
    "        self.maat = maat\n",
    "        self.prijs = prijs\n",
    "\n",
    "    def beschrijf(self):\n",
    "        print(self.merk, self.maat, self.prijs)\n",
    "\n",
    "class Broek(Kledingstuk):\n",
    "    def __init__(self, merk, maat, prijs, broek_type):\n",
    "        super().__init__(merk, maat, prijs)\n",
    "        self.broek_type = broek_type\n",
    "\n",
    "    def beschrijf(self):\n",
    "        print(self.merk, self.maat, self.prijs, self.broek_type)\n",
    "\n",
    "class Shirt(Kledingstuk):\n",
    "    def __init__(self, merk, maat, prijs, shirt_type):\n",
    "        super().__init__(merk, maat, prijs)\n",
    "        self.shirt_type = shirt_type\n",
    "\n",
    "    def beschrijf(self):\n",
    "        print(self.merk, self.maat, self.prijs, self.shirt_type)\n",
    "\n",
    "class Spijkerbroek(Broek):\n",
    "    def __init__(self, merk, maat, prijs, broek_type, blauwtint):\n",
    "        super().__init__(merk, maat, prijs, broek_type)\n",
    "        self.blauwtint = blauwtint\n",
    "\n",
    "    def beschrijf(self):\n",
    "        print(self.merk, self.maat, self.prijs, self.broek_type, self.blauwtint)\n",
    "\n",
    "class Poloshirt(Shirt):\n",
    "    def __init__(self, merk, maat, prijs, shirt_type, kraagsoort):\n",
    "        super().__init__(merk, maat, prijs, shirt_type)\n",
    "        self.kraagsoort = kraagsoort\n",
    "\n",
    "    def beschrijf(self):\n",
    "        print(self.merk, self.maat, self.prijs, self.shirt_type, self.kraagsoort)\n",
    "\n",
    "kledingstuk = Kledingstuk(\"Prada\", 35, 500)\n",
    "broek = Broek(\"Prada\", 35, 500, \"Spijker\")\n",
    "shirt = Shirt(\"Prada\", 35, 500, \"Bloussie\")\n",
    "spijkerbroek = Spijkerbroek(\"Prada\", 35, 500, \"Spijker\", \"Extrablauw\")\n",
    "poloshirt = Poloshirt(\"Prada\", 35, 500, \"Polo\", \"Rond\")\n",
    "\n",
    "kledingstuk.beschrijf()\n",
    "broek.beschrijf()\n",
    "shirt.beschrijf()\n",
    "spijkerbroek.beschrijf()\n",
    "poloshirt.beschrijf()\n"
   ]
  },
  {
   "cell_type": "code",
   "execution_count": 1,
   "metadata": {},
   "outputs": [
    {
     "name": "stdout",
     "output_type": "stream",
     "text": [
      "Jelle\n",
      "[2, 3, 'Henk', 'Fatima', 'Jelle', 'Henk']\n"
     ]
    }
   ],
   "source": [
    "mijn_lijst = [\"Jelle\", \"Marleen\", \"Henk\", \"Fatima\", \"Jelle\", \"Henk\"]\n",
    "print(mijn_lijst[0])\n",
    "\n",
    "mijn_lijst[0] = 2\n",
    "mijn_lijst[1] = 3\n",
    "print(mijn_lijst)"
   ]
  },
  {
   "cell_type": "code",
   "execution_count": 5,
   "metadata": {},
   "outputs": [
    {
     "name": "stdout",
     "output_type": "stream",
     "text": [
      "Jelle\n"
     ]
    }
   ],
   "source": [
    "mijn_tupel = (\"Jelle\", \"Marleen\", \"Henk\", \"Fatima\", \"Jelle\", \"Henk\")\n",
    "#waardes in een tupel kunnen niet aangepast worden.\n",
    "print(mijn_tupel[0]) "
   ]
  },
  {
   "cell_type": "code",
   "execution_count": 7,
   "metadata": {},
   "outputs": [
    {
     "name": "stdout",
     "output_type": "stream",
     "text": [
      "Jelle\n",
      "gerrit\n"
     ]
    }
   ],
   "source": [
    "mijn_dict = {\n",
    "    'naam' : 'Jelle',\n",
    "    'leeftijd' : 28,\n",
    "    'beroep' : \"Docent\",\n",
    "    'hobby' : \"Volleybal\"\n",
    "}\n",
    "\n",
    "#waardes in een dictionary kunnen aangepast worden dmv keys\n",
    "print(mijn_dict['naam'])\n",
    "mijn_dict['naam'] = 'gerrit'\n",
    "print(mijn_dict['naam'])"
   ]
  },
  {
   "cell_type": "code",
   "execution_count": 5,
   "metadata": {},
   "outputs": [
    {
     "name": "stderr",
     "output_type": "stream",
     "text": [
      "C:\\Users\\markv\\AppData\\Local\\Temp\\ipykernel_10168\\955563736.py:1: DeprecationWarning: \n",
      "Pyarrow will become a required dependency of pandas in the next major release of pandas (pandas 3.0),\n",
      "(to allow more performant data types, such as the Arrow string type, and better interoperability with other libraries)\n",
      "but was not found to be installed on your system.\n",
      "If this would cause problems for you,\n",
      "please provide us feedback at https://github.com/pandas-dev/pandas/issues/54466\n",
      "        \n",
      "  import pandas as pd\n"
     ]
    }
   ],
   "source": [
    "import pandas as pd\n",
    "import sqlite3\n",
    "import warnings\n",
    "warnings.simplefilter('ignore')"
   ]
  },
  {
   "cell_type": "code",
   "execution_count": 6,
   "metadata": {},
   "outputs": [],
   "source": [
    "sales_connection = sqlite3.connect('go_sales.sqlite')"
   ]
  },
  {
   "cell_type": "code",
   "execution_count": 3,
   "metadata": {},
   "outputs": [
    {
     "data": {
      "text/html": [
       "<div>\n",
       "<style scoped>\n",
       "    .dataframe tbody tr th:only-of-type {\n",
       "        vertical-align: middle;\n",
       "    }\n",
       "\n",
       "    .dataframe tbody tr th {\n",
       "        vertical-align: top;\n",
       "    }\n",
       "\n",
       "    .dataframe thead th {\n",
       "        text-align: right;\n",
       "    }\n",
       "</style>\n",
       "<table border=\"1\" class=\"dataframe\">\n",
       "  <thead>\n",
       "    <tr style=\"text-align: right;\">\n",
       "      <th></th>\n",
       "      <th>name</th>\n",
       "    </tr>\n",
       "  </thead>\n",
       "  <tbody>\n",
       "    <tr>\n",
       "      <th>0</th>\n",
       "      <td>country</td>\n",
       "    </tr>\n",
       "    <tr>\n",
       "      <th>1</th>\n",
       "      <td>order_details</td>\n",
       "    </tr>\n",
       "    <tr>\n",
       "      <th>2</th>\n",
       "      <td>order_header</td>\n",
       "    </tr>\n",
       "    <tr>\n",
       "      <th>3</th>\n",
       "      <td>order_method</td>\n",
       "    </tr>\n",
       "    <tr>\n",
       "      <th>4</th>\n",
       "      <td>product</td>\n",
       "    </tr>\n",
       "    <tr>\n",
       "      <th>5</th>\n",
       "      <td>product_line</td>\n",
       "    </tr>\n",
       "    <tr>\n",
       "      <th>6</th>\n",
       "      <td>product_type</td>\n",
       "    </tr>\n",
       "    <tr>\n",
       "      <th>7</th>\n",
       "      <td>retailer_site</td>\n",
       "    </tr>\n",
       "    <tr>\n",
       "      <th>8</th>\n",
       "      <td>return_reason</td>\n",
       "    </tr>\n",
       "    <tr>\n",
       "      <th>9</th>\n",
       "      <td>returned_item</td>\n",
       "    </tr>\n",
       "    <tr>\n",
       "      <th>10</th>\n",
       "      <td>sales_branch</td>\n",
       "    </tr>\n",
       "    <tr>\n",
       "      <th>11</th>\n",
       "      <td>sales_staff</td>\n",
       "    </tr>\n",
       "    <tr>\n",
       "      <th>12</th>\n",
       "      <td>SALES_TARGETData</td>\n",
       "    </tr>\n",
       "    <tr>\n",
       "      <th>13</th>\n",
       "      <td>sqlite_sequence</td>\n",
       "    </tr>\n",
       "  </tbody>\n",
       "</table>\n",
       "</div>"
      ],
      "text/plain": [
       "                name\n",
       "0            country\n",
       "1      order_details\n",
       "2       order_header\n",
       "3       order_method\n",
       "4            product\n",
       "5       product_line\n",
       "6       product_type\n",
       "7      retailer_site\n",
       "8      return_reason\n",
       "9      returned_item\n",
       "10      sales_branch\n",
       "11       sales_staff\n",
       "12  SALES_TARGETData\n",
       "13   sqlite_sequence"
      ]
     },
     "execution_count": 3,
     "metadata": {},
     "output_type": "execute_result"
    }
   ],
   "source": [
    "sql_query = \"SELECT name FROM sqlite_master WHERE type='table';\"\n",
    "pd.read_sql_query(sql_query, sales_connection)"
   ]
  },
  {
   "cell_type": "code",
   "execution_count": 7,
   "metadata": {},
   "outputs": [],
   "source": [
    "sales_query = \"SELECT * FROM sales_staff\"\n",
    "sales = pd.read_sql_query(sales_query, sales_connection)"
   ]
  },
  {
   "cell_type": "code",
   "execution_count": 20,
   "metadata": {},
   "outputs": [],
   "source": [
    "# sales_Tuomas = sales['FIRST_NAME'] == 'Tuomas'\n",
    "# sales.loc[:, ['FIRST_NAME']].drop_duplicates('FIRST_NAME')"
   ]
  },
  {
   "cell_type": "code",
   "execution_count": 8,
   "metadata": {},
   "outputs": [
    {
     "data": {
      "text/html": [
       "<div>\n",
       "<style scoped>\n",
       "    .dataframe tbody tr th:only-of-type {\n",
       "        vertical-align: middle;\n",
       "    }\n",
       "\n",
       "    .dataframe tbody tr th {\n",
       "        vertical-align: top;\n",
       "    }\n",
       "\n",
       "    .dataframe thead th {\n",
       "        text-align: right;\n",
       "    }\n",
       "</style>\n",
       "<table border=\"1\" class=\"dataframe\">\n",
       "  <thead>\n",
       "    <tr style=\"text-align: right;\">\n",
       "      <th></th>\n",
       "      <th>POSITION_EN</th>\n",
       "      <th>SALES_BRANCH_CODE</th>\n",
       "    </tr>\n",
       "  </thead>\n",
       "  <tbody>\n",
       "    <tr>\n",
       "      <th>0</th>\n",
       "      <td>Branch Manager</td>\n",
       "      <td>35363813147915617181920222123242830</td>\n",
       "    </tr>\n",
       "    <tr>\n",
       "      <th>1</th>\n",
       "      <td>District Manager</td>\n",
       "      <td>14171926</td>\n",
       "    </tr>\n",
       "    <tr>\n",
       "      <th>2</th>\n",
       "      <td>General Manager</td>\n",
       "      <td>35</td>\n",
       "    </tr>\n",
       "    <tr>\n",
       "      <th>3</th>\n",
       "      <td>Level 1 Sales Representative</td>\n",
       "      <td>363637383891518622212528</td>\n",
       "    </tr>\n",
       "    <tr>\n",
       "      <th>4</th>\n",
       "      <td>Level 2 Sales Representative</td>\n",
       "      <td>3132333435363713391379915151717181819192020222...</td>\n",
       "    </tr>\n",
       "    <tr>\n",
       "      <th>5</th>\n",
       "      <td>Level 3 Sales Representative</td>\n",
       "      <td>323334353637383914791761819202223252628293031</td>\n",
       "    </tr>\n",
       "    <tr>\n",
       "      <th>6</th>\n",
       "      <td>Regional Manager</td>\n",
       "      <td>1320</td>\n",
       "    </tr>\n",
       "  </tbody>\n",
       "</table>\n",
       "</div>"
      ],
      "text/plain": [
       "                    POSITION_EN  \\\n",
       "0                Branch Manager   \n",
       "1              District Manager   \n",
       "2               General Manager   \n",
       "3  Level 1 Sales Representative   \n",
       "4  Level 2 Sales Representative   \n",
       "5  Level 3 Sales Representative   \n",
       "6              Regional Manager   \n",
       "\n",
       "                                   SALES_BRANCH_CODE  \n",
       "0                35363813147915617181920222123242830  \n",
       "1                                           14171926  \n",
       "2                                                 35  \n",
       "3                           363637383891518622212528  \n",
       "4  3132333435363713391379915151717181819192020222...  \n",
       "5      323334353637383914791761819202223252628293031  \n",
       "6                                               1320  "
      ]
     },
     "execution_count": 8,
     "metadata": {},
     "output_type": "execute_result"
    }
   ],
   "source": [
    "# sale.count()\n",
    "sales.groupby('POSITION_EN', as_index = False)['SALES_BRANCH_CODE'].sum()"
   ]
  }
 ],
 "metadata": {
  "kernelspec": {
   "display_name": "Python 3",
   "language": "python",
   "name": "python3"
  },
  "language_info": {
   "codemirror_mode": {
    "name": "ipython",
    "version": 3
   },
   "file_extension": ".py",
   "mimetype": "text/x-python",
   "name": "python",
   "nbconvert_exporter": "python",
   "pygments_lexer": "ipython3",
   "version": "3.12.2"
  }
 },
 "nbformat": 4,
 "nbformat_minor": 2
}
