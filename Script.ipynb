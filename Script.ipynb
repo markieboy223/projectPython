{
 "cells": [
  {
   "cell_type": "code",
   "execution_count": 1,
   "metadata": {},
   "outputs": [
    {
     "name": "stderr",
     "output_type": "stream",
     "text": [
      "C:\\Users\\markv\\AppData\\Local\\Temp\\ipykernel_14324\\4080736814.py:1: DeprecationWarning: \n",
      "Pyarrow will become a required dependency of pandas in the next major release of pandas (pandas 3.0),\n",
      "(to allow more performant data types, such as the Arrow string type, and better interoperability with other libraries)\n",
      "but was not found to be installed on your system.\n",
      "If this would cause problems for you,\n",
      "please provide us feedback at https://github.com/pandas-dev/pandas/issues/54466\n",
      "        \n",
      "  import pandas as pd\n"
     ]
    }
   ],
   "source": [
    "import pandas as pd"
   ]
  },
  {
   "cell_type": "code",
   "execution_count": 2,
   "metadata": {},
   "outputs": [
    {
     "name": "stdout",
     "output_type": "stream",
     "text": [
      "geef me je geld\n",
      "of ik gebruik geweld,\n",
      "toen kwam de controle aangesneld\n"
     ]
    }
   ],
   "source": [
    "print(\"geef me je geld\")\n",
    "print(\"of ik gebruik geweld,\")\n",
    "print(\"toen kwam de controle aangesneld\")\n"
   ]
  },
  {
   "cell_type": "code",
   "execution_count": 3,
   "metadata": {},
   "outputs": [
    {
     "name": "stdout",
     "output_type": "stream",
     "text": [
      "Apenhoofd\n",
      "Paardenstaart\n"
     ]
    }
   ],
   "source": [
    "Apenhoofd = \"Apenhoofd\"\n",
    "PaardenStaart = \"Paardenstaart\"\n",
    "print(Apenhoofd)\n",
    "print(PaardenStaart)"
   ]
  },
  {
   "cell_type": "code",
   "execution_count": 5,
   "metadata": {},
   "outputs": [
    {
     "name": "stdout",
     "output_type": "stream",
     "text": [
      "Het is inderdaad:\n",
      "E\n"
     ]
    }
   ],
   "source": [
    "letter = input(\"A,B,C,D, ...., F, G\")\n",
    "print(\"Het is inderdaad:\")\n",
    "print(letter)"
   ]
  },
  {
   "cell_type": "code",
   "execution_count": 1,
   "metadata": {},
   "outputs": [
    {
     "name": "stdout",
     "output_type": "stream",
     "text": [
      "Uw inkomen (yes) is zeer acceptabel\n"
     ]
    }
   ],
   "source": [
    "inkomen = input(\"\")\n",
    "print(f\"Uw inkomen ({inkomen}) is zeer acceptabel\")"
   ]
  },
  {
   "cell_type": "code",
   "execution_count": 1,
   "metadata": {},
   "outputs": [
    {
     "name": "stdout",
     "output_type": "stream",
     "text": [
      "De oppervlakte van de driehoek is 100.0\n"
     ]
    }
   ],
   "source": [
    "basis = int(input(\"wat is de basis?\"))\n",
    "hoogte = int(input(\"wat is de hoogte?\"))\n",
    "print(f\"De oppervlakte van de driehoek is {0.5*hoogte*basis}\")"
   ]
  },
  {
   "cell_type": "code",
   "execution_count": 3,
   "metadata": {},
   "outputs": [
    {
     "name": "stdout",
     "output_type": "stream",
     "text": [
      "Waarom heb je nog je ouders mee?\n"
     ]
    }
   ],
   "source": [
    "l = int(input(\"geef je leeftijd\"))\n",
    "o = input(\"Zijn je ouders mee j/n\")\n",
    "if (o == \"j\"):\n",
    "    if (l < 6):\n",
    "        print(\"Je mag het zwembad in\")\n",
    "    else:\n",
    "        print(\"Waarom heb je nog je ouders mee?\")\n",
    "else:\n",
    "    if(l < 6):\n",
    "        print(\"Je mag het niet zwembad in\")\n",
    "    else:\n",
    "        print(\"Je mag het zwembad in als je een diploma hebt\")"
   ]
  },
  {
   "cell_type": "code",
   "execution_count": 7,
   "metadata": {},
   "outputs": [
    {
     "name": "stdout",
     "output_type": "stream",
     "text": [
      "gelijk\n"
     ]
    }
   ],
   "source": [
    "def wachtwoord1(een, twee):\n",
    "    if(een == twee):\n",
    "        print(\"gelijk\")\n",
    "    else:\n",
    "        print(\"ongelijk\")\n",
    "\n",
    "wachtwoord1(\"gelijk\", \"gelijk\")"
   ]
  },
  {
   "cell_type": "code",
   "execution_count": 6,
   "metadata": {},
   "outputs": [
    {
     "name": "stdout",
     "output_type": "stream",
     "text": [
      "shang\n"
     ]
    }
   ],
   "source": [
    "def zoekPrins(prinses):\n",
    "    if(prinses == \"aurora\"):\n",
    "        print(\"philip\")\n",
    "    elif(prinses == \"ariel\"):\n",
    "        print(\"Eric\")\n",
    "    elif(prinses == \"Jasmine\"): \n",
    "        print(\"aladdin\")\n",
    "    elif(prinses == \"pocahontas\"):\n",
    "        print(\"john\")\n",
    "    elif(prinses == \"belle\"):\n",
    "        print(\"beast\")\n",
    "    elif(prinses == \"tiana\"):\n",
    "        print(\"naveen\")\n",
    "    elif(prinses == \"mulan\"):\n",
    "        print(\"shang\")\n",
    "zoekPrins(\"mulan\")"
   ]
  },
  {
   "cell_type": "code",
   "execution_count": 1,
   "metadata": {},
   "outputs": [
    {
     "name": "stdout",
     "output_type": "stream",
     "text": [
      "succes\n"
     ]
    }
   ],
   "source": [
    "def wachtwoord():\n",
    "    w1 = input()\n",
    "    w2 = input()\n",
    "    while(w1 != w2):\n",
    "        print(\"probeer het opnieuw\")\n",
    "    print(\"succes\")\n",
    "wachtwoord()"
   ]
  },
  {
   "cell_type": "code",
   "execution_count": 6,
   "metadata": {},
   "outputs": [
    {
     "name": "stdout",
     "output_type": "stream",
     "text": [
      "1\n",
      "\n",
      "2\n",
      "\n"
     ]
    }
   ],
   "source": [
    "def tafel(getal: int):\n",
    "    teller: int = 1\n",
    "    while(teller <= 10):\n",
    "        print(f'{teller} x {getal} = {teller * getal}')\n",
    "        teller += 1\n",
    "def tafels(getal: int):\n",
    "    teller: int = 1\n",
    "    while(teller <= x):\n",
    "        print(f'{teller}')\n",
    "        print('')\n",
    "        teller += 1\n",
    "    \n",
    "x: int = int(input())\n",
    "tafels(x)"
   ]
  }
 ],
 "metadata": {
  "kernelspec": {
   "display_name": "Python 3",
   "language": "python",
   "name": "python3"
  },
  "language_info": {
   "codemirror_mode": {
    "name": "ipython",
    "version": 3
   },
   "file_extension": ".py",
   "mimetype": "text/x-python",
   "name": "python",
   "nbconvert_exporter": "python",
   "pygments_lexer": "ipython3",
   "version": "3.12.2"
  }
 },
 "nbformat": 4,
 "nbformat_minor": 2
}
