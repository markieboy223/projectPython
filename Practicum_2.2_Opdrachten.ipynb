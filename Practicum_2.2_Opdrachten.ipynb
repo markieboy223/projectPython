{
 "cells": [
  {
   "cell_type": "markdown",
   "metadata": {},
   "source": [
    "# Practicumopdrachten Week 2.2 (eerste kans)"
   ]
  },
  {
   "cell_type": "markdown",
   "metadata": {},
   "source": [
    "## Dependencies importeren"
   ]
  },
  {
   "cell_type": "markdown",
   "metadata": {},
   "source": [
    "Importeer in het codeblok hieronder de packages die worden gebruikt om data in te lezen. Geef er ook de gebruikelijke aliassen aan.<br>\n",
    "N.B.: de 2 reeds geschreven coderegels zorgen ervoor dat eventuele warnings, die code-outputs lelijker maken, uitgezet worden."
   ]
  },
  {
   "cell_type": "code",
   "execution_count": 1,
   "metadata": {
    "ExecuteTime": {
     "end_time": "2024-02-28T19:21:34.726911Z",
     "start_time": "2024-02-28T19:21:34.196320Z"
    }
   },
   "outputs": [],
   "source": [
    "import pandas as pd\n",
    "import sqlite3\n",
    "import warnings\n",
    "warnings.simplefilter('ignore')"
   ]
  },
  {
   "cell_type": "markdown",
   "metadata": {},
   "source": [
    "Zet het bestand go_sales.sqlite in hetzelfde mapje als dit notebook."
   ]
  },
  {
   "cell_type": "markdown",
   "metadata": {},
   "source": [
    "## Databasetabel inlezen"
   ]
  },
  {
   "cell_type": "markdown",
   "metadata": {},
   "source": [
    "Creëer een databaseconnectie met het bestand go_sales.sqlite."
   ]
  },
  {
   "cell_type": "code",
   "execution_count": 2,
   "metadata": {
    "ExecuteTime": {
     "end_time": "2024-02-28T19:21:34.733888Z",
     "start_time": "2024-02-28T19:21:34.728888Z"
    }
   },
   "outputs": [],
   "source": [
    "sales_connection = sqlite3.connect('go_sales.sqlite')"
   ]
  },
  {
   "cell_type": "markdown",
   "metadata": {},
   "source": [
    "Gebruik de onderstaande sql_query om te achterhalen welke databasetabellen in go_sales zitten."
   ]
  },
  {
   "cell_type": "code",
   "execution_count": 3,
   "metadata": {
    "ExecuteTime": {
     "end_time": "2024-02-28T19:21:34.757546Z",
     "start_time": "2024-02-28T19:21:34.735890Z"
    }
   },
   "outputs": [
    {
     "data": {
      "text/plain": "                name\n0            country\n1      order_details\n2       order_header\n3       order_method\n4            product\n5       product_line\n6       product_type\n7      retailer_site\n8      return_reason\n9      returned_item\n10      sales_branch\n11       sales_staff\n12  SALES_TARGETData\n13   sqlite_sequence",
      "text/html": "<div>\n<style scoped>\n    .dataframe tbody tr th:only-of-type {\n        vertical-align: middle;\n    }\n\n    .dataframe tbody tr th {\n        vertical-align: top;\n    }\n\n    .dataframe thead th {\n        text-align: right;\n    }\n</style>\n<table border=\"1\" class=\"dataframe\">\n  <thead>\n    <tr style=\"text-align: right;\">\n      <th></th>\n      <th>name</th>\n    </tr>\n  </thead>\n  <tbody>\n    <tr>\n      <th>0</th>\n      <td>country</td>\n    </tr>\n    <tr>\n      <th>1</th>\n      <td>order_details</td>\n    </tr>\n    <tr>\n      <th>2</th>\n      <td>order_header</td>\n    </tr>\n    <tr>\n      <th>3</th>\n      <td>order_method</td>\n    </tr>\n    <tr>\n      <th>4</th>\n      <td>product</td>\n    </tr>\n    <tr>\n      <th>5</th>\n      <td>product_line</td>\n    </tr>\n    <tr>\n      <th>6</th>\n      <td>product_type</td>\n    </tr>\n    <tr>\n      <th>7</th>\n      <td>retailer_site</td>\n    </tr>\n    <tr>\n      <th>8</th>\n      <td>return_reason</td>\n    </tr>\n    <tr>\n      <th>9</th>\n      <td>returned_item</td>\n    </tr>\n    <tr>\n      <th>10</th>\n      <td>sales_branch</td>\n    </tr>\n    <tr>\n      <th>11</th>\n      <td>sales_staff</td>\n    </tr>\n    <tr>\n      <th>12</th>\n      <td>SALES_TARGETData</td>\n    </tr>\n    <tr>\n      <th>13</th>\n      <td>sqlite_sequence</td>\n    </tr>\n  </tbody>\n</table>\n</div>"
     },
     "execution_count": 3,
     "metadata": {},
     "output_type": "execute_result"
    }
   ],
   "source": [
    "sql_query = \"SELECT name FROM sqlite_master WHERE type='table';\"\n",
    "pd.read_sql_query(sql_query, sales_connection)"
   ]
  },
  {
   "cell_type": "markdown",
   "metadata": {},
   "source": [
    "Gebruik de gecreëerde databaseconnectie om de resultaten van de volgende query in een DataFrame te zetten:<br>\n",
    "*SELECT * FROM sales_staff* "
   ]
  },
  {
   "cell_type": "code",
   "execution_count": 4,
   "metadata": {
    "ExecuteTime": {
     "end_time": "2024-02-28T19:21:34.777274Z",
     "start_time": "2024-02-28T19:21:34.759546Z"
    }
   },
   "outputs": [
    {
     "data": {
      "text/plain": "    SALES_STAFF_CODE FIRST_NAME   LAST_NAME                   POSITION_EN  \\\n0                100     Tuomas  Savolainen  Level 2 Sales Representative   \n1                101   Chang-ho         Kim  Level 2 Sales Representative   \n2                102    Jung-ho        Choi  Level 3 Sales Representative   \n3                103  Kwei-Ping         Kao  Level 2 Sales Representative   \n4                104  Chin-Tsai        Fang  Level 3 Sales Representative   \n..               ...        ...         ...                           ...   \n97                95      Tomás    Iglesias  Level 2 Sales Representative   \n98                96     Bayard       Lopes                Branch Manager   \n99                97     Viviam      Barros  Level 3 Sales Representative   \n100               98    Eduardo   Guimarães  Level 2 Sales Representative   \n101               99     Helena    Lindholm  Level 3 Sales Representative   \n\n              WORK_PHONE EXTENSION                  FAX  \\\n0    +358(0)17 - 433 127       825  +358(0)17 - 433 129   \n1          82-2-778-6587      1228        82-2-778-6586   \n2          82-2-778-6587      2641        82-2-778-6586   \n3        886-2-2975-1988      1541      886-2-2989-4978   \n4        886-2-2975-1988      2311      886-2-2989-4978   \n..                   ...       ...                  ...   \n97       +35 94 322 3540       325      +35 91 548 1637   \n98     +55 (11) 344-4444      3490    +55 (11) 333-2223   \n99     +55 (11) 344-4444      3364    +55 (11) 333-2223   \n100    +55 (11) 344-4444      1442    +55 (11) 333-2223   \n101  +358(0)17 - 433 127       489  +358(0)17 - 433 129   \n\n                       EMAIL  DATE_HIRED SALES_BRANCH_CODE TRIAL888  \n0    TSavolainen@grtd123.com   23-7-2014                31        T  \n1           CKim@grtd123.com  15-12-2014                32        T  \n2          JChoi@grtd123.com  27-11-2014                32        T  \n3          KKwao@grtd123.com   7-10-2014                33        T  \n4           CFon@grtd123.com    8-5-2012                33        T  \n..                       ...         ...               ...      ...  \n97     TIglesias@grtd123.com   19-2-2014                29        T  \n98        BLopes@grtd123.com   12-8-2013                30        T  \n99       VBarros@grtd123.com   10-2-2017                30        T  \n100   EGuimaraes@grtd123.com   14-2-2015                30        T  \n101    HLindholm@grtd123.com   17-8-2013                31        T  \n\n[102 rows x 11 columns]",
      "text/html": "<div>\n<style scoped>\n    .dataframe tbody tr th:only-of-type {\n        vertical-align: middle;\n    }\n\n    .dataframe tbody tr th {\n        vertical-align: top;\n    }\n\n    .dataframe thead th {\n        text-align: right;\n    }\n</style>\n<table border=\"1\" class=\"dataframe\">\n  <thead>\n    <tr style=\"text-align: right;\">\n      <th></th>\n      <th>SALES_STAFF_CODE</th>\n      <th>FIRST_NAME</th>\n      <th>LAST_NAME</th>\n      <th>POSITION_EN</th>\n      <th>WORK_PHONE</th>\n      <th>EXTENSION</th>\n      <th>FAX</th>\n      <th>EMAIL</th>\n      <th>DATE_HIRED</th>\n      <th>SALES_BRANCH_CODE</th>\n      <th>TRIAL888</th>\n    </tr>\n  </thead>\n  <tbody>\n    <tr>\n      <th>0</th>\n      <td>100</td>\n      <td>Tuomas</td>\n      <td>Savolainen</td>\n      <td>Level 2 Sales Representative</td>\n      <td>+358(0)17 - 433 127</td>\n      <td>825</td>\n      <td>+358(0)17 - 433 129</td>\n      <td>TSavolainen@grtd123.com</td>\n      <td>23-7-2014</td>\n      <td>31</td>\n      <td>T</td>\n    </tr>\n    <tr>\n      <th>1</th>\n      <td>101</td>\n      <td>Chang-ho</td>\n      <td>Kim</td>\n      <td>Level 2 Sales Representative</td>\n      <td>82-2-778-6587</td>\n      <td>1228</td>\n      <td>82-2-778-6586</td>\n      <td>CKim@grtd123.com</td>\n      <td>15-12-2014</td>\n      <td>32</td>\n      <td>T</td>\n    </tr>\n    <tr>\n      <th>2</th>\n      <td>102</td>\n      <td>Jung-ho</td>\n      <td>Choi</td>\n      <td>Level 3 Sales Representative</td>\n      <td>82-2-778-6587</td>\n      <td>2641</td>\n      <td>82-2-778-6586</td>\n      <td>JChoi@grtd123.com</td>\n      <td>27-11-2014</td>\n      <td>32</td>\n      <td>T</td>\n    </tr>\n    <tr>\n      <th>3</th>\n      <td>103</td>\n      <td>Kwei-Ping</td>\n      <td>Kao</td>\n      <td>Level 2 Sales Representative</td>\n      <td>886-2-2975-1988</td>\n      <td>1541</td>\n      <td>886-2-2989-4978</td>\n      <td>KKwao@grtd123.com</td>\n      <td>7-10-2014</td>\n      <td>33</td>\n      <td>T</td>\n    </tr>\n    <tr>\n      <th>4</th>\n      <td>104</td>\n      <td>Chin-Tsai</td>\n      <td>Fang</td>\n      <td>Level 3 Sales Representative</td>\n      <td>886-2-2975-1988</td>\n      <td>2311</td>\n      <td>886-2-2989-4978</td>\n      <td>CFon@grtd123.com</td>\n      <td>8-5-2012</td>\n      <td>33</td>\n      <td>T</td>\n    </tr>\n    <tr>\n      <th>...</th>\n      <td>...</td>\n      <td>...</td>\n      <td>...</td>\n      <td>...</td>\n      <td>...</td>\n      <td>...</td>\n      <td>...</td>\n      <td>...</td>\n      <td>...</td>\n      <td>...</td>\n      <td>...</td>\n    </tr>\n    <tr>\n      <th>97</th>\n      <td>95</td>\n      <td>Tomás</td>\n      <td>Iglesias</td>\n      <td>Level 2 Sales Representative</td>\n      <td>+35 94 322 3540</td>\n      <td>325</td>\n      <td>+35 91 548 1637</td>\n      <td>TIglesias@grtd123.com</td>\n      <td>19-2-2014</td>\n      <td>29</td>\n      <td>T</td>\n    </tr>\n    <tr>\n      <th>98</th>\n      <td>96</td>\n      <td>Bayard</td>\n      <td>Lopes</td>\n      <td>Branch Manager</td>\n      <td>+55 (11) 344-4444</td>\n      <td>3490</td>\n      <td>+55 (11) 333-2223</td>\n      <td>BLopes@grtd123.com</td>\n      <td>12-8-2013</td>\n      <td>30</td>\n      <td>T</td>\n    </tr>\n    <tr>\n      <th>99</th>\n      <td>97</td>\n      <td>Viviam</td>\n      <td>Barros</td>\n      <td>Level 3 Sales Representative</td>\n      <td>+55 (11) 344-4444</td>\n      <td>3364</td>\n      <td>+55 (11) 333-2223</td>\n      <td>VBarros@grtd123.com</td>\n      <td>10-2-2017</td>\n      <td>30</td>\n      <td>T</td>\n    </tr>\n    <tr>\n      <th>100</th>\n      <td>98</td>\n      <td>Eduardo</td>\n      <td>Guimarães</td>\n      <td>Level 2 Sales Representative</td>\n      <td>+55 (11) 344-4444</td>\n      <td>1442</td>\n      <td>+55 (11) 333-2223</td>\n      <td>EGuimaraes@grtd123.com</td>\n      <td>14-2-2015</td>\n      <td>30</td>\n      <td>T</td>\n    </tr>\n    <tr>\n      <th>101</th>\n      <td>99</td>\n      <td>Helena</td>\n      <td>Lindholm</td>\n      <td>Level 3 Sales Representative</td>\n      <td>+358(0)17 - 433 127</td>\n      <td>489</td>\n      <td>+358(0)17 - 433 129</td>\n      <td>HLindholm@grtd123.com</td>\n      <td>17-8-2013</td>\n      <td>31</td>\n      <td>T</td>\n    </tr>\n  </tbody>\n</table>\n<p>102 rows × 11 columns</p>\n</div>"
     },
     "execution_count": 4,
     "metadata": {},
     "output_type": "execute_result"
    }
   ],
   "source": [
    "sales_query = \"SELECT * FROM sales_staff\"\n",
    "pd.read_sql_query(sales_query, sales_connection)"
   ]
  },
  {
   "cell_type": "markdown",
   "metadata": {},
   "source": [
    "## DataFrames uitsplitsen en opbouwen met Series"
   ]
  },
  {
   "cell_type": "markdown",
   "metadata": {},
   "source": [
    "De volgende 5 kolommen hebben betrekking op de contactdetails van elke medewerker in dit DataFrame:\n",
    "- SALES_STAFF_CODE\n",
    "- WORK_PHONE\n",
    "- EXTENSION\n",
    "- FAX\n",
    "- EMAIL\n",
    "\n",
    "Maak van elk van deze 5 kolommen een serie."
   ]
  },
  {
   "cell_type": "code",
   "execution_count": 5,
   "metadata": {
    "ExecuteTime": {
     "end_time": "2024-02-28T19:21:34.786574Z",
     "start_time": "2024-02-28T19:21:34.779281Z"
    }
   },
   "outputs": [],
   "source": [
    "sales_data = pd.read_sql_query(sales_query, sales_connection)\n",
    "\n",
    "sales_staff_code_series = pd.Series(sales_data['SALES_STAFF_CODE'])\n",
    "sales_staff_code_series\n",
    "\n",
    "work_phone_series = pd.Series(sales_data['WORK_PHONE'])\n",
    "\n",
    "extension_series = pd.Series(sales_data['EXTENSION'])\n",
    "\n",
    "fax_series = pd.Series(sales_data['FAX'])\n",
    "\n",
    "email_series = pd.Series(sales_data['EMAIL'])\n"
   ]
  },
  {
   "cell_type": "markdown",
   "metadata": {},
   "source": [
    "Zet allevijf gecreëerde series als kolommen naast elkaar in een DataFrame (*contact_details*). Gebruik pd.concat(...)<br>\n",
    "Hulpvraag: welke waarde geef je aan de axis-parameter?"
   ]
  },
  {
   "cell_type": "code",
   "execution_count": 6,
   "metadata": {
    "ExecuteTime": {
     "end_time": "2024-02-28T19:21:34.803571Z",
     "start_time": "2024-02-28T19:21:34.788570Z"
    }
   },
   "outputs": [
    {
     "data": {
      "text/plain": "    SALES_STAFF_CODE           WORK_PHONE EXTENSION                  FAX  \\\n0                100  +358(0)17 - 433 127       825  +358(0)17 - 433 129   \n1                101        82-2-778-6587      1228        82-2-778-6586   \n2                102        82-2-778-6587      2641        82-2-778-6586   \n3                103      886-2-2975-1988      1541      886-2-2989-4978   \n4                104      886-2-2975-1988      2311      886-2-2989-4978   \n..               ...                  ...       ...                  ...   \n97                95      +35 94 322 3540       325      +35 91 548 1637   \n98                96    +55 (11) 344-4444      3490    +55 (11) 333-2223   \n99                97    +55 (11) 344-4444      3364    +55 (11) 333-2223   \n100               98    +55 (11) 344-4444      1442    +55 (11) 333-2223   \n101               99  +358(0)17 - 433 127       489  +358(0)17 - 433 129   \n\n                       EMAIL  \n0    TSavolainen@grtd123.com  \n1           CKim@grtd123.com  \n2          JChoi@grtd123.com  \n3          KKwao@grtd123.com  \n4           CFon@grtd123.com  \n..                       ...  \n97     TIglesias@grtd123.com  \n98        BLopes@grtd123.com  \n99       VBarros@grtd123.com  \n100   EGuimaraes@grtd123.com  \n101    HLindholm@grtd123.com  \n\n[102 rows x 5 columns]",
      "text/html": "<div>\n<style scoped>\n    .dataframe tbody tr th:only-of-type {\n        vertical-align: middle;\n    }\n\n    .dataframe tbody tr th {\n        vertical-align: top;\n    }\n\n    .dataframe thead th {\n        text-align: right;\n    }\n</style>\n<table border=\"1\" class=\"dataframe\">\n  <thead>\n    <tr style=\"text-align: right;\">\n      <th></th>\n      <th>SALES_STAFF_CODE</th>\n      <th>WORK_PHONE</th>\n      <th>EXTENSION</th>\n      <th>FAX</th>\n      <th>EMAIL</th>\n    </tr>\n  </thead>\n  <tbody>\n    <tr>\n      <th>0</th>\n      <td>100</td>\n      <td>+358(0)17 - 433 127</td>\n      <td>825</td>\n      <td>+358(0)17 - 433 129</td>\n      <td>TSavolainen@grtd123.com</td>\n    </tr>\n    <tr>\n      <th>1</th>\n      <td>101</td>\n      <td>82-2-778-6587</td>\n      <td>1228</td>\n      <td>82-2-778-6586</td>\n      <td>CKim@grtd123.com</td>\n    </tr>\n    <tr>\n      <th>2</th>\n      <td>102</td>\n      <td>82-2-778-6587</td>\n      <td>2641</td>\n      <td>82-2-778-6586</td>\n      <td>JChoi@grtd123.com</td>\n    </tr>\n    <tr>\n      <th>3</th>\n      <td>103</td>\n      <td>886-2-2975-1988</td>\n      <td>1541</td>\n      <td>886-2-2989-4978</td>\n      <td>KKwao@grtd123.com</td>\n    </tr>\n    <tr>\n      <th>4</th>\n      <td>104</td>\n      <td>886-2-2975-1988</td>\n      <td>2311</td>\n      <td>886-2-2989-4978</td>\n      <td>CFon@grtd123.com</td>\n    </tr>\n    <tr>\n      <th>...</th>\n      <td>...</td>\n      <td>...</td>\n      <td>...</td>\n      <td>...</td>\n      <td>...</td>\n    </tr>\n    <tr>\n      <th>97</th>\n      <td>95</td>\n      <td>+35 94 322 3540</td>\n      <td>325</td>\n      <td>+35 91 548 1637</td>\n      <td>TIglesias@grtd123.com</td>\n    </tr>\n    <tr>\n      <th>98</th>\n      <td>96</td>\n      <td>+55 (11) 344-4444</td>\n      <td>3490</td>\n      <td>+55 (11) 333-2223</td>\n      <td>BLopes@grtd123.com</td>\n    </tr>\n    <tr>\n      <th>99</th>\n      <td>97</td>\n      <td>+55 (11) 344-4444</td>\n      <td>3364</td>\n      <td>+55 (11) 333-2223</td>\n      <td>VBarros@grtd123.com</td>\n    </tr>\n    <tr>\n      <th>100</th>\n      <td>98</td>\n      <td>+55 (11) 344-4444</td>\n      <td>1442</td>\n      <td>+55 (11) 333-2223</td>\n      <td>EGuimaraes@grtd123.com</td>\n    </tr>\n    <tr>\n      <th>101</th>\n      <td>99</td>\n      <td>+358(0)17 - 433 127</td>\n      <td>489</td>\n      <td>+358(0)17 - 433 129</td>\n      <td>HLindholm@grtd123.com</td>\n    </tr>\n  </tbody>\n</table>\n<p>102 rows × 5 columns</p>\n</div>"
     },
     "execution_count": 6,
     "metadata": {},
     "output_type": "execute_result"
    }
   ],
   "source": [
    "contact_details = pd.concat([sales_staff_code_series, work_phone_series, extension_series, fax_series, email_series], axis=1)\n",
    "contact_details"
   ]
  },
  {
   "cell_type": "markdown",
   "metadata": {},
   "source": [
    "## Series en DataFrames maken vanuit lists en dictionaries"
   ]
  },
  {
   "cell_type": "markdown",
   "metadata": {},
   "source": [
    "Met .head(*getal*) kan je de bovenste *getal* rijen van een tabel selecteren.<br>\n",
    "Selecteer op deze manier de bovenste 5 rijen van *contact_details*.<br>\n",
    "Sla dit resultaat op in een nieuw DataFrame."
   ]
  },
  {
   "cell_type": "code",
   "execution_count": 7,
   "metadata": {
    "ExecuteTime": {
     "end_time": "2024-02-28T19:21:34.819516Z",
     "start_time": "2024-02-28T19:21:34.806568Z"
    }
   },
   "outputs": [
    {
     "data": {
      "text/plain": "  SALES_STAFF_CODE           WORK_PHONE EXTENSION                  FAX  \\\n0              100  +358(0)17 - 433 127       825  +358(0)17 - 433 129   \n1              101        82-2-778-6587      1228        82-2-778-6586   \n2              102        82-2-778-6587      2641        82-2-778-6586   \n3              103      886-2-2975-1988      1541      886-2-2989-4978   \n4              104      886-2-2975-1988      2311      886-2-2989-4978   \n\n                     EMAIL  \n0  TSavolainen@grtd123.com  \n1         CKim@grtd123.com  \n2        JChoi@grtd123.com  \n3        KKwao@grtd123.com  \n4         CFon@grtd123.com  ",
      "text/html": "<div>\n<style scoped>\n    .dataframe tbody tr th:only-of-type {\n        vertical-align: middle;\n    }\n\n    .dataframe tbody tr th {\n        vertical-align: top;\n    }\n\n    .dataframe thead th {\n        text-align: right;\n    }\n</style>\n<table border=\"1\" class=\"dataframe\">\n  <thead>\n    <tr style=\"text-align: right;\">\n      <th></th>\n      <th>SALES_STAFF_CODE</th>\n      <th>WORK_PHONE</th>\n      <th>EXTENSION</th>\n      <th>FAX</th>\n      <th>EMAIL</th>\n    </tr>\n  </thead>\n  <tbody>\n    <tr>\n      <th>0</th>\n      <td>100</td>\n      <td>+358(0)17 - 433 127</td>\n      <td>825</td>\n      <td>+358(0)17 - 433 129</td>\n      <td>TSavolainen@grtd123.com</td>\n    </tr>\n    <tr>\n      <th>1</th>\n      <td>101</td>\n      <td>82-2-778-6587</td>\n      <td>1228</td>\n      <td>82-2-778-6586</td>\n      <td>CKim@grtd123.com</td>\n    </tr>\n    <tr>\n      <th>2</th>\n      <td>102</td>\n      <td>82-2-778-6587</td>\n      <td>2641</td>\n      <td>82-2-778-6586</td>\n      <td>JChoi@grtd123.com</td>\n    </tr>\n    <tr>\n      <th>3</th>\n      <td>103</td>\n      <td>886-2-2975-1988</td>\n      <td>1541</td>\n      <td>886-2-2989-4978</td>\n      <td>KKwao@grtd123.com</td>\n    </tr>\n    <tr>\n      <th>4</th>\n      <td>104</td>\n      <td>886-2-2975-1988</td>\n      <td>2311</td>\n      <td>886-2-2989-4978</td>\n      <td>CFon@grtd123.com</td>\n    </tr>\n  </tbody>\n</table>\n</div>"
     },
     "execution_count": 7,
     "metadata": {},
     "output_type": "execute_result"
    }
   ],
   "source": [
    "firstfive = contact_details.head(5)\n",
    "firstfive"
   ]
  },
  {
   "cell_type": "markdown",
   "metadata": {},
   "source": [
    "Aan deze 10 rijen met contactdetails willen we 3 kolommen toevoegen: 'FIRST_LANGUAGE', 'SECOND_LANGUAGE' & 'THIRD_LANGUAGE'.<br>\n",
    "Iedereens 'First Language' is Engels, afgekort 'EN'. Maak een lijst waarin 5x 'EN' staat.<br>\n",
    "Converteer deze lijst vervolgens naar een serie en voeg deze horizontaal samen met het resultaat van de vorige opdracht.<br>\n",
    "Vergeet niet een passende naam te geven aan de nieuw ontstane kolom."
   ]
  },
  {
   "cell_type": "code",
   "execution_count": 8,
   "metadata": {
    "ExecuteTime": {
     "end_time": "2024-02-28T19:21:34.832705Z",
     "start_time": "2024-02-28T19:21:34.820500Z"
    }
   },
   "outputs": [
    {
     "data": {
      "text/plain": "  SALES_STAFF_CODE           WORK_PHONE EXTENSION                  FAX  \\\n0              100  +358(0)17 - 433 127       825  +358(0)17 - 433 129   \n1              101        82-2-778-6587      1228        82-2-778-6586   \n2              102        82-2-778-6587      2641        82-2-778-6586   \n3              103      886-2-2975-1988      1541      886-2-2989-4978   \n4              104      886-2-2975-1988      2311      886-2-2989-4978   \n5              NaN                  NaN       NaN                  NaN   \n6              NaN                  NaN       NaN                  NaN   \n7              NaN                  NaN       NaN                  NaN   \n8              NaN                  NaN       NaN                  NaN   \n9              NaN                  NaN       NaN                  NaN   \n\n                     EMAIL FIRST_LANGUAGE  \n0  TSavolainen@grtd123.com            NaN  \n1         CKim@grtd123.com            NaN  \n2        JChoi@grtd123.com            NaN  \n3        KKwao@grtd123.com            NaN  \n4         CFon@grtd123.com            NaN  \n5                      NaN             EN  \n6                      NaN             EN  \n7                      NaN             EN  \n8                      NaN             EN  \n9                      NaN             EN  ",
      "text/html": "<div>\n<style scoped>\n    .dataframe tbody tr th:only-of-type {\n        vertical-align: middle;\n    }\n\n    .dataframe tbody tr th {\n        vertical-align: top;\n    }\n\n    .dataframe thead th {\n        text-align: right;\n    }\n</style>\n<table border=\"1\" class=\"dataframe\">\n  <thead>\n    <tr style=\"text-align: right;\">\n      <th></th>\n      <th>SALES_STAFF_CODE</th>\n      <th>WORK_PHONE</th>\n      <th>EXTENSION</th>\n      <th>FAX</th>\n      <th>EMAIL</th>\n      <th>FIRST_LANGUAGE</th>\n    </tr>\n  </thead>\n  <tbody>\n    <tr>\n      <th>0</th>\n      <td>100</td>\n      <td>+358(0)17 - 433 127</td>\n      <td>825</td>\n      <td>+358(0)17 - 433 129</td>\n      <td>TSavolainen@grtd123.com</td>\n      <td>NaN</td>\n    </tr>\n    <tr>\n      <th>1</th>\n      <td>101</td>\n      <td>82-2-778-6587</td>\n      <td>1228</td>\n      <td>82-2-778-6586</td>\n      <td>CKim@grtd123.com</td>\n      <td>NaN</td>\n    </tr>\n    <tr>\n      <th>2</th>\n      <td>102</td>\n      <td>82-2-778-6587</td>\n      <td>2641</td>\n      <td>82-2-778-6586</td>\n      <td>JChoi@grtd123.com</td>\n      <td>NaN</td>\n    </tr>\n    <tr>\n      <th>3</th>\n      <td>103</td>\n      <td>886-2-2975-1988</td>\n      <td>1541</td>\n      <td>886-2-2989-4978</td>\n      <td>KKwao@grtd123.com</td>\n      <td>NaN</td>\n    </tr>\n    <tr>\n      <th>4</th>\n      <td>104</td>\n      <td>886-2-2975-1988</td>\n      <td>2311</td>\n      <td>886-2-2989-4978</td>\n      <td>CFon@grtd123.com</td>\n      <td>NaN</td>\n    </tr>\n    <tr>\n      <th>5</th>\n      <td>NaN</td>\n      <td>NaN</td>\n      <td>NaN</td>\n      <td>NaN</td>\n      <td>NaN</td>\n      <td>EN</td>\n    </tr>\n    <tr>\n      <th>6</th>\n      <td>NaN</td>\n      <td>NaN</td>\n      <td>NaN</td>\n      <td>NaN</td>\n      <td>NaN</td>\n      <td>EN</td>\n    </tr>\n    <tr>\n      <th>7</th>\n      <td>NaN</td>\n      <td>NaN</td>\n      <td>NaN</td>\n      <td>NaN</td>\n      <td>NaN</td>\n      <td>EN</td>\n    </tr>\n    <tr>\n      <th>8</th>\n      <td>NaN</td>\n      <td>NaN</td>\n      <td>NaN</td>\n      <td>NaN</td>\n      <td>NaN</td>\n      <td>EN</td>\n    </tr>\n    <tr>\n      <th>9</th>\n      <td>NaN</td>\n      <td>NaN</td>\n      <td>NaN</td>\n      <td>NaN</td>\n      <td>NaN</td>\n      <td>EN</td>\n    </tr>\n  </tbody>\n</table>\n</div>"
     },
     "execution_count": 8,
     "metadata": {},
     "output_type": "execute_result"
    }
   ],
   "source": [
    "firstLanguage = {\n",
    "    'FIRST_LANGUAGE': ['EN', 'EN', 'EN', 'EN', 'EN'],\n",
    "}\n",
    "data = pd.concat([firstfive, pd.DataFrame(firstLanguage)], ignore_index=True)\n",
    "data"
   ]
  },
  {
   "cell_type": "markdown",
   "metadata": {},
   "source": [
    "Maak nu de tweede kolom ('SECOND_LANGUAGE'). Maak daarvoor een dictionary, met daarin...\n",
    "- Als keys: alle indexen uit het resultaat van het vorige codeblok.\n",
    "- Als values: bij de eerste 3 elementen 'FR' (Frankrijk), bij de laatste 2 'DE' (Duitsland).\n",
    "\n",
    "Maak vervolgens ook hier weer een serie van en voeg ook deze weer horizontaal samen met het rsultaat van de vorige opdracht.<br>\n",
    "Vergeet niet een passende naam te geven aan de nieuw ontstane kolom."
   ]
  },
  {
   "cell_type": "code",
   "execution_count": 9,
   "metadata": {
    "ExecuteTime": {
     "end_time": "2024-02-28T19:21:34.854219Z",
     "start_time": "2024-02-28T19:21:34.836223Z"
    }
   },
   "outputs": [
    {
     "data": {
      "text/plain": "   SALES_STAFF_CODE           WORK_PHONE EXTENSION                  FAX  \\\n0               100  +358(0)17 - 433 127       825  +358(0)17 - 433 129   \n1               101        82-2-778-6587      1228        82-2-778-6586   \n2               102        82-2-778-6587      2641        82-2-778-6586   \n3               103      886-2-2975-1988      1541      886-2-2989-4978   \n4               104      886-2-2975-1988      2311      886-2-2989-4978   \n5               NaN                  NaN       NaN                  NaN   \n6               NaN                  NaN       NaN                  NaN   \n7               NaN                  NaN       NaN                  NaN   \n8               NaN                  NaN       NaN                  NaN   \n9               NaN                  NaN       NaN                  NaN   \n10              NaN                  NaN       NaN                  NaN   \n11              NaN                  NaN       NaN                  NaN   \n12              NaN                  NaN       NaN                  NaN   \n13              NaN                  NaN       NaN                  NaN   \n14              NaN                  NaN       NaN                  NaN   \n\n                      EMAIL FIRST_LANGUAGE SECOND_LANGUAGE  \n0   TSavolainen@grtd123.com            NaN             NaN  \n1          CKim@grtd123.com            NaN             NaN  \n2         JChoi@grtd123.com            NaN             NaN  \n3         KKwao@grtd123.com            NaN             NaN  \n4          CFon@grtd123.com            NaN             NaN  \n5                       NaN             EN             NaN  \n6                       NaN             EN             NaN  \n7                       NaN             EN             NaN  \n8                       NaN             EN             NaN  \n9                       NaN             EN             NaN  \n10                      NaN            NaN              FR  \n11                      NaN            NaN              FR  \n12                      NaN            NaN              FR  \n13                      NaN            NaN              DE  \n14                      NaN            NaN              DE  ",
      "text/html": "<div>\n<style scoped>\n    .dataframe tbody tr th:only-of-type {\n        vertical-align: middle;\n    }\n\n    .dataframe tbody tr th {\n        vertical-align: top;\n    }\n\n    .dataframe thead th {\n        text-align: right;\n    }\n</style>\n<table border=\"1\" class=\"dataframe\">\n  <thead>\n    <tr style=\"text-align: right;\">\n      <th></th>\n      <th>SALES_STAFF_CODE</th>\n      <th>WORK_PHONE</th>\n      <th>EXTENSION</th>\n      <th>FAX</th>\n      <th>EMAIL</th>\n      <th>FIRST_LANGUAGE</th>\n      <th>SECOND_LANGUAGE</th>\n    </tr>\n  </thead>\n  <tbody>\n    <tr>\n      <th>0</th>\n      <td>100</td>\n      <td>+358(0)17 - 433 127</td>\n      <td>825</td>\n      <td>+358(0)17 - 433 129</td>\n      <td>TSavolainen@grtd123.com</td>\n      <td>NaN</td>\n      <td>NaN</td>\n    </tr>\n    <tr>\n      <th>1</th>\n      <td>101</td>\n      <td>82-2-778-6587</td>\n      <td>1228</td>\n      <td>82-2-778-6586</td>\n      <td>CKim@grtd123.com</td>\n      <td>NaN</td>\n      <td>NaN</td>\n    </tr>\n    <tr>\n      <th>2</th>\n      <td>102</td>\n      <td>82-2-778-6587</td>\n      <td>2641</td>\n      <td>82-2-778-6586</td>\n      <td>JChoi@grtd123.com</td>\n      <td>NaN</td>\n      <td>NaN</td>\n    </tr>\n    <tr>\n      <th>3</th>\n      <td>103</td>\n      <td>886-2-2975-1988</td>\n      <td>1541</td>\n      <td>886-2-2989-4978</td>\n      <td>KKwao@grtd123.com</td>\n      <td>NaN</td>\n      <td>NaN</td>\n    </tr>\n    <tr>\n      <th>4</th>\n      <td>104</td>\n      <td>886-2-2975-1988</td>\n      <td>2311</td>\n      <td>886-2-2989-4978</td>\n      <td>CFon@grtd123.com</td>\n      <td>NaN</td>\n      <td>NaN</td>\n    </tr>\n    <tr>\n      <th>5</th>\n      <td>NaN</td>\n      <td>NaN</td>\n      <td>NaN</td>\n      <td>NaN</td>\n      <td>NaN</td>\n      <td>EN</td>\n      <td>NaN</td>\n    </tr>\n    <tr>\n      <th>6</th>\n      <td>NaN</td>\n      <td>NaN</td>\n      <td>NaN</td>\n      <td>NaN</td>\n      <td>NaN</td>\n      <td>EN</td>\n      <td>NaN</td>\n    </tr>\n    <tr>\n      <th>7</th>\n      <td>NaN</td>\n      <td>NaN</td>\n      <td>NaN</td>\n      <td>NaN</td>\n      <td>NaN</td>\n      <td>EN</td>\n      <td>NaN</td>\n    </tr>\n    <tr>\n      <th>8</th>\n      <td>NaN</td>\n      <td>NaN</td>\n      <td>NaN</td>\n      <td>NaN</td>\n      <td>NaN</td>\n      <td>EN</td>\n      <td>NaN</td>\n    </tr>\n    <tr>\n      <th>9</th>\n      <td>NaN</td>\n      <td>NaN</td>\n      <td>NaN</td>\n      <td>NaN</td>\n      <td>NaN</td>\n      <td>EN</td>\n      <td>NaN</td>\n    </tr>\n    <tr>\n      <th>10</th>\n      <td>NaN</td>\n      <td>NaN</td>\n      <td>NaN</td>\n      <td>NaN</td>\n      <td>NaN</td>\n      <td>NaN</td>\n      <td>FR</td>\n    </tr>\n    <tr>\n      <th>11</th>\n      <td>NaN</td>\n      <td>NaN</td>\n      <td>NaN</td>\n      <td>NaN</td>\n      <td>NaN</td>\n      <td>NaN</td>\n      <td>FR</td>\n    </tr>\n    <tr>\n      <th>12</th>\n      <td>NaN</td>\n      <td>NaN</td>\n      <td>NaN</td>\n      <td>NaN</td>\n      <td>NaN</td>\n      <td>NaN</td>\n      <td>FR</td>\n    </tr>\n    <tr>\n      <th>13</th>\n      <td>NaN</td>\n      <td>NaN</td>\n      <td>NaN</td>\n      <td>NaN</td>\n      <td>NaN</td>\n      <td>NaN</td>\n      <td>DE</td>\n    </tr>\n    <tr>\n      <th>14</th>\n      <td>NaN</td>\n      <td>NaN</td>\n      <td>NaN</td>\n      <td>NaN</td>\n      <td>NaN</td>\n      <td>NaN</td>\n      <td>DE</td>\n    </tr>\n  </tbody>\n</table>\n</div>"
     },
     "execution_count": 9,
     "metadata": {},
     "output_type": "execute_result"
    }
   ],
   "source": [
    "secondLanguage = {\n",
    "    'SECOND_LANGUAGE': ['FR', 'FR', 'FR', 'DE', 'DE']\n",
    "}\n",
    "addedLanguage = pd.concat([data, pd.DataFrame(secondLanguage)], ignore_index=True)\n",
    "addedLanguage"
   ]
  },
  {
   "cell_type": "markdown",
   "metadata": {},
   "source": [
    "Maak ten slotte de derde kolom ('THIRD_LANGUAGE') door een dictionary te maken met daarin...\n",
    "- Als key: de naam van de nieuwe kolom. Zie je het verschil qua keys met de vorige opdracht?\n",
    "- Als waarde: een lijst met daarin 'NL', 'NL', 'JPN', 'JPN', 'KOR'.\n",
    "\n",
    "Converteer deze dictionary nu naar een DataFrame en voeg deze horizontaal samen met het resultaat van de vorige opdracht.<br>\n",
    "Waarom hoef je hierna de nieuw ontstane kolom geen passende naam meer te geven?"
   ]
  },
  {
   "cell_type": "code",
   "execution_count": 10,
   "metadata": {
    "ExecuteTime": {
     "end_time": "2024-02-28T19:21:34.872211Z",
     "start_time": "2024-02-28T19:21:34.856222Z"
    }
   },
   "outputs": [
    {
     "data": {
      "text/plain": "   SALES_STAFF_CODE           WORK_PHONE EXTENSION                  FAX  \\\n0               100  +358(0)17 - 433 127       825  +358(0)17 - 433 129   \n1               101        82-2-778-6587      1228        82-2-778-6586   \n2               102        82-2-778-6587      2641        82-2-778-6586   \n3               103      886-2-2975-1988      1541      886-2-2989-4978   \n4               104      886-2-2975-1988      2311      886-2-2989-4978   \n5               NaN                  NaN       NaN                  NaN   \n6               NaN                  NaN       NaN                  NaN   \n7               NaN                  NaN       NaN                  NaN   \n8               NaN                  NaN       NaN                  NaN   \n9               NaN                  NaN       NaN                  NaN   \n10              NaN                  NaN       NaN                  NaN   \n11              NaN                  NaN       NaN                  NaN   \n12              NaN                  NaN       NaN                  NaN   \n13              NaN                  NaN       NaN                  NaN   \n14              NaN                  NaN       NaN                  NaN   \n15              NaN                  NaN       NaN                  NaN   \n16              NaN                  NaN       NaN                  NaN   \n17              NaN                  NaN       NaN                  NaN   \n18              NaN                  NaN       NaN                  NaN   \n19              NaN                  NaN       NaN                  NaN   \n\n                      EMAIL FIRST_LANGUAGE SECOND_LANGUAGE THIRD_LANGUAGE  \n0   TSavolainen@grtd123.com            NaN             NaN            NaN  \n1          CKim@grtd123.com            NaN             NaN            NaN  \n2         JChoi@grtd123.com            NaN             NaN            NaN  \n3         KKwao@grtd123.com            NaN             NaN            NaN  \n4          CFon@grtd123.com            NaN             NaN            NaN  \n5                       NaN             EN             NaN            NaN  \n6                       NaN             EN             NaN            NaN  \n7                       NaN             EN             NaN            NaN  \n8                       NaN             EN             NaN            NaN  \n9                       NaN             EN             NaN            NaN  \n10                      NaN            NaN              FR            NaN  \n11                      NaN            NaN              FR            NaN  \n12                      NaN            NaN              FR            NaN  \n13                      NaN            NaN              DE            NaN  \n14                      NaN            NaN              DE            NaN  \n15                      NaN            NaN             NaN             NL  \n16                      NaN            NaN             NaN             NL  \n17                      NaN            NaN             NaN            JPN  \n18                      NaN            NaN             NaN            JPN  \n19                      NaN            NaN             NaN            KOR  ",
      "text/html": "<div>\n<style scoped>\n    .dataframe tbody tr th:only-of-type {\n        vertical-align: middle;\n    }\n\n    .dataframe tbody tr th {\n        vertical-align: top;\n    }\n\n    .dataframe thead th {\n        text-align: right;\n    }\n</style>\n<table border=\"1\" class=\"dataframe\">\n  <thead>\n    <tr style=\"text-align: right;\">\n      <th></th>\n      <th>SALES_STAFF_CODE</th>\n      <th>WORK_PHONE</th>\n      <th>EXTENSION</th>\n      <th>FAX</th>\n      <th>EMAIL</th>\n      <th>FIRST_LANGUAGE</th>\n      <th>SECOND_LANGUAGE</th>\n      <th>THIRD_LANGUAGE</th>\n    </tr>\n  </thead>\n  <tbody>\n    <tr>\n      <th>0</th>\n      <td>100</td>\n      <td>+358(0)17 - 433 127</td>\n      <td>825</td>\n      <td>+358(0)17 - 433 129</td>\n      <td>TSavolainen@grtd123.com</td>\n      <td>NaN</td>\n      <td>NaN</td>\n      <td>NaN</td>\n    </tr>\n    <tr>\n      <th>1</th>\n      <td>101</td>\n      <td>82-2-778-6587</td>\n      <td>1228</td>\n      <td>82-2-778-6586</td>\n      <td>CKim@grtd123.com</td>\n      <td>NaN</td>\n      <td>NaN</td>\n      <td>NaN</td>\n    </tr>\n    <tr>\n      <th>2</th>\n      <td>102</td>\n      <td>82-2-778-6587</td>\n      <td>2641</td>\n      <td>82-2-778-6586</td>\n      <td>JChoi@grtd123.com</td>\n      <td>NaN</td>\n      <td>NaN</td>\n      <td>NaN</td>\n    </tr>\n    <tr>\n      <th>3</th>\n      <td>103</td>\n      <td>886-2-2975-1988</td>\n      <td>1541</td>\n      <td>886-2-2989-4978</td>\n      <td>KKwao@grtd123.com</td>\n      <td>NaN</td>\n      <td>NaN</td>\n      <td>NaN</td>\n    </tr>\n    <tr>\n      <th>4</th>\n      <td>104</td>\n      <td>886-2-2975-1988</td>\n      <td>2311</td>\n      <td>886-2-2989-4978</td>\n      <td>CFon@grtd123.com</td>\n      <td>NaN</td>\n      <td>NaN</td>\n      <td>NaN</td>\n    </tr>\n    <tr>\n      <th>5</th>\n      <td>NaN</td>\n      <td>NaN</td>\n      <td>NaN</td>\n      <td>NaN</td>\n      <td>NaN</td>\n      <td>EN</td>\n      <td>NaN</td>\n      <td>NaN</td>\n    </tr>\n    <tr>\n      <th>6</th>\n      <td>NaN</td>\n      <td>NaN</td>\n      <td>NaN</td>\n      <td>NaN</td>\n      <td>NaN</td>\n      <td>EN</td>\n      <td>NaN</td>\n      <td>NaN</td>\n    </tr>\n    <tr>\n      <th>7</th>\n      <td>NaN</td>\n      <td>NaN</td>\n      <td>NaN</td>\n      <td>NaN</td>\n      <td>NaN</td>\n      <td>EN</td>\n      <td>NaN</td>\n      <td>NaN</td>\n    </tr>\n    <tr>\n      <th>8</th>\n      <td>NaN</td>\n      <td>NaN</td>\n      <td>NaN</td>\n      <td>NaN</td>\n      <td>NaN</td>\n      <td>EN</td>\n      <td>NaN</td>\n      <td>NaN</td>\n    </tr>\n    <tr>\n      <th>9</th>\n      <td>NaN</td>\n      <td>NaN</td>\n      <td>NaN</td>\n      <td>NaN</td>\n      <td>NaN</td>\n      <td>EN</td>\n      <td>NaN</td>\n      <td>NaN</td>\n    </tr>\n    <tr>\n      <th>10</th>\n      <td>NaN</td>\n      <td>NaN</td>\n      <td>NaN</td>\n      <td>NaN</td>\n      <td>NaN</td>\n      <td>NaN</td>\n      <td>FR</td>\n      <td>NaN</td>\n    </tr>\n    <tr>\n      <th>11</th>\n      <td>NaN</td>\n      <td>NaN</td>\n      <td>NaN</td>\n      <td>NaN</td>\n      <td>NaN</td>\n      <td>NaN</td>\n      <td>FR</td>\n      <td>NaN</td>\n    </tr>\n    <tr>\n      <th>12</th>\n      <td>NaN</td>\n      <td>NaN</td>\n      <td>NaN</td>\n      <td>NaN</td>\n      <td>NaN</td>\n      <td>NaN</td>\n      <td>FR</td>\n      <td>NaN</td>\n    </tr>\n    <tr>\n      <th>13</th>\n      <td>NaN</td>\n      <td>NaN</td>\n      <td>NaN</td>\n      <td>NaN</td>\n      <td>NaN</td>\n      <td>NaN</td>\n      <td>DE</td>\n      <td>NaN</td>\n    </tr>\n    <tr>\n      <th>14</th>\n      <td>NaN</td>\n      <td>NaN</td>\n      <td>NaN</td>\n      <td>NaN</td>\n      <td>NaN</td>\n      <td>NaN</td>\n      <td>DE</td>\n      <td>NaN</td>\n    </tr>\n    <tr>\n      <th>15</th>\n      <td>NaN</td>\n      <td>NaN</td>\n      <td>NaN</td>\n      <td>NaN</td>\n      <td>NaN</td>\n      <td>NaN</td>\n      <td>NaN</td>\n      <td>NL</td>\n    </tr>\n    <tr>\n      <th>16</th>\n      <td>NaN</td>\n      <td>NaN</td>\n      <td>NaN</td>\n      <td>NaN</td>\n      <td>NaN</td>\n      <td>NaN</td>\n      <td>NaN</td>\n      <td>NL</td>\n    </tr>\n    <tr>\n      <th>17</th>\n      <td>NaN</td>\n      <td>NaN</td>\n      <td>NaN</td>\n      <td>NaN</td>\n      <td>NaN</td>\n      <td>NaN</td>\n      <td>NaN</td>\n      <td>JPN</td>\n    </tr>\n    <tr>\n      <th>18</th>\n      <td>NaN</td>\n      <td>NaN</td>\n      <td>NaN</td>\n      <td>NaN</td>\n      <td>NaN</td>\n      <td>NaN</td>\n      <td>NaN</td>\n      <td>JPN</td>\n    </tr>\n    <tr>\n      <th>19</th>\n      <td>NaN</td>\n      <td>NaN</td>\n      <td>NaN</td>\n      <td>NaN</td>\n      <td>NaN</td>\n      <td>NaN</td>\n      <td>NaN</td>\n      <td>KOR</td>\n    </tr>\n  </tbody>\n</table>\n</div>"
     },
     "execution_count": 10,
     "metadata": {},
     "output_type": "execute_result"
    }
   ],
   "source": [
    "thirdLanguage = {\n",
    "    'THIRD_LANGUAGE': ['NL', 'NL', 'JPN', 'JPN', 'KOR']\n",
    "}\n",
    "thirdLanguageDataFrame = pd.DataFrame(thirdLanguage)\n",
    "addedthirdLanguage = pd.concat([addedLanguage, thirdLanguageDataFrame], ignore_index=True)\n",
    "addedthirdLanguage"
   ]
  },
  {
   "cell_type": "markdown",
   "metadata": {},
   "source": [
    "## Data toevoegen"
   ]
  },
  {
   "cell_type": "markdown",
   "metadata": {},
   "source": [
    "### Rijen"
   ]
  },
  {
   "cell_type": "markdown",
   "metadata": {},
   "source": [
    "Gebruik de originele databasetabel *sales_staff*.<br>\n",
    "Voeg een extra rij toe met eigen invulling. Zorg ervoor dat de index netjes doorloopt.<br>\n",
    "Hulpvraag: welke waarde geef je nu aan axis?"
   ]
  },
  {
   "cell_type": "code",
   "execution_count": 11,
   "metadata": {
    "ExecuteTime": {
     "end_time": "2024-02-28T19:21:34.896271Z",
     "start_time": "2024-02-28T19:21:34.877211Z"
    }
   },
   "outputs": [
    {
     "data": {
      "text/plain": "    SALES_STAFF_CODE FIRST_NAME   LAST_NAME                   POSITION_EN  \\\n0                100     Tuomas  Savolainen  Level 2 Sales Representative   \n1                101   Chang-ho         Kim  Level 2 Sales Representative   \n2                102    Jung-ho        Choi  Level 3 Sales Representative   \n3                103  Kwei-Ping         Kao  Level 2 Sales Representative   \n4                104  Chin-Tsai        Fang  Level 3 Sales Representative   \n..               ...        ...         ...                           ...   \n97                95      Tomás    Iglesias  Level 2 Sales Representative   \n98                96     Bayard       Lopes                Branch Manager   \n99                97     Viviam      Barros  Level 3 Sales Representative   \n100               98    Eduardo   Guimarães  Level 2 Sales Representative   \n101               99     Helena    Lindholm  Level 3 Sales Representative   \n\n              WORK_PHONE EXTENSION                  FAX  \\\n0    +358(0)17 - 433 127       825  +358(0)17 - 433 129   \n1          82-2-778-6587      1228        82-2-778-6586   \n2          82-2-778-6587      2641        82-2-778-6586   \n3        886-2-2975-1988      1541      886-2-2989-4978   \n4        886-2-2975-1988      2311      886-2-2989-4978   \n..                   ...       ...                  ...   \n97       +35 94 322 3540       325      +35 91 548 1637   \n98     +55 (11) 344-4444      3490    +55 (11) 333-2223   \n99     +55 (11) 344-4444      3364    +55 (11) 333-2223   \n100    +55 (11) 344-4444      1442    +55 (11) 333-2223   \n101  +358(0)17 - 433 127       489  +358(0)17 - 433 129   \n\n                       EMAIL  DATE_HIRED SALES_BRANCH_CODE TRIAL888  \\\n0    TSavolainen@grtd123.com   23-7-2014                31        T   \n1           CKim@grtd123.com  15-12-2014                32        T   \n2          JChoi@grtd123.com  27-11-2014                32        T   \n3          KKwao@grtd123.com   7-10-2014                33        T   \n4           CFon@grtd123.com    8-5-2012                33        T   \n..                       ...         ...               ...      ...   \n97     TIglesias@grtd123.com   19-2-2014                29        T   \n98        BLopes@grtd123.com   12-8-2013                30        T   \n99       VBarros@grtd123.com   10-2-2017                30        T   \n100   EGuimaraes@grtd123.com   14-2-2015                30        T   \n101    HLindholm@grtd123.com   17-8-2013                31        T   \n\n                                               CONTACT  \n0    FAX: +358(0)17 - 433 129 EMAIL: TSavolainen@gr...  \n1           FAX: 82-2-778-6586 EMAIL: CKim@grtd123.com  \n2          FAX: 82-2-778-6586 EMAIL: JChoi@grtd123.com  \n3        FAX: 886-2-2989-4978 EMAIL: KKwao@grtd123.com  \n4         FAX: 886-2-2989-4978 EMAIL: CFon@grtd123.com  \n..                                                 ...  \n97   FAX: +35 91 548 1637 EMAIL: TIglesias@grtd123.com  \n98    FAX: +55 (11) 333-2223 EMAIL: BLopes@grtd123.com  \n99   FAX: +55 (11) 333-2223 EMAIL: VBarros@grtd123.com  \n100  FAX: +55 (11) 333-2223 EMAIL: EGuimaraes@grtd1...  \n101  FAX: +358(0)17 - 433 129 EMAIL: HLindholm@grtd...  \n\n[102 rows x 12 columns]",
      "text/html": "<div>\n<style scoped>\n    .dataframe tbody tr th:only-of-type {\n        vertical-align: middle;\n    }\n\n    .dataframe tbody tr th {\n        vertical-align: top;\n    }\n\n    .dataframe thead th {\n        text-align: right;\n    }\n</style>\n<table border=\"1\" class=\"dataframe\">\n  <thead>\n    <tr style=\"text-align: right;\">\n      <th></th>\n      <th>SALES_STAFF_CODE</th>\n      <th>FIRST_NAME</th>\n      <th>LAST_NAME</th>\n      <th>POSITION_EN</th>\n      <th>WORK_PHONE</th>\n      <th>EXTENSION</th>\n      <th>FAX</th>\n      <th>EMAIL</th>\n      <th>DATE_HIRED</th>\n      <th>SALES_BRANCH_CODE</th>\n      <th>TRIAL888</th>\n      <th>CONTACT</th>\n    </tr>\n  </thead>\n  <tbody>\n    <tr>\n      <th>0</th>\n      <td>100</td>\n      <td>Tuomas</td>\n      <td>Savolainen</td>\n      <td>Level 2 Sales Representative</td>\n      <td>+358(0)17 - 433 127</td>\n      <td>825</td>\n      <td>+358(0)17 - 433 129</td>\n      <td>TSavolainen@grtd123.com</td>\n      <td>23-7-2014</td>\n      <td>31</td>\n      <td>T</td>\n      <td>FAX: +358(0)17 - 433 129 EMAIL: TSavolainen@gr...</td>\n    </tr>\n    <tr>\n      <th>1</th>\n      <td>101</td>\n      <td>Chang-ho</td>\n      <td>Kim</td>\n      <td>Level 2 Sales Representative</td>\n      <td>82-2-778-6587</td>\n      <td>1228</td>\n      <td>82-2-778-6586</td>\n      <td>CKim@grtd123.com</td>\n      <td>15-12-2014</td>\n      <td>32</td>\n      <td>T</td>\n      <td>FAX: 82-2-778-6586 EMAIL: CKim@grtd123.com</td>\n    </tr>\n    <tr>\n      <th>2</th>\n      <td>102</td>\n      <td>Jung-ho</td>\n      <td>Choi</td>\n      <td>Level 3 Sales Representative</td>\n      <td>82-2-778-6587</td>\n      <td>2641</td>\n      <td>82-2-778-6586</td>\n      <td>JChoi@grtd123.com</td>\n      <td>27-11-2014</td>\n      <td>32</td>\n      <td>T</td>\n      <td>FAX: 82-2-778-6586 EMAIL: JChoi@grtd123.com</td>\n    </tr>\n    <tr>\n      <th>3</th>\n      <td>103</td>\n      <td>Kwei-Ping</td>\n      <td>Kao</td>\n      <td>Level 2 Sales Representative</td>\n      <td>886-2-2975-1988</td>\n      <td>1541</td>\n      <td>886-2-2989-4978</td>\n      <td>KKwao@grtd123.com</td>\n      <td>7-10-2014</td>\n      <td>33</td>\n      <td>T</td>\n      <td>FAX: 886-2-2989-4978 EMAIL: KKwao@grtd123.com</td>\n    </tr>\n    <tr>\n      <th>4</th>\n      <td>104</td>\n      <td>Chin-Tsai</td>\n      <td>Fang</td>\n      <td>Level 3 Sales Representative</td>\n      <td>886-2-2975-1988</td>\n      <td>2311</td>\n      <td>886-2-2989-4978</td>\n      <td>CFon@grtd123.com</td>\n      <td>8-5-2012</td>\n      <td>33</td>\n      <td>T</td>\n      <td>FAX: 886-2-2989-4978 EMAIL: CFon@grtd123.com</td>\n    </tr>\n    <tr>\n      <th>...</th>\n      <td>...</td>\n      <td>...</td>\n      <td>...</td>\n      <td>...</td>\n      <td>...</td>\n      <td>...</td>\n      <td>...</td>\n      <td>...</td>\n      <td>...</td>\n      <td>...</td>\n      <td>...</td>\n      <td>...</td>\n    </tr>\n    <tr>\n      <th>97</th>\n      <td>95</td>\n      <td>Tomás</td>\n      <td>Iglesias</td>\n      <td>Level 2 Sales Representative</td>\n      <td>+35 94 322 3540</td>\n      <td>325</td>\n      <td>+35 91 548 1637</td>\n      <td>TIglesias@grtd123.com</td>\n      <td>19-2-2014</td>\n      <td>29</td>\n      <td>T</td>\n      <td>FAX: +35 91 548 1637 EMAIL: TIglesias@grtd123.com</td>\n    </tr>\n    <tr>\n      <th>98</th>\n      <td>96</td>\n      <td>Bayard</td>\n      <td>Lopes</td>\n      <td>Branch Manager</td>\n      <td>+55 (11) 344-4444</td>\n      <td>3490</td>\n      <td>+55 (11) 333-2223</td>\n      <td>BLopes@grtd123.com</td>\n      <td>12-8-2013</td>\n      <td>30</td>\n      <td>T</td>\n      <td>FAX: +55 (11) 333-2223 EMAIL: BLopes@grtd123.com</td>\n    </tr>\n    <tr>\n      <th>99</th>\n      <td>97</td>\n      <td>Viviam</td>\n      <td>Barros</td>\n      <td>Level 3 Sales Representative</td>\n      <td>+55 (11) 344-4444</td>\n      <td>3364</td>\n      <td>+55 (11) 333-2223</td>\n      <td>VBarros@grtd123.com</td>\n      <td>10-2-2017</td>\n      <td>30</td>\n      <td>T</td>\n      <td>FAX: +55 (11) 333-2223 EMAIL: VBarros@grtd123.com</td>\n    </tr>\n    <tr>\n      <th>100</th>\n      <td>98</td>\n      <td>Eduardo</td>\n      <td>Guimarães</td>\n      <td>Level 2 Sales Representative</td>\n      <td>+55 (11) 344-4444</td>\n      <td>1442</td>\n      <td>+55 (11) 333-2223</td>\n      <td>EGuimaraes@grtd123.com</td>\n      <td>14-2-2015</td>\n      <td>30</td>\n      <td>T</td>\n      <td>FAX: +55 (11) 333-2223 EMAIL: EGuimaraes@grtd1...</td>\n    </tr>\n    <tr>\n      <th>101</th>\n      <td>99</td>\n      <td>Helena</td>\n      <td>Lindholm</td>\n      <td>Level 3 Sales Representative</td>\n      <td>+358(0)17 - 433 127</td>\n      <td>489</td>\n      <td>+358(0)17 - 433 129</td>\n      <td>HLindholm@grtd123.com</td>\n      <td>17-8-2013</td>\n      <td>31</td>\n      <td>T</td>\n      <td>FAX: +358(0)17 - 433 129 EMAIL: HLindholm@grtd...</td>\n    </tr>\n  </tbody>\n</table>\n<p>102 rows × 12 columns</p>\n</div>"
     },
     "execution_count": 11,
     "metadata": {},
     "output_type": "execute_result"
    }
   ],
   "source": [
    "#Rij toevoegen met bestaande data\n",
    "sales_data['CONTACT'] = \"FAX: \" + sales_data['FAX'] + \" EMAIL: \" + sales_data['EMAIL']\n",
    "sales_data"
   ]
  },
  {
   "cell_type": "markdown",
   "metadata": {},
   "source": [
    "### Kolommen"
   ]
  },
  {
   "cell_type": "markdown",
   "metadata": {},
   "source": [
    "Voeg een kolom *FULL_NAME* toe die de waarden van *FIRST_NAME* en *LAST_NAME* achter elkaar zet, gescheiden door een spatie."
   ]
  },
  {
   "cell_type": "code",
   "execution_count": 12,
   "metadata": {
    "ExecuteTime": {
     "end_time": "2024-02-28T19:21:34.919181Z",
     "start_time": "2024-02-28T19:21:34.897270Z"
    }
   },
   "outputs": [
    {
     "data": {
      "text/plain": "    SALES_STAFF_CODE FIRST_NAME   LAST_NAME                   POSITION_EN  \\\n0                100     Tuomas  Savolainen  Level 2 Sales Representative   \n1                101   Chang-ho         Kim  Level 2 Sales Representative   \n2                102    Jung-ho        Choi  Level 3 Sales Representative   \n3                103  Kwei-Ping         Kao  Level 2 Sales Representative   \n4                104  Chin-Tsai        Fang  Level 3 Sales Representative   \n..               ...        ...         ...                           ...   \n97                95      Tomás    Iglesias  Level 2 Sales Representative   \n98                96     Bayard       Lopes                Branch Manager   \n99                97     Viviam      Barros  Level 3 Sales Representative   \n100               98    Eduardo   Guimarães  Level 2 Sales Representative   \n101               99     Helena    Lindholm  Level 3 Sales Representative   \n\n              WORK_PHONE EXTENSION                  FAX  \\\n0    +358(0)17 - 433 127       825  +358(0)17 - 433 129   \n1          82-2-778-6587      1228        82-2-778-6586   \n2          82-2-778-6587      2641        82-2-778-6586   \n3        886-2-2975-1988      1541      886-2-2989-4978   \n4        886-2-2975-1988      2311      886-2-2989-4978   \n..                   ...       ...                  ...   \n97       +35 94 322 3540       325      +35 91 548 1637   \n98     +55 (11) 344-4444      3490    +55 (11) 333-2223   \n99     +55 (11) 344-4444      3364    +55 (11) 333-2223   \n100    +55 (11) 344-4444      1442    +55 (11) 333-2223   \n101  +358(0)17 - 433 127       489  +358(0)17 - 433 129   \n\n                       EMAIL  DATE_HIRED SALES_BRANCH_CODE TRIAL888  \\\n0    TSavolainen@grtd123.com   23-7-2014                31        T   \n1           CKim@grtd123.com  15-12-2014                32        T   \n2          JChoi@grtd123.com  27-11-2014                32        T   \n3          KKwao@grtd123.com   7-10-2014                33        T   \n4           CFon@grtd123.com    8-5-2012                33        T   \n..                       ...         ...               ...      ...   \n97     TIglesias@grtd123.com   19-2-2014                29        T   \n98        BLopes@grtd123.com   12-8-2013                30        T   \n99       VBarros@grtd123.com   10-2-2017                30        T   \n100   EGuimaraes@grtd123.com   14-2-2015                30        T   \n101    HLindholm@grtd123.com   17-8-2013                31        T   \n\n                                               CONTACT          FULL_NAME  \n0    FAX: +358(0)17 - 433 129 EMAIL: TSavolainen@gr...  Tuomas Savolainen  \n1           FAX: 82-2-778-6586 EMAIL: CKim@grtd123.com       Chang-ho Kim  \n2          FAX: 82-2-778-6586 EMAIL: JChoi@grtd123.com       Jung-ho Choi  \n3        FAX: 886-2-2989-4978 EMAIL: KKwao@grtd123.com      Kwei-Ping Kao  \n4         FAX: 886-2-2989-4978 EMAIL: CFon@grtd123.com     Chin-Tsai Fang  \n..                                                 ...                ...  \n97   FAX: +35 91 548 1637 EMAIL: TIglesias@grtd123.com     Tomás Iglesias  \n98    FAX: +55 (11) 333-2223 EMAIL: BLopes@grtd123.com       Bayard Lopes  \n99   FAX: +55 (11) 333-2223 EMAIL: VBarros@grtd123.com      Viviam Barros  \n100  FAX: +55 (11) 333-2223 EMAIL: EGuimaraes@grtd1...  Eduardo Guimarães  \n101  FAX: +358(0)17 - 433 129 EMAIL: HLindholm@grtd...    Helena Lindholm  \n\n[102 rows x 13 columns]",
      "text/html": "<div>\n<style scoped>\n    .dataframe tbody tr th:only-of-type {\n        vertical-align: middle;\n    }\n\n    .dataframe tbody tr th {\n        vertical-align: top;\n    }\n\n    .dataframe thead th {\n        text-align: right;\n    }\n</style>\n<table border=\"1\" class=\"dataframe\">\n  <thead>\n    <tr style=\"text-align: right;\">\n      <th></th>\n      <th>SALES_STAFF_CODE</th>\n      <th>FIRST_NAME</th>\n      <th>LAST_NAME</th>\n      <th>POSITION_EN</th>\n      <th>WORK_PHONE</th>\n      <th>EXTENSION</th>\n      <th>FAX</th>\n      <th>EMAIL</th>\n      <th>DATE_HIRED</th>\n      <th>SALES_BRANCH_CODE</th>\n      <th>TRIAL888</th>\n      <th>CONTACT</th>\n      <th>FULL_NAME</th>\n    </tr>\n  </thead>\n  <tbody>\n    <tr>\n      <th>0</th>\n      <td>100</td>\n      <td>Tuomas</td>\n      <td>Savolainen</td>\n      <td>Level 2 Sales Representative</td>\n      <td>+358(0)17 - 433 127</td>\n      <td>825</td>\n      <td>+358(0)17 - 433 129</td>\n      <td>TSavolainen@grtd123.com</td>\n      <td>23-7-2014</td>\n      <td>31</td>\n      <td>T</td>\n      <td>FAX: +358(0)17 - 433 129 EMAIL: TSavolainen@gr...</td>\n      <td>Tuomas Savolainen</td>\n    </tr>\n    <tr>\n      <th>1</th>\n      <td>101</td>\n      <td>Chang-ho</td>\n      <td>Kim</td>\n      <td>Level 2 Sales Representative</td>\n      <td>82-2-778-6587</td>\n      <td>1228</td>\n      <td>82-2-778-6586</td>\n      <td>CKim@grtd123.com</td>\n      <td>15-12-2014</td>\n      <td>32</td>\n      <td>T</td>\n      <td>FAX: 82-2-778-6586 EMAIL: CKim@grtd123.com</td>\n      <td>Chang-ho Kim</td>\n    </tr>\n    <tr>\n      <th>2</th>\n      <td>102</td>\n      <td>Jung-ho</td>\n      <td>Choi</td>\n      <td>Level 3 Sales Representative</td>\n      <td>82-2-778-6587</td>\n      <td>2641</td>\n      <td>82-2-778-6586</td>\n      <td>JChoi@grtd123.com</td>\n      <td>27-11-2014</td>\n      <td>32</td>\n      <td>T</td>\n      <td>FAX: 82-2-778-6586 EMAIL: JChoi@grtd123.com</td>\n      <td>Jung-ho Choi</td>\n    </tr>\n    <tr>\n      <th>3</th>\n      <td>103</td>\n      <td>Kwei-Ping</td>\n      <td>Kao</td>\n      <td>Level 2 Sales Representative</td>\n      <td>886-2-2975-1988</td>\n      <td>1541</td>\n      <td>886-2-2989-4978</td>\n      <td>KKwao@grtd123.com</td>\n      <td>7-10-2014</td>\n      <td>33</td>\n      <td>T</td>\n      <td>FAX: 886-2-2989-4978 EMAIL: KKwao@grtd123.com</td>\n      <td>Kwei-Ping Kao</td>\n    </tr>\n    <tr>\n      <th>4</th>\n      <td>104</td>\n      <td>Chin-Tsai</td>\n      <td>Fang</td>\n      <td>Level 3 Sales Representative</td>\n      <td>886-2-2975-1988</td>\n      <td>2311</td>\n      <td>886-2-2989-4978</td>\n      <td>CFon@grtd123.com</td>\n      <td>8-5-2012</td>\n      <td>33</td>\n      <td>T</td>\n      <td>FAX: 886-2-2989-4978 EMAIL: CFon@grtd123.com</td>\n      <td>Chin-Tsai Fang</td>\n    </tr>\n    <tr>\n      <th>...</th>\n      <td>...</td>\n      <td>...</td>\n      <td>...</td>\n      <td>...</td>\n      <td>...</td>\n      <td>...</td>\n      <td>...</td>\n      <td>...</td>\n      <td>...</td>\n      <td>...</td>\n      <td>...</td>\n      <td>...</td>\n      <td>...</td>\n    </tr>\n    <tr>\n      <th>97</th>\n      <td>95</td>\n      <td>Tomás</td>\n      <td>Iglesias</td>\n      <td>Level 2 Sales Representative</td>\n      <td>+35 94 322 3540</td>\n      <td>325</td>\n      <td>+35 91 548 1637</td>\n      <td>TIglesias@grtd123.com</td>\n      <td>19-2-2014</td>\n      <td>29</td>\n      <td>T</td>\n      <td>FAX: +35 91 548 1637 EMAIL: TIglesias@grtd123.com</td>\n      <td>Tomás Iglesias</td>\n    </tr>\n    <tr>\n      <th>98</th>\n      <td>96</td>\n      <td>Bayard</td>\n      <td>Lopes</td>\n      <td>Branch Manager</td>\n      <td>+55 (11) 344-4444</td>\n      <td>3490</td>\n      <td>+55 (11) 333-2223</td>\n      <td>BLopes@grtd123.com</td>\n      <td>12-8-2013</td>\n      <td>30</td>\n      <td>T</td>\n      <td>FAX: +55 (11) 333-2223 EMAIL: BLopes@grtd123.com</td>\n      <td>Bayard Lopes</td>\n    </tr>\n    <tr>\n      <th>99</th>\n      <td>97</td>\n      <td>Viviam</td>\n      <td>Barros</td>\n      <td>Level 3 Sales Representative</td>\n      <td>+55 (11) 344-4444</td>\n      <td>3364</td>\n      <td>+55 (11) 333-2223</td>\n      <td>VBarros@grtd123.com</td>\n      <td>10-2-2017</td>\n      <td>30</td>\n      <td>T</td>\n      <td>FAX: +55 (11) 333-2223 EMAIL: VBarros@grtd123.com</td>\n      <td>Viviam Barros</td>\n    </tr>\n    <tr>\n      <th>100</th>\n      <td>98</td>\n      <td>Eduardo</td>\n      <td>Guimarães</td>\n      <td>Level 2 Sales Representative</td>\n      <td>+55 (11) 344-4444</td>\n      <td>1442</td>\n      <td>+55 (11) 333-2223</td>\n      <td>EGuimaraes@grtd123.com</td>\n      <td>14-2-2015</td>\n      <td>30</td>\n      <td>T</td>\n      <td>FAX: +55 (11) 333-2223 EMAIL: EGuimaraes@grtd1...</td>\n      <td>Eduardo Guimarães</td>\n    </tr>\n    <tr>\n      <th>101</th>\n      <td>99</td>\n      <td>Helena</td>\n      <td>Lindholm</td>\n      <td>Level 3 Sales Representative</td>\n      <td>+358(0)17 - 433 127</td>\n      <td>489</td>\n      <td>+358(0)17 - 433 129</td>\n      <td>HLindholm@grtd123.com</td>\n      <td>17-8-2013</td>\n      <td>31</td>\n      <td>T</td>\n      <td>FAX: +358(0)17 - 433 129 EMAIL: HLindholm@grtd...</td>\n      <td>Helena Lindholm</td>\n    </tr>\n  </tbody>\n</table>\n<p>102 rows × 13 columns</p>\n</div>"
     },
     "execution_count": 12,
     "metadata": {},
     "output_type": "execute_result"
    }
   ],
   "source": [
    "sales_data['FULL_NAME'] = sales_data['FIRST_NAME'] + \" \" + sales_data['LAST_NAME']\n",
    "sales_data"
   ]
  },
  {
   "cell_type": "markdown",
   "metadata": {},
   "source": [
    "## Data wijzigen"
   ]
  },
  {
   "cell_type": "markdown",
   "metadata": {},
   "source": [
    "### Datatypen"
   ]
  },
  {
   "cell_type": "markdown",
   "metadata": {},
   "source": [
    "Door het attribuut .dtypes van een DataFrame op te vragen krijg je een serie die per kolom het datatype weergeeft. Doe dit bij de originele databasetabel *sales_staff*"
   ]
  },
  {
   "cell_type": "code",
   "execution_count": 13,
   "metadata": {
    "ExecuteTime": {
     "end_time": "2024-02-28T19:21:34.932432Z",
     "start_time": "2024-02-28T19:21:34.924180Z"
    }
   },
   "outputs": [
    {
     "data": {
      "text/plain": "SALES_STAFF_CODE     object\nFIRST_NAME           object\nLAST_NAME            object\nPOSITION_EN          object\nWORK_PHONE           object\nEXTENSION            object\nFAX                  object\nEMAIL                object\nDATE_HIRED           object\nSALES_BRANCH_CODE    object\nTRIAL888             object\nCONTACT              object\nFULL_NAME            object\ndtype: object"
     },
     "execution_count": 13,
     "metadata": {},
     "output_type": "execute_result"
    }
   ],
   "source": [
    "datatypes = sales_data.dtypes\n",
    "datatypes"
   ]
  },
  {
   "cell_type": "markdown",
   "metadata": {},
   "source": [
    "Hier valt op dat elke kolom het datatype 'object' heeft: Python leest dus alles als string. Wiskundige operaties zijn hierdoor niet mogelijk.<br>\n",
    "We kunnen proberen om kolommen met getallen, bijvoorbeeld de 'extension', te converteren naar een int. Zie onderstaande code."
   ]
  },
  {
   "cell_type": "code",
   "execution_count": 14,
   "metadata": {
    "ExecuteTime": {
     "end_time": "2024-02-28T19:21:34.946129Z",
     "start_time": "2024-02-28T19:21:34.938426Z"
    }
   },
   "outputs": [],
   "source": [
    "# sales_data['EXTENSION'] = sales_data['EXTENSION'].astype(int)\n",
    "# sales_data.dtypes"
   ]
  },
  {
   "cell_type": "markdown",
   "metadata": {},
   "source": [
    "Dit lukt echter niet, omdat er in de kolom 'EXTENSION' lege waarden zitten die niet geconverteerd kunnen worden naar een int.<br>\n",
    "Wél kan je deze naar een float converteren, zie onderstaande code:"
   ]
  },
  {
   "cell_type": "code",
   "execution_count": 15,
   "metadata": {
    "ExecuteTime": {
     "end_time": "2024-02-28T19:21:34.974127Z",
     "start_time": "2024-02-28T19:21:34.950129Z"
    }
   },
   "outputs": [
    {
     "data": {
      "text/plain": "SALES_STAFF_CODE      object\nFIRST_NAME            object\nLAST_NAME             object\nPOSITION_EN           object\nWORK_PHONE            object\nEXTENSION            float64\nFAX                   object\nEMAIL                 object\nDATE_HIRED            object\nSALES_BRANCH_CODE     object\nTRIAL888              object\nCONTACT               object\nFULL_NAME             object\ndtype: object"
     },
     "execution_count": 15,
     "metadata": {},
     "output_type": "execute_result"
    }
   ],
   "source": [
    "sales_data['EXTENSION'] = sales_data['EXTENSION'].astype(float)\n",
    "salesDataTypeFloat = sales_data.dtypes\n",
    "salesDataTypeFloat"
   ]
  },
  {
   "cell_type": "markdown",
   "metadata": {},
   "source": [
    "Als we in de rij van 'EXTENSION' kijken zien we dat de conversie van het datatype nu is gelukt.<br>\n",
    "Dit is <b>randvoorwaardelijk</b> voor het uitvoeren van wiskundige operaties.<br>"
   ]
  },
  {
   "cell_type": "markdown",
   "metadata": {},
   "source": [
    "### Rijen"
   ]
  },
  {
   "cell_type": "markdown",
   "metadata": {},
   "source": [
    "Zorg er nu voor dat bij alle extensions 1 wordt opgeteld."
   ]
  },
  {
   "cell_type": "code",
   "execution_count": 16,
   "metadata": {
    "ExecuteTime": {
     "end_time": "2024-02-28T19:21:35.001202Z",
     "start_time": "2024-02-28T19:21:34.976128Z"
    }
   },
   "outputs": [
    {
     "data": {
      "text/plain": "    SALES_STAFF_CODE FIRST_NAME   LAST_NAME                   POSITION_EN  \\\n0                100     Tuomas  Savolainen  Level 2 Sales Representative   \n1                101   Chang-ho         Kim  Level 2 Sales Representative   \n2                102    Jung-ho        Choi  Level 3 Sales Representative   \n3                103  Kwei-Ping         Kao  Level 2 Sales Representative   \n4                104  Chin-Tsai        Fang  Level 3 Sales Representative   \n..               ...        ...         ...                           ...   \n97                95      Tomás    Iglesias  Level 2 Sales Representative   \n98                96     Bayard       Lopes                Branch Manager   \n99                97     Viviam      Barros  Level 3 Sales Representative   \n100               98    Eduardo   Guimarães  Level 2 Sales Representative   \n101               99     Helena    Lindholm  Level 3 Sales Representative   \n\n              WORK_PHONE  EXTENSION                  FAX  \\\n0    +358(0)17 - 433 127      826.0  +358(0)17 - 433 129   \n1          82-2-778-6587     1229.0        82-2-778-6586   \n2          82-2-778-6587     2642.0        82-2-778-6586   \n3        886-2-2975-1988     1542.0      886-2-2989-4978   \n4        886-2-2975-1988     2312.0      886-2-2989-4978   \n..                   ...        ...                  ...   \n97       +35 94 322 3540      326.0      +35 91 548 1637   \n98     +55 (11) 344-4444     3491.0    +55 (11) 333-2223   \n99     +55 (11) 344-4444     3365.0    +55 (11) 333-2223   \n100    +55 (11) 344-4444     1443.0    +55 (11) 333-2223   \n101  +358(0)17 - 433 127      490.0  +358(0)17 - 433 129   \n\n                       EMAIL  DATE_HIRED SALES_BRANCH_CODE TRIAL888  \\\n0    TSavolainen@grtd123.com   23-7-2014                31        T   \n1           CKim@grtd123.com  15-12-2014                32        T   \n2          JChoi@grtd123.com  27-11-2014                32        T   \n3          KKwao@grtd123.com   7-10-2014                33        T   \n4           CFon@grtd123.com    8-5-2012                33        T   \n..                       ...         ...               ...      ...   \n97     TIglesias@grtd123.com   19-2-2014                29        T   \n98        BLopes@grtd123.com   12-8-2013                30        T   \n99       VBarros@grtd123.com   10-2-2017                30        T   \n100   EGuimaraes@grtd123.com   14-2-2015                30        T   \n101    HLindholm@grtd123.com   17-8-2013                31        T   \n\n                                               CONTACT          FULL_NAME  \n0    FAX: +358(0)17 - 433 129 EMAIL: TSavolainen@gr...  Tuomas Savolainen  \n1           FAX: 82-2-778-6586 EMAIL: CKim@grtd123.com       Chang-ho Kim  \n2          FAX: 82-2-778-6586 EMAIL: JChoi@grtd123.com       Jung-ho Choi  \n3        FAX: 886-2-2989-4978 EMAIL: KKwao@grtd123.com      Kwei-Ping Kao  \n4         FAX: 886-2-2989-4978 EMAIL: CFon@grtd123.com     Chin-Tsai Fang  \n..                                                 ...                ...  \n97   FAX: +35 91 548 1637 EMAIL: TIglesias@grtd123.com     Tomás Iglesias  \n98    FAX: +55 (11) 333-2223 EMAIL: BLopes@grtd123.com       Bayard Lopes  \n99   FAX: +55 (11) 333-2223 EMAIL: VBarros@grtd123.com      Viviam Barros  \n100  FAX: +55 (11) 333-2223 EMAIL: EGuimaraes@grtd1...  Eduardo Guimarães  \n101  FAX: +358(0)17 - 433 129 EMAIL: HLindholm@grtd...    Helena Lindholm  \n\n[102 rows x 13 columns]",
      "text/html": "<div>\n<style scoped>\n    .dataframe tbody tr th:only-of-type {\n        vertical-align: middle;\n    }\n\n    .dataframe tbody tr th {\n        vertical-align: top;\n    }\n\n    .dataframe thead th {\n        text-align: right;\n    }\n</style>\n<table border=\"1\" class=\"dataframe\">\n  <thead>\n    <tr style=\"text-align: right;\">\n      <th></th>\n      <th>SALES_STAFF_CODE</th>\n      <th>FIRST_NAME</th>\n      <th>LAST_NAME</th>\n      <th>POSITION_EN</th>\n      <th>WORK_PHONE</th>\n      <th>EXTENSION</th>\n      <th>FAX</th>\n      <th>EMAIL</th>\n      <th>DATE_HIRED</th>\n      <th>SALES_BRANCH_CODE</th>\n      <th>TRIAL888</th>\n      <th>CONTACT</th>\n      <th>FULL_NAME</th>\n    </tr>\n  </thead>\n  <tbody>\n    <tr>\n      <th>0</th>\n      <td>100</td>\n      <td>Tuomas</td>\n      <td>Savolainen</td>\n      <td>Level 2 Sales Representative</td>\n      <td>+358(0)17 - 433 127</td>\n      <td>826.0</td>\n      <td>+358(0)17 - 433 129</td>\n      <td>TSavolainen@grtd123.com</td>\n      <td>23-7-2014</td>\n      <td>31</td>\n      <td>T</td>\n      <td>FAX: +358(0)17 - 433 129 EMAIL: TSavolainen@gr...</td>\n      <td>Tuomas Savolainen</td>\n    </tr>\n    <tr>\n      <th>1</th>\n      <td>101</td>\n      <td>Chang-ho</td>\n      <td>Kim</td>\n      <td>Level 2 Sales Representative</td>\n      <td>82-2-778-6587</td>\n      <td>1229.0</td>\n      <td>82-2-778-6586</td>\n      <td>CKim@grtd123.com</td>\n      <td>15-12-2014</td>\n      <td>32</td>\n      <td>T</td>\n      <td>FAX: 82-2-778-6586 EMAIL: CKim@grtd123.com</td>\n      <td>Chang-ho Kim</td>\n    </tr>\n    <tr>\n      <th>2</th>\n      <td>102</td>\n      <td>Jung-ho</td>\n      <td>Choi</td>\n      <td>Level 3 Sales Representative</td>\n      <td>82-2-778-6587</td>\n      <td>2642.0</td>\n      <td>82-2-778-6586</td>\n      <td>JChoi@grtd123.com</td>\n      <td>27-11-2014</td>\n      <td>32</td>\n      <td>T</td>\n      <td>FAX: 82-2-778-6586 EMAIL: JChoi@grtd123.com</td>\n      <td>Jung-ho Choi</td>\n    </tr>\n    <tr>\n      <th>3</th>\n      <td>103</td>\n      <td>Kwei-Ping</td>\n      <td>Kao</td>\n      <td>Level 2 Sales Representative</td>\n      <td>886-2-2975-1988</td>\n      <td>1542.0</td>\n      <td>886-2-2989-4978</td>\n      <td>KKwao@grtd123.com</td>\n      <td>7-10-2014</td>\n      <td>33</td>\n      <td>T</td>\n      <td>FAX: 886-2-2989-4978 EMAIL: KKwao@grtd123.com</td>\n      <td>Kwei-Ping Kao</td>\n    </tr>\n    <tr>\n      <th>4</th>\n      <td>104</td>\n      <td>Chin-Tsai</td>\n      <td>Fang</td>\n      <td>Level 3 Sales Representative</td>\n      <td>886-2-2975-1988</td>\n      <td>2312.0</td>\n      <td>886-2-2989-4978</td>\n      <td>CFon@grtd123.com</td>\n      <td>8-5-2012</td>\n      <td>33</td>\n      <td>T</td>\n      <td>FAX: 886-2-2989-4978 EMAIL: CFon@grtd123.com</td>\n      <td>Chin-Tsai Fang</td>\n    </tr>\n    <tr>\n      <th>...</th>\n      <td>...</td>\n      <td>...</td>\n      <td>...</td>\n      <td>...</td>\n      <td>...</td>\n      <td>...</td>\n      <td>...</td>\n      <td>...</td>\n      <td>...</td>\n      <td>...</td>\n      <td>...</td>\n      <td>...</td>\n      <td>...</td>\n    </tr>\n    <tr>\n      <th>97</th>\n      <td>95</td>\n      <td>Tomás</td>\n      <td>Iglesias</td>\n      <td>Level 2 Sales Representative</td>\n      <td>+35 94 322 3540</td>\n      <td>326.0</td>\n      <td>+35 91 548 1637</td>\n      <td>TIglesias@grtd123.com</td>\n      <td>19-2-2014</td>\n      <td>29</td>\n      <td>T</td>\n      <td>FAX: +35 91 548 1637 EMAIL: TIglesias@grtd123.com</td>\n      <td>Tomás Iglesias</td>\n    </tr>\n    <tr>\n      <th>98</th>\n      <td>96</td>\n      <td>Bayard</td>\n      <td>Lopes</td>\n      <td>Branch Manager</td>\n      <td>+55 (11) 344-4444</td>\n      <td>3491.0</td>\n      <td>+55 (11) 333-2223</td>\n      <td>BLopes@grtd123.com</td>\n      <td>12-8-2013</td>\n      <td>30</td>\n      <td>T</td>\n      <td>FAX: +55 (11) 333-2223 EMAIL: BLopes@grtd123.com</td>\n      <td>Bayard Lopes</td>\n    </tr>\n    <tr>\n      <th>99</th>\n      <td>97</td>\n      <td>Viviam</td>\n      <td>Barros</td>\n      <td>Level 3 Sales Representative</td>\n      <td>+55 (11) 344-4444</td>\n      <td>3365.0</td>\n      <td>+55 (11) 333-2223</td>\n      <td>VBarros@grtd123.com</td>\n      <td>10-2-2017</td>\n      <td>30</td>\n      <td>T</td>\n      <td>FAX: +55 (11) 333-2223 EMAIL: VBarros@grtd123.com</td>\n      <td>Viviam Barros</td>\n    </tr>\n    <tr>\n      <th>100</th>\n      <td>98</td>\n      <td>Eduardo</td>\n      <td>Guimarães</td>\n      <td>Level 2 Sales Representative</td>\n      <td>+55 (11) 344-4444</td>\n      <td>1443.0</td>\n      <td>+55 (11) 333-2223</td>\n      <td>EGuimaraes@grtd123.com</td>\n      <td>14-2-2015</td>\n      <td>30</td>\n      <td>T</td>\n      <td>FAX: +55 (11) 333-2223 EMAIL: EGuimaraes@grtd1...</td>\n      <td>Eduardo Guimarães</td>\n    </tr>\n    <tr>\n      <th>101</th>\n      <td>99</td>\n      <td>Helena</td>\n      <td>Lindholm</td>\n      <td>Level 3 Sales Representative</td>\n      <td>+358(0)17 - 433 127</td>\n      <td>490.0</td>\n      <td>+358(0)17 - 433 129</td>\n      <td>HLindholm@grtd123.com</td>\n      <td>17-8-2013</td>\n      <td>31</td>\n      <td>T</td>\n      <td>FAX: +358(0)17 - 433 129 EMAIL: HLindholm@grtd...</td>\n      <td>Helena Lindholm</td>\n    </tr>\n  </tbody>\n</table>\n<p>102 rows × 13 columns</p>\n</div>"
     },
     "execution_count": 16,
     "metadata": {},
     "output_type": "execute_result"
    }
   ],
   "source": [
    "sales_data['EXTENSION'] += 1\n",
    "sales_data"
   ]
  },
  {
   "cell_type": "markdown",
   "metadata": {},
   "source": [
    "Elke 'Branch Manager' wordt nu 'General Manager'. Schrijf code zodat deze wijziging doorgevoerd wordt in het DataFrame."
   ]
  },
  {
   "cell_type": "code",
   "execution_count": 17,
   "metadata": {
    "ExecuteTime": {
     "end_time": "2024-02-28T19:21:35.028652Z",
     "start_time": "2024-02-28T19:21:35.003200Z"
    }
   },
   "outputs": [
    {
     "data": {
      "text/plain": "    SALES_STAFF_CODE FIRST_NAME   LAST_NAME                   POSITION_EN  \\\n0                100     Tuomas  Savolainen  Level 2 Sales Representative   \n1                101   Chang-ho         Kim  Level 2 Sales Representative   \n2                102    Jung-ho        Choi  Level 3 Sales Representative   \n3                103  Kwei-Ping         Kao  Level 2 Sales Representative   \n4                104  Chin-Tsai        Fang  Level 3 Sales Representative   \n..               ...        ...         ...                           ...   \n97                95      Tomás    Iglesias  Level 2 Sales Representative   \n98                96     Bayard       Lopes               General Manager   \n99                97     Viviam      Barros  Level 3 Sales Representative   \n100               98    Eduardo   Guimarães  Level 2 Sales Representative   \n101               99     Helena    Lindholm  Level 3 Sales Representative   \n\n              WORK_PHONE  EXTENSION                  FAX  \\\n0    +358(0)17 - 433 127      826.0  +358(0)17 - 433 129   \n1          82-2-778-6587     1229.0        82-2-778-6586   \n2          82-2-778-6587     2642.0        82-2-778-6586   \n3        886-2-2975-1988     1542.0      886-2-2989-4978   \n4        886-2-2975-1988     2312.0      886-2-2989-4978   \n..                   ...        ...                  ...   \n97       +35 94 322 3540      326.0      +35 91 548 1637   \n98     +55 (11) 344-4444     3491.0    +55 (11) 333-2223   \n99     +55 (11) 344-4444     3365.0    +55 (11) 333-2223   \n100    +55 (11) 344-4444     1443.0    +55 (11) 333-2223   \n101  +358(0)17 - 433 127      490.0  +358(0)17 - 433 129   \n\n                       EMAIL  DATE_HIRED SALES_BRANCH_CODE TRIAL888  \\\n0    TSavolainen@grtd123.com   23-7-2014                31        T   \n1           CKim@grtd123.com  15-12-2014                32        T   \n2          JChoi@grtd123.com  27-11-2014                32        T   \n3          KKwao@grtd123.com   7-10-2014                33        T   \n4           CFon@grtd123.com    8-5-2012                33        T   \n..                       ...         ...               ...      ...   \n97     TIglesias@grtd123.com   19-2-2014                29        T   \n98        BLopes@grtd123.com   12-8-2013                30        T   \n99       VBarros@grtd123.com   10-2-2017                30        T   \n100   EGuimaraes@grtd123.com   14-2-2015                30        T   \n101    HLindholm@grtd123.com   17-8-2013                31        T   \n\n                                               CONTACT          FULL_NAME  \n0    FAX: +358(0)17 - 433 129 EMAIL: TSavolainen@gr...  Tuomas Savolainen  \n1           FAX: 82-2-778-6586 EMAIL: CKim@grtd123.com       Chang-ho Kim  \n2          FAX: 82-2-778-6586 EMAIL: JChoi@grtd123.com       Jung-ho Choi  \n3        FAX: 886-2-2989-4978 EMAIL: KKwao@grtd123.com      Kwei-Ping Kao  \n4         FAX: 886-2-2989-4978 EMAIL: CFon@grtd123.com     Chin-Tsai Fang  \n..                                                 ...                ...  \n97   FAX: +35 91 548 1637 EMAIL: TIglesias@grtd123.com     Tomás Iglesias  \n98    FAX: +55 (11) 333-2223 EMAIL: BLopes@grtd123.com       Bayard Lopes  \n99   FAX: +55 (11) 333-2223 EMAIL: VBarros@grtd123.com      Viviam Barros  \n100  FAX: +55 (11) 333-2223 EMAIL: EGuimaraes@grtd1...  Eduardo Guimarães  \n101  FAX: +358(0)17 - 433 129 EMAIL: HLindholm@grtd...    Helena Lindholm  \n\n[102 rows x 13 columns]",
      "text/html": "<div>\n<style scoped>\n    .dataframe tbody tr th:only-of-type {\n        vertical-align: middle;\n    }\n\n    .dataframe tbody tr th {\n        vertical-align: top;\n    }\n\n    .dataframe thead th {\n        text-align: right;\n    }\n</style>\n<table border=\"1\" class=\"dataframe\">\n  <thead>\n    <tr style=\"text-align: right;\">\n      <th></th>\n      <th>SALES_STAFF_CODE</th>\n      <th>FIRST_NAME</th>\n      <th>LAST_NAME</th>\n      <th>POSITION_EN</th>\n      <th>WORK_PHONE</th>\n      <th>EXTENSION</th>\n      <th>FAX</th>\n      <th>EMAIL</th>\n      <th>DATE_HIRED</th>\n      <th>SALES_BRANCH_CODE</th>\n      <th>TRIAL888</th>\n      <th>CONTACT</th>\n      <th>FULL_NAME</th>\n    </tr>\n  </thead>\n  <tbody>\n    <tr>\n      <th>0</th>\n      <td>100</td>\n      <td>Tuomas</td>\n      <td>Savolainen</td>\n      <td>Level 2 Sales Representative</td>\n      <td>+358(0)17 - 433 127</td>\n      <td>826.0</td>\n      <td>+358(0)17 - 433 129</td>\n      <td>TSavolainen@grtd123.com</td>\n      <td>23-7-2014</td>\n      <td>31</td>\n      <td>T</td>\n      <td>FAX: +358(0)17 - 433 129 EMAIL: TSavolainen@gr...</td>\n      <td>Tuomas Savolainen</td>\n    </tr>\n    <tr>\n      <th>1</th>\n      <td>101</td>\n      <td>Chang-ho</td>\n      <td>Kim</td>\n      <td>Level 2 Sales Representative</td>\n      <td>82-2-778-6587</td>\n      <td>1229.0</td>\n      <td>82-2-778-6586</td>\n      <td>CKim@grtd123.com</td>\n      <td>15-12-2014</td>\n      <td>32</td>\n      <td>T</td>\n      <td>FAX: 82-2-778-6586 EMAIL: CKim@grtd123.com</td>\n      <td>Chang-ho Kim</td>\n    </tr>\n    <tr>\n      <th>2</th>\n      <td>102</td>\n      <td>Jung-ho</td>\n      <td>Choi</td>\n      <td>Level 3 Sales Representative</td>\n      <td>82-2-778-6587</td>\n      <td>2642.0</td>\n      <td>82-2-778-6586</td>\n      <td>JChoi@grtd123.com</td>\n      <td>27-11-2014</td>\n      <td>32</td>\n      <td>T</td>\n      <td>FAX: 82-2-778-6586 EMAIL: JChoi@grtd123.com</td>\n      <td>Jung-ho Choi</td>\n    </tr>\n    <tr>\n      <th>3</th>\n      <td>103</td>\n      <td>Kwei-Ping</td>\n      <td>Kao</td>\n      <td>Level 2 Sales Representative</td>\n      <td>886-2-2975-1988</td>\n      <td>1542.0</td>\n      <td>886-2-2989-4978</td>\n      <td>KKwao@grtd123.com</td>\n      <td>7-10-2014</td>\n      <td>33</td>\n      <td>T</td>\n      <td>FAX: 886-2-2989-4978 EMAIL: KKwao@grtd123.com</td>\n      <td>Kwei-Ping Kao</td>\n    </tr>\n    <tr>\n      <th>4</th>\n      <td>104</td>\n      <td>Chin-Tsai</td>\n      <td>Fang</td>\n      <td>Level 3 Sales Representative</td>\n      <td>886-2-2975-1988</td>\n      <td>2312.0</td>\n      <td>886-2-2989-4978</td>\n      <td>CFon@grtd123.com</td>\n      <td>8-5-2012</td>\n      <td>33</td>\n      <td>T</td>\n      <td>FAX: 886-2-2989-4978 EMAIL: CFon@grtd123.com</td>\n      <td>Chin-Tsai Fang</td>\n    </tr>\n    <tr>\n      <th>...</th>\n      <td>...</td>\n      <td>...</td>\n      <td>...</td>\n      <td>...</td>\n      <td>...</td>\n      <td>...</td>\n      <td>...</td>\n      <td>...</td>\n      <td>...</td>\n      <td>...</td>\n      <td>...</td>\n      <td>...</td>\n      <td>...</td>\n    </tr>\n    <tr>\n      <th>97</th>\n      <td>95</td>\n      <td>Tomás</td>\n      <td>Iglesias</td>\n      <td>Level 2 Sales Representative</td>\n      <td>+35 94 322 3540</td>\n      <td>326.0</td>\n      <td>+35 91 548 1637</td>\n      <td>TIglesias@grtd123.com</td>\n      <td>19-2-2014</td>\n      <td>29</td>\n      <td>T</td>\n      <td>FAX: +35 91 548 1637 EMAIL: TIglesias@grtd123.com</td>\n      <td>Tomás Iglesias</td>\n    </tr>\n    <tr>\n      <th>98</th>\n      <td>96</td>\n      <td>Bayard</td>\n      <td>Lopes</td>\n      <td>General Manager</td>\n      <td>+55 (11) 344-4444</td>\n      <td>3491.0</td>\n      <td>+55 (11) 333-2223</td>\n      <td>BLopes@grtd123.com</td>\n      <td>12-8-2013</td>\n      <td>30</td>\n      <td>T</td>\n      <td>FAX: +55 (11) 333-2223 EMAIL: BLopes@grtd123.com</td>\n      <td>Bayard Lopes</td>\n    </tr>\n    <tr>\n      <th>99</th>\n      <td>97</td>\n      <td>Viviam</td>\n      <td>Barros</td>\n      <td>Level 3 Sales Representative</td>\n      <td>+55 (11) 344-4444</td>\n      <td>3365.0</td>\n      <td>+55 (11) 333-2223</td>\n      <td>VBarros@grtd123.com</td>\n      <td>10-2-2017</td>\n      <td>30</td>\n      <td>T</td>\n      <td>FAX: +55 (11) 333-2223 EMAIL: VBarros@grtd123.com</td>\n      <td>Viviam Barros</td>\n    </tr>\n    <tr>\n      <th>100</th>\n      <td>98</td>\n      <td>Eduardo</td>\n      <td>Guimarães</td>\n      <td>Level 2 Sales Representative</td>\n      <td>+55 (11) 344-4444</td>\n      <td>1443.0</td>\n      <td>+55 (11) 333-2223</td>\n      <td>EGuimaraes@grtd123.com</td>\n      <td>14-2-2015</td>\n      <td>30</td>\n      <td>T</td>\n      <td>FAX: +55 (11) 333-2223 EMAIL: EGuimaraes@grtd1...</td>\n      <td>Eduardo Guimarães</td>\n    </tr>\n    <tr>\n      <th>101</th>\n      <td>99</td>\n      <td>Helena</td>\n      <td>Lindholm</td>\n      <td>Level 3 Sales Representative</td>\n      <td>+358(0)17 - 433 127</td>\n      <td>490.0</td>\n      <td>+358(0)17 - 433 129</td>\n      <td>HLindholm@grtd123.com</td>\n      <td>17-8-2013</td>\n      <td>31</td>\n      <td>T</td>\n      <td>FAX: +358(0)17 - 433 129 EMAIL: HLindholm@grtd...</td>\n      <td>Helena Lindholm</td>\n    </tr>\n  </tbody>\n</table>\n<p>102 rows × 13 columns</p>\n</div>"
     },
     "execution_count": 17,
     "metadata": {},
     "output_type": "execute_result"
    }
   ],
   "source": [
    "sales_data = sales_data.replace('Branch Manager', 'General Manager')\n",
    "sales_data"
   ]
  },
  {
   "cell_type": "markdown",
   "metadata": {},
   "source": [
    "### Kolommen"
   ]
  },
  {
   "cell_type": "markdown",
   "metadata": {},
   "source": [
    "Verander de kolomnaam 'POSITION_EN' naar 'POSITION'."
   ]
  },
  {
   "cell_type": "code",
   "execution_count": 18,
   "metadata": {
    "ExecuteTime": {
     "end_time": "2024-02-28T19:21:35.048435Z",
     "start_time": "2024-02-28T19:21:35.030651Z"
    }
   },
   "outputs": [
    {
     "data": {
      "text/plain": "    SALES_STAFF_CODE FIRST_NAME   LAST_NAME                      POSITION  \\\n0                100     Tuomas  Savolainen  Level 2 Sales Representative   \n1                101   Chang-ho         Kim  Level 2 Sales Representative   \n2                102    Jung-ho        Choi  Level 3 Sales Representative   \n3                103  Kwei-Ping         Kao  Level 2 Sales Representative   \n4                104  Chin-Tsai        Fang  Level 3 Sales Representative   \n..               ...        ...         ...                           ...   \n97                95      Tomás    Iglesias  Level 2 Sales Representative   \n98                96     Bayard       Lopes               General Manager   \n99                97     Viviam      Barros  Level 3 Sales Representative   \n100               98    Eduardo   Guimarães  Level 2 Sales Representative   \n101               99     Helena    Lindholm  Level 3 Sales Representative   \n\n              WORK_PHONE  EXTENSION                  FAX  \\\n0    +358(0)17 - 433 127      826.0  +358(0)17 - 433 129   \n1          82-2-778-6587     1229.0        82-2-778-6586   \n2          82-2-778-6587     2642.0        82-2-778-6586   \n3        886-2-2975-1988     1542.0      886-2-2989-4978   \n4        886-2-2975-1988     2312.0      886-2-2989-4978   \n..                   ...        ...                  ...   \n97       +35 94 322 3540      326.0      +35 91 548 1637   \n98     +55 (11) 344-4444     3491.0    +55 (11) 333-2223   \n99     +55 (11) 344-4444     3365.0    +55 (11) 333-2223   \n100    +55 (11) 344-4444     1443.0    +55 (11) 333-2223   \n101  +358(0)17 - 433 127      490.0  +358(0)17 - 433 129   \n\n                       EMAIL  DATE_HIRED SALES_BRANCH_CODE TRIAL888  \\\n0    TSavolainen@grtd123.com   23-7-2014                31        T   \n1           CKim@grtd123.com  15-12-2014                32        T   \n2          JChoi@grtd123.com  27-11-2014                32        T   \n3          KKwao@grtd123.com   7-10-2014                33        T   \n4           CFon@grtd123.com    8-5-2012                33        T   \n..                       ...         ...               ...      ...   \n97     TIglesias@grtd123.com   19-2-2014                29        T   \n98        BLopes@grtd123.com   12-8-2013                30        T   \n99       VBarros@grtd123.com   10-2-2017                30        T   \n100   EGuimaraes@grtd123.com   14-2-2015                30        T   \n101    HLindholm@grtd123.com   17-8-2013                31        T   \n\n                                               CONTACT          FULL_NAME  \n0    FAX: +358(0)17 - 433 129 EMAIL: TSavolainen@gr...  Tuomas Savolainen  \n1           FAX: 82-2-778-6586 EMAIL: CKim@grtd123.com       Chang-ho Kim  \n2          FAX: 82-2-778-6586 EMAIL: JChoi@grtd123.com       Jung-ho Choi  \n3        FAX: 886-2-2989-4978 EMAIL: KKwao@grtd123.com      Kwei-Ping Kao  \n4         FAX: 886-2-2989-4978 EMAIL: CFon@grtd123.com     Chin-Tsai Fang  \n..                                                 ...                ...  \n97   FAX: +35 91 548 1637 EMAIL: TIglesias@grtd123.com     Tomás Iglesias  \n98    FAX: +55 (11) 333-2223 EMAIL: BLopes@grtd123.com       Bayard Lopes  \n99   FAX: +55 (11) 333-2223 EMAIL: VBarros@grtd123.com      Viviam Barros  \n100  FAX: +55 (11) 333-2223 EMAIL: EGuimaraes@grtd1...  Eduardo Guimarães  \n101  FAX: +358(0)17 - 433 129 EMAIL: HLindholm@grtd...    Helena Lindholm  \n\n[102 rows x 13 columns]",
      "text/html": "<div>\n<style scoped>\n    .dataframe tbody tr th:only-of-type {\n        vertical-align: middle;\n    }\n\n    .dataframe tbody tr th {\n        vertical-align: top;\n    }\n\n    .dataframe thead th {\n        text-align: right;\n    }\n</style>\n<table border=\"1\" class=\"dataframe\">\n  <thead>\n    <tr style=\"text-align: right;\">\n      <th></th>\n      <th>SALES_STAFF_CODE</th>\n      <th>FIRST_NAME</th>\n      <th>LAST_NAME</th>\n      <th>POSITION</th>\n      <th>WORK_PHONE</th>\n      <th>EXTENSION</th>\n      <th>FAX</th>\n      <th>EMAIL</th>\n      <th>DATE_HIRED</th>\n      <th>SALES_BRANCH_CODE</th>\n      <th>TRIAL888</th>\n      <th>CONTACT</th>\n      <th>FULL_NAME</th>\n    </tr>\n  </thead>\n  <tbody>\n    <tr>\n      <th>0</th>\n      <td>100</td>\n      <td>Tuomas</td>\n      <td>Savolainen</td>\n      <td>Level 2 Sales Representative</td>\n      <td>+358(0)17 - 433 127</td>\n      <td>826.0</td>\n      <td>+358(0)17 - 433 129</td>\n      <td>TSavolainen@grtd123.com</td>\n      <td>23-7-2014</td>\n      <td>31</td>\n      <td>T</td>\n      <td>FAX: +358(0)17 - 433 129 EMAIL: TSavolainen@gr...</td>\n      <td>Tuomas Savolainen</td>\n    </tr>\n    <tr>\n      <th>1</th>\n      <td>101</td>\n      <td>Chang-ho</td>\n      <td>Kim</td>\n      <td>Level 2 Sales Representative</td>\n      <td>82-2-778-6587</td>\n      <td>1229.0</td>\n      <td>82-2-778-6586</td>\n      <td>CKim@grtd123.com</td>\n      <td>15-12-2014</td>\n      <td>32</td>\n      <td>T</td>\n      <td>FAX: 82-2-778-6586 EMAIL: CKim@grtd123.com</td>\n      <td>Chang-ho Kim</td>\n    </tr>\n    <tr>\n      <th>2</th>\n      <td>102</td>\n      <td>Jung-ho</td>\n      <td>Choi</td>\n      <td>Level 3 Sales Representative</td>\n      <td>82-2-778-6587</td>\n      <td>2642.0</td>\n      <td>82-2-778-6586</td>\n      <td>JChoi@grtd123.com</td>\n      <td>27-11-2014</td>\n      <td>32</td>\n      <td>T</td>\n      <td>FAX: 82-2-778-6586 EMAIL: JChoi@grtd123.com</td>\n      <td>Jung-ho Choi</td>\n    </tr>\n    <tr>\n      <th>3</th>\n      <td>103</td>\n      <td>Kwei-Ping</td>\n      <td>Kao</td>\n      <td>Level 2 Sales Representative</td>\n      <td>886-2-2975-1988</td>\n      <td>1542.0</td>\n      <td>886-2-2989-4978</td>\n      <td>KKwao@grtd123.com</td>\n      <td>7-10-2014</td>\n      <td>33</td>\n      <td>T</td>\n      <td>FAX: 886-2-2989-4978 EMAIL: KKwao@grtd123.com</td>\n      <td>Kwei-Ping Kao</td>\n    </tr>\n    <tr>\n      <th>4</th>\n      <td>104</td>\n      <td>Chin-Tsai</td>\n      <td>Fang</td>\n      <td>Level 3 Sales Representative</td>\n      <td>886-2-2975-1988</td>\n      <td>2312.0</td>\n      <td>886-2-2989-4978</td>\n      <td>CFon@grtd123.com</td>\n      <td>8-5-2012</td>\n      <td>33</td>\n      <td>T</td>\n      <td>FAX: 886-2-2989-4978 EMAIL: CFon@grtd123.com</td>\n      <td>Chin-Tsai Fang</td>\n    </tr>\n    <tr>\n      <th>...</th>\n      <td>...</td>\n      <td>...</td>\n      <td>...</td>\n      <td>...</td>\n      <td>...</td>\n      <td>...</td>\n      <td>...</td>\n      <td>...</td>\n      <td>...</td>\n      <td>...</td>\n      <td>...</td>\n      <td>...</td>\n      <td>...</td>\n    </tr>\n    <tr>\n      <th>97</th>\n      <td>95</td>\n      <td>Tomás</td>\n      <td>Iglesias</td>\n      <td>Level 2 Sales Representative</td>\n      <td>+35 94 322 3540</td>\n      <td>326.0</td>\n      <td>+35 91 548 1637</td>\n      <td>TIglesias@grtd123.com</td>\n      <td>19-2-2014</td>\n      <td>29</td>\n      <td>T</td>\n      <td>FAX: +35 91 548 1637 EMAIL: TIglesias@grtd123.com</td>\n      <td>Tomás Iglesias</td>\n    </tr>\n    <tr>\n      <th>98</th>\n      <td>96</td>\n      <td>Bayard</td>\n      <td>Lopes</td>\n      <td>General Manager</td>\n      <td>+55 (11) 344-4444</td>\n      <td>3491.0</td>\n      <td>+55 (11) 333-2223</td>\n      <td>BLopes@grtd123.com</td>\n      <td>12-8-2013</td>\n      <td>30</td>\n      <td>T</td>\n      <td>FAX: +55 (11) 333-2223 EMAIL: BLopes@grtd123.com</td>\n      <td>Bayard Lopes</td>\n    </tr>\n    <tr>\n      <th>99</th>\n      <td>97</td>\n      <td>Viviam</td>\n      <td>Barros</td>\n      <td>Level 3 Sales Representative</td>\n      <td>+55 (11) 344-4444</td>\n      <td>3365.0</td>\n      <td>+55 (11) 333-2223</td>\n      <td>VBarros@grtd123.com</td>\n      <td>10-2-2017</td>\n      <td>30</td>\n      <td>T</td>\n      <td>FAX: +55 (11) 333-2223 EMAIL: VBarros@grtd123.com</td>\n      <td>Viviam Barros</td>\n    </tr>\n    <tr>\n      <th>100</th>\n      <td>98</td>\n      <td>Eduardo</td>\n      <td>Guimarães</td>\n      <td>Level 2 Sales Representative</td>\n      <td>+55 (11) 344-4444</td>\n      <td>1443.0</td>\n      <td>+55 (11) 333-2223</td>\n      <td>EGuimaraes@grtd123.com</td>\n      <td>14-2-2015</td>\n      <td>30</td>\n      <td>T</td>\n      <td>FAX: +55 (11) 333-2223 EMAIL: EGuimaraes@grtd1...</td>\n      <td>Eduardo Guimarães</td>\n    </tr>\n    <tr>\n      <th>101</th>\n      <td>99</td>\n      <td>Helena</td>\n      <td>Lindholm</td>\n      <td>Level 3 Sales Representative</td>\n      <td>+358(0)17 - 433 127</td>\n      <td>490.0</td>\n      <td>+358(0)17 - 433 129</td>\n      <td>HLindholm@grtd123.com</td>\n      <td>17-8-2013</td>\n      <td>31</td>\n      <td>T</td>\n      <td>FAX: +358(0)17 - 433 129 EMAIL: HLindholm@grtd...</td>\n      <td>Helena Lindholm</td>\n    </tr>\n  </tbody>\n</table>\n<p>102 rows × 13 columns</p>\n</div>"
     },
     "execution_count": 18,
     "metadata": {},
     "output_type": "execute_result"
    }
   ],
   "source": [
    "sales_data = sales_data.rename(columns = {'POSITION_EN' : 'POSITION'})\n",
    "sales_data"
   ]
  },
  {
   "cell_type": "markdown",
   "metadata": {},
   "source": [
    "## Data verwijderen"
   ]
  },
  {
   "cell_type": "markdown",
   "metadata": {},
   "source": [
    "### Rijen"
   ]
  },
  {
   "cell_type": "markdown",
   "metadata": {},
   "source": [
    "De medewerkers op indexen 99, 100 en 101 hebben helaas ontslag genomen.<br>\n",
    "Verwijder de bijbehorende rijen uit het DataFrame. Gebruik slechts één keer de .drop()-methode."
   ]
  },
  {
   "cell_type": "code",
   "execution_count": 19,
   "metadata": {
    "ExecuteTime": {
     "end_time": "2024-02-28T19:21:35.067392Z",
     "start_time": "2024-02-28T19:21:35.049433Z"
    }
   },
   "outputs": [
    {
     "data": {
      "text/plain": "    SALES_STAFF_CODE FIRST_NAME   LAST_NAME                      POSITION  \\\n0                100     Tuomas  Savolainen  Level 2 Sales Representative   \n1                101   Chang-ho         Kim  Level 2 Sales Representative   \n2                102    Jung-ho        Choi  Level 3 Sales Representative   \n3                103  Kwei-Ping         Kao  Level 2 Sales Representative   \n5                105  Xiangyong        Wang  Level 2 Sales Representative   \n..               ...        ...         ...                           ...   \n97                95      Tomás    Iglesias  Level 2 Sales Representative   \n98                96     Bayard       Lopes               General Manager   \n99                97     Viviam      Barros  Level 3 Sales Representative   \n100               98    Eduardo   Guimarães  Level 2 Sales Representative   \n101               99     Helena    Lindholm  Level 3 Sales Representative   \n\n              WORK_PHONE  EXTENSION                  FAX  \\\n0    +358(0)17 - 433 127      826.0  +358(0)17 - 433 129   \n1          82-2-778-6587     1229.0        82-2-778-6586   \n2          82-2-778-6587     2642.0        82-2-778-6586   \n3        886-2-2975-1988     1542.0      886-2-2989-4978   \n5        86-21-6790-5612      335.0      86-21-6790-5612   \n..                   ...        ...                  ...   \n97       +35 94 322 3540      326.0      +35 91 548 1637   \n98     +55 (11) 344-4444     3491.0    +55 (11) 333-2223   \n99     +55 (11) 344-4444     3365.0    +55 (11) 333-2223   \n100    +55 (11) 344-4444     1443.0    +55 (11) 333-2223   \n101  +358(0)17 - 433 127      490.0  +358(0)17 - 433 129   \n\n                       EMAIL  DATE_HIRED SALES_BRANCH_CODE TRIAL888  \\\n0    TSavolainen@grtd123.com   23-7-2014                31        T   \n1           CKim@grtd123.com  15-12-2014                32        T   \n2          JChoi@grtd123.com  27-11-2014                32        T   \n3          KKwao@grtd123.com   7-10-2014                33        T   \n5          XWang@grtd123.com    7-5-2014                34        T   \n..                       ...         ...               ...      ...   \n97     TIglesias@grtd123.com   19-2-2014                29        T   \n98        BLopes@grtd123.com   12-8-2013                30        T   \n99       VBarros@grtd123.com   10-2-2017                30        T   \n100   EGuimaraes@grtd123.com   14-2-2015                30        T   \n101    HLindholm@grtd123.com   17-8-2013                31        T   \n\n                                               CONTACT          FULL_NAME  \n0    FAX: +358(0)17 - 433 129 EMAIL: TSavolainen@gr...  Tuomas Savolainen  \n1           FAX: 82-2-778-6586 EMAIL: CKim@grtd123.com       Chang-ho Kim  \n2          FAX: 82-2-778-6586 EMAIL: JChoi@grtd123.com       Jung-ho Choi  \n3        FAX: 886-2-2989-4978 EMAIL: KKwao@grtd123.com      Kwei-Ping Kao  \n5        FAX: 86-21-6790-5612 EMAIL: XWang@grtd123.com     Xiangyong Wang  \n..                                                 ...                ...  \n97   FAX: +35 91 548 1637 EMAIL: TIglesias@grtd123.com     Tomás Iglesias  \n98    FAX: +55 (11) 333-2223 EMAIL: BLopes@grtd123.com       Bayard Lopes  \n99   FAX: +55 (11) 333-2223 EMAIL: VBarros@grtd123.com      Viviam Barros  \n100  FAX: +55 (11) 333-2223 EMAIL: EGuimaraes@grtd1...  Eduardo Guimarães  \n101  FAX: +358(0)17 - 433 129 EMAIL: HLindholm@grtd...    Helena Lindholm  \n\n[101 rows x 13 columns]",
      "text/html": "<div>\n<style scoped>\n    .dataframe tbody tr th:only-of-type {\n        vertical-align: middle;\n    }\n\n    .dataframe tbody tr th {\n        vertical-align: top;\n    }\n\n    .dataframe thead th {\n        text-align: right;\n    }\n</style>\n<table border=\"1\" class=\"dataframe\">\n  <thead>\n    <tr style=\"text-align: right;\">\n      <th></th>\n      <th>SALES_STAFF_CODE</th>\n      <th>FIRST_NAME</th>\n      <th>LAST_NAME</th>\n      <th>POSITION</th>\n      <th>WORK_PHONE</th>\n      <th>EXTENSION</th>\n      <th>FAX</th>\n      <th>EMAIL</th>\n      <th>DATE_HIRED</th>\n      <th>SALES_BRANCH_CODE</th>\n      <th>TRIAL888</th>\n      <th>CONTACT</th>\n      <th>FULL_NAME</th>\n    </tr>\n  </thead>\n  <tbody>\n    <tr>\n      <th>0</th>\n      <td>100</td>\n      <td>Tuomas</td>\n      <td>Savolainen</td>\n      <td>Level 2 Sales Representative</td>\n      <td>+358(0)17 - 433 127</td>\n      <td>826.0</td>\n      <td>+358(0)17 - 433 129</td>\n      <td>TSavolainen@grtd123.com</td>\n      <td>23-7-2014</td>\n      <td>31</td>\n      <td>T</td>\n      <td>FAX: +358(0)17 - 433 129 EMAIL: TSavolainen@gr...</td>\n      <td>Tuomas Savolainen</td>\n    </tr>\n    <tr>\n      <th>1</th>\n      <td>101</td>\n      <td>Chang-ho</td>\n      <td>Kim</td>\n      <td>Level 2 Sales Representative</td>\n      <td>82-2-778-6587</td>\n      <td>1229.0</td>\n      <td>82-2-778-6586</td>\n      <td>CKim@grtd123.com</td>\n      <td>15-12-2014</td>\n      <td>32</td>\n      <td>T</td>\n      <td>FAX: 82-2-778-6586 EMAIL: CKim@grtd123.com</td>\n      <td>Chang-ho Kim</td>\n    </tr>\n    <tr>\n      <th>2</th>\n      <td>102</td>\n      <td>Jung-ho</td>\n      <td>Choi</td>\n      <td>Level 3 Sales Representative</td>\n      <td>82-2-778-6587</td>\n      <td>2642.0</td>\n      <td>82-2-778-6586</td>\n      <td>JChoi@grtd123.com</td>\n      <td>27-11-2014</td>\n      <td>32</td>\n      <td>T</td>\n      <td>FAX: 82-2-778-6586 EMAIL: JChoi@grtd123.com</td>\n      <td>Jung-ho Choi</td>\n    </tr>\n    <tr>\n      <th>3</th>\n      <td>103</td>\n      <td>Kwei-Ping</td>\n      <td>Kao</td>\n      <td>Level 2 Sales Representative</td>\n      <td>886-2-2975-1988</td>\n      <td>1542.0</td>\n      <td>886-2-2989-4978</td>\n      <td>KKwao@grtd123.com</td>\n      <td>7-10-2014</td>\n      <td>33</td>\n      <td>T</td>\n      <td>FAX: 886-2-2989-4978 EMAIL: KKwao@grtd123.com</td>\n      <td>Kwei-Ping Kao</td>\n    </tr>\n    <tr>\n      <th>5</th>\n      <td>105</td>\n      <td>Xiangyong</td>\n      <td>Wang</td>\n      <td>Level 2 Sales Representative</td>\n      <td>86-21-6790-5612</td>\n      <td>335.0</td>\n      <td>86-21-6790-5612</td>\n      <td>XWang@grtd123.com</td>\n      <td>7-5-2014</td>\n      <td>34</td>\n      <td>T</td>\n      <td>FAX: 86-21-6790-5612 EMAIL: XWang@grtd123.com</td>\n      <td>Xiangyong Wang</td>\n    </tr>\n    <tr>\n      <th>...</th>\n      <td>...</td>\n      <td>...</td>\n      <td>...</td>\n      <td>...</td>\n      <td>...</td>\n      <td>...</td>\n      <td>...</td>\n      <td>...</td>\n      <td>...</td>\n      <td>...</td>\n      <td>...</td>\n      <td>...</td>\n      <td>...</td>\n    </tr>\n    <tr>\n      <th>97</th>\n      <td>95</td>\n      <td>Tomás</td>\n      <td>Iglesias</td>\n      <td>Level 2 Sales Representative</td>\n      <td>+35 94 322 3540</td>\n      <td>326.0</td>\n      <td>+35 91 548 1637</td>\n      <td>TIglesias@grtd123.com</td>\n      <td>19-2-2014</td>\n      <td>29</td>\n      <td>T</td>\n      <td>FAX: +35 91 548 1637 EMAIL: TIglesias@grtd123.com</td>\n      <td>Tomás Iglesias</td>\n    </tr>\n    <tr>\n      <th>98</th>\n      <td>96</td>\n      <td>Bayard</td>\n      <td>Lopes</td>\n      <td>General Manager</td>\n      <td>+55 (11) 344-4444</td>\n      <td>3491.0</td>\n      <td>+55 (11) 333-2223</td>\n      <td>BLopes@grtd123.com</td>\n      <td>12-8-2013</td>\n      <td>30</td>\n      <td>T</td>\n      <td>FAX: +55 (11) 333-2223 EMAIL: BLopes@grtd123.com</td>\n      <td>Bayard Lopes</td>\n    </tr>\n    <tr>\n      <th>99</th>\n      <td>97</td>\n      <td>Viviam</td>\n      <td>Barros</td>\n      <td>Level 3 Sales Representative</td>\n      <td>+55 (11) 344-4444</td>\n      <td>3365.0</td>\n      <td>+55 (11) 333-2223</td>\n      <td>VBarros@grtd123.com</td>\n      <td>10-2-2017</td>\n      <td>30</td>\n      <td>T</td>\n      <td>FAX: +55 (11) 333-2223 EMAIL: VBarros@grtd123.com</td>\n      <td>Viviam Barros</td>\n    </tr>\n    <tr>\n      <th>100</th>\n      <td>98</td>\n      <td>Eduardo</td>\n      <td>Guimarães</td>\n      <td>Level 2 Sales Representative</td>\n      <td>+55 (11) 344-4444</td>\n      <td>1443.0</td>\n      <td>+55 (11) 333-2223</td>\n      <td>EGuimaraes@grtd123.com</td>\n      <td>14-2-2015</td>\n      <td>30</td>\n      <td>T</td>\n      <td>FAX: +55 (11) 333-2223 EMAIL: EGuimaraes@grtd1...</td>\n      <td>Eduardo Guimarães</td>\n    </tr>\n    <tr>\n      <th>101</th>\n      <td>99</td>\n      <td>Helena</td>\n      <td>Lindholm</td>\n      <td>Level 3 Sales Representative</td>\n      <td>+358(0)17 - 433 127</td>\n      <td>490.0</td>\n      <td>+358(0)17 - 433 129</td>\n      <td>HLindholm@grtd123.com</td>\n      <td>17-8-2013</td>\n      <td>31</td>\n      <td>T</td>\n      <td>FAX: +358(0)17 - 433 129 EMAIL: HLindholm@grtd...</td>\n      <td>Helena Lindholm</td>\n    </tr>\n  </tbody>\n</table>\n<p>101 rows × 13 columns</p>\n</div>"
     },
     "execution_count": 19,
     "metadata": {},
     "output_type": "execute_result"
    }
   ],
   "source": [
    "sales_data = sales_data.drop(4, axis=0)\n",
    "sales_data"
   ]
  },
  {
   "cell_type": "markdown",
   "metadata": {},
   "source": [
    "### Kolommen"
   ]
  },
  {
   "cell_type": "markdown",
   "metadata": {},
   "source": [
    "Faxen zijn inmiddels ouderwets: niemand gebruikt zijn/haar faxnummer nog.<br>\n",
    "Verwijder de bijbehorende kolom uit het DataFrame."
   ]
  },
  {
   "cell_type": "code",
   "execution_count": 20,
   "metadata": {
    "ExecuteTime": {
     "end_time": "2024-02-28T19:21:35.087023Z",
     "start_time": "2024-02-28T19:21:35.068392Z"
    }
   },
   "outputs": [
    {
     "data": {
      "text/plain": "    SALES_STAFF_CODE FIRST_NAME   LAST_NAME                      POSITION  \\\n0                100     Tuomas  Savolainen  Level 2 Sales Representative   \n1                101   Chang-ho         Kim  Level 2 Sales Representative   \n2                102    Jung-ho        Choi  Level 3 Sales Representative   \n3                103  Kwei-Ping         Kao  Level 2 Sales Representative   \n5                105  Xiangyong        Wang  Level 2 Sales Representative   \n..               ...        ...         ...                           ...   \n97                95      Tomás    Iglesias  Level 2 Sales Representative   \n98                96     Bayard       Lopes               General Manager   \n99                97     Viviam      Barros  Level 3 Sales Representative   \n100               98    Eduardo   Guimarães  Level 2 Sales Representative   \n101               99     Helena    Lindholm  Level 3 Sales Representative   \n\n              WORK_PHONE  EXTENSION                    EMAIL  DATE_HIRED  \\\n0    +358(0)17 - 433 127      826.0  TSavolainen@grtd123.com   23-7-2014   \n1          82-2-778-6587     1229.0         CKim@grtd123.com  15-12-2014   \n2          82-2-778-6587     2642.0        JChoi@grtd123.com  27-11-2014   \n3        886-2-2975-1988     1542.0        KKwao@grtd123.com   7-10-2014   \n5        86-21-6790-5612      335.0        XWang@grtd123.com    7-5-2014   \n..                   ...        ...                      ...         ...   \n97       +35 94 322 3540      326.0    TIglesias@grtd123.com   19-2-2014   \n98     +55 (11) 344-4444     3491.0       BLopes@grtd123.com   12-8-2013   \n99     +55 (11) 344-4444     3365.0      VBarros@grtd123.com   10-2-2017   \n100    +55 (11) 344-4444     1443.0   EGuimaraes@grtd123.com   14-2-2015   \n101  +358(0)17 - 433 127      490.0    HLindholm@grtd123.com   17-8-2013   \n\n    SALES_BRANCH_CODE TRIAL888  \\\n0                  31        T   \n1                  32        T   \n2                  32        T   \n3                  33        T   \n5                  34        T   \n..                ...      ...   \n97                 29        T   \n98                 30        T   \n99                 30        T   \n100                30        T   \n101                31        T   \n\n                                               CONTACT          FULL_NAME  \n0    FAX: +358(0)17 - 433 129 EMAIL: TSavolainen@gr...  Tuomas Savolainen  \n1           FAX: 82-2-778-6586 EMAIL: CKim@grtd123.com       Chang-ho Kim  \n2          FAX: 82-2-778-6586 EMAIL: JChoi@grtd123.com       Jung-ho Choi  \n3        FAX: 886-2-2989-4978 EMAIL: KKwao@grtd123.com      Kwei-Ping Kao  \n5        FAX: 86-21-6790-5612 EMAIL: XWang@grtd123.com     Xiangyong Wang  \n..                                                 ...                ...  \n97   FAX: +35 91 548 1637 EMAIL: TIglesias@grtd123.com     Tomás Iglesias  \n98    FAX: +55 (11) 333-2223 EMAIL: BLopes@grtd123.com       Bayard Lopes  \n99   FAX: +55 (11) 333-2223 EMAIL: VBarros@grtd123.com      Viviam Barros  \n100  FAX: +55 (11) 333-2223 EMAIL: EGuimaraes@grtd1...  Eduardo Guimarães  \n101  FAX: +358(0)17 - 433 129 EMAIL: HLindholm@grtd...    Helena Lindholm  \n\n[101 rows x 12 columns]",
      "text/html": "<div>\n<style scoped>\n    .dataframe tbody tr th:only-of-type {\n        vertical-align: middle;\n    }\n\n    .dataframe tbody tr th {\n        vertical-align: top;\n    }\n\n    .dataframe thead th {\n        text-align: right;\n    }\n</style>\n<table border=\"1\" class=\"dataframe\">\n  <thead>\n    <tr style=\"text-align: right;\">\n      <th></th>\n      <th>SALES_STAFF_CODE</th>\n      <th>FIRST_NAME</th>\n      <th>LAST_NAME</th>\n      <th>POSITION</th>\n      <th>WORK_PHONE</th>\n      <th>EXTENSION</th>\n      <th>EMAIL</th>\n      <th>DATE_HIRED</th>\n      <th>SALES_BRANCH_CODE</th>\n      <th>TRIAL888</th>\n      <th>CONTACT</th>\n      <th>FULL_NAME</th>\n    </tr>\n  </thead>\n  <tbody>\n    <tr>\n      <th>0</th>\n      <td>100</td>\n      <td>Tuomas</td>\n      <td>Savolainen</td>\n      <td>Level 2 Sales Representative</td>\n      <td>+358(0)17 - 433 127</td>\n      <td>826.0</td>\n      <td>TSavolainen@grtd123.com</td>\n      <td>23-7-2014</td>\n      <td>31</td>\n      <td>T</td>\n      <td>FAX: +358(0)17 - 433 129 EMAIL: TSavolainen@gr...</td>\n      <td>Tuomas Savolainen</td>\n    </tr>\n    <tr>\n      <th>1</th>\n      <td>101</td>\n      <td>Chang-ho</td>\n      <td>Kim</td>\n      <td>Level 2 Sales Representative</td>\n      <td>82-2-778-6587</td>\n      <td>1229.0</td>\n      <td>CKim@grtd123.com</td>\n      <td>15-12-2014</td>\n      <td>32</td>\n      <td>T</td>\n      <td>FAX: 82-2-778-6586 EMAIL: CKim@grtd123.com</td>\n      <td>Chang-ho Kim</td>\n    </tr>\n    <tr>\n      <th>2</th>\n      <td>102</td>\n      <td>Jung-ho</td>\n      <td>Choi</td>\n      <td>Level 3 Sales Representative</td>\n      <td>82-2-778-6587</td>\n      <td>2642.0</td>\n      <td>JChoi@grtd123.com</td>\n      <td>27-11-2014</td>\n      <td>32</td>\n      <td>T</td>\n      <td>FAX: 82-2-778-6586 EMAIL: JChoi@grtd123.com</td>\n      <td>Jung-ho Choi</td>\n    </tr>\n    <tr>\n      <th>3</th>\n      <td>103</td>\n      <td>Kwei-Ping</td>\n      <td>Kao</td>\n      <td>Level 2 Sales Representative</td>\n      <td>886-2-2975-1988</td>\n      <td>1542.0</td>\n      <td>KKwao@grtd123.com</td>\n      <td>7-10-2014</td>\n      <td>33</td>\n      <td>T</td>\n      <td>FAX: 886-2-2989-4978 EMAIL: KKwao@grtd123.com</td>\n      <td>Kwei-Ping Kao</td>\n    </tr>\n    <tr>\n      <th>5</th>\n      <td>105</td>\n      <td>Xiangyong</td>\n      <td>Wang</td>\n      <td>Level 2 Sales Representative</td>\n      <td>86-21-6790-5612</td>\n      <td>335.0</td>\n      <td>XWang@grtd123.com</td>\n      <td>7-5-2014</td>\n      <td>34</td>\n      <td>T</td>\n      <td>FAX: 86-21-6790-5612 EMAIL: XWang@grtd123.com</td>\n      <td>Xiangyong Wang</td>\n    </tr>\n    <tr>\n      <th>...</th>\n      <td>...</td>\n      <td>...</td>\n      <td>...</td>\n      <td>...</td>\n      <td>...</td>\n      <td>...</td>\n      <td>...</td>\n      <td>...</td>\n      <td>...</td>\n      <td>...</td>\n      <td>...</td>\n      <td>...</td>\n    </tr>\n    <tr>\n      <th>97</th>\n      <td>95</td>\n      <td>Tomás</td>\n      <td>Iglesias</td>\n      <td>Level 2 Sales Representative</td>\n      <td>+35 94 322 3540</td>\n      <td>326.0</td>\n      <td>TIglesias@grtd123.com</td>\n      <td>19-2-2014</td>\n      <td>29</td>\n      <td>T</td>\n      <td>FAX: +35 91 548 1637 EMAIL: TIglesias@grtd123.com</td>\n      <td>Tomás Iglesias</td>\n    </tr>\n    <tr>\n      <th>98</th>\n      <td>96</td>\n      <td>Bayard</td>\n      <td>Lopes</td>\n      <td>General Manager</td>\n      <td>+55 (11) 344-4444</td>\n      <td>3491.0</td>\n      <td>BLopes@grtd123.com</td>\n      <td>12-8-2013</td>\n      <td>30</td>\n      <td>T</td>\n      <td>FAX: +55 (11) 333-2223 EMAIL: BLopes@grtd123.com</td>\n      <td>Bayard Lopes</td>\n    </tr>\n    <tr>\n      <th>99</th>\n      <td>97</td>\n      <td>Viviam</td>\n      <td>Barros</td>\n      <td>Level 3 Sales Representative</td>\n      <td>+55 (11) 344-4444</td>\n      <td>3365.0</td>\n      <td>VBarros@grtd123.com</td>\n      <td>10-2-2017</td>\n      <td>30</td>\n      <td>T</td>\n      <td>FAX: +55 (11) 333-2223 EMAIL: VBarros@grtd123.com</td>\n      <td>Viviam Barros</td>\n    </tr>\n    <tr>\n      <th>100</th>\n      <td>98</td>\n      <td>Eduardo</td>\n      <td>Guimarães</td>\n      <td>Level 2 Sales Representative</td>\n      <td>+55 (11) 344-4444</td>\n      <td>1443.0</td>\n      <td>EGuimaraes@grtd123.com</td>\n      <td>14-2-2015</td>\n      <td>30</td>\n      <td>T</td>\n      <td>FAX: +55 (11) 333-2223 EMAIL: EGuimaraes@grtd1...</td>\n      <td>Eduardo Guimarães</td>\n    </tr>\n    <tr>\n      <th>101</th>\n      <td>99</td>\n      <td>Helena</td>\n      <td>Lindholm</td>\n      <td>Level 3 Sales Representative</td>\n      <td>+358(0)17 - 433 127</td>\n      <td>490.0</td>\n      <td>HLindholm@grtd123.com</td>\n      <td>17-8-2013</td>\n      <td>31</td>\n      <td>T</td>\n      <td>FAX: +358(0)17 - 433 129 EMAIL: HLindholm@grtd...</td>\n      <td>Helena Lindholm</td>\n    </tr>\n  </tbody>\n</table>\n<p>101 rows × 12 columns</p>\n</div>"
     },
     "execution_count": 20,
     "metadata": {},
     "output_type": "execute_result"
    }
   ],
   "source": [
    "sales_data = sales_data.drop('FAX', axis=1)\n",
    "sales_data"
   ]
  }
 ],
 "metadata": {
  "kernelspec": {
   "display_name": "python-in-deds-P4iSP_yI-py3.11",
   "language": "python",
   "name": "python3"
  },
  "language_info": {
   "codemirror_mode": {
    "name": "ipython",
    "version": 3
   },
   "file_extension": ".py",
   "mimetype": "text/x-python",
   "name": "python",
   "nbconvert_exporter": "python",
   "pygments_lexer": "ipython3",
   "version": "3.12.2"
  }
 },
 "nbformat": 4,
 "nbformat_minor": 2
}
