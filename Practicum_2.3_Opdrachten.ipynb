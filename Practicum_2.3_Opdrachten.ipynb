{
 "cells": [
  {
   "cell_type": "markdown",
   "metadata": {},
   "source": [
    "# Practicumopdrachten Week 2.3 (eerste kans)"
   ]
  },
  {
   "cell_type": "markdown",
   "metadata": {},
   "source": [
    "## Dependencies importeren"
   ]
  },
  {
   "cell_type": "markdown",
   "metadata": {},
   "source": [
    "Kopieer in het codeblok hieronder van het vorige practicum de import-code voor de dependencies die het vaakst worden gebruikt om data in te lezen. Geef er ook de gebruikelijke aliassen aan.<br>\n",
    "Zet eventuele warnings uit."
   ]
  },
  {
   "cell_type": "code",
   "execution_count": 2,
   "metadata": {
    "ExecuteTime": {
     "end_time": "2024-02-26T15:20:24.401235100Z",
     "start_time": "2024-02-26T15:20:11.326309200Z"
    }
   },
   "outputs": [],
   "source": [
    "import pandas as pd\n",
    "import sqlite3\n",
    "import warnings\n",
    "warnings.simplefilter('ignore')"
   ]
  },
  {
   "cell_type": "markdown",
   "metadata": {},
   "source": [
    "Zet het bestand go_sales.sqlite in hetzelfde mapje als dit notebook."
   ]
  },
  {
   "cell_type": "markdown",
   "metadata": {},
   "source": [
    "## Databasetabellen inlezen"
   ]
  },
  {
   "cell_type": "markdown",
   "metadata": {},
   "source": [
    "Kopieer in het codeblok hieronder van het vorige practicum de code om een connectie met het bestand go_sales.sqlite te maken."
   ]
  },
  {
   "cell_type": "code",
   "execution_count": 2,
   "metadata": {
    "ExecuteTime": {
     "end_time": "2024-02-26T12:52:34.020204800Z",
     "start_time": "2024-02-26T12:52:34.001683600Z"
    }
   },
   "outputs": [],
   "source": [
    "sales_connection = sqlite3.connect('go_sales.sqlite')"
   ]
  },
  {
   "cell_type": "markdown",
   "metadata": {},
   "source": [
    "Lees van de ingelezen go_sales-database te volgende tabellen in met behulp van \"SELECT * FROM *tabel*\".\n",
    "- product\n",
    "- product_type\n",
    "- product_line\n",
    "- sales_staff\n",
    "- sales_branch\n",
    "- retailer_site\n",
    "- country\n",
    "- order_header\n",
    "- order_details\n",
    "- target\n",
    "- returned_item\n",
    "- return_reason"
   ]
  },
  {
   "cell_type": "code",
   "execution_count": 3,
   "metadata": {
    "ExecuteTime": {
     "end_time": "2024-02-26T12:52:38.420146800Z",
     "start_time": "2024-02-26T12:52:38.213343800Z"
    }
   },
   "outputs": [
    {
     "name": "stdout",
     "output_type": "stream",
     "text": [
      "    PRODUCT_NUMBER INTRODUCTION_DATE PRODUCT_TYPE_CODE PRODUCTION_COST MARGIN  \\\n",
      "0                1         15-2-2011                 1               4    .33   \n",
      "1               10         15-2-2011                 1              10     .4   \n",
      "2              100         15-2-2011                17               3     .5   \n",
      "3              101        15-12-2019                18          305.54    .43   \n",
      "4              102        10-12-2019                18          380.95    .51   \n",
      "..             ...               ...               ...             ...    ...   \n",
      "110             95         15-2-2011                16               3     .5   \n",
      "111             96         15-2-2011                17           16.43    .28   \n",
      "112             97          5-3-2013                17              25    .28   \n",
      "113             98         15-2-2011                17               3     .5   \n",
      "114             99         15-2-2011                17               2     .6   \n",
      "\n",
      "       PRODUCT_IMAGE LANGUAGE              PRODUCT_NAME  \\\n",
      "0      P01CE1CG1.jpg       EN       TrailChef Water Bag   \n",
      "1      P10CE1CG1.jpg       EN        TrailChef Utensils   \n",
      "2    P100OP4FA17.jpg       EN        Insect Bite Relief   \n",
      "3    P101GE5IR18.jpg       EN     Hailstorm Steel Irons   \n",
      "4    P102GE5IR18.jpg       EN  Hailstorm Titanium Irons   \n",
      "..               ...      ...                       ...   \n",
      "110   P91OP4SS16.jpg       EN                Sun Shield   \n",
      "111   P96OP4FA17.jpg       EN        Compact Relief Kit   \n",
      "112   P96OP4FA17.jpg       EN  Deluxe Family Relief Kit   \n",
      "113   P98OP4FA17.jpg       EN           Calamine Relief   \n",
      "114   P99OP4FA17.jpg       EN               Aloe Relief   \n",
      "\n",
      "                                           DESCRIPTION TRIAL888  \n",
      "0    Lightweight, collapsible bag to carry liquids ...        T  \n",
      "1    Spoon, fork and knife set made of a light yet ...        T  \n",
      "2    The Insect Bite Relief helps the itching and s...        T  \n",
      "3    Iron is 17-4 stainless steel.  Shafts are grap...        T  \n",
      "4    Made entirely of pure titanium. The ultimate i...        T  \n",
      "..                                                 ...      ...  \n",
      "110  PABA free sunscreen, SPF 30, poison oak and iv...        T  \n",
      "111  A personal first aid kit is recommended for ev...        T  \n",
      "112  A complete medical kit suitable for families w...        T  \n",
      "113  Use the Calamine Relief for allergic skin reac...        T  \n",
      "114  Perfect for minor burns and sunburn, the aloe ...        T  \n",
      "\n",
      "[115 rows x 10 columns]\n",
      "   PRODUCT_TYPE_CODE PRODUCT_LINE_CODE       PRODUCT_TYPE_EN TRIAL888\n",
      "0                  1                 1          Cooking Gear        T\n",
      "1                 10                 3               Watches        T\n",
      "2                 11                 3               Eyewear        T\n",
      "3                 12                 3                Knives        T\n",
      "4                 13                 3            Binoculars        T\n",
      "5                 14                 3            Navigation        T\n",
      "6                 15                 4     Insect Repellents        T\n",
      "7                 16                 4             Sunscreen        T\n",
      "8                 17                 4             First Aid        T\n",
      "9                 18                 5                 Irons        T\n",
      "10                19                 5                 Woods        T\n",
      "11                 2                 1                 Tents        T\n",
      "12                20                 5               Putters        T\n",
      "13                21                 5      Golf Accessories        T\n",
      "14                 3                 1         Sleeping Bags        T\n",
      "15                 4                 1                 Packs        T\n",
      "16                 5                 1              Lanterns        T\n",
      "17                 6                 2                  Rope        T\n",
      "18                 7                 2                Safety        T\n",
      "19                 8                 2  Climbing Accessories        T\n",
      "20                 9                 2                 Tools        T\n"
     ]
    }
   ],
   "source": [
    "tables_to_read = ['product', 'product_type', 'product_line', 'sales_staff', 'sales_branch', \n",
    "                  'retailer_site', 'country', 'order_header', 'order_details',\n",
    "                  'returned_item', 'return_reason']\n",
    "\n",
    "dataframes = {}\n",
    "\n",
    "for table in tables_to_read:\n",
    "    query = f\"SELECT * FROM {table}\"\n",
    "    dataframes[table] = pd.read_sql_query(query, sales_connection)\n",
    "\n",
    "product_df = dataframes['product']\n",
    "product_type_df = dataframes['product_type']\n",
    "product_line_df = dataframes['product_line']\n",
    "sales_staff_df = dataframes['sales_staff']\n",
    "sales_branch_df = dataframes['sales_branch']\n",
    "retailer_site_df = dataframes['retailer_site']\n",
    "country_df = dataframes['country']\n",
    "order_header_df = dataframes['order_header']\n",
    "order_details_df = dataframes['order_details']\n",
    "returned_item_df = dataframes['returned_item']\n",
    "return_reason_df = dataframes['return_reason']\n",
    "\n",
    "print(product_df)\n",
    "print(product_type_df)"
   ]
  },
  {
   "cell_type": "markdown",
   "metadata": {},
   "source": [
    "Let op! Voor alle onderstaande opdrachten mag je <u>alleen Python</u> gebruiken, <u>geen SQL!</u>"
   ]
  },
  {
   "cell_type": "markdown",
   "metadata": {},
   "source": [
    "## Selecties op één tabel zonder functies"
   ]
  },
  {
   "cell_type": "markdown",
   "metadata": {},
   "source": [
    "Geef een overzicht met daarin de producten en hun productiekosten waarvan de productiekosten lager dan 100 dollar en hoger dan 50 dollar ligt. (2 kolommen, 23 rijen)"
   ]
  },
  {
   "cell_type": "code",
   "execution_count": 4,
   "metadata": {
    "ExecuteTime": {
     "end_time": "2024-02-26T12:52:41.619729800Z",
     "start_time": "2024-02-26T12:52:41.607181200Z"
    }
   },
   "outputs": [],
   "source": [
    "product_df['PRODUCTION_COST'] = pd.to_numeric(product_df['PRODUCTION_COST'], errors='coerce')\n",
    "producten_filtered = product_df.loc[(product_df['PRODUCTION_COST'] > 50) & (product_df['PRODUCTION_COST'] < 100), ['PRODUCT_NAME', 'PRODUCTION_COST']]"
   ]
  },
  {
   "cell_type": "markdown",
   "metadata": {},
   "source": [
    "Geef een overzicht met daarin de producten en hun marge waarvan de marge lager dan 20 % of hoger dan 60 % ligt. (2 kolommen, 7 rijen) "
   ]
  },
  {
   "cell_type": "code",
   "execution_count": 5,
   "metadata": {
    "ExecuteTime": {
     "end_time": "2024-02-26T12:52:44.527061100Z",
     "start_time": "2024-02-26T12:52:44.511125200Z"
    }
   },
   "outputs": [],
   "source": [
    "product_df['MARGIN'] = pd.to_numeric(product_df['MARGIN'], errors='coerce')\n",
    "result = product_df[['PRODUCT_NAME', 'MARGIN']][(product_df['MARGIN'] < 0.20) | (product_df['MARGIN'] > 0.60)]"
   ]
  },
  {
   "cell_type": "markdown",
   "metadata": {},
   "source": [
    "Geef een overzicht met daarin de landen waar met francs wordt betaald. Sorteer de uitkomst op land.  (1 kolom, 3 rijen)"
   ]
  },
  {
   "cell_type": "code",
   "execution_count": 6,
   "metadata": {
    "ExecuteTime": {
     "end_time": "2024-02-26T12:52:46.794427800Z",
     "start_time": "2024-02-26T12:52:46.779362600Z"
    }
   },
   "outputs": [],
   "source": [
    "countries_francs = country_df[['COUNTRY', 'CURRENCY_NAME']][country_df['CURRENCY_NAME'] == 'francs']\n",
    "# countries_francs"
   ]
  },
  {
   "cell_type": "markdown",
   "metadata": {},
   "source": [
    "Geef een overzicht met daarin de verschillende introductiedatums waarop producten met meer dan 50% marge worden geïntroduceerd (1 kolom, 7 rijen) "
   ]
  },
  {
   "cell_type": "code",
   "execution_count": 11,
   "metadata": {
    "ExecuteTime": {
     "end_time": "2024-02-26T12:55:47.275636500Z",
     "start_time": "2024-02-26T12:55:47.249492800Z"
    }
   },
   "outputs": [],
   "source": [
    "product_df['MARGIN'] = pd.to_numeric(product_df['MARGIN'], errors='coerce')\n",
    "products_high_margin = product_df[['INTRODUCTION_DATE', 'MARGIN']][product_df['MARGIN'] > 0.50]\n",
    "products_high_margin_unique_dates = products_high_margin.drop_duplicates(subset='INTRODUCTION_DATE')\n",
    "# products_high_margin_unique_dates"
   ]
  },
  {
   "cell_type": "markdown",
   "metadata": {},
   "source": [
    "Geef een overzicht met daarin het eerste adres en de stad van verkoopafdelingen waarvan zowel het tweede adres als de regio bekend is (2 kolommen, 28 rijen)"
   ]
  },
  {
   "cell_type": "code",
   "execution_count": 9,
   "metadata": {
    "ExecuteTime": {
     "end_time": "2024-02-26T12:55:28.274362400Z",
     "start_time": "2024-02-26T12:55:28.216337300Z"
    }
   },
   "outputs": [
    {
     "data": {
      "text/plain": "                            ADDRESS1              CITY\n10  Prol. Paseo de la Reforma No. 51  Distrito Federal\n11               202-2-3 Hyakunincho             Tokyo\n12                     543-225 Asahi        Osaka City\n13                  2315 Queen's Ave         Melbourne\n15             Avenida Paulista, 333         São Paulo\n21                    3 Albany Court        Birmingham\n27               Singelgravenplein 4         Amsterdam",
      "text/html": "<div>\n<style scoped>\n    .dataframe tbody tr th:only-of-type {\n        vertical-align: middle;\n    }\n\n    .dataframe tbody tr th {\n        vertical-align: top;\n    }\n\n    .dataframe thead th {\n        text-align: right;\n    }\n</style>\n<table border=\"1\" class=\"dataframe\">\n  <thead>\n    <tr style=\"text-align: right;\">\n      <th></th>\n      <th>ADDRESS1</th>\n      <th>CITY</th>\n    </tr>\n  </thead>\n  <tbody>\n    <tr>\n      <th>10</th>\n      <td>Prol. Paseo de la Reforma No. 51</td>\n      <td>Distrito Federal</td>\n    </tr>\n    <tr>\n      <th>11</th>\n      <td>202-2-3 Hyakunincho</td>\n      <td>Tokyo</td>\n    </tr>\n    <tr>\n      <th>12</th>\n      <td>543-225 Asahi</td>\n      <td>Osaka City</td>\n    </tr>\n    <tr>\n      <th>13</th>\n      <td>2315 Queen's Ave</td>\n      <td>Melbourne</td>\n    </tr>\n    <tr>\n      <th>15</th>\n      <td>Avenida Paulista, 333</td>\n      <td>São Paulo</td>\n    </tr>\n    <tr>\n      <th>21</th>\n      <td>3 Albany Court</td>\n      <td>Birmingham</td>\n    </tr>\n    <tr>\n      <th>27</th>\n      <td>Singelgravenplein 4</td>\n      <td>Amsterdam</td>\n    </tr>\n  </tbody>\n</table>\n</div>"
     },
     "execution_count": 9,
     "metadata": {},
     "output_type": "execute_result"
    }
   ],
   "source": [
    "verkoopafdelingen = sales_branch_df[['ADDRESS1', 'CITY']][(sales_branch_df['ADDRESS2'].notna()) & (sales_branch_df['REGION'].notna())]\n",
    "# verkoopafdelingen"
   ]
  },
  {
   "cell_type": "markdown",
   "metadata": {},
   "source": [
    "Geef een overzicht met daarin de landen waar met dollars (dollars of new dollar) wordt betaald. Sorteer de uitkomst op land. (1 kolom, 4 rijen) "
   ]
  },
  {
   "cell_type": "code",
   "execution_count": null,
   "metadata": {},
   "outputs": [],
   "source": []
  },
  {
   "cell_type": "markdown",
   "metadata": {},
   "source": [
    "Geef een overzicht met daarin beide adressen en de stad van vestigingen van klanten waarvan de postcode begint met een ‘D’ (van duitsland). Filter op vestigingen die een tweede adres hebben. (3 kolommen, 2 rijen) "
   ]
  },
  {
   "cell_type": "code",
   "execution_count": null,
   "metadata": {},
   "outputs": [],
   "source": []
  },
  {
   "cell_type": "markdown",
   "metadata": {},
   "source": [
    "## Selecties op één tabel met functies"
   ]
  },
  {
   "cell_type": "markdown",
   "metadata": {},
   "source": [
    "Geef het totaal aantal producten dat is teruggebracht (1 waarde) "
   ]
  },
  {
   "cell_type": "code",
   "execution_count": null,
   "metadata": {},
   "outputs": [],
   "source": []
  },
  {
   "cell_type": "markdown",
   "metadata": {},
   "source": [
    "Geef het aantal regio’s waarin verkoopafdelingen gevestigd zijn. (1 waarde)"
   ]
  },
  {
   "cell_type": "code",
   "execution_count": null,
   "metadata": {},
   "outputs": [],
   "source": []
  },
  {
   "cell_type": "markdown",
   "metadata": {},
   "source": [
    "Maak 3 variabelen:\n",
    "- Een met de laagste\n",
    "- Een met de hoogste\n",
    "- Een met de gemiddelde (afgerond op 2 decimalen)\n",
    "\n",
    "marge van producten (3 kolommen, 1 rij) "
   ]
  },
  {
   "cell_type": "code",
   "execution_count": null,
   "metadata": {},
   "outputs": [],
   "source": []
  },
  {
   "cell_type": "markdown",
   "metadata": {},
   "source": [
    "Geef het aantal vestigingen van klanten waarvan het 2e adres niet bekend is (1 waarde)"
   ]
  },
  {
   "cell_type": "code",
   "execution_count": null,
   "metadata": {},
   "outputs": [],
   "source": []
  },
  {
   "cell_type": "markdown",
   "metadata": {},
   "source": [
    "Geef de gemiddelde kostprijs van de verkochte producten waarop korting (unit_sale_price < unit_price) is verleend (1 waarde) "
   ]
  },
  {
   "cell_type": "code",
   "execution_count": null,
   "metadata": {},
   "outputs": [],
   "source": []
  },
  {
   "cell_type": "markdown",
   "metadata": {},
   "source": [
    "Geef een overzicht met daarin het aantal medewerkers per medewerkersfunctie (2 kolommen, 7 rijen) "
   ]
  },
  {
   "cell_type": "code",
   "execution_count": null,
   "metadata": {},
   "outputs": [],
   "source": []
  },
  {
   "cell_type": "markdown",
   "metadata": {},
   "source": [
    "Geef een overzicht met daarin per telefoonnummer het aantal medewerkers dat op dat telefoonnummer bereikbaar is. Toon alleen de telefoonnummer waarop meer dan 4 medewerkers bereikbaar zijn. (2 kolommen, 10 rijen) "
   ]
  },
  {
   "cell_type": "code",
   "execution_count": null,
   "metadata": {},
   "outputs": [],
   "source": []
  },
  {
   "cell_type": "markdown",
   "metadata": {},
   "source": [
    "## Selecties op meerdere tabellen zonder functies"
   ]
  },
  {
   "cell_type": "markdown",
   "metadata": {},
   "source": [
    "Geef een overzicht met daarin het eerste adres en de stad van vestigingen van klanten uit ‘Netherlands’ (2 kolommen, 20 rijen) "
   ]
  },
  {
   "cell_type": "code",
   "execution_count": null,
   "metadata": {},
   "outputs": [],
   "source": []
  },
  {
   "cell_type": "markdown",
   "metadata": {},
   "source": [
    "Geef een overzicht met daarin de productnamen die tot het producttype ‘Eyewear’ behoren. (1 kolom, 5 rijen) "
   ]
  },
  {
   "cell_type": "code",
   "execution_count": null,
   "metadata": {},
   "outputs": [],
   "source": []
  },
  {
   "cell_type": "markdown",
   "metadata": {},
   "source": [
    "Geef een overzicht met daarin alle unieke eerste adressen van klantvestigingen en de voornaam en achternaam van de verkopers die ‘Branch Manager’ zijn en aan deze vestigingen hebben verkocht (3 kolommen, 1 rij) "
   ]
  },
  {
   "cell_type": "code",
   "execution_count": null,
   "metadata": {},
   "outputs": [],
   "source": []
  },
  {
   "cell_type": "markdown",
   "metadata": {},
   "source": [
    "Geef een overzicht met daarin van de verkopers hun functie en indien zij iets hebben verkocht de datum waarop de verkoop heeft plaatsgevonden. Laat alleen de verschillende namen van de posities zien van de verkopers die het woord ‘Manager’ in hun positienaam hebben staan. (2 kolommen, 9 rijen) "
   ]
  },
  {
   "cell_type": "code",
   "execution_count": null,
   "metadata": {},
   "outputs": [],
   "source": []
  },
  {
   "cell_type": "markdown",
   "metadata": {},
   "source": [
    "Geef een overzicht met daarin de verschillende namen van producten en bijbehorende namen van producttypen van de producten waarvoor ooit meer dan 750 stuks tegelijk verkocht zijn. (2 kolommen, 9 rijen) "
   ]
  },
  {
   "cell_type": "code",
   "execution_count": null,
   "metadata": {},
   "outputs": [],
   "source": []
  },
  {
   "cell_type": "markdown",
   "metadata": {},
   "source": [
    "Geef een overzicht met daarin de productnamen waarvan ooit meer dan 40% korting is verleend. De formule voor korting is: (unit_price - unit_sale_price) / unit_price (1 kolom, 8 rijen) "
   ]
  },
  {
   "cell_type": "code",
   "execution_count": null,
   "metadata": {},
   "outputs": [],
   "source": []
  },
  {
   "cell_type": "markdown",
   "metadata": {},
   "source": [
    "Geef een overzicht met daarin de retourreden van producten waarvan ooit meer dan 90% van de aangeschafte hoeveelheid is teruggebracht (return_quantity/quantity). (1 kolom, 3 rijen) "
   ]
  },
  {
   "cell_type": "code",
   "execution_count": null,
   "metadata": {},
   "outputs": [],
   "source": []
  },
  {
   "cell_type": "markdown",
   "metadata": {},
   "source": [
    "## Selecties op meerdere tabellen met functies"
   ]
  },
  {
   "cell_type": "markdown",
   "metadata": {},
   "source": [
    "Geef een overzicht met daarin per producttype het aantal producten die tot dat producttype behoren. (2 kolommen, 21 rijen) "
   ]
  },
  {
   "cell_type": "code",
   "execution_count": null,
   "metadata": {},
   "outputs": [],
   "source": []
  },
  {
   "cell_type": "markdown",
   "metadata": {},
   "source": [
    "Geef een overzicht met daarin per land het aantal vestigingen van klanten die zich in dat land bevinden. (2 kolommen, 21 rijen) "
   ]
  },
  {
   "cell_type": "code",
   "execution_count": null,
   "metadata": {},
   "outputs": [],
   "source": []
  },
  {
   "cell_type": "markdown",
   "metadata": {},
   "source": [
    "Geef een overzicht met daarin van de producten behorend tot het producttype ‘Cooking Gear’ per productnaam de totaal verkochte hoeveelheid en de gemiddelde verkoopprijs. Sorteer de uitkomst op totaal verkochte hoeveelheid. (4 kolommen, 10 rijen) "
   ]
  },
  {
   "cell_type": "code",
   "execution_count": null,
   "metadata": {},
   "outputs": [],
   "source": []
  },
  {
   "cell_type": "markdown",
   "metadata": {},
   "source": [
    "Geef een overzicht met daarin van de verkopers behorend tot de verkoopafdeling uit ‘Amsterdam’ de voornaam en achternaam van de verkoper en zijn laagste en hoogste verkooptarget van 2006. (4 kolommen, 4 rijen) "
   ]
  },
  {
   "cell_type": "code",
   "execution_count": null,
   "metadata": {},
   "outputs": [],
   "source": []
  },
  {
   "cell_type": "markdown",
   "metadata": {},
   "source": [
    "Geef een overzicht met daarin per land de naam van het land, de naam van de stad waar de verkoopafdeling is gevestigd (noem de kolomnaam in het overzicht ‘verkoper’) en het aantal steden waar zich klanten bevinden in dat land (noem de kolomnaam in het overzicht ‘klanten’) (3 kolommen, 29 rijen) "
   ]
  },
  {
   "cell_type": "code",
   "execution_count": null,
   "metadata": {},
   "outputs": [],
   "source": []
  },
  {
   "cell_type": "markdown",
   "metadata": {},
   "source": [
    "## Pythonvertalingen van SUBSELECT en UNION met o.a. for-loops"
   ]
  },
  {
   "cell_type": "markdown",
   "metadata": {},
   "source": [
    "Geef een overzicht met daarin de voornaam en de achternaam van de medewerkers die nog nooit wat hebben verkocht (2 kolommen, 25 rijen) "
   ]
  },
  {
   "cell_type": "code",
   "execution_count": null,
   "metadata": {},
   "outputs": [],
   "source": []
  },
  {
   "cell_type": "markdown",
   "metadata": {},
   "source": [
    "Geef een overzicht met daarin het aantal producten waarvan de marge lager is dan de gemiddelde marge van alle producten samen. Geef in het overzicht tevens aan wat de gemiddelde marge is van dit aantal producten waarvan de marge lager dan de gemiddelde marge van alle producten samen is. (1 kolom, 2 rijen) "
   ]
  },
  {
   "cell_type": "code",
   "execution_count": null,
   "metadata": {},
   "outputs": [],
   "source": []
  },
  {
   "cell_type": "markdown",
   "metadata": {},
   "source": [
    "Geef een overzicht met daarin de namen van de producten die voor meer dan 500 (verkoopprijs) zijn verkocht maar nooit zijn teruggebracht. (1 kolom, 13 rijen) "
   ]
  },
  {
   "cell_type": "code",
   "execution_count": null,
   "metadata": {},
   "outputs": [],
   "source": []
  },
  {
   "cell_type": "markdown",
   "metadata": {},
   "source": [
    "Geef een overzicht met daarin per (achternaam van) medewerker of hij/zij manager is of niet, door deze informatie toe te voegen als extra 'Ja/Nee'-kolom.<br>\n",
    "Hint: gebruik een for-loop waarin je o.a. bepaalt of het woord 'Manager' in de functie (position_en) staat. (2 kolommen, 102 rijen)."
   ]
  },
  {
   "cell_type": "code",
   "execution_count": null,
   "metadata": {},
   "outputs": [],
   "source": []
  },
  {
   "cell_type": "markdown",
   "metadata": {},
   "source": [
    "Met de onderstaande code laat je Python het huidige jaar uitrekenen."
   ]
  },
  {
   "cell_type": "code",
   "execution_count": 1,
   "metadata": {},
   "outputs": [
    {
     "data": {
      "text/plain": [
       "2024"
      ]
     },
     "execution_count": 1,
     "metadata": {},
     "output_type": "execute_result"
    }
   ],
   "source": [
    "from datetime import date\n",
    "date.today().year"
   ]
  },
  {
   "cell_type": "markdown",
   "metadata": {},
   "source": [
    "Met de onderstaande code selecteer je op een bepaald jaartal uit een datum."
   ]
  },
  {
   "cell_type": "code",
   "execution_count": 2,
   "metadata": {},
   "outputs": [
    {
     "data": {
      "text/plain": [
       "2013"
      ]
     },
     "execution_count": 2,
     "metadata": {},
     "output_type": "execute_result"
    }
   ],
   "source": [
    "from datetime import datetime\n",
    "\n",
    "date_str = '16-8-2013'\n",
    "date_format = '%d-%m-%Y'\n",
    "date_obj = datetime.strptime(date_str, date_format)\n",
    "\n",
    "date_obj.year"
   ]
  },
  {
   "cell_type": "markdown",
   "metadata": {},
   "source": [
    "Geef met behulp van bovenstaande hulpcode een overzicht met daarin op basis van het aantal jaar dat iemand in dienst is of een medewerker ‘kort in dienst’ (minder dan 25 jaar in dienst) of een ‘lang in dienst’ (groter gelijk dan 12 jaar in dienst) is. Geef daarbij per medewerker in een aparte kolom zowel ‘kort in dienst’ als ‘lang in dienst’ aan. Gebruik (wederom) een for-loop.<br>\n",
    "(2 kolommen, 102 rijen) "
   ]
  },
  {
   "cell_type": "code",
   "execution_count": null,
   "metadata": {},
   "outputs": [],
   "source": []
  }
 ],
 "metadata": {
  "kernelspec": {
   "display_name": "python-in-deds-P4iSP_yI-py3.11",
   "language": "python",
   "name": "python3"
  },
  "language_info": {
   "codemirror_mode": {
    "name": "ipython",
    "version": 3
   },
   "file_extension": ".py",
   "mimetype": "text/x-python",
   "name": "python",
   "nbconvert_exporter": "python",
   "pygments_lexer": "ipython3",
   "version": "3.12.2"
  }
 },
 "nbformat": 4,
 "nbformat_minor": 2
}
