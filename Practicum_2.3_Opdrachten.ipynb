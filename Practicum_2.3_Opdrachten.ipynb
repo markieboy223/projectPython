{
 "cells": [
  {
   "cell_type": "markdown",
   "metadata": {},
   "source": [
    "# Practicumopdrachten Week 2.3 (eerste kans)"
   ]
  },
  {
   "cell_type": "markdown",
   "metadata": {},
   "source": [
    "## Dependencies importeren"
   ]
  },
  {
   "cell_type": "markdown",
   "metadata": {},
   "source": [
    "Kopieer in het codeblok hieronder van het vorige practicum de import-code voor de dependencies die het vaakst worden gebruikt om data in te lezen. Geef er ook de gebruikelijke aliassen aan.<br>\n",
    "Zet eventuele warnings uit."
   ]
  },
  {
   "cell_type": "code",
   "execution_count": 19,
   "metadata": {
    "ExecuteTime": {
     "end_time": "2024-02-28T18:54:23.394322Z",
     "start_time": "2024-02-28T18:54:23.389322Z"
    }
   },
   "outputs": [],
   "source": [
    "import pandas as pd\n",
    "import sqlite3\n",
    "import warnings\n",
    "warnings.simplefilter('ignore')"
   ]
  },
  {
   "cell_type": "markdown",
   "metadata": {},
   "source": [
    "Zet het bestand go_sales.sqlite in hetzelfde mapje als dit notebook."
   ]
  },
  {
   "cell_type": "markdown",
   "metadata": {},
   "source": [
    "## Databasetabellen inlezen"
   ]
  },
  {
   "cell_type": "markdown",
   "metadata": {},
   "source": [
    "Kopieer in het codeblok hieronder van het vorige practicum de code om een connectie met het bestand go_sales.sqlite te maken."
   ]
  },
  {
   "cell_type": "code",
   "execution_count": 20,
   "metadata": {
    "ExecuteTime": {
     "end_time": "2024-02-28T18:54:23.768186Z",
     "start_time": "2024-02-28T18:54:23.759327Z"
    }
   },
   "outputs": [],
   "source": [
    "sales_connection = sqlite3.connect('go_sales.sqlite')"
   ]
  },
  {
   "cell_type": "markdown",
   "metadata": {},
   "source": [
    "Lees van de ingelezen go_sales-database te volgende tabellen in met behulp van \"SELECT * FROM *tabel*\".\n",
    "- product\n",
    "- product_type\n",
    "- product_line\n",
    "- sales_staff\n",
    "- sales_branch\n",
    "- retailer_site\n",
    "- country\n",
    "- order_header\n",
    "- order_details\n",
    "- target\n",
    "- returned_item\n",
    "- return_reason"
   ]
  },
  {
   "cell_type": "code",
   "execution_count": 21,
   "metadata": {
    "ExecuteTime": {
     "end_time": "2024-02-28T18:54:24.064188Z",
     "start_time": "2024-02-28T18:54:23.782188Z"
    }
   },
   "outputs": [
    {
     "name": "stdout",
     "output_type": "stream",
     "text": [
      "    PRODUCT_NUMBER INTRODUCTION_DATE PRODUCT_TYPE_CODE PRODUCTION_COST MARGIN  \\\n",
      "0                1         15-2-2011                 1               4    .33   \n",
      "1               10         15-2-2011                 1              10     .4   \n",
      "2              100         15-2-2011                17               3     .5   \n",
      "3              101        15-12-2019                18          305.54    .43   \n",
      "4              102        10-12-2019                18          380.95    .51   \n",
      "..             ...               ...               ...             ...    ...   \n",
      "110             95         15-2-2011                16               3     .5   \n",
      "111             96         15-2-2011                17           16.43    .28   \n",
      "112             97          5-3-2013                17              25    .28   \n",
      "113             98         15-2-2011                17               3     .5   \n",
      "114             99         15-2-2011                17               2     .6   \n",
      "\n",
      "       PRODUCT_IMAGE LANGUAGE              PRODUCT_NAME  \\\n",
      "0      P01CE1CG1.jpg       EN       TrailChef Water Bag   \n",
      "1      P10CE1CG1.jpg       EN        TrailChef Utensils   \n",
      "2    P100OP4FA17.jpg       EN        Insect Bite Relief   \n",
      "3    P101GE5IR18.jpg       EN     Hailstorm Steel Irons   \n",
      "4    P102GE5IR18.jpg       EN  Hailstorm Titanium Irons   \n",
      "..               ...      ...                       ...   \n",
      "110   P91OP4SS16.jpg       EN                Sun Shield   \n",
      "111   P96OP4FA17.jpg       EN        Compact Relief Kit   \n",
      "112   P96OP4FA17.jpg       EN  Deluxe Family Relief Kit   \n",
      "113   P98OP4FA17.jpg       EN           Calamine Relief   \n",
      "114   P99OP4FA17.jpg       EN               Aloe Relief   \n",
      "\n",
      "                                           DESCRIPTION TRIAL888  \n",
      "0    Lightweight, collapsible bag to carry liquids ...        T  \n",
      "1    Spoon, fork and knife set made of a light yet ...        T  \n",
      "2    The Insect Bite Relief helps the itching and s...        T  \n",
      "3    Iron is 17-4 stainless steel.  Shafts are grap...        T  \n",
      "4    Made entirely of pure titanium. The ultimate i...        T  \n",
      "..                                                 ...      ...  \n",
      "110  PABA free sunscreen, SPF 30, poison oak and iv...        T  \n",
      "111  A personal first aid kit is recommended for ev...        T  \n",
      "112  A complete medical kit suitable for families w...        T  \n",
      "113  Use the Calamine Relief for allergic skin reac...        T  \n",
      "114  Perfect for minor burns and sunburn, the aloe ...        T  \n",
      "\n",
      "[115 rows x 10 columns]\n",
      "   PRODUCT_TYPE_CODE PRODUCT_LINE_CODE       PRODUCT_TYPE_EN TRIAL888\n",
      "0                  1                 1          Cooking Gear        T\n",
      "1                 10                 3               Watches        T\n",
      "2                 11                 3               Eyewear        T\n",
      "3                 12                 3                Knives        T\n",
      "4                 13                 3            Binoculars        T\n",
      "5                 14                 3            Navigation        T\n",
      "6                 15                 4     Insect Repellents        T\n",
      "7                 16                 4             Sunscreen        T\n",
      "8                 17                 4             First Aid        T\n",
      "9                 18                 5                 Irons        T\n",
      "10                19                 5                 Woods        T\n",
      "11                 2                 1                 Tents        T\n",
      "12                20                 5               Putters        T\n",
      "13                21                 5      Golf Accessories        T\n",
      "14                 3                 1         Sleeping Bags        T\n",
      "15                 4                 1                 Packs        T\n",
      "16                 5                 1              Lanterns        T\n",
      "17                 6                 2                  Rope        T\n",
      "18                 7                 2                Safety        T\n",
      "19                 8                 2  Climbing Accessories        T\n",
      "20                 9                 2                 Tools        T\n"
     ]
    }
   ],
   "source": [
    "tables_to_read = ['product', 'product_type', 'product_line', 'sales_staff', 'sales_branch', \n",
    "                  'retailer_site', 'country', 'order_header', 'order_details',\n",
    "                  'returned_item', 'return_reason']\n",
    "\n",
    "dataframes = {}\n",
    "\n",
    "for table in tables_to_read:\n",
    "    query = f\"SELECT * FROM {table}\"\n",
    "    dataframes[table] = pd.read_sql_query(query, sales_connection)\n",
    "\n",
    "product_df = dataframes['product']\n",
    "product_type_df = dataframes['product_type']\n",
    "product_line_df = dataframes['product_line']\n",
    "sales_staff_df = dataframes['sales_staff']\n",
    "sales_branch_df = dataframes['sales_branch']\n",
    "retailer_site_df = dataframes['retailer_site']\n",
    "country_df = dataframes['country']\n",
    "order_header_df = dataframes['order_header']\n",
    "order_details_df = dataframes['order_details']\n",
    "returned_item_df = dataframes['returned_item']\n",
    "return_reason_df = dataframes['return_reason']\n",
    "\n",
    "print(product_df)\n",
    "print(product_type_df)"
   ]
  },
  {
   "cell_type": "markdown",
   "metadata": {},
   "source": [
    "Let op! Voor alle onderstaande opdrachten mag je <u>alleen Python</u> gebruiken, <u>geen SQL!</u>"
   ]
  },
  {
   "cell_type": "markdown",
   "metadata": {},
   "source": [
    "## Selecties op één tabel zonder functies"
   ]
  },
  {
   "cell_type": "markdown",
   "metadata": {},
   "source": [
    "Geef een overzicht met daarin de producten en hun productiekosten waarvan de productiekosten lager dan 100 dollar en hoger dan 50 dollar ligt. (2 kolommen, 23 rijen)"
   ]
  },
  {
   "cell_type": "code",
   "execution_count": 22,
   "metadata": {
    "ExecuteTime": {
     "end_time": "2024-02-28T18:54:24.080832Z",
     "start_time": "2024-02-28T18:54:24.067189Z"
    }
   },
   "outputs": [],
   "source": [
    "product_df['PRODUCTION_COST'] = pd.to_numeric(product_df['PRODUCTION_COST'], errors='coerce')\n",
    "producten_filtered = product_df.loc[(product_df['PRODUCTION_COST'] > 50) & (product_df['PRODUCTION_COST'] < 100), ['PRODUCT_NAME', 'PRODUCTION_COST']]"
   ]
  },
  {
   "cell_type": "markdown",
   "metadata": {},
   "source": [
    "Geef een overzicht met daarin de producten en hun marge waarvan de marge lager dan 20 % of hoger dan 60 % ligt. (2 kolommen, 7 rijen) "
   ]
  },
  {
   "cell_type": "code",
   "execution_count": 23,
   "metadata": {
    "ExecuteTime": {
     "end_time": "2024-02-28T18:54:24.100331Z",
     "start_time": "2024-02-28T18:54:24.083834Z"
    }
   },
   "outputs": [],
   "source": [
    "product_df['MARGIN'] = pd.to_numeric(product_df['MARGIN'], errors='coerce')\n",
    "result = product_df[['PRODUCT_NAME', 'MARGIN']][(product_df['MARGIN'] < 0.20) | (product_df['MARGIN'] > 0.60)]"
   ]
  },
  {
   "cell_type": "markdown",
   "metadata": {},
   "source": [
    "Geef een overzicht met daarin de landen waar met francs wordt betaald. Sorteer de uitkomst op land.  (1 kolom, 3 rijen)"
   ]
  },
  {
   "cell_type": "code",
   "execution_count": 24,
   "metadata": {
    "ExecuteTime": {
     "end_time": "2024-02-28T18:54:24.107717Z",
     "start_time": "2024-02-28T18:54:24.102332Z"
    }
   },
   "outputs": [],
   "source": [
    "countries_francs = country_df[['COUNTRY', 'CURRENCY_NAME']][country_df['CURRENCY_NAME'] == 'francs']\n",
    "# countries_francs"
   ]
  },
  {
   "cell_type": "markdown",
   "metadata": {},
   "source": [
    "Geef een overzicht met daarin de verschillende introductiedatums waarop producten met meer dan 50% marge worden geïntroduceerd (1 kolom, 7 rijen) "
   ]
  },
  {
   "cell_type": "code",
   "execution_count": 25,
   "metadata": {
    "ExecuteTime": {
     "end_time": "2024-02-28T18:54:24.118206Z",
     "start_time": "2024-02-28T18:54:24.108713Z"
    }
   },
   "outputs": [],
   "source": [
    "product_df['MARGIN'] = pd.to_numeric(product_df['MARGIN'], errors='coerce')\n",
    "products_high_margin = product_df[['INTRODUCTION_DATE', 'MARGIN']][product_df['MARGIN'] > 0.50]\n",
    "products_high_margin_unique_dates = products_high_margin.drop_duplicates(subset='INTRODUCTION_DATE')\n",
    "# products_high_margin_unique_dates"
   ]
  },
  {
   "cell_type": "markdown",
   "metadata": {},
   "source": [
    "Geef een overzicht met daarin het eerste adres en de stad van verkoopafdelingen waarvan zowel het tweede adres als de regio bekend is (2 kolommen, 28 rijen)"
   ]
  },
  {
   "cell_type": "code",
   "execution_count": 26,
   "metadata": {
    "ExecuteTime": {
     "end_time": "2024-02-28T18:54:24.128136Z",
     "start_time": "2024-02-28T18:54:24.119209Z"
    }
   },
   "outputs": [],
   "source": [
    "verkoopafdelingen = sales_branch_df[['ADDRESS1', 'CITY']][(sales_branch_df['ADDRESS2'].notna()) & (sales_branch_df['REGION'].notna())]\n",
    "# verkoopafdelingen"
   ]
  },
  {
   "cell_type": "markdown",
   "metadata": {},
   "source": [
    "Geef een overzicht met daarin de landen waar met dollars (dollars of new dollar) wordt betaald. Sorteer de uitkomst op land. (1 kolom, 4 rijen) "
   ]
  },
  {
   "cell_type": "code",
   "execution_count": 27,
   "metadata": {
    "ExecuteTime": {
     "end_time": "2024-02-28T18:54:24.134850Z",
     "start_time": "2024-02-28T18:54:24.129134Z"
    }
   },
   "outputs": [],
   "source": [
    "dollarNewDollar = country_df[['COUNTRY']][(country_df['CURRENCY_NAME'] == 'dollars') | (country_df['CURRENCY_NAME'] == 'new dollar')]\n",
    "# dollarNewDollar"
   ]
  },
  {
   "cell_type": "markdown",
   "metadata": {},
   "source": [
    "Geef een overzicht met daarin beide adressen en de stad van vestigingen van klanten waarvan de postcode begint met een ‘D’ (van duitsland). Filter op vestigingen die een tweede adres hebben. (3 kolommen, 2 rijen) "
   ]
  },
  {
   "cell_type": "code",
   "execution_count": 28,
   "metadata": {
    "ExecuteTime": {
     "end_time": "2024-02-28T18:54:24.145372Z",
     "start_time": "2024-02-28T18:54:24.136844Z"
    }
   },
   "outputs": [],
   "source": [
    "clients = retailer_site_df[['ADDRESS1', 'ADDRESS2', 'CITY']][(retailer_site_df['POSTAL_ZONE'].str.startswith('D')) & (retailer_site_df['ADDRESS2'].notnull())]\n",
    "# clients"
   ]
  },
  {
   "cell_type": "markdown",
   "metadata": {},
   "source": [
    "## Selecties op één tabel met functies"
   ]
  },
  {
   "cell_type": "markdown",
   "metadata": {},
   "source": [
    "Geef het totaal aantal producten dat is teruggebracht (1 waarde) "
   ]
  },
  {
   "cell_type": "code",
   "execution_count": 29,
   "metadata": {
    "ExecuteTime": {
     "end_time": "2024-02-28T18:54:24.154374Z",
     "start_time": "2024-02-28T18:54:24.147369Z"
    }
   },
   "outputs": [],
   "source": [
    "returned_item_df['RETURN_QUANTITY'] = pd.to_numeric(returned_item_df['RETURN_QUANTITY'])\n",
    "total_returned_items = [returned_item_df['RETURN_QUANTITY'].sum()]\n",
    "# total_returned_items"
   ]
  },
  {
   "cell_type": "markdown",
   "metadata": {},
   "source": [
    "Geef het aantal regio’s waarin verkoopafdelingen gevestigd zijn. (1 waarde)"
   ]
  },
  {
   "cell_type": "code",
   "execution_count": 30,
   "metadata": {
    "ExecuteTime": {
     "end_time": "2024-02-28T18:54:24.164894Z",
     "start_time": "2024-02-28T18:54:24.157369Z"
    }
   },
   "outputs": [],
   "source": [
    "region_amount = sales_branch_df['REGION'].count()\n",
    "# region_amount"
   ]
  },
  {
   "cell_type": "markdown",
   "metadata": {},
   "source": [
    "Maak 3 variabelen:\n",
    "- Een met de laagste\n",
    "- Een met de hoogste\n",
    "- Een met de gemiddelde (afgerond op 2 decimalen)\n",
    "\n",
    "marge van producten (3 kolommen, 1 rij) "
   ]
  },
  {
   "cell_type": "code",
   "execution_count": 31,
   "metadata": {
    "ExecuteTime": {
     "end_time": "2024-02-28T18:54:24.172199Z",
     "start_time": "2024-02-28T18:54:24.166878Z"
    }
   },
   "outputs": [],
   "source": [
    "laagste = product_df['MARGIN'].min()\n",
    "hoogste = product_df['MARGIN'].max()\n",
    "gemiddelde = product_df['MARGIN'].mean()\n",
    "resultaten = pd.DataFrame({\n",
    "    'Laagste': [laagste],\n",
    "    'Hoogste': [hoogste],\n",
    "    'gemiddelde': [gemiddelde]\n",
    "})\n",
    "# resultaten"
   ]
  },
  {
   "cell_type": "markdown",
   "metadata": {},
   "source": [
    "Geef het aantal vestigingen van klanten waarvan het 2e adres niet bekend is (1 waarde)"
   ]
  },
  {
   "cell_type": "code",
   "execution_count": 32,
   "metadata": {
    "ExecuteTime": {
     "end_time": "2024-02-28T18:54:24.190217Z",
     "start_time": "2024-02-28T18:54:24.173193Z"
    }
   },
   "outputs": [],
   "source": [
    "nonAvailableAdress = retailer_site_df['ADDRESS2'].isnull().sum()\n",
    "# nonAvailableAdress"
   ]
  },
  {
   "cell_type": "markdown",
   "metadata": {},
   "source": [
    "Geef de gemiddelde kostprijs van de verkochte producten waarop korting (unit_sale_price < unit_price) is verleend (1 waarde) "
   ]
  },
  {
   "cell_type": "code",
   "execution_count": 33,
   "metadata": {
    "ExecuteTime": {
     "end_time": "2024-02-28T18:54:24.227213Z",
     "start_time": "2024-02-28T18:54:24.191227Z"
    }
   },
   "outputs": [],
   "source": [
    "order_details_df['UNIT_COST'] = pd.to_numeric(order_details_df['UNIT_COST'])\n",
    "averageCostPriceDiscount = order_details_df[['UNIT_COST']][(order_details_df['UNIT_SALE_PRICE'] < order_details_df['UNIT_PRICE'])].mean()\n",
    "# averageCostPriceDiscount"
   ]
  },
  {
   "cell_type": "markdown",
   "metadata": {},
   "source": [
    "Geef een overzicht met daarin het aantal medewerkers per medewerkersfunctie (2 kolommen, 7 rijen) "
   ]
  },
  {
   "cell_type": "code",
   "execution_count": 34,
   "metadata": {
    "ExecuteTime": {
     "end_time": "2024-02-28T18:54:24.235986Z",
     "start_time": "2024-02-28T18:54:24.229209Z"
    }
   },
   "outputs": [],
   "source": [
    "medewerkersPerFunctie = sales_staff_df.groupby('POSITION_EN')['SALES_STAFF_CODE'].count()\n",
    "# medewerkersPerFunctie"
   ]
  },
  {
   "cell_type": "markdown",
   "metadata": {},
   "source": [
    "Geef een overzicht met daarin per telefoonnummer het aantal medewerkers dat op dat telefoonnummer bereikbaar is. Toon alleen de telefoonnummer waarop meer dan 4 medewerkers bereikbaar zijn. (2 kolommen, 10 rijen) "
   ]
  },
  {
   "cell_type": "code",
   "execution_count": 35,
   "metadata": {
    "ExecuteTime": {
     "end_time": "2024-02-28T18:54:24.367857Z",
     "start_time": "2024-02-28T18:54:24.361986Z"
    }
   },
   "outputs": [],
   "source": [
    "medewerkers_per_telefoonnummer = sales_staff_df.groupby('WORK_PHONE')['SALES_STAFF_CODE'].count().reset_index()\n",
    "telefoonnummers_meer_dan_4_medewerkers = medewerkers_per_telefoonnummer[medewerkers_per_telefoonnummer['SALES_STAFF_CODE'] > 4]\n",
    "# telefoonnummers_meer_dan_4_medewerkers"
   ]
  },
  {
   "cell_type": "markdown",
   "metadata": {},
   "source": [
    "## Selecties op meerdere tabellen zonder functies"
   ]
  },
  {
   "cell_type": "markdown",
   "metadata": {},
   "source": [
    "Geef een overzicht met daarin het eerste adres en de stad van vestigingen van klanten uit ‘Netherlands’ (2 kolommen, 20 rijen) "
   ]
  },
  {
   "cell_type": "code",
   "execution_count": 36,
   "metadata": {
    "ExecuteTime": {
     "end_time": "2024-02-28T18:54:24.413411Z",
     "start_time": "2024-02-28T18:54:24.407857Z"
    }
   },
   "outputs": [],
   "source": [
    "klantenUitNederland = retailer_site_df[['ADDRESS1', 'CITY']][retailer_site_df['COUNTRY_CODE'] == '7']\n",
    "# klantenUitNederland"
   ]
  },
  {
   "cell_type": "markdown",
   "metadata": {},
   "source": [
    "Geef een overzicht met daarin de productnamen die tot het producttype ‘Eyewear’ behoren. (1 kolom, 5 rijen) "
   ]
  },
  {
   "cell_type": "code",
   "execution_count": 37,
   "metadata": {
    "ExecuteTime": {
     "end_time": "2024-02-28T18:54:24.497692Z",
     "start_time": "2024-02-28T18:54:24.492377Z"
    }
   },
   "outputs": [],
   "source": [
    "eyewareProducts = product_df['PRODUCT_NAME'][product_df['PRODUCT_TYPE_CODE'] == '11'] \n",
    "# eyewareProducts"
   ]
  },
  {
   "cell_type": "markdown",
   "metadata": {},
   "source": [
    "Geef een overzicht met daarin alle unieke eerste adressen van klantvestigingen en de voornaam en achternaam van de verkopers die ‘Branch Manager’ zijn en aan deze vestigingen hebben verkocht (3 kolommen, 1 rij) "
   ]
  },
  {
   "cell_type": "code",
   "execution_count": 38,
   "metadata": {
    "ExecuteTime": {
     "end_time": "2024-02-28T18:54:24.533233Z",
     "start_time": "2024-02-28T18:54:24.523690Z"
    }
   },
   "outputs": [],
   "source": [
    "merged = pd.merge(sales_staff_df, sales_branch_df, on='SALES_BRANCH_CODE', how='left')\n",
    "branch_managers = merged[merged['POSITION_EN'] == 'Branch Manager']\n",
    "unique_addresses = merged['ADDRESS1'].unique()\n",
    "result_df = branch_managers[branch_managers['ADDRESS1'].isin(unique_addresses)][['ADDRESS1', 'FIRST_NAME', 'LAST_NAME']]\n",
    "# result_df"
   ]
  },
  {
   "cell_type": "markdown",
   "metadata": {},
   "source": [
    "Geef een overzicht met daarin van de verkopers hun functie en indien zij iets hebben verkocht de datum waarop de verkoop heeft plaatsgevonden. Laat alleen de verschillende namen van de posities zien van de verkopers die het woord ‘Manager’ in hun positienaam hebben staan. (2 kolommen, 9 rijen) "
   ]
  },
  {
   "cell_type": "code",
   "execution_count": 39,
   "metadata": {
    "ExecuteTime": {
     "end_time": "2024-02-28T18:54:24.613751Z",
     "start_time": "2024-02-28T18:54:24.587754Z"
    }
   },
   "outputs": [],
   "source": [
    "merged_df = pd.merge(sales_staff_df, sales_branch_df, on='SALES_BRANCH_CODE', how='left')\n",
    "merged_order_df = pd.merge(merged_df, order_header_df, on=['SALES_STAFF_CODE', 'SALES_STAFF_CODE'], how='inner')\n",
    "manager_positions = merged_order_df[merged_order_df['POSITION_EN'].str.contains('Manager')]\n",
    "result_df = manager_positions[['POSITION_EN', 'ORDER_DATE']]\n",
    "# result_df"
   ]
  },
  {
   "cell_type": "markdown",
   "metadata": {},
   "source": [
    "Geef een overzicht met daarin de verschillende namen van producten en bijbehorende namen van producttypen van de producten waarvoor ooit meer dan 750 stuks tegelijk verkocht zijn. (2 kolommen, 9 rijen) "
   ]
  },
  {
   "cell_type": "code",
   "execution_count": 40,
   "metadata": {
    "ExecuteTime": {
     "end_time": "2024-02-28T18:54:24.629164Z",
     "start_time": "2024-02-28T18:54:24.618754Z"
    }
   },
   "outputs": [],
   "source": [
    "order_details_df['QUANTITY'] = pd.to_numeric(order_details_df['QUANTITY'], errors='coerce')\n",
    "high_quantity_orders = order_details_df[order_details_df['QUANTITY'] > 750]\n",
    "merged_product_info = pd.merge(high_quantity_orders, product_df, on='PRODUCT_NUMBER', how='inner')\n",
    "result_df = merged_product_info[['PRODUCT_NAME', 'PRODUCT_TYPE_CODE']]\n",
    "result_df = result_df.drop_duplicates()\n",
    "# result_df"
   ]
  },
  {
   "cell_type": "markdown",
   "metadata": {},
   "source": [
    "Geef een overzicht met daarin de productnamen waarvan ooit meer dan 40% korting is verleend. De formule voor korting is: (unit_price - unit_sale_price) / unit_price (1 kolom, 8 rijen) "
   ]
  },
  {
   "cell_type": "code",
   "execution_count": 41,
   "metadata": {
    "ExecuteTime": {
     "end_time": "2024-02-28T18:54:24.796149Z",
     "start_time": "2024-02-28T18:54:24.674145Z"
    }
   },
   "outputs": [],
   "source": [
    "order_details_df['UNIT_PRICE'] = pd.to_numeric(order_details_df['UNIT_PRICE'], errors='coerce')\n",
    "order_details_df['UNIT_SALE_PRICE'] = pd.to_numeric(order_details_df['UNIT_SALE_PRICE'], errors='coerce')\n",
    "merged_df = pd.merge(product_df, order_details_df, on='PRODUCT_NUMBER', how='inner')\n",
    "merged_df['DISCOUNT_PERCENTAGE'] = ((merged_df['UNIT_PRICE'] - merged_df['UNIT_SALE_PRICE']) / merged_df['UNIT_PRICE']) * 100\n",
    "high_discount_products = merged_df[merged_df['DISCOUNT_PERCENTAGE'] > 40]\n",
    "result_df = high_discount_products[['PRODUCT_NAME']].drop_duplicates()\n",
    "# result_df"
   ]
  },
  {
   "cell_type": "markdown",
   "metadata": {},
   "source": [
    "Geef een overzicht met daarin de retourreden van producten waarvan ooit meer dan 90% van de aangeschafte hoeveelheid is teruggebracht (return_quantity/quantity). (1 kolom, 3 rijen) "
   ]
  },
  {
   "cell_type": "code",
   "execution_count": 42,
   "metadata": {
    "ExecuteTime": {
     "end_time": "2024-02-28T18:54:24.864236Z",
     "start_time": "2024-02-28T18:54:24.801146Z"
    }
   },
   "outputs": [],
   "source": [
    "merged_returns_reason_df = pd.merge(returned_item_df, return_reason_df, on='RETURN_REASON_CODE', how='left')\n",
    "merged_returns_df = pd.merge(order_details_df, merged_returns_reason_df, on='ORDER_DETAIL_CODE', how='inner')\n",
    "merged_returns_df['QUANTITY'] = pd.to_numeric(merged_returns_df['QUANTITY'], errors='coerce')\n",
    "merged_returns_df['RETURN_QUANTITY'] = pd.to_numeric(merged_returns_df['RETURN_QUANTITY'], errors='coerce')\n",
    "merged_returns_df['RETURN_PERCENTAGE'] = (merged_returns_df['RETURN_QUANTITY'] / merged_returns_df['QUANTITY']) * 100\n",
    "high_return_products = merged_returns_df[merged_returns_df['RETURN_PERCENTAGE'] > 90]\n",
    "result_df = high_return_products[['RETURN_DESCRIPTION_EN']].drop_duplicates()\n",
    "# result_df"
   ]
  },
  {
   "cell_type": "markdown",
   "metadata": {},
   "source": [
    "## Selecties op meerdere tabellen met functies"
   ]
  },
  {
   "cell_type": "markdown",
   "metadata": {},
   "source": [
    "Geef een overzicht met daarin per producttype het aantal producten die tot dat producttype behoren. (2 kolommen, 21 rijen) "
   ]
  },
  {
   "cell_type": "code",
   "execution_count": 43,
   "metadata": {
    "ExecuteTime": {
     "end_time": "2024-02-28T18:54:24.935757Z",
     "start_time": "2024-02-28T18:54:24.871236Z"
    }
   },
   "outputs": [],
   "source": [
    "merged_products_orders_df = pd.merge(product_df, order_details_df, on='PRODUCT_NUMBER', how='left')\n",
    "product_type_counts = merged_products_orders_df.groupby('PRODUCT_TYPE_CODE')['PRODUCT_NUMBER'].nunique().reset_index()\n",
    "product_type_counts.columns = ['PRODUCT_TYPE_CODE', 'NUMBER_OF_PRODUCTS']\n",
    "# product_type_counts"
   ]
  },
  {
   "cell_type": "markdown",
   "metadata": {},
   "source": [
    "Geef een overzicht met daarin per land het aantal vestigingen van klanten die zich in dat land bevinden. (2 kolommen, 21 rijen) "
   ]
  },
  {
   "cell_type": "code",
   "execution_count": 44,
   "metadata": {
    "ExecuteTime": {
     "end_time": "2024-02-28T18:54:24.946915Z",
     "start_time": "2024-02-28T18:54:24.937752Z"
    }
   },
   "outputs": [],
   "source": [
    "merged_retailer_sites_df = pd.merge(retailer_site_df, country_df, left_on='COUNTRY_CODE', right_on='COUNTRY_CODE', how='inner')\n",
    "retailer_sites_by_country = merged_retailer_sites_df.groupby(['COUNTRY'])['RETAILER_SITE_CODE'].nunique().reset_index()\n",
    "# retailer_sites_by_country"
   ]
  },
  {
   "cell_type": "markdown",
   "metadata": {},
   "source": [
    "Geef een overzicht met daarin van de producten behorend tot het producttype ‘Cooking Gear’ per productnaam de totaal verkochte hoeveelheid en de gemiddelde verkoopprijs. Sorteer de uitkomst op totaal verkochte hoeveelheid. (4 kolommen, 10 rijen) "
   ]
  },
  {
   "cell_type": "code",
   "execution_count": 45,
   "metadata": {
    "ExecuteTime": {
     "end_time": "2024-02-28T18:54:24.979592Z",
     "start_time": "2024-02-28T18:54:24.947911Z"
    }
   },
   "outputs": [],
   "source": [
    "cooking_gear_products = product_df[product_df['PRODUCT_TYPE_CODE'] == '1']\n",
    "merged_df = pd.merge(cooking_gear_products, order_details_df, on='PRODUCT_NUMBER', how='inner')\n",
    "merged_df = pd.merge(merged_df, product_type_df, on='PRODUCT_TYPE_CODE', how='inner')\n",
    "result_df = merged_df.groupby('PRODUCT_NAME').agg({\n",
    "    'QUANTITY': 'sum',\n",
    "    'UNIT_SALE_PRICE': 'mean',\n",
    "    'PRODUCT_TYPE_EN': 'first'\n",
    "}).reset_index()\n",
    "result_df = result_df.sort_values(by='QUANTITY', ascending=False)\n",
    "# result_df"
   ]
  },
  {
   "cell_type": "markdown",
   "metadata": {},
   "source": [
    "Geef een overzicht met daarin van de verkopers behorend tot de verkoopafdeling uit ‘Amsterdam’ de voornaam en achternaam van de verkoper en zijn laagste en hoogste verkooptarget van 2006. (4 kolommen, 4 rijen) "
   ]
  },
  {
   "cell_type": "code",
   "execution_count": 46,
   "metadata": {
    "ExecuteTime": {
     "end_time": "2024-02-28T18:54:24.989143Z",
     "start_time": "2024-02-28T18:54:24.981591Z"
    }
   },
   "outputs": [],
   "source": [
    "merged_df = pd.merge(sales_staff_df, sales_branch_df, on='SALES_BRANCH_CODE', how='left')\n",
    "sales_staff_amsterdam_df = merged_df[merged_df['CITY'] == 'Amsterdam']\n",
    "result_df = sales_staff_amsterdam_df[['FIRST_NAME', 'LAST_NAME', 'EXTENSION']]\n",
    "# result_df"
   ]
  },
  {
   "cell_type": "markdown",
   "metadata": {},
   "source": [
    "Geef een overzicht met daarin per land de naam van het land, de naam van de stad waar de verkoopafdeling is gevestigd (noem de kolomnaam in het overzicht ‘verkoper’) en het aantal steden waar zich klanten bevinden in dat land (noem de kolomnaam in het overzicht ‘klanten’) (3 kolommen, 29 rijen) "
   ]
  },
  {
   "cell_type": "code",
   "execution_count": 47,
   "metadata": {
    "ExecuteTime": {
     "end_time": "2024-02-28T18:54:25.009106Z",
     "start_time": "2024-02-28T18:54:24.991144Z"
    }
   },
   "outputs": [],
   "source": [
    "merged_sales_branch = pd.merge(sales_branch_df, country_df, on='COUNTRY_CODE', how='left')\n",
    "grouped_data = merged_sales_branch.groupby(['COUNTRY', 'CITY']).size().reset_index(name='Klanten')\n",
    "result_df = grouped_data[['COUNTRY', 'CITY', 'Klanten']]\n",
    "result_df.columns = ['Land', 'Verkoper', 'Klanten']\n",
    "# result_df"
   ]
  },
  {
   "cell_type": "markdown",
   "metadata": {},
   "source": [
    "## Pythonvertalingen van SUBSELECT en UNION met o.a. for-loops"
   ]
  },
  {
   "cell_type": "markdown",
   "metadata": {},
   "source": [
    "Geef een overzicht met daarin de voornaam en de achternaam van de medewerkers die nog nooit wat hebben verkocht (2 kolommen, 25 rijen) "
   ]
  },
  {
   "cell_type": "code",
   "execution_count": 48,
   "metadata": {
    "ExecuteTime": {
     "end_time": "2024-02-28T18:54:25.033257Z",
     "start_time": "2024-02-28T18:54:25.013102Z"
    }
   },
   "outputs": [],
   "source": [
    "# Find all sales staff codes in order_header_df\n",
    "existing_codes = order_header_df['SALES_STAFF_CODE']\n",
    "\n",
    "# Filter sales_staff_df to exclude codes in existing_codes\n",
    "staff_without_sales = sales_staff_df[~sales_staff_df['SALES_STAFF_CODE'].isin(existing_codes)]\n",
    "selected_columns = ['FIRST_NAME', 'LAST_NAME']\n",
    "filtered_staff = staff_without_sales[selected_columns]\n",
    "\n",
    "# Print the DataFrame\n",
    "#filtered_staff"
   ]
  },
  {
   "cell_type": "markdown",
   "metadata": {},
   "source": [
    "Geef een overzicht met daarin het aantal producten waarvan de marge lager is dan de gemiddelde marge van alle producten samen. Geef in het overzicht tevens aan wat de gemiddelde marge is van dit aantal producten waarvan de marge lager dan de gemiddelde marge van alle producten samen is. (1 kolom, 2 rijen) "
   ]
  },
  {
   "cell_type": "code",
   "execution_count": 49,
   "metadata": {
    "ExecuteTime": {
     "end_time": "2024-02-28T18:54:25.059954Z",
     "start_time": "2024-02-28T18:54:25.038254Z"
    }
   },
   "outputs": [
    {
     "name": "stdout",
     "output_type": "stream",
     "text": [
      "   Average Margin  Products Below Avg\n",
      "0        0.396609                  59\n"
     ]
    }
   ],
   "source": [
    "numericMargin = pd.to_numeric(product_df['MARGIN'])\n",
    "total_margin = numericMargin.sum()\n",
    "# shape wordt gebruikt om het aantal rijen en kolommen te bepalen door[0] bepaal je aantal rijen en met [1] aantal kolommen\n",
    "total_Products = product_df['PRODUCT_NUMBER'].count()\n",
    "avg_margin_product = total_margin/total_Products\n",
    "low_margin_products = product_df['MARGIN'] < avg_margin_product\n",
    "\n",
    "total_low_margin = low_margin_products.sum()\n",
    "data = {\n",
    "    \"Average Margin\": [avg_margin_product],\n",
    "    \"Products Below Avg\": [low_margin_products.sum()]\n",
    "}\n",
    "\n",
    "overview_df = pd.DataFrame(data)\n",
    "\n",
    "# Print the DataFrame\n",
    "print(overview_df)"
   ]
  },
  {
   "cell_type": "markdown",
   "metadata": {},
   "source": [
    "Geef een overzicht met daarin de namen van de producten die voor meer dan 500 (verkoopprijs) zijn verkocht maar nooit zijn teruggebracht. (1 kolom, 13 rijen) "
   ]
  },
  {
   "cell_type": "code",
   "execution_count": 50,
   "metadata": {
    "ExecuteTime": {
     "end_time": "2024-02-28T18:54:25.079887Z",
     "start_time": "2024-02-28T18:54:25.063953Z"
    }
   },
   "outputs": [
    {
     "data": {
      "text/plain": "4              Hailstorm Titanium Irons\n6         Lady Hailstorm Titanium Irons\n7          Hailstorm Titanium Woods Set\n8             Hailstorm Steel Woods Set\n9     Lady Hailstorm Titanium Woods Set\n10       Lady Hailstorm Steel Woods Set\n19                            Star Dome\n21                         Star Gazer 3\n22                         Star Gazer 6\n55                       Husky Rope 200\nName: PRODUCT_NAME, dtype: object"
     },
     "execution_count": 50,
     "metadata": {},
     "output_type": "execute_result"
    }
   ],
   "source": [
    "products_over500 = product_df[\"PRODUCTION_COST\"] * (1 +product_df[\"MARGIN\"]) > 500\n",
    "over500_products_df = product_df[products_over500]\n",
    "over500_product_names = over500_products_df[\"PRODUCT_NAME\"]\n",
    "over500_product_names #klopt niet met de 13 rijen die verwacht worden en ik moet ook nog de check uitvoeren of ze nog nooit zijn teruggebracht"
   ]
  },
  {
   "cell_type": "markdown",
   "metadata": {},
   "source": [
    "Geef een overzicht met daarin per (achternaam van) medewerker of hij/zij manager is of niet, door deze informatie toe te voegen als extra 'Ja/Nee'-kolom.<br>\n",
    "Hint: gebruik een for-loop waarin je o.a. bepaalt of het woord 'Manager' in de functie (position_en) staat. (2 kolommen, 102 rijen)."
   ]
  },
  {
   "cell_type": "code",
   "execution_count": 51,
   "metadata": {
    "ExecuteTime": {
     "end_time": "2024-02-28T18:54:25.100414Z",
     "start_time": "2024-02-28T18:54:25.082887Z"
    }
   },
   "outputs": [
    {
     "data": {
      "text/plain": "(0      Savolainen\n 1             Kim\n 2            Choi\n 3             Kao\n 4            Fang\n           ...    \n 97       Iglesias\n 98          Lopes\n 99         Barros\n 100     Guimarães\n 101      Lindholm\n Name: LAST_NAME, Length: 102, dtype: object,\n 0      Level 2 Sales Representative\n 1      Level 2 Sales Representative\n 2      Level 3 Sales Representative\n 3      Level 2 Sales Representative\n 4      Level 3 Sales Representative\n                    ...             \n 97     Level 2 Sales Representative\n 98                   Branch Manager\n 99     Level 3 Sales Representative\n 100    Level 2 Sales Representative\n 101    Level 3 Sales Representative\n Name: POSITION_EN, Length: 102, dtype: object)"
     },
     "execution_count": 51,
     "metadata": {},
     "output_type": "execute_result"
    }
   ],
   "source": [
    "naam_functie = sales_staff_df['LAST_NAME'], sales_staff_df['POSITION_EN']\n",
    "naam_functie"
   ]
  },
  {
   "cell_type": "markdown",
   "metadata": {},
   "source": [
    "Met de onderstaande code laat je Python het huidige jaar uitrekenen."
   ]
  },
  {
   "cell_type": "code",
   "execution_count": 52,
   "metadata": {
    "ExecuteTime": {
     "end_time": "2024-02-28T18:54:25.115410Z",
     "start_time": "2024-02-28T18:54:25.102410Z"
    }
   },
   "outputs": [
    {
     "data": {
      "text/plain": "2024"
     },
     "execution_count": 52,
     "metadata": {},
     "output_type": "execute_result"
    }
   ],
   "source": [
    "from datetime import date\n",
    "date.today().year"
   ]
  },
  {
   "cell_type": "markdown",
   "metadata": {},
   "source": [
    "Met de onderstaande code selecteer je op een bepaald jaartal uit een datum."
   ]
  },
  {
   "cell_type": "code",
   "execution_count": 53,
   "metadata": {
    "ExecuteTime": {
     "end_time": "2024-02-28T18:54:25.128456Z",
     "start_time": "2024-02-28T18:54:25.117409Z"
    }
   },
   "outputs": [
    {
     "data": {
      "text/plain": "2013"
     },
     "execution_count": 53,
     "metadata": {},
     "output_type": "execute_result"
    }
   ],
   "source": [
    "from datetime import datetime\n",
    "\n",
    "date_str = '16-8-2013'\n",
    "date_format = '%d-%m-%Y'\n",
    "date_obj = datetime.strptime(date_str, date_format)\n",
    "\n",
    "date_obj.year"
   ]
  },
  {
   "cell_type": "markdown",
   "metadata": {},
   "source": [
    "Geef met behulp van bovenstaande hulpcode een overzicht met daarin op basis van het aantal jaar dat iemand in dienst is of een medewerker ‘kort in dienst’ (minder dan 25 jaar in dienst) of een ‘lang in dienst’ (groter gelijk dan 12 jaar in dienst) is. Geef daarbij per medewerker in een aparte kolom zowel ‘kort in dienst’ als ‘lang in dienst’ aan. Gebruik (wederom) een for-loop.<br>\n",
    "(2 kolommen, 102 rijen) "
   ]
  },
  {
   "cell_type": "code",
   "execution_count": 53,
   "metadata": {
    "ExecuteTime": {
     "end_time": "2024-02-28T18:54:25.136455Z",
     "start_time": "2024-02-28T18:54:25.131453Z"
    }
   },
   "outputs": [],
   "source": []
  }
 ],
 "metadata": {
  "kernelspec": {
   "display_name": "python-in-deds-P4iSP_yI-py3.11",
   "language": "python",
   "name": "python3"
  },
  "language_info": {
   "codemirror_mode": {
    "name": "ipython",
    "version": 3
   },
   "file_extension": ".py",
   "mimetype": "text/x-python",
   "name": "python",
   "nbconvert_exporter": "python",
   "pygments_lexer": "ipython3",
   "version": "3.12.2"
  }
 },
 "nbformat": 4,
 "nbformat_minor": 2
}
