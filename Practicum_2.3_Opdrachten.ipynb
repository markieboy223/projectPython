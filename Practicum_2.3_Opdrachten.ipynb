{
 "cells": [
  {
   "cell_type": "markdown",
   "metadata": {},
   "source": [
    "# Practicumopdrachten Week 2.3 (eerste kans)"
   ]
  },
  {
   "cell_type": "markdown",
   "metadata": {},
   "source": [
    "## Dependencies importeren"
   ]
  },
  {
   "cell_type": "markdown",
   "metadata": {},
   "source": [
    "Kopieer in het codeblok hieronder van het vorige practicum de import-code voor de dependencies die het vaakst worden gebruikt om data in te lezen. Geef er ook de gebruikelijke aliassen aan.<br>\n",
    "Zet eventuele warnings uit."
   ]
  },
  {
   "cell_type": "code",
   "execution_count": 60,
   "metadata": {
    "ExecuteTime": {
     "end_time": "2024-02-28T19:19:05.711158Z",
     "start_time": "2024-02-28T19:19:05.708132Z"
    }
   },
   "outputs": [],
   "source": [
    "import pandas as pd\n",
    "import sqlite3\n",
    "import warnings\n",
    "warnings.simplefilter('ignore')"
   ]
  },
  {
   "cell_type": "markdown",
   "metadata": {},
   "source": [
    "Zet het bestand go_sales.sqlite in hetzelfde mapje als dit notebook."
   ]
  },
  {
   "cell_type": "markdown",
   "metadata": {},
   "source": [
    "## Databasetabellen inlezen"
   ]
  },
  {
   "cell_type": "markdown",
   "metadata": {},
   "source": [
    "Kopieer in het codeblok hieronder van het vorige practicum de code om een connectie met het bestand go_sales.sqlite te maken."
   ]
  },
  {
   "cell_type": "code",
   "execution_count": 61,
   "metadata": {
    "ExecuteTime": {
     "end_time": "2024-02-28T19:19:06.175682Z",
     "start_time": "2024-02-28T19:19:06.171154Z"
    }
   },
   "outputs": [],
   "source": [
    "sales_connection = sqlite3.connect('go_sales.sqlite')"
   ]
  },
  {
   "cell_type": "markdown",
   "metadata": {},
   "source": [
    "Lees van de ingelezen go_sales-database te volgende tabellen in met behulp van \"SELECT * FROM *tabel*\".\n",
    "- product\n",
    "- product_type\n",
    "- product_line\n",
    "- sales_staff\n",
    "- sales_branch\n",
    "- retailer_site\n",
    "- country\n",
    "- order_header\n",
    "- order_details\n",
    "- target\n",
    "- returned_item\n",
    "- return_reason"
   ]
  },
  {
   "cell_type": "code",
   "execution_count": 62,
   "metadata": {
    "ExecuteTime": {
     "end_time": "2024-02-28T19:19:06.421144Z",
     "start_time": "2024-02-28T19:19:06.204678Z"
    }
   },
   "outputs": [
    {
     "data": {
      "text/plain": "    PRODUCT_NUMBER INTRODUCTION_DATE PRODUCT_TYPE_CODE PRODUCTION_COST MARGIN  \\\n0                1         15-2-2011                 1               4    .33   \n1               10         15-2-2011                 1              10     .4   \n2              100         15-2-2011                17               3     .5   \n3              101        15-12-2019                18          305.54    .43   \n4              102        10-12-2019                18          380.95    .51   \n..             ...               ...               ...             ...    ...   \n110             95         15-2-2011                16               3     .5   \n111             96         15-2-2011                17           16.43    .28   \n112             97          5-3-2013                17              25    .28   \n113             98         15-2-2011                17               3     .5   \n114             99         15-2-2011                17               2     .6   \n\n       PRODUCT_IMAGE LANGUAGE              PRODUCT_NAME  \\\n0      P01CE1CG1.jpg       EN       TrailChef Water Bag   \n1      P10CE1CG1.jpg       EN        TrailChef Utensils   \n2    P100OP4FA17.jpg       EN        Insect Bite Relief   \n3    P101GE5IR18.jpg       EN     Hailstorm Steel Irons   \n4    P102GE5IR18.jpg       EN  Hailstorm Titanium Irons   \n..               ...      ...                       ...   \n110   P91OP4SS16.jpg       EN                Sun Shield   \n111   P96OP4FA17.jpg       EN        Compact Relief Kit   \n112   P96OP4FA17.jpg       EN  Deluxe Family Relief Kit   \n113   P98OP4FA17.jpg       EN           Calamine Relief   \n114   P99OP4FA17.jpg       EN               Aloe Relief   \n\n                                           DESCRIPTION TRIAL888  \n0    Lightweight, collapsible bag to carry liquids ...        T  \n1    Spoon, fork and knife set made of a light yet ...        T  \n2    The Insect Bite Relief helps the itching and s...        T  \n3    Iron is 17-4 stainless steel.  Shafts are grap...        T  \n4    Made entirely of pure titanium. The ultimate i...        T  \n..                                                 ...      ...  \n110  PABA free sunscreen, SPF 30, poison oak and iv...        T  \n111  A personal first aid kit is recommended for ev...        T  \n112  A complete medical kit suitable for families w...        T  \n113  Use the Calamine Relief for allergic skin reac...        T  \n114  Perfect for minor burns and sunburn, the aloe ...        T  \n\n[115 rows x 10 columns]",
      "text/html": "<div>\n<style scoped>\n    .dataframe tbody tr th:only-of-type {\n        vertical-align: middle;\n    }\n\n    .dataframe tbody tr th {\n        vertical-align: top;\n    }\n\n    .dataframe thead th {\n        text-align: right;\n    }\n</style>\n<table border=\"1\" class=\"dataframe\">\n  <thead>\n    <tr style=\"text-align: right;\">\n      <th></th>\n      <th>PRODUCT_NUMBER</th>\n      <th>INTRODUCTION_DATE</th>\n      <th>PRODUCT_TYPE_CODE</th>\n      <th>PRODUCTION_COST</th>\n      <th>MARGIN</th>\n      <th>PRODUCT_IMAGE</th>\n      <th>LANGUAGE</th>\n      <th>PRODUCT_NAME</th>\n      <th>DESCRIPTION</th>\n      <th>TRIAL888</th>\n    </tr>\n  </thead>\n  <tbody>\n    <tr>\n      <th>0</th>\n      <td>1</td>\n      <td>15-2-2011</td>\n      <td>1</td>\n      <td>4</td>\n      <td>.33</td>\n      <td>P01CE1CG1.jpg</td>\n      <td>EN</td>\n      <td>TrailChef Water Bag</td>\n      <td>Lightweight, collapsible bag to carry liquids ...</td>\n      <td>T</td>\n    </tr>\n    <tr>\n      <th>1</th>\n      <td>10</td>\n      <td>15-2-2011</td>\n      <td>1</td>\n      <td>10</td>\n      <td>.4</td>\n      <td>P10CE1CG1.jpg</td>\n      <td>EN</td>\n      <td>TrailChef Utensils</td>\n      <td>Spoon, fork and knife set made of a light yet ...</td>\n      <td>T</td>\n    </tr>\n    <tr>\n      <th>2</th>\n      <td>100</td>\n      <td>15-2-2011</td>\n      <td>17</td>\n      <td>3</td>\n      <td>.5</td>\n      <td>P100OP4FA17.jpg</td>\n      <td>EN</td>\n      <td>Insect Bite Relief</td>\n      <td>The Insect Bite Relief helps the itching and s...</td>\n      <td>T</td>\n    </tr>\n    <tr>\n      <th>3</th>\n      <td>101</td>\n      <td>15-12-2019</td>\n      <td>18</td>\n      <td>305.54</td>\n      <td>.43</td>\n      <td>P101GE5IR18.jpg</td>\n      <td>EN</td>\n      <td>Hailstorm Steel Irons</td>\n      <td>Iron is 17-4 stainless steel.  Shafts are grap...</td>\n      <td>T</td>\n    </tr>\n    <tr>\n      <th>4</th>\n      <td>102</td>\n      <td>10-12-2019</td>\n      <td>18</td>\n      <td>380.95</td>\n      <td>.51</td>\n      <td>P102GE5IR18.jpg</td>\n      <td>EN</td>\n      <td>Hailstorm Titanium Irons</td>\n      <td>Made entirely of pure titanium. The ultimate i...</td>\n      <td>T</td>\n    </tr>\n    <tr>\n      <th>...</th>\n      <td>...</td>\n      <td>...</td>\n      <td>...</td>\n      <td>...</td>\n      <td>...</td>\n      <td>...</td>\n      <td>...</td>\n      <td>...</td>\n      <td>...</td>\n      <td>...</td>\n    </tr>\n    <tr>\n      <th>110</th>\n      <td>95</td>\n      <td>15-2-2011</td>\n      <td>16</td>\n      <td>3</td>\n      <td>.5</td>\n      <td>P91OP4SS16.jpg</td>\n      <td>EN</td>\n      <td>Sun Shield</td>\n      <td>PABA free sunscreen, SPF 30, poison oak and iv...</td>\n      <td>T</td>\n    </tr>\n    <tr>\n      <th>111</th>\n      <td>96</td>\n      <td>15-2-2011</td>\n      <td>17</td>\n      <td>16.43</td>\n      <td>.28</td>\n      <td>P96OP4FA17.jpg</td>\n      <td>EN</td>\n      <td>Compact Relief Kit</td>\n      <td>A personal first aid kit is recommended for ev...</td>\n      <td>T</td>\n    </tr>\n    <tr>\n      <th>112</th>\n      <td>97</td>\n      <td>5-3-2013</td>\n      <td>17</td>\n      <td>25</td>\n      <td>.28</td>\n      <td>P96OP4FA17.jpg</td>\n      <td>EN</td>\n      <td>Deluxe Family Relief Kit</td>\n      <td>A complete medical kit suitable for families w...</td>\n      <td>T</td>\n    </tr>\n    <tr>\n      <th>113</th>\n      <td>98</td>\n      <td>15-2-2011</td>\n      <td>17</td>\n      <td>3</td>\n      <td>.5</td>\n      <td>P98OP4FA17.jpg</td>\n      <td>EN</td>\n      <td>Calamine Relief</td>\n      <td>Use the Calamine Relief for allergic skin reac...</td>\n      <td>T</td>\n    </tr>\n    <tr>\n      <th>114</th>\n      <td>99</td>\n      <td>15-2-2011</td>\n      <td>17</td>\n      <td>2</td>\n      <td>.6</td>\n      <td>P99OP4FA17.jpg</td>\n      <td>EN</td>\n      <td>Aloe Relief</td>\n      <td>Perfect for minor burns and sunburn, the aloe ...</td>\n      <td>T</td>\n    </tr>\n  </tbody>\n</table>\n<p>115 rows × 10 columns</p>\n</div>"
     },
     "execution_count": 62,
     "metadata": {},
     "output_type": "execute_result"
    }
   ],
   "source": [
    "tables_to_read = ['product', 'product_type', 'product_line', 'sales_staff', 'sales_branch', \n",
    "                  'retailer_site', 'country', 'order_header', 'order_details',\n",
    "                  'returned_item', 'return_reason']\n",
    "\n",
    "dataframes = {}\n",
    "\n",
    "for table in tables_to_read:\n",
    "    query = f\"SELECT * FROM {table}\"\n",
    "    dataframes[table] = pd.read_sql_query(query, sales_connection)\n",
    "\n",
    "product_df = dataframes['product']\n",
    "product_type_df = dataframes['product_type']\n",
    "product_line_df = dataframes['product_line']\n",
    "sales_staff_df = dataframes['sales_staff']\n",
    "sales_branch_df = dataframes['sales_branch']\n",
    "retailer_site_df = dataframes['retailer_site']\n",
    "country_df = dataframes['country']\n",
    "order_header_df = dataframes['order_header']\n",
    "order_details_df = dataframes['order_details']\n",
    "returned_item_df = dataframes['returned_item']\n",
    "return_reason_df = dataframes['return_reason']\n",
    "\n",
    "product_df"
   ]
  },
  {
   "cell_type": "markdown",
   "metadata": {},
   "source": [
    "Let op! Voor alle onderstaande opdrachten mag je <u>alleen Python</u> gebruiken, <u>geen SQL!</u>"
   ]
  },
  {
   "cell_type": "markdown",
   "metadata": {},
   "source": [
    "## Selecties op één tabel zonder functies"
   ]
  },
  {
   "cell_type": "markdown",
   "metadata": {},
   "source": [
    "Geef een overzicht met daarin de producten en hun productiekosten waarvan de productiekosten lager dan 100 dollar en hoger dan 50 dollar ligt. (2 kolommen, 23 rijen)"
   ]
  },
  {
   "cell_type": "code",
   "execution_count": 63,
   "metadata": {
    "ExecuteTime": {
     "end_time": "2024-02-28T19:19:06.433300Z",
     "start_time": "2024-02-28T19:19:06.422142Z"
    }
   },
   "outputs": [
    {
     "data": {
      "text/plain": "                       PRODUCT_NAME  PRODUCTION_COST\n13                Blue Steel Putter            60.00\n14            Blue Steel Max Putter            81.80\n17              Course Pro Golf Bag            80.00\n24                  Hibernator Lite            60.00\n25                       Hibernator            86.00\n28  Hibernator Self - Inflating Mat            78.55\n31              Hibernator Camp Cot            65.33\n32     Canyon Mule Climber Backpack            62.50\n56          Granite Climbing Helmet            52.86\n58            Husky Harness Extreme            55.00\n69                   Granite Hammer            57.13\n71        TrailChef Deluxe Cook Set            85.11\n81                        Polar Ice            73.33\n83                     Polar Sports            80.00\n84                       Polar Wave            60.00\n85                    Polar Extreme            72.50\n88                     Edge Extreme            80.00\n91                        Seeker 35            79.19\n92                        Seeker 50            92.58\n93           TrailChef Double Flame            75.00\n94                   Seeker Extreme            94.12\n97                   Glacier Deluxe            56.25\n98                      Glacier GPS            78.55",
      "text/html": "<div>\n<style scoped>\n    .dataframe tbody tr th:only-of-type {\n        vertical-align: middle;\n    }\n\n    .dataframe tbody tr th {\n        vertical-align: top;\n    }\n\n    .dataframe thead th {\n        text-align: right;\n    }\n</style>\n<table border=\"1\" class=\"dataframe\">\n  <thead>\n    <tr style=\"text-align: right;\">\n      <th></th>\n      <th>PRODUCT_NAME</th>\n      <th>PRODUCTION_COST</th>\n    </tr>\n  </thead>\n  <tbody>\n    <tr>\n      <th>13</th>\n      <td>Blue Steel Putter</td>\n      <td>60.00</td>\n    </tr>\n    <tr>\n      <th>14</th>\n      <td>Blue Steel Max Putter</td>\n      <td>81.80</td>\n    </tr>\n    <tr>\n      <th>17</th>\n      <td>Course Pro Golf Bag</td>\n      <td>80.00</td>\n    </tr>\n    <tr>\n      <th>24</th>\n      <td>Hibernator Lite</td>\n      <td>60.00</td>\n    </tr>\n    <tr>\n      <th>25</th>\n      <td>Hibernator</td>\n      <td>86.00</td>\n    </tr>\n    <tr>\n      <th>28</th>\n      <td>Hibernator Self - Inflating Mat</td>\n      <td>78.55</td>\n    </tr>\n    <tr>\n      <th>31</th>\n      <td>Hibernator Camp Cot</td>\n      <td>65.33</td>\n    </tr>\n    <tr>\n      <th>32</th>\n      <td>Canyon Mule Climber Backpack</td>\n      <td>62.50</td>\n    </tr>\n    <tr>\n      <th>56</th>\n      <td>Granite Climbing Helmet</td>\n      <td>52.86</td>\n    </tr>\n    <tr>\n      <th>58</th>\n      <td>Husky Harness Extreme</td>\n      <td>55.00</td>\n    </tr>\n    <tr>\n      <th>69</th>\n      <td>Granite Hammer</td>\n      <td>57.13</td>\n    </tr>\n    <tr>\n      <th>71</th>\n      <td>TrailChef Deluxe Cook Set</td>\n      <td>85.11</td>\n    </tr>\n    <tr>\n      <th>81</th>\n      <td>Polar Ice</td>\n      <td>73.33</td>\n    </tr>\n    <tr>\n      <th>83</th>\n      <td>Polar Sports</td>\n      <td>80.00</td>\n    </tr>\n    <tr>\n      <th>84</th>\n      <td>Polar Wave</td>\n      <td>60.00</td>\n    </tr>\n    <tr>\n      <th>85</th>\n      <td>Polar Extreme</td>\n      <td>72.50</td>\n    </tr>\n    <tr>\n      <th>88</th>\n      <td>Edge Extreme</td>\n      <td>80.00</td>\n    </tr>\n    <tr>\n      <th>91</th>\n      <td>Seeker 35</td>\n      <td>79.19</td>\n    </tr>\n    <tr>\n      <th>92</th>\n      <td>Seeker 50</td>\n      <td>92.58</td>\n    </tr>\n    <tr>\n      <th>93</th>\n      <td>TrailChef Double Flame</td>\n      <td>75.00</td>\n    </tr>\n    <tr>\n      <th>94</th>\n      <td>Seeker Extreme</td>\n      <td>94.12</td>\n    </tr>\n    <tr>\n      <th>97</th>\n      <td>Glacier Deluxe</td>\n      <td>56.25</td>\n    </tr>\n    <tr>\n      <th>98</th>\n      <td>Glacier GPS</td>\n      <td>78.55</td>\n    </tr>\n  </tbody>\n</table>\n</div>"
     },
     "execution_count": 63,
     "metadata": {},
     "output_type": "execute_result"
    }
   ],
   "source": [
    "product_df['PRODUCTION_COST'] = pd.to_numeric(product_df['PRODUCTION_COST'], errors='coerce')\n",
    "producten_filtered = product_df.loc[(product_df['PRODUCTION_COST'] > 50) & (product_df['PRODUCTION_COST'] < 100), ['PRODUCT_NAME', 'PRODUCTION_COST']]\n",
    "producten_filtered"
   ]
  },
  {
   "cell_type": "markdown",
   "metadata": {},
   "source": [
    "Geef een overzicht met daarin de producten en hun marge waarvan de marge lager dan 20 % of hoger dan 60 % ligt. (2 kolommen, 7 rijen) "
   ]
  },
  {
   "cell_type": "code",
   "execution_count": 64,
   "metadata": {
    "ExecuteTime": {
     "end_time": "2024-02-28T19:19:06.448632Z",
     "start_time": "2024-02-28T19:19:06.436298Z"
    }
   },
   "outputs": [
    {
     "data": {
      "text/plain": "                     PRODUCT_NAME  MARGIN\n29                 Hibernator Pad    0.17\n32   Canyon Mule Climber Backpack    0.17\n100             BugShield Natural    0.67\n101               BugShield Spray    0.67\n102         BugShield Lotion Lite    0.70\n103              BugShield Lotion    0.63\n105             BugShield Extreme    0.63",
      "text/html": "<div>\n<style scoped>\n    .dataframe tbody tr th:only-of-type {\n        vertical-align: middle;\n    }\n\n    .dataframe tbody tr th {\n        vertical-align: top;\n    }\n\n    .dataframe thead th {\n        text-align: right;\n    }\n</style>\n<table border=\"1\" class=\"dataframe\">\n  <thead>\n    <tr style=\"text-align: right;\">\n      <th></th>\n      <th>PRODUCT_NAME</th>\n      <th>MARGIN</th>\n    </tr>\n  </thead>\n  <tbody>\n    <tr>\n      <th>29</th>\n      <td>Hibernator Pad</td>\n      <td>0.17</td>\n    </tr>\n    <tr>\n      <th>32</th>\n      <td>Canyon Mule Climber Backpack</td>\n      <td>0.17</td>\n    </tr>\n    <tr>\n      <th>100</th>\n      <td>BugShield Natural</td>\n      <td>0.67</td>\n    </tr>\n    <tr>\n      <th>101</th>\n      <td>BugShield Spray</td>\n      <td>0.67</td>\n    </tr>\n    <tr>\n      <th>102</th>\n      <td>BugShield Lotion Lite</td>\n      <td>0.70</td>\n    </tr>\n    <tr>\n      <th>103</th>\n      <td>BugShield Lotion</td>\n      <td>0.63</td>\n    </tr>\n    <tr>\n      <th>105</th>\n      <td>BugShield Extreme</td>\n      <td>0.63</td>\n    </tr>\n  </tbody>\n</table>\n</div>"
     },
     "execution_count": 64,
     "metadata": {},
     "output_type": "execute_result"
    }
   ],
   "source": [
    "product_df['MARGIN'] = pd.to_numeric(product_df['MARGIN'], errors='coerce')\n",
    "result = product_df[['PRODUCT_NAME', 'MARGIN']][(product_df['MARGIN'] < 0.20) | (product_df['MARGIN'] > 0.60)]\n",
    "result"
   ]
  },
  {
   "cell_type": "markdown",
   "metadata": {},
   "source": [
    "Geef een overzicht met daarin de landen waar met francs wordt betaald. Sorteer de uitkomst op land.  (1 kolom, 3 rijen)"
   ]
  },
  {
   "cell_type": "code",
   "execution_count": 65,
   "metadata": {
    "ExecuteTime": {
     "end_time": "2024-02-28T19:19:06.463630Z",
     "start_time": "2024-02-28T19:19:06.451632Z"
    }
   },
   "outputs": [
    {
     "data": {
      "text/plain": "        COUNTRY CURRENCY_NAME\n0        France        francs\n7       Belgium        francs\n19  Switzerland        francs",
      "text/html": "<div>\n<style scoped>\n    .dataframe tbody tr th:only-of-type {\n        vertical-align: middle;\n    }\n\n    .dataframe tbody tr th {\n        vertical-align: top;\n    }\n\n    .dataframe thead th {\n        text-align: right;\n    }\n</style>\n<table border=\"1\" class=\"dataframe\">\n  <thead>\n    <tr style=\"text-align: right;\">\n      <th></th>\n      <th>COUNTRY</th>\n      <th>CURRENCY_NAME</th>\n    </tr>\n  </thead>\n  <tbody>\n    <tr>\n      <th>0</th>\n      <td>France</td>\n      <td>francs</td>\n    </tr>\n    <tr>\n      <th>7</th>\n      <td>Belgium</td>\n      <td>francs</td>\n    </tr>\n    <tr>\n      <th>19</th>\n      <td>Switzerland</td>\n      <td>francs</td>\n    </tr>\n  </tbody>\n</table>\n</div>"
     },
     "execution_count": 65,
     "metadata": {},
     "output_type": "execute_result"
    }
   ],
   "source": [
    "countries_francs = country_df[['COUNTRY', 'CURRENCY_NAME']][country_df['CURRENCY_NAME'] == 'francs']\n",
    "countries_francs"
   ]
  },
  {
   "cell_type": "markdown",
   "metadata": {},
   "source": [
    "Geef een overzicht met daarin de verschillende introductiedatums waarop producten met meer dan 50% marge worden geïntroduceerd (1 kolom, 7 rijen) "
   ]
  },
  {
   "cell_type": "code",
   "execution_count": 66,
   "metadata": {
    "ExecuteTime": {
     "end_time": "2024-02-28T19:19:06.481452Z",
     "start_time": "2024-02-28T19:19:06.465641Z"
    }
   },
   "outputs": [
    {
     "data": {
      "text/plain": "    INTRODUCTION_DATE  MARGIN\n4          10-12-2019    0.51\n6          18-12-2019    0.51\n7          27-12-2019    0.55\n9           13-1-2020    0.55\n14         15-12-2019    0.55\n79         26-10-2016    0.51\n100         15-2-2011    0.67",
      "text/html": "<div>\n<style scoped>\n    .dataframe tbody tr th:only-of-type {\n        vertical-align: middle;\n    }\n\n    .dataframe tbody tr th {\n        vertical-align: top;\n    }\n\n    .dataframe thead th {\n        text-align: right;\n    }\n</style>\n<table border=\"1\" class=\"dataframe\">\n  <thead>\n    <tr style=\"text-align: right;\">\n      <th></th>\n      <th>INTRODUCTION_DATE</th>\n      <th>MARGIN</th>\n    </tr>\n  </thead>\n  <tbody>\n    <tr>\n      <th>4</th>\n      <td>10-12-2019</td>\n      <td>0.51</td>\n    </tr>\n    <tr>\n      <th>6</th>\n      <td>18-12-2019</td>\n      <td>0.51</td>\n    </tr>\n    <tr>\n      <th>7</th>\n      <td>27-12-2019</td>\n      <td>0.55</td>\n    </tr>\n    <tr>\n      <th>9</th>\n      <td>13-1-2020</td>\n      <td>0.55</td>\n    </tr>\n    <tr>\n      <th>14</th>\n      <td>15-12-2019</td>\n      <td>0.55</td>\n    </tr>\n    <tr>\n      <th>79</th>\n      <td>26-10-2016</td>\n      <td>0.51</td>\n    </tr>\n    <tr>\n      <th>100</th>\n      <td>15-2-2011</td>\n      <td>0.67</td>\n    </tr>\n  </tbody>\n</table>\n</div>"
     },
     "execution_count": 66,
     "metadata": {},
     "output_type": "execute_result"
    }
   ],
   "source": [
    "product_df['MARGIN'] = pd.to_numeric(product_df['MARGIN'], errors='coerce')\n",
    "products_high_margin = product_df[['INTRODUCTION_DATE', 'MARGIN']][product_df['MARGIN'] > 0.50]\n",
    "products_high_margin_unique_dates = products_high_margin.drop_duplicates(subset='INTRODUCTION_DATE')\n",
    "products_high_margin_unique_dates"
   ]
  },
  {
   "cell_type": "markdown",
   "metadata": {},
   "source": [
    "Geef een overzicht met daarin het eerste adres en de stad van verkoopafdelingen waarvan zowel het tweede adres als de regio bekend is (2 kolommen, 28 rijen)"
   ]
  },
  {
   "cell_type": "code",
   "execution_count": 67,
   "metadata": {
    "ExecuteTime": {
     "end_time": "2024-02-28T19:19:06.494452Z",
     "start_time": "2024-02-28T19:19:06.483451Z"
    }
   },
   "outputs": [
    {
     "data": {
      "text/plain": "                            ADDRESS1              CITY\n10  Prol. Paseo de la Reforma No. 51  Distrito Federal\n11               202-2-3 Hyakunincho             Tokyo\n12                     543-225 Asahi        Osaka City\n13                  2315 Queen's Ave         Melbourne\n15             Avenida Paulista, 333         São Paulo\n21                    3 Albany Court        Birmingham\n27               Singelgravenplein 4         Amsterdam",
      "text/html": "<div>\n<style scoped>\n    .dataframe tbody tr th:only-of-type {\n        vertical-align: middle;\n    }\n\n    .dataframe tbody tr th {\n        vertical-align: top;\n    }\n\n    .dataframe thead th {\n        text-align: right;\n    }\n</style>\n<table border=\"1\" class=\"dataframe\">\n  <thead>\n    <tr style=\"text-align: right;\">\n      <th></th>\n      <th>ADDRESS1</th>\n      <th>CITY</th>\n    </tr>\n  </thead>\n  <tbody>\n    <tr>\n      <th>10</th>\n      <td>Prol. Paseo de la Reforma No. 51</td>\n      <td>Distrito Federal</td>\n    </tr>\n    <tr>\n      <th>11</th>\n      <td>202-2-3 Hyakunincho</td>\n      <td>Tokyo</td>\n    </tr>\n    <tr>\n      <th>12</th>\n      <td>543-225 Asahi</td>\n      <td>Osaka City</td>\n    </tr>\n    <tr>\n      <th>13</th>\n      <td>2315 Queen's Ave</td>\n      <td>Melbourne</td>\n    </tr>\n    <tr>\n      <th>15</th>\n      <td>Avenida Paulista, 333</td>\n      <td>São Paulo</td>\n    </tr>\n    <tr>\n      <th>21</th>\n      <td>3 Albany Court</td>\n      <td>Birmingham</td>\n    </tr>\n    <tr>\n      <th>27</th>\n      <td>Singelgravenplein 4</td>\n      <td>Amsterdam</td>\n    </tr>\n  </tbody>\n</table>\n</div>"
     },
     "execution_count": 67,
     "metadata": {},
     "output_type": "execute_result"
    }
   ],
   "source": [
    "verkoopafdelingen = sales_branch_df[['ADDRESS1', 'CITY']][(sales_branch_df['ADDRESS2'].notna()) & (sales_branch_df['REGION'].notna())]\n",
    "verkoopafdelingen"
   ]
  },
  {
   "cell_type": "markdown",
   "metadata": {},
   "source": [
    "Geef een overzicht met daarin de landen waar met dollars (dollars of new dollar) wordt betaald. Sorteer de uitkomst op land. (1 kolom, 4 rijen) "
   ]
  },
  {
   "cell_type": "code",
   "execution_count": 68,
   "metadata": {
    "ExecuteTime": {
     "end_time": "2024-02-28T19:19:06.514001Z",
     "start_time": "2024-02-28T19:19:06.496451Z"
    }
   },
   "outputs": [
    {
     "data": {
      "text/plain": "          COUNTRY\n3          Taiwan\n6       Australia\n14  United States\n15         Canada",
      "text/html": "<div>\n<style scoped>\n    .dataframe tbody tr th:only-of-type {\n        vertical-align: middle;\n    }\n\n    .dataframe tbody tr th {\n        vertical-align: top;\n    }\n\n    .dataframe thead th {\n        text-align: right;\n    }\n</style>\n<table border=\"1\" class=\"dataframe\">\n  <thead>\n    <tr style=\"text-align: right;\">\n      <th></th>\n      <th>COUNTRY</th>\n    </tr>\n  </thead>\n  <tbody>\n    <tr>\n      <th>3</th>\n      <td>Taiwan</td>\n    </tr>\n    <tr>\n      <th>6</th>\n      <td>Australia</td>\n    </tr>\n    <tr>\n      <th>14</th>\n      <td>United States</td>\n    </tr>\n    <tr>\n      <th>15</th>\n      <td>Canada</td>\n    </tr>\n  </tbody>\n</table>\n</div>"
     },
     "execution_count": 68,
     "metadata": {},
     "output_type": "execute_result"
    }
   ],
   "source": [
    "dollarNewDollar = country_df[['COUNTRY']][(country_df['CURRENCY_NAME'] == 'dollars') | (country_df['CURRENCY_NAME'] == 'new dollar')]\n",
    "dollarNewDollar"
   ]
  },
  {
   "cell_type": "markdown",
   "metadata": {},
   "source": [
    "Geef een overzicht met daarin beide adressen en de stad van vestigingen van klanten waarvan de postcode begint met een ‘D’ (van duitsland). Filter op vestigingen die een tweede adres hebben. (3 kolommen, 2 rijen) "
   ]
  },
  {
   "cell_type": "code",
   "execution_count": 69,
   "metadata": {
    "ExecuteTime": {
     "end_time": "2024-02-28T19:19:06.529313Z",
     "start_time": "2024-02-28T19:19:06.515973Z"
    }
   },
   "outputs": [
    {
     "data": {
      "text/plain": "             ADDRESS1       ADDRESS2       CITY\n205  Röntgenstraße 90  3. Tür rechts  Frankfurt\n351   Grubesallee 141       4. Stock    Hamburg",
      "text/html": "<div>\n<style scoped>\n    .dataframe tbody tr th:only-of-type {\n        vertical-align: middle;\n    }\n\n    .dataframe tbody tr th {\n        vertical-align: top;\n    }\n\n    .dataframe thead th {\n        text-align: right;\n    }\n</style>\n<table border=\"1\" class=\"dataframe\">\n  <thead>\n    <tr style=\"text-align: right;\">\n      <th></th>\n      <th>ADDRESS1</th>\n      <th>ADDRESS2</th>\n      <th>CITY</th>\n    </tr>\n  </thead>\n  <tbody>\n    <tr>\n      <th>205</th>\n      <td>Röntgenstraße 90</td>\n      <td>3. Tür rechts</td>\n      <td>Frankfurt</td>\n    </tr>\n    <tr>\n      <th>351</th>\n      <td>Grubesallee 141</td>\n      <td>4. Stock</td>\n      <td>Hamburg</td>\n    </tr>\n  </tbody>\n</table>\n</div>"
     },
     "execution_count": 69,
     "metadata": {},
     "output_type": "execute_result"
    }
   ],
   "source": [
    "clients = retailer_site_df[['ADDRESS1', 'ADDRESS2', 'CITY']][(retailer_site_df['POSTAL_ZONE'].str.startswith('D')) & (retailer_site_df['ADDRESS2'].notnull())]\n",
    "clients"
   ]
  },
  {
   "cell_type": "markdown",
   "metadata": {},
   "source": [
    "## Selecties op één tabel met functies"
   ]
  },
  {
   "cell_type": "markdown",
   "metadata": {},
   "source": [
    "Geef het totaal aantal producten dat is teruggebracht (1 waarde) "
   ]
  },
  {
   "cell_type": "code",
   "execution_count": 70,
   "metadata": {
    "ExecuteTime": {
     "end_time": "2024-02-28T19:19:06.552110Z",
     "start_time": "2024-02-28T19:19:06.531311Z"
    }
   },
   "outputs": [
    {
     "data": {
      "text/plain": "[14306]"
     },
     "execution_count": 70,
     "metadata": {},
     "output_type": "execute_result"
    }
   ],
   "source": [
    "returned_item_df['RETURN_QUANTITY'] = pd.to_numeric(returned_item_df['RETURN_QUANTITY'])\n",
    "total_returned_items = [returned_item_df['RETURN_QUANTITY'].sum()]\n",
    "total_returned_items"
   ]
  },
  {
   "cell_type": "markdown",
   "metadata": {},
   "source": [
    "Geef het aantal regio’s waarin verkoopafdelingen gevestigd zijn. (1 waarde)"
   ]
  },
  {
   "cell_type": "code",
   "execution_count": 71,
   "metadata": {
    "ExecuteTime": {
     "end_time": "2024-02-28T19:19:06.600297Z",
     "start_time": "2024-02-28T19:19:06.560107Z"
    }
   },
   "outputs": [
    {
     "data": {
      "text/plain": "15"
     },
     "execution_count": 71,
     "metadata": {},
     "output_type": "execute_result"
    }
   ],
   "source": [
    "region_amount = sales_branch_df['REGION'].count()\n",
    "region_amount"
   ]
  },
  {
   "cell_type": "markdown",
   "metadata": {},
   "source": [
    "Maak 3 variabelen:\n",
    "- Een met de laagste\n",
    "- Een met de hoogste\n",
    "- Een met de gemiddelde (afgerond op 2 decimalen)\n",
    "\n",
    "marge van producten (3 kolommen, 1 rij) "
   ]
  },
  {
   "cell_type": "code",
   "execution_count": 72,
   "metadata": {
    "ExecuteTime": {
     "end_time": "2024-02-28T19:19:06.642603Z",
     "start_time": "2024-02-28T19:19:06.602294Z"
    }
   },
   "outputs": [
    {
     "data": {
      "text/plain": "   Laagste  Hoogste  gemiddelde\n0     0.17      0.7    0.396609",
      "text/html": "<div>\n<style scoped>\n    .dataframe tbody tr th:only-of-type {\n        vertical-align: middle;\n    }\n\n    .dataframe tbody tr th {\n        vertical-align: top;\n    }\n\n    .dataframe thead th {\n        text-align: right;\n    }\n</style>\n<table border=\"1\" class=\"dataframe\">\n  <thead>\n    <tr style=\"text-align: right;\">\n      <th></th>\n      <th>Laagste</th>\n      <th>Hoogste</th>\n      <th>gemiddelde</th>\n    </tr>\n  </thead>\n  <tbody>\n    <tr>\n      <th>0</th>\n      <td>0.17</td>\n      <td>0.7</td>\n      <td>0.396609</td>\n    </tr>\n  </tbody>\n</table>\n</div>"
     },
     "execution_count": 72,
     "metadata": {},
     "output_type": "execute_result"
    }
   ],
   "source": [
    "laagste = product_df['MARGIN'].min()\n",
    "hoogste = product_df['MARGIN'].max()\n",
    "gemiddelde = product_df['MARGIN'].mean()\n",
    "resultaten = pd.DataFrame({\n",
    "    'Laagste': [laagste],\n",
    "    'Hoogste': [hoogste],\n",
    "    'gemiddelde': [gemiddelde]\n",
    "})\n",
    "resultaten"
   ]
  },
  {
   "cell_type": "markdown",
   "metadata": {},
   "source": [
    "Geef het aantal vestigingen van klanten waarvan het 2e adres niet bekend is (1 waarde)"
   ]
  },
  {
   "cell_type": "code",
   "execution_count": 73,
   "metadata": {
    "ExecuteTime": {
     "end_time": "2024-02-28T19:19:06.692360Z",
     "start_time": "2024-02-28T19:19:06.687598Z"
    }
   },
   "outputs": [
    {
     "data": {
      "text/plain": "286"
     },
     "execution_count": 73,
     "metadata": {},
     "output_type": "execute_result"
    }
   ],
   "source": [
    "nonAvailableAdress = retailer_site_df['ADDRESS2'].isnull().sum()\n",
    "nonAvailableAdress"
   ]
  },
  {
   "cell_type": "markdown",
   "metadata": {},
   "source": [
    "Geef de gemiddelde kostprijs van de verkochte producten waarop korting (unit_sale_price < unit_price) is verleend (1 waarde) "
   ]
  },
  {
   "cell_type": "code",
   "execution_count": 74,
   "metadata": {
    "ExecuteTime": {
     "end_time": "2024-02-28T19:19:07.117470Z",
     "start_time": "2024-02-28T19:19:07.081357Z"
    }
   },
   "outputs": [
    {
     "data": {
      "text/plain": "UNIT_COST    121.994812\ndtype: float64"
     },
     "execution_count": 74,
     "metadata": {},
     "output_type": "execute_result"
    }
   ],
   "source": [
    "order_details_df['UNIT_COST'] = pd.to_numeric(order_details_df['UNIT_COST'])\n",
    "averageCostPriceDiscount = order_details_df[['UNIT_COST']][(order_details_df['UNIT_SALE_PRICE'] < order_details_df['UNIT_PRICE'])].mean()\n",
    "averageCostPriceDiscount"
   ]
  },
  {
   "cell_type": "markdown",
   "metadata": {},
   "source": [
    "Geef een overzicht met daarin het aantal medewerkers per medewerkersfunctie (2 kolommen, 7 rijen) "
   ]
  },
  {
   "cell_type": "code",
   "execution_count": 75,
   "metadata": {
    "ExecuteTime": {
     "end_time": "2024-02-28T19:19:07.551850Z",
     "start_time": "2024-02-28T19:19:07.545469Z"
    }
   },
   "outputs": [
    {
     "data": {
      "text/plain": "POSITION_EN\nBranch Manager                  19\nDistrict Manager                 4\nGeneral Manager                  1\nLevel 1 Sales Representative    13\nLevel 2 Sales Representative    39\nLevel 3 Sales Representative    24\nRegional Manager                 2\nName: SALES_STAFF_CODE, dtype: int64"
     },
     "execution_count": 75,
     "metadata": {},
     "output_type": "execute_result"
    }
   ],
   "source": [
    "medewerkersPerFunctie = sales_staff_df.groupby('POSITION_EN')['SALES_STAFF_CODE'].count()\n",
    "medewerkersPerFunctie"
   ]
  },
  {
   "cell_type": "markdown",
   "metadata": {},
   "source": [
    "Geef een overzicht met daarin per telefoonnummer het aantal medewerkers dat op dat telefoonnummer bereikbaar is. Toon alleen de telefoonnummer waarop meer dan 4 medewerkers bereikbaar zijn. (2 kolommen, 10 rijen) "
   ]
  },
  {
   "cell_type": "code",
   "execution_count": 76,
   "metadata": {
    "ExecuteTime": {
     "end_time": "2024-02-28T19:19:07.770212Z",
     "start_time": "2024-02-28T19:19:07.759849Z"
    }
   },
   "outputs": [
    {
     "data": {
      "text/plain": "             WORK_PHONE  SALES_STAFF_CODE\n4     +(44) 121 3505267                 5\n10  +(61) 03 2982  4242                 5\n11  +31 (0)20 692 93 94                 5\n13    +33 1 68 94 52 20                 5\n18     1 (206) 292-0012                 5\n19     1 (305) 557-4810                 6\n20     1 (310) 281-5722                 5\n21     1 (403) 232-5986                 5\n22     1 (416) 493-5595                 5\n23     1 (617) 268-6754                 6",
      "text/html": "<div>\n<style scoped>\n    .dataframe tbody tr th:only-of-type {\n        vertical-align: middle;\n    }\n\n    .dataframe tbody tr th {\n        vertical-align: top;\n    }\n\n    .dataframe thead th {\n        text-align: right;\n    }\n</style>\n<table border=\"1\" class=\"dataframe\">\n  <thead>\n    <tr style=\"text-align: right;\">\n      <th></th>\n      <th>WORK_PHONE</th>\n      <th>SALES_STAFF_CODE</th>\n    </tr>\n  </thead>\n  <tbody>\n    <tr>\n      <th>4</th>\n      <td>+(44) 121 3505267</td>\n      <td>5</td>\n    </tr>\n    <tr>\n      <th>10</th>\n      <td>+(61) 03 2982  4242</td>\n      <td>5</td>\n    </tr>\n    <tr>\n      <th>11</th>\n      <td>+31 (0)20 692 93 94</td>\n      <td>5</td>\n    </tr>\n    <tr>\n      <th>13</th>\n      <td>+33 1 68 94 52 20</td>\n      <td>5</td>\n    </tr>\n    <tr>\n      <th>18</th>\n      <td>1 (206) 292-0012</td>\n      <td>5</td>\n    </tr>\n    <tr>\n      <th>19</th>\n      <td>1 (305) 557-4810</td>\n      <td>6</td>\n    </tr>\n    <tr>\n      <th>20</th>\n      <td>1 (310) 281-5722</td>\n      <td>5</td>\n    </tr>\n    <tr>\n      <th>21</th>\n      <td>1 (403) 232-5986</td>\n      <td>5</td>\n    </tr>\n    <tr>\n      <th>22</th>\n      <td>1 (416) 493-5595</td>\n      <td>5</td>\n    </tr>\n    <tr>\n      <th>23</th>\n      <td>1 (617) 268-6754</td>\n      <td>6</td>\n    </tr>\n  </tbody>\n</table>\n</div>"
     },
     "execution_count": 76,
     "metadata": {},
     "output_type": "execute_result"
    }
   ],
   "source": [
    "medewerkers_per_telefoonnummer = sales_staff_df.groupby('WORK_PHONE')['SALES_STAFF_CODE'].count().reset_index()\n",
    "telefoonnummers_meer_dan_4_medewerkers = medewerkers_per_telefoonnummer[medewerkers_per_telefoonnummer['SALES_STAFF_CODE'] > 4]\n",
    "telefoonnummers_meer_dan_4_medewerkers"
   ]
  },
  {
   "cell_type": "markdown",
   "metadata": {},
   "source": [
    "## Selecties op meerdere tabellen zonder functies"
   ]
  },
  {
   "cell_type": "markdown",
   "metadata": {},
   "source": [
    "Geef een overzicht met daarin het eerste adres en de stad van vestigingen van klanten uit ‘Netherlands’ (2 kolommen, 20 rijen) "
   ]
  },
  {
   "cell_type": "code",
   "execution_count": 77,
   "metadata": {
    "ExecuteTime": {
     "end_time": "2024-02-28T19:19:07.925286Z",
     "start_time": "2024-02-28T19:19:07.916235Z"
    }
   },
   "outputs": [
    {
     "data": {
      "text/plain": "                      ADDRESS1          CITY\n164                   Beets 36         Beets\n165               Perestraat 1      Deventer\n166  Laan van Meerdervoort 966      Den Haag\n167             Kalfjeslaan 47    Amstelveen\n168               Startbaan 11    Amstelveen\n169      Noorderspoorsingel 28     Groningen\n170              Hogehilweg 13     Amsterdam\n171             Spoorstraat 43    Varsseveld\n173             Westhavenweg 8     Amsterdam\n174              Westzeedijk 4        Muiden\n175            Gooiergracht 91         Laren\n176            Hoofdstraat 150   Pieterburen\n177                Olde Diek 2         Laren\n178     Amsterdamsestraatweg 8      Maarssen\n179        Krayenhoffstraat 11     Amsterdam\n180         Overschiestraat 19     Amsterdam\n181              Havenbuurt 12        Marken\n182               Duivendaal 1    Wageningen\n184              Voorstraat 37  Nieuweschans\n185         Stadhouderslaan 18     Rotterdam",
      "text/html": "<div>\n<style scoped>\n    .dataframe tbody tr th:only-of-type {\n        vertical-align: middle;\n    }\n\n    .dataframe tbody tr th {\n        vertical-align: top;\n    }\n\n    .dataframe thead th {\n        text-align: right;\n    }\n</style>\n<table border=\"1\" class=\"dataframe\">\n  <thead>\n    <tr style=\"text-align: right;\">\n      <th></th>\n      <th>ADDRESS1</th>\n      <th>CITY</th>\n    </tr>\n  </thead>\n  <tbody>\n    <tr>\n      <th>164</th>\n      <td>Beets 36</td>\n      <td>Beets</td>\n    </tr>\n    <tr>\n      <th>165</th>\n      <td>Perestraat 1</td>\n      <td>Deventer</td>\n    </tr>\n    <tr>\n      <th>166</th>\n      <td>Laan van Meerdervoort 966</td>\n      <td>Den Haag</td>\n    </tr>\n    <tr>\n      <th>167</th>\n      <td>Kalfjeslaan 47</td>\n      <td>Amstelveen</td>\n    </tr>\n    <tr>\n      <th>168</th>\n      <td>Startbaan 11</td>\n      <td>Amstelveen</td>\n    </tr>\n    <tr>\n      <th>169</th>\n      <td>Noorderspoorsingel 28</td>\n      <td>Groningen</td>\n    </tr>\n    <tr>\n      <th>170</th>\n      <td>Hogehilweg 13</td>\n      <td>Amsterdam</td>\n    </tr>\n    <tr>\n      <th>171</th>\n      <td>Spoorstraat 43</td>\n      <td>Varsseveld</td>\n    </tr>\n    <tr>\n      <th>173</th>\n      <td>Westhavenweg 8</td>\n      <td>Amsterdam</td>\n    </tr>\n    <tr>\n      <th>174</th>\n      <td>Westzeedijk 4</td>\n      <td>Muiden</td>\n    </tr>\n    <tr>\n      <th>175</th>\n      <td>Gooiergracht 91</td>\n      <td>Laren</td>\n    </tr>\n    <tr>\n      <th>176</th>\n      <td>Hoofdstraat 150</td>\n      <td>Pieterburen</td>\n    </tr>\n    <tr>\n      <th>177</th>\n      <td>Olde Diek 2</td>\n      <td>Laren</td>\n    </tr>\n    <tr>\n      <th>178</th>\n      <td>Amsterdamsestraatweg 8</td>\n      <td>Maarssen</td>\n    </tr>\n    <tr>\n      <th>179</th>\n      <td>Krayenhoffstraat 11</td>\n      <td>Amsterdam</td>\n    </tr>\n    <tr>\n      <th>180</th>\n      <td>Overschiestraat 19</td>\n      <td>Amsterdam</td>\n    </tr>\n    <tr>\n      <th>181</th>\n      <td>Havenbuurt 12</td>\n      <td>Marken</td>\n    </tr>\n    <tr>\n      <th>182</th>\n      <td>Duivendaal 1</td>\n      <td>Wageningen</td>\n    </tr>\n    <tr>\n      <th>184</th>\n      <td>Voorstraat 37</td>\n      <td>Nieuweschans</td>\n    </tr>\n    <tr>\n      <th>185</th>\n      <td>Stadhouderslaan 18</td>\n      <td>Rotterdam</td>\n    </tr>\n  </tbody>\n</table>\n</div>"
     },
     "execution_count": 77,
     "metadata": {},
     "output_type": "execute_result"
    }
   ],
   "source": [
    "klantenUitNederland = retailer_site_df[['ADDRESS1', 'CITY']][retailer_site_df['COUNTRY_CODE'] == '7']\n",
    "klantenUitNederland"
   ]
  },
  {
   "cell_type": "markdown",
   "metadata": {},
   "source": [
    "Geef een overzicht met daarin de productnamen die tot het producttype ‘Eyewear’ behoren. (1 kolom, 5 rijen) "
   ]
  },
  {
   "cell_type": "code",
   "execution_count": 78,
   "metadata": {
    "ExecuteTime": {
     "end_time": "2024-02-28T19:19:07.957741Z",
     "start_time": "2024-02-28T19:19:07.950281Z"
    }
   },
   "outputs": [
    {
     "data": {
      "text/plain": "80        Polar Sun\n81        Polar Ice\n83     Polar Sports\n84       Polar Wave\n85    Polar Extreme\nName: PRODUCT_NAME, dtype: object"
     },
     "execution_count": 78,
     "metadata": {},
     "output_type": "execute_result"
    }
   ],
   "source": [
    "eyewareProducts = product_df['PRODUCT_NAME'][product_df['PRODUCT_TYPE_CODE'] == '11'] \n",
    "eyewareProducts"
   ]
  },
  {
   "cell_type": "markdown",
   "metadata": {},
   "source": [
    "Geef een overzicht met daarin alle unieke eerste adressen van klantvestigingen en de voornaam en achternaam van de verkopers die ‘Branch Manager’ zijn en aan deze vestigingen hebben verkocht (3 kolommen, 1 rij) "
   ]
  },
  {
   "cell_type": "code",
   "execution_count": 79,
   "metadata": {
    "ExecuteTime": {
     "end_time": "2024-02-28T19:19:08.042650Z",
     "start_time": "2024-02-28T19:19:08.027739Z"
    }
   },
   "outputs": [
    {
     "data": {
      "text/plain": "                            ADDRESS1 FIRST_NAME      LAST_NAME\n7                     Victoria House     Walter         Taylor\n11                    3 Albany Court      Polly         Linton\n19                 Interleuvenlaan 2      Gracy        Gellens\n27                    Schwabentor 35      Frank          Fuchs\n30                  Leopoldstraße 36      Fritz         Hirsch\n33                   Piazza Duomo, 1      Maria      Iacobucci\n38               Singelgravenplein 4       Kick        Kalkman\n43               Isafjordsgatan 30 C      Karin      Bergström\n44     75, rue du Faubourg St-Honoré      Denis           Pagé\n47      7800, 756 - 6th Avenue. S.W.      Sally          White\n50                  789 Yonge Street    Georges  Saint-Germain\n56            1288 Dorchester Avenue       Alex      Rodriguez\n60                   299 Yale Avenue   Samantha          Floyd\n65                    10032 NW 186th      Julie          Olsen\n69        1288 South Barrington Ave.      Corey         Wright\n80               6c, rue de l'Église      Julie        Béchard\n84  Prol. Paseo de la Reforma No. 51      Lucía          Reyna\n91                  2315 Queen's Ave      Alice         Walter\n98             Avenida Paulista, 333     Bayard          Lopes",
      "text/html": "<div>\n<style scoped>\n    .dataframe tbody tr th:only-of-type {\n        vertical-align: middle;\n    }\n\n    .dataframe tbody tr th {\n        vertical-align: top;\n    }\n\n    .dataframe thead th {\n        text-align: right;\n    }\n</style>\n<table border=\"1\" class=\"dataframe\">\n  <thead>\n    <tr style=\"text-align: right;\">\n      <th></th>\n      <th>ADDRESS1</th>\n      <th>FIRST_NAME</th>\n      <th>LAST_NAME</th>\n    </tr>\n  </thead>\n  <tbody>\n    <tr>\n      <th>7</th>\n      <td>Victoria House</td>\n      <td>Walter</td>\n      <td>Taylor</td>\n    </tr>\n    <tr>\n      <th>11</th>\n      <td>3 Albany Court</td>\n      <td>Polly</td>\n      <td>Linton</td>\n    </tr>\n    <tr>\n      <th>19</th>\n      <td>Interleuvenlaan 2</td>\n      <td>Gracy</td>\n      <td>Gellens</td>\n    </tr>\n    <tr>\n      <th>27</th>\n      <td>Schwabentor 35</td>\n      <td>Frank</td>\n      <td>Fuchs</td>\n    </tr>\n    <tr>\n      <th>30</th>\n      <td>Leopoldstraße 36</td>\n      <td>Fritz</td>\n      <td>Hirsch</td>\n    </tr>\n    <tr>\n      <th>33</th>\n      <td>Piazza Duomo, 1</td>\n      <td>Maria</td>\n      <td>Iacobucci</td>\n    </tr>\n    <tr>\n      <th>38</th>\n      <td>Singelgravenplein 4</td>\n      <td>Kick</td>\n      <td>Kalkman</td>\n    </tr>\n    <tr>\n      <th>43</th>\n      <td>Isafjordsgatan 30 C</td>\n      <td>Karin</td>\n      <td>Bergström</td>\n    </tr>\n    <tr>\n      <th>44</th>\n      <td>75, rue du Faubourg St-Honoré</td>\n      <td>Denis</td>\n      <td>Pagé</td>\n    </tr>\n    <tr>\n      <th>47</th>\n      <td>7800, 756 - 6th Avenue. S.W.</td>\n      <td>Sally</td>\n      <td>White</td>\n    </tr>\n    <tr>\n      <th>50</th>\n      <td>789 Yonge Street</td>\n      <td>Georges</td>\n      <td>Saint-Germain</td>\n    </tr>\n    <tr>\n      <th>56</th>\n      <td>1288 Dorchester Avenue</td>\n      <td>Alex</td>\n      <td>Rodriguez</td>\n    </tr>\n    <tr>\n      <th>60</th>\n      <td>299 Yale Avenue</td>\n      <td>Samantha</td>\n      <td>Floyd</td>\n    </tr>\n    <tr>\n      <th>65</th>\n      <td>10032 NW 186th</td>\n      <td>Julie</td>\n      <td>Olsen</td>\n    </tr>\n    <tr>\n      <th>69</th>\n      <td>1288 South Barrington Ave.</td>\n      <td>Corey</td>\n      <td>Wright</td>\n    </tr>\n    <tr>\n      <th>80</th>\n      <td>6c, rue de l'Église</td>\n      <td>Julie</td>\n      <td>Béchard</td>\n    </tr>\n    <tr>\n      <th>84</th>\n      <td>Prol. Paseo de la Reforma No. 51</td>\n      <td>Lucía</td>\n      <td>Reyna</td>\n    </tr>\n    <tr>\n      <th>91</th>\n      <td>2315 Queen's Ave</td>\n      <td>Alice</td>\n      <td>Walter</td>\n    </tr>\n    <tr>\n      <th>98</th>\n      <td>Avenida Paulista, 333</td>\n      <td>Bayard</td>\n      <td>Lopes</td>\n    </tr>\n  </tbody>\n</table>\n</div>"
     },
     "execution_count": 79,
     "metadata": {},
     "output_type": "execute_result"
    }
   ],
   "source": [
    "merged = pd.merge(sales_staff_df, sales_branch_df, on='SALES_BRANCH_CODE', how='left')\n",
    "branch_managers = merged[merged['POSITION_EN'] == 'Branch Manager']\n",
    "unique_addresses = merged['ADDRESS1'].unique()\n",
    "result_df = branch_managers[branch_managers['ADDRESS1'].isin(unique_addresses)][['ADDRESS1', 'FIRST_NAME', 'LAST_NAME']]\n",
    "result_df"
   ]
  },
  {
   "cell_type": "markdown",
   "metadata": {},
   "source": [
    "Geef een overzicht met daarin van de verkopers hun functie en indien zij iets hebben verkocht de datum waarop de verkoop heeft plaatsgevonden. Laat alleen de verschillende namen van de posities zien van de verkopers die het woord ‘Manager’ in hun positienaam hebben staan. (2 kolommen, 9 rijen) "
   ]
  },
  {
   "cell_type": "code",
   "execution_count": 80,
   "metadata": {
    "ExecuteTime": {
     "end_time": "2024-02-28T19:19:08.222007Z",
     "start_time": "2024-02-28T19:19:08.196166Z"
    }
   },
   "outputs": [
    {
     "data": {
      "text/plain": "         POSITION_EN  ORDER_DATE\n5300  Branch Manager  2022-09-09\n5301  Branch Manager  2022-10-31\n5302  Branch Manager  2022-12-13\n5303  Branch Manager  2022-03-13\n5304  Branch Manager  2022-01-09",
      "text/html": "<div>\n<style scoped>\n    .dataframe tbody tr th:only-of-type {\n        vertical-align: middle;\n    }\n\n    .dataframe tbody tr th {\n        vertical-align: top;\n    }\n\n    .dataframe thead th {\n        text-align: right;\n    }\n</style>\n<table border=\"1\" class=\"dataframe\">\n  <thead>\n    <tr style=\"text-align: right;\">\n      <th></th>\n      <th>POSITION_EN</th>\n      <th>ORDER_DATE</th>\n    </tr>\n  </thead>\n  <tbody>\n    <tr>\n      <th>5300</th>\n      <td>Branch Manager</td>\n      <td>2022-09-09</td>\n    </tr>\n    <tr>\n      <th>5301</th>\n      <td>Branch Manager</td>\n      <td>2022-10-31</td>\n    </tr>\n    <tr>\n      <th>5302</th>\n      <td>Branch Manager</td>\n      <td>2022-12-13</td>\n    </tr>\n    <tr>\n      <th>5303</th>\n      <td>Branch Manager</td>\n      <td>2022-03-13</td>\n    </tr>\n    <tr>\n      <th>5304</th>\n      <td>Branch Manager</td>\n      <td>2022-01-09</td>\n    </tr>\n  </tbody>\n</table>\n</div>"
     },
     "execution_count": 80,
     "metadata": {},
     "output_type": "execute_result"
    }
   ],
   "source": [
    "merged_df = pd.merge(sales_staff_df, sales_branch_df, on='SALES_BRANCH_CODE', how='left')\n",
    "merged_order_df = pd.merge(merged_df, order_header_df, on=['SALES_STAFF_CODE', 'SALES_STAFF_CODE'], how='inner')\n",
    "manager_positions = merged_order_df[merged_order_df['POSITION_EN'].str.contains('Manager')]\n",
    "result_df = manager_positions[['POSITION_EN', 'ORDER_DATE']]\n",
    "result_df"
   ]
  },
  {
   "cell_type": "markdown",
   "metadata": {},
   "source": [
    "Geef een overzicht met daarin de verschillende namen van producten en bijbehorende namen van producttypen van de producten waarvoor ooit meer dan 750 stuks tegelijk verkocht zijn. (2 kolommen, 9 rijen) "
   ]
  },
  {
   "cell_type": "code",
   "execution_count": 81,
   "metadata": {
    "ExecuteTime": {
     "end_time": "2024-02-28T19:19:08.385007Z",
     "start_time": "2024-02-28T19:19:08.372004Z"
    }
   },
   "outputs": [
    {
     "data": {
      "text/plain": "             PRODUCT_NAME PRODUCT_TYPE_CODE\n0          Sun Shelter 30                16\n1         BugShield Spray                15\n3   BugShield Lotion Lite                15\n5               Firefly 2                 5\n7        BugShield Lotion                15\n9       BugShield Extreme                15\n10         Sun Shelter 15                16\n11             Sun Shield                16\n15               Star Peg                 2",
      "text/html": "<div>\n<style scoped>\n    .dataframe tbody tr th:only-of-type {\n        vertical-align: middle;\n    }\n\n    .dataframe tbody tr th {\n        vertical-align: top;\n    }\n\n    .dataframe thead th {\n        text-align: right;\n    }\n</style>\n<table border=\"1\" class=\"dataframe\">\n  <thead>\n    <tr style=\"text-align: right;\">\n      <th></th>\n      <th>PRODUCT_NAME</th>\n      <th>PRODUCT_TYPE_CODE</th>\n    </tr>\n  </thead>\n  <tbody>\n    <tr>\n      <th>0</th>\n      <td>Sun Shelter 30</td>\n      <td>16</td>\n    </tr>\n    <tr>\n      <th>1</th>\n      <td>BugShield Spray</td>\n      <td>15</td>\n    </tr>\n    <tr>\n      <th>3</th>\n      <td>BugShield Lotion Lite</td>\n      <td>15</td>\n    </tr>\n    <tr>\n      <th>5</th>\n      <td>Firefly 2</td>\n      <td>5</td>\n    </tr>\n    <tr>\n      <th>7</th>\n      <td>BugShield Lotion</td>\n      <td>15</td>\n    </tr>\n    <tr>\n      <th>9</th>\n      <td>BugShield Extreme</td>\n      <td>15</td>\n    </tr>\n    <tr>\n      <th>10</th>\n      <td>Sun Shelter 15</td>\n      <td>16</td>\n    </tr>\n    <tr>\n      <th>11</th>\n      <td>Sun Shield</td>\n      <td>16</td>\n    </tr>\n    <tr>\n      <th>15</th>\n      <td>Star Peg</td>\n      <td>2</td>\n    </tr>\n  </tbody>\n</table>\n</div>"
     },
     "execution_count": 81,
     "metadata": {},
     "output_type": "execute_result"
    }
   ],
   "source": [
    "order_details_df['QUANTITY'] = pd.to_numeric(order_details_df['QUANTITY'], errors='coerce')\n",
    "high_quantity_orders = order_details_df[order_details_df['QUANTITY'] > 750]\n",
    "merged_product_info = pd.merge(high_quantity_orders, product_df, on='PRODUCT_NUMBER', how='inner')\n",
    "result_df = merged_product_info[['PRODUCT_NAME', 'PRODUCT_TYPE_CODE']]\n",
    "result_df = result_df.drop_duplicates()\n",
    "result_df"
   ]
  },
  {
   "cell_type": "markdown",
   "metadata": {},
   "source": [
    "Geef een overzicht met daarin de productnamen waarvan ooit meer dan 40% korting is verleend. De formule voor korting is: (unit_price - unit_sale_price) / unit_price (1 kolom, 8 rijen) "
   ]
  },
  {
   "cell_type": "code",
   "execution_count": 82,
   "metadata": {
    "ExecuteTime": {
     "end_time": "2024-02-28T19:19:08.549593Z",
     "start_time": "2024-02-28T19:19:08.440010Z"
    }
   },
   "outputs": [
    {
     "data": {
      "text/plain": "                       PRODUCT_NAME\n2765   Hailstorm Titanium Woods Set\n37446             BugShield Natural\n37967               BugShield Spray\n38306         BugShield Lotion Lite\n38772              BugShield Lotion\n39561             BugShield Extreme\n40799                Sun Shelter 15\n41194                Sun Shelter 30",
      "text/html": "<div>\n<style scoped>\n    .dataframe tbody tr th:only-of-type {\n        vertical-align: middle;\n    }\n\n    .dataframe tbody tr th {\n        vertical-align: top;\n    }\n\n    .dataframe thead th {\n        text-align: right;\n    }\n</style>\n<table border=\"1\" class=\"dataframe\">\n  <thead>\n    <tr style=\"text-align: right;\">\n      <th></th>\n      <th>PRODUCT_NAME</th>\n    </tr>\n  </thead>\n  <tbody>\n    <tr>\n      <th>2765</th>\n      <td>Hailstorm Titanium Woods Set</td>\n    </tr>\n    <tr>\n      <th>37446</th>\n      <td>BugShield Natural</td>\n    </tr>\n    <tr>\n      <th>37967</th>\n      <td>BugShield Spray</td>\n    </tr>\n    <tr>\n      <th>38306</th>\n      <td>BugShield Lotion Lite</td>\n    </tr>\n    <tr>\n      <th>38772</th>\n      <td>BugShield Lotion</td>\n    </tr>\n    <tr>\n      <th>39561</th>\n      <td>BugShield Extreme</td>\n    </tr>\n    <tr>\n      <th>40799</th>\n      <td>Sun Shelter 15</td>\n    </tr>\n    <tr>\n      <th>41194</th>\n      <td>Sun Shelter 30</td>\n    </tr>\n  </tbody>\n</table>\n</div>"
     },
     "execution_count": 82,
     "metadata": {},
     "output_type": "execute_result"
    }
   ],
   "source": [
    "order_details_df['UNIT_PRICE'] = pd.to_numeric(order_details_df['UNIT_PRICE'], errors='coerce')\n",
    "order_details_df['UNIT_SALE_PRICE'] = pd.to_numeric(order_details_df['UNIT_SALE_PRICE'], errors='coerce')\n",
    "merged_df = pd.merge(product_df, order_details_df, on='PRODUCT_NUMBER', how='inner')\n",
    "merged_df['DISCOUNT_PERCENTAGE'] = ((merged_df['UNIT_PRICE'] - merged_df['UNIT_SALE_PRICE']) / merged_df['UNIT_PRICE']) * 100\n",
    "high_discount_products = merged_df[merged_df['DISCOUNT_PERCENTAGE'] > 40]\n",
    "result_df = high_discount_products[['PRODUCT_NAME']].drop_duplicates()\n",
    "result_df"
   ]
  },
  {
   "cell_type": "markdown",
   "metadata": {},
   "source": [
    "Geef een overzicht met daarin de retourreden van producten waarvan ooit meer dan 90% van de aangeschafte hoeveelheid is teruggebracht (return_quantity/quantity). (1 kolom, 3 rijen) "
   ]
  },
  {
   "cell_type": "code",
   "execution_count": 83,
   "metadata": {
    "ExecuteTime": {
     "end_time": "2024-02-28T19:19:08.656579Z",
     "start_time": "2024-02-28T19:19:08.592577Z"
    }
   },
   "outputs": [
    {
     "data": {
      "text/plain": "     RETURN_DESCRIPTION_EN\n0    Wrong product shipped\n1   Unsatisfactory product\n15   Wrong product ordered",
      "text/html": "<div>\n<style scoped>\n    .dataframe tbody tr th:only-of-type {\n        vertical-align: middle;\n    }\n\n    .dataframe tbody tr th {\n        vertical-align: top;\n    }\n\n    .dataframe thead th {\n        text-align: right;\n    }\n</style>\n<table border=\"1\" class=\"dataframe\">\n  <thead>\n    <tr style=\"text-align: right;\">\n      <th></th>\n      <th>RETURN_DESCRIPTION_EN</th>\n    </tr>\n  </thead>\n  <tbody>\n    <tr>\n      <th>0</th>\n      <td>Wrong product shipped</td>\n    </tr>\n    <tr>\n      <th>1</th>\n      <td>Unsatisfactory product</td>\n    </tr>\n    <tr>\n      <th>15</th>\n      <td>Wrong product ordered</td>\n    </tr>\n  </tbody>\n</table>\n</div>"
     },
     "execution_count": 83,
     "metadata": {},
     "output_type": "execute_result"
    }
   ],
   "source": [
    "merged_returns_reason_df = pd.merge(returned_item_df, return_reason_df, on='RETURN_REASON_CODE', how='left')\n",
    "merged_returns_df = pd.merge(order_details_df, merged_returns_reason_df, on='ORDER_DETAIL_CODE', how='inner')\n",
    "merged_returns_df['QUANTITY'] = pd.to_numeric(merged_returns_df['QUANTITY'], errors='coerce')\n",
    "merged_returns_df['RETURN_QUANTITY'] = pd.to_numeric(merged_returns_df['RETURN_QUANTITY'], errors='coerce')\n",
    "merged_returns_df['RETURN_PERCENTAGE'] = (merged_returns_df['RETURN_QUANTITY'] / merged_returns_df['QUANTITY']) * 100\n",
    "high_return_products = merged_returns_df[merged_returns_df['RETURN_PERCENTAGE'] > 90]\n",
    "result_df = high_return_products[['RETURN_DESCRIPTION_EN']].drop_duplicates()\n",
    "result_df"
   ]
  },
  {
   "cell_type": "markdown",
   "metadata": {},
   "source": [
    "## Selecties op meerdere tabellen met functies"
   ]
  },
  {
   "cell_type": "markdown",
   "metadata": {},
   "source": [
    "Geef een overzicht met daarin per producttype het aantal producten die tot dat producttype behoren. (2 kolommen, 21 rijen) "
   ]
  },
  {
   "cell_type": "code",
   "execution_count": 84,
   "metadata": {
    "ExecuteTime": {
     "end_time": "2024-02-28T19:19:08.805580Z",
     "start_time": "2024-02-28T19:19:08.729579Z"
    }
   },
   "outputs": [
    {
     "data": {
      "text/plain": "   PRODUCT_TYPE_CODE  NUMBER_OF_PRODUCTS\n0                  1                  10\n1                 10                   5\n2                 11                   5\n3                 12                   5\n4                 13                   4\n5                 14                   4\n6                 15                   5\n7                 16                   5\n8                 17                   5\n9                 18                   4\n10                19                   4\n11                 2                   6\n12                20                   3\n13                21                   4\n14                 3                   7\n15                 4                   6\n16                 5                  12\n17                 6                   4\n18                 7                   4\n19                 8                   7\n20                 9                   6",
      "text/html": "<div>\n<style scoped>\n    .dataframe tbody tr th:only-of-type {\n        vertical-align: middle;\n    }\n\n    .dataframe tbody tr th {\n        vertical-align: top;\n    }\n\n    .dataframe thead th {\n        text-align: right;\n    }\n</style>\n<table border=\"1\" class=\"dataframe\">\n  <thead>\n    <tr style=\"text-align: right;\">\n      <th></th>\n      <th>PRODUCT_TYPE_CODE</th>\n      <th>NUMBER_OF_PRODUCTS</th>\n    </tr>\n  </thead>\n  <tbody>\n    <tr>\n      <th>0</th>\n      <td>1</td>\n      <td>10</td>\n    </tr>\n    <tr>\n      <th>1</th>\n      <td>10</td>\n      <td>5</td>\n    </tr>\n    <tr>\n      <th>2</th>\n      <td>11</td>\n      <td>5</td>\n    </tr>\n    <tr>\n      <th>3</th>\n      <td>12</td>\n      <td>5</td>\n    </tr>\n    <tr>\n      <th>4</th>\n      <td>13</td>\n      <td>4</td>\n    </tr>\n    <tr>\n      <th>5</th>\n      <td>14</td>\n      <td>4</td>\n    </tr>\n    <tr>\n      <th>6</th>\n      <td>15</td>\n      <td>5</td>\n    </tr>\n    <tr>\n      <th>7</th>\n      <td>16</td>\n      <td>5</td>\n    </tr>\n    <tr>\n      <th>8</th>\n      <td>17</td>\n      <td>5</td>\n    </tr>\n    <tr>\n      <th>9</th>\n      <td>18</td>\n      <td>4</td>\n    </tr>\n    <tr>\n      <th>10</th>\n      <td>19</td>\n      <td>4</td>\n    </tr>\n    <tr>\n      <th>11</th>\n      <td>2</td>\n      <td>6</td>\n    </tr>\n    <tr>\n      <th>12</th>\n      <td>20</td>\n      <td>3</td>\n    </tr>\n    <tr>\n      <th>13</th>\n      <td>21</td>\n      <td>4</td>\n    </tr>\n    <tr>\n      <th>14</th>\n      <td>3</td>\n      <td>7</td>\n    </tr>\n    <tr>\n      <th>15</th>\n      <td>4</td>\n      <td>6</td>\n    </tr>\n    <tr>\n      <th>16</th>\n      <td>5</td>\n      <td>12</td>\n    </tr>\n    <tr>\n      <th>17</th>\n      <td>6</td>\n      <td>4</td>\n    </tr>\n    <tr>\n      <th>18</th>\n      <td>7</td>\n      <td>4</td>\n    </tr>\n    <tr>\n      <th>19</th>\n      <td>8</td>\n      <td>7</td>\n    </tr>\n    <tr>\n      <th>20</th>\n      <td>9</td>\n      <td>6</td>\n    </tr>\n  </tbody>\n</table>\n</div>"
     },
     "execution_count": 84,
     "metadata": {},
     "output_type": "execute_result"
    }
   ],
   "source": [
    "merged_products_orders_df = pd.merge(product_df, order_details_df, on='PRODUCT_NUMBER', how='left')\n",
    "product_type_counts = merged_products_orders_df.groupby('PRODUCT_TYPE_CODE')['PRODUCT_NUMBER'].nunique().reset_index()\n",
    "product_type_counts.columns = ['PRODUCT_TYPE_CODE', 'NUMBER_OF_PRODUCTS']\n",
    "product_type_counts"
   ]
  },
  {
   "cell_type": "markdown",
   "metadata": {},
   "source": [
    "Geef een overzicht met daarin per land het aantal vestigingen van klanten die zich in dat land bevinden. (2 kolommen, 21 rijen) "
   ]
  },
  {
   "cell_type": "code",
   "execution_count": 85,
   "metadata": {
    "ExecuteTime": {
     "end_time": "2024-02-28T19:19:08.981026Z",
     "start_time": "2024-02-28T19:19:08.968578Z"
    }
   },
   "outputs": [
    {
     "data": {
      "text/plain": "           COUNTRY  RETAILER_SITE_CODE\n0        Australia                  10\n1          Austria                  10\n2          Belgium                  10\n3           Brazil                   1\n4           Canada                  31\n5            China                  10\n6          Denmark                   6\n7          Finland                   5\n8           France                  29\n9          Germany                  32\n10           Italy                  12\n11           Japan                  25\n12           Korea                  10\n13          Mexico                  10\n14     Netherlands                  20\n15           Spain                   9\n16          Sweden                  12\n17     Switzerland                  13\n18          Taiwan                  10\n19  United Kingdom                  25\n20   United States                 101",
      "text/html": "<div>\n<style scoped>\n    .dataframe tbody tr th:only-of-type {\n        vertical-align: middle;\n    }\n\n    .dataframe tbody tr th {\n        vertical-align: top;\n    }\n\n    .dataframe thead th {\n        text-align: right;\n    }\n</style>\n<table border=\"1\" class=\"dataframe\">\n  <thead>\n    <tr style=\"text-align: right;\">\n      <th></th>\n      <th>COUNTRY</th>\n      <th>RETAILER_SITE_CODE</th>\n    </tr>\n  </thead>\n  <tbody>\n    <tr>\n      <th>0</th>\n      <td>Australia</td>\n      <td>10</td>\n    </tr>\n    <tr>\n      <th>1</th>\n      <td>Austria</td>\n      <td>10</td>\n    </tr>\n    <tr>\n      <th>2</th>\n      <td>Belgium</td>\n      <td>10</td>\n    </tr>\n    <tr>\n      <th>3</th>\n      <td>Brazil</td>\n      <td>1</td>\n    </tr>\n    <tr>\n      <th>4</th>\n      <td>Canada</td>\n      <td>31</td>\n    </tr>\n    <tr>\n      <th>5</th>\n      <td>China</td>\n      <td>10</td>\n    </tr>\n    <tr>\n      <th>6</th>\n      <td>Denmark</td>\n      <td>6</td>\n    </tr>\n    <tr>\n      <th>7</th>\n      <td>Finland</td>\n      <td>5</td>\n    </tr>\n    <tr>\n      <th>8</th>\n      <td>France</td>\n      <td>29</td>\n    </tr>\n    <tr>\n      <th>9</th>\n      <td>Germany</td>\n      <td>32</td>\n    </tr>\n    <tr>\n      <th>10</th>\n      <td>Italy</td>\n      <td>12</td>\n    </tr>\n    <tr>\n      <th>11</th>\n      <td>Japan</td>\n      <td>25</td>\n    </tr>\n    <tr>\n      <th>12</th>\n      <td>Korea</td>\n      <td>10</td>\n    </tr>\n    <tr>\n      <th>13</th>\n      <td>Mexico</td>\n      <td>10</td>\n    </tr>\n    <tr>\n      <th>14</th>\n      <td>Netherlands</td>\n      <td>20</td>\n    </tr>\n    <tr>\n      <th>15</th>\n      <td>Spain</td>\n      <td>9</td>\n    </tr>\n    <tr>\n      <th>16</th>\n      <td>Sweden</td>\n      <td>12</td>\n    </tr>\n    <tr>\n      <th>17</th>\n      <td>Switzerland</td>\n      <td>13</td>\n    </tr>\n    <tr>\n      <th>18</th>\n      <td>Taiwan</td>\n      <td>10</td>\n    </tr>\n    <tr>\n      <th>19</th>\n      <td>United Kingdom</td>\n      <td>25</td>\n    </tr>\n    <tr>\n      <th>20</th>\n      <td>United States</td>\n      <td>101</td>\n    </tr>\n  </tbody>\n</table>\n</div>"
     },
     "execution_count": 85,
     "metadata": {},
     "output_type": "execute_result"
    }
   ],
   "source": [
    "merged_retailer_sites_df = pd.merge(retailer_site_df, country_df, left_on='COUNTRY_CODE', right_on='COUNTRY_CODE', how='inner')\n",
    "retailer_sites_by_country = merged_retailer_sites_df.groupby(['COUNTRY'])['RETAILER_SITE_CODE'].nunique().reset_index()\n",
    "retailer_sites_by_country"
   ]
  },
  {
   "cell_type": "markdown",
   "metadata": {},
   "source": [
    "Geef een overzicht met daarin van de producten behorend tot het producttype ‘Cooking Gear’ per productnaam de totaal verkochte hoeveelheid en de gemiddelde verkoopprijs. Sorteer de uitkomst op totaal verkochte hoeveelheid. (4 kolommen, 10 rijen) "
   ]
  },
  {
   "cell_type": "code",
   "execution_count": 86,
   "metadata": {
    "ExecuteTime": {
     "end_time": "2024-02-28T19:19:09.185027Z",
     "start_time": "2024-02-28T19:19:09.124029Z"
    }
   },
   "outputs": [
    {
     "data": {
      "text/plain": "                PRODUCT_NAME  QUANTITY  UNIT_SALE_PRICE PRODUCT_TYPE_EN\n9        TrailChef Water Bag     41770         5.999266    Cooking Gear\n2              TrailChef Cup     31834         6.945976    Cooking Gear\n0          TrailChef Canteen     31712        11.930119    Cooking Gear\n6      TrailChef Kitchen Kit     25964        22.210198    Cooking Gear\n8         TrailChef Utensils     15928        17.132397    Cooking Gear\n4     TrailChef Double Flame     14510       131.348013    Cooking Gear\n1         TrailChef Cook Set     12700        51.204554    Cooking Gear\n7     TrailChef Single Flame     10614        63.572397    Cooking Gear\n5           TrailChef Kettle      9900        12.130783    Cooking Gear\n3  TrailChef Deluxe Cook Set      3744       120.303667    Cooking Gear",
      "text/html": "<div>\n<style scoped>\n    .dataframe tbody tr th:only-of-type {\n        vertical-align: middle;\n    }\n\n    .dataframe tbody tr th {\n        vertical-align: top;\n    }\n\n    .dataframe thead th {\n        text-align: right;\n    }\n</style>\n<table border=\"1\" class=\"dataframe\">\n  <thead>\n    <tr style=\"text-align: right;\">\n      <th></th>\n      <th>PRODUCT_NAME</th>\n      <th>QUANTITY</th>\n      <th>UNIT_SALE_PRICE</th>\n      <th>PRODUCT_TYPE_EN</th>\n    </tr>\n  </thead>\n  <tbody>\n    <tr>\n      <th>9</th>\n      <td>TrailChef Water Bag</td>\n      <td>41770</td>\n      <td>5.999266</td>\n      <td>Cooking Gear</td>\n    </tr>\n    <tr>\n      <th>2</th>\n      <td>TrailChef Cup</td>\n      <td>31834</td>\n      <td>6.945976</td>\n      <td>Cooking Gear</td>\n    </tr>\n    <tr>\n      <th>0</th>\n      <td>TrailChef Canteen</td>\n      <td>31712</td>\n      <td>11.930119</td>\n      <td>Cooking Gear</td>\n    </tr>\n    <tr>\n      <th>6</th>\n      <td>TrailChef Kitchen Kit</td>\n      <td>25964</td>\n      <td>22.210198</td>\n      <td>Cooking Gear</td>\n    </tr>\n    <tr>\n      <th>8</th>\n      <td>TrailChef Utensils</td>\n      <td>15928</td>\n      <td>17.132397</td>\n      <td>Cooking Gear</td>\n    </tr>\n    <tr>\n      <th>4</th>\n      <td>TrailChef Double Flame</td>\n      <td>14510</td>\n      <td>131.348013</td>\n      <td>Cooking Gear</td>\n    </tr>\n    <tr>\n      <th>1</th>\n      <td>TrailChef Cook Set</td>\n      <td>12700</td>\n      <td>51.204554</td>\n      <td>Cooking Gear</td>\n    </tr>\n    <tr>\n      <th>7</th>\n      <td>TrailChef Single Flame</td>\n      <td>10614</td>\n      <td>63.572397</td>\n      <td>Cooking Gear</td>\n    </tr>\n    <tr>\n      <th>5</th>\n      <td>TrailChef Kettle</td>\n      <td>9900</td>\n      <td>12.130783</td>\n      <td>Cooking Gear</td>\n    </tr>\n    <tr>\n      <th>3</th>\n      <td>TrailChef Deluxe Cook Set</td>\n      <td>3744</td>\n      <td>120.303667</td>\n      <td>Cooking Gear</td>\n    </tr>\n  </tbody>\n</table>\n</div>"
     },
     "execution_count": 86,
     "metadata": {},
     "output_type": "execute_result"
    }
   ],
   "source": [
    "cooking_gear_products = product_df[product_df['PRODUCT_TYPE_CODE'] == '1']\n",
    "merged_df = pd.merge(cooking_gear_products, order_details_df, on='PRODUCT_NUMBER', how='inner')\n",
    "merged_df = pd.merge(merged_df, product_type_df, on='PRODUCT_TYPE_CODE', how='inner')\n",
    "result_df = merged_df.groupby('PRODUCT_NAME').agg({\n",
    "    'QUANTITY': 'sum',\n",
    "    'UNIT_SALE_PRICE': 'mean',\n",
    "    'PRODUCT_TYPE_EN': 'first'\n",
    "}).reset_index()\n",
    "result_df = result_df.sort_values(by='QUANTITY', ascending=False)\n",
    "result_df"
   ]
  },
  {
   "cell_type": "markdown",
   "metadata": {},
   "source": [
    "Geef een overzicht met daarin van de verkopers behorend tot de verkoopafdeling uit ‘Amsterdam’ de voornaam en achternaam van de verkoper en zijn laagste en hoogste verkooptarget van 2006. (4 kolommen, 4 rijen) "
   ]
  },
  {
   "cell_type": "code",
   "execution_count": 87,
   "metadata": {
    "ExecuteTime": {
     "end_time": "2024-02-28T19:19:09.392830Z",
     "start_time": "2024-02-28T19:19:09.379027Z"
    }
   },
   "outputs": [
    {
     "data": {
      "text/plain": "   FIRST_NAME         LAST_NAME EXTENSION\n35    Belinda  Jansen-Velasquez       187\n36      Ellen           Shapiro       179\n37        Jan         Haverkamp       163\n38       Kick           Kalkman       197\n39      Maria          Laponder       144",
      "text/html": "<div>\n<style scoped>\n    .dataframe tbody tr th:only-of-type {\n        vertical-align: middle;\n    }\n\n    .dataframe tbody tr th {\n        vertical-align: top;\n    }\n\n    .dataframe thead th {\n        text-align: right;\n    }\n</style>\n<table border=\"1\" class=\"dataframe\">\n  <thead>\n    <tr style=\"text-align: right;\">\n      <th></th>\n      <th>FIRST_NAME</th>\n      <th>LAST_NAME</th>\n      <th>EXTENSION</th>\n    </tr>\n  </thead>\n  <tbody>\n    <tr>\n      <th>35</th>\n      <td>Belinda</td>\n      <td>Jansen-Velasquez</td>\n      <td>187</td>\n    </tr>\n    <tr>\n      <th>36</th>\n      <td>Ellen</td>\n      <td>Shapiro</td>\n      <td>179</td>\n    </tr>\n    <tr>\n      <th>37</th>\n      <td>Jan</td>\n      <td>Haverkamp</td>\n      <td>163</td>\n    </tr>\n    <tr>\n      <th>38</th>\n      <td>Kick</td>\n      <td>Kalkman</td>\n      <td>197</td>\n    </tr>\n    <tr>\n      <th>39</th>\n      <td>Maria</td>\n      <td>Laponder</td>\n      <td>144</td>\n    </tr>\n  </tbody>\n</table>\n</div>"
     },
     "execution_count": 87,
     "metadata": {},
     "output_type": "execute_result"
    }
   ],
   "source": [
    "merged_df = pd.merge(sales_staff_df, sales_branch_df, on='SALES_BRANCH_CODE', how='left')\n",
    "sales_staff_amsterdam_df = merged_df[merged_df['CITY'] == 'Amsterdam']\n",
    "result_df = sales_staff_amsterdam_df[['FIRST_NAME', 'LAST_NAME', 'EXTENSION']]\n",
    "result_df"
   ]
  },
  {
   "cell_type": "markdown",
   "metadata": {},
   "source": [
    "Geef een overzicht met daarin per land de naam van het land, de naam van de stad waar de verkoopafdeling is gevestigd (noem de kolomnaam in het overzicht ‘verkoper’) en het aantal steden waar zich klanten bevinden in dat land (noem de kolomnaam in het overzicht ‘klanten’) (3 kolommen, 29 rijen) "
   ]
  },
  {
   "cell_type": "code",
   "execution_count": 88,
   "metadata": {
    "ExecuteTime": {
     "end_time": "2024-02-28T19:19:09.700838Z",
     "start_time": "2024-02-28T19:19:09.684337Z"
    }
   },
   "outputs": [
    {
     "data": {
      "text/plain": "              Land          Verkoper  Klanten\n0        Australia         Melbourne        1\n1          Austria              Wien        1\n2          Belgium          Heverlee        1\n3           Brazil         São Paulo        1\n4           Canada           Calgary        1\n5           Canada           Toronto        1\n6            China          Shanghai        1\n7          Finland            Kuopio        1\n8           France              Lyon        1\n9           France             Paris        1\n10         Germany           Hamburg        1\n11         Germany           München        1\n12           Italy            Milano        1\n13           Japan        Osaka City        1\n14           Japan             Tokyo        1\n15           Korea             Seoul        1\n16          Mexico  Distrito Federal        1\n17     Netherlands         Amsterdam        1\n18           Spain            Bilbao        1\n19          Sweden             Kista        1\n20     Switzerland            Zürich        1\n21          Taiwan         San Chung        1\n22  United Kingdom        Birmingham        1\n23  United Kingdom            London        1\n24   United States            Boston        1\n25   United States       Los Angeles        1\n26   United States             Miami        1\n27   United States           Seattle        1",
      "text/html": "<div>\n<style scoped>\n    .dataframe tbody tr th:only-of-type {\n        vertical-align: middle;\n    }\n\n    .dataframe tbody tr th {\n        vertical-align: top;\n    }\n\n    .dataframe thead th {\n        text-align: right;\n    }\n</style>\n<table border=\"1\" class=\"dataframe\">\n  <thead>\n    <tr style=\"text-align: right;\">\n      <th></th>\n      <th>Land</th>\n      <th>Verkoper</th>\n      <th>Klanten</th>\n    </tr>\n  </thead>\n  <tbody>\n    <tr>\n      <th>0</th>\n      <td>Australia</td>\n      <td>Melbourne</td>\n      <td>1</td>\n    </tr>\n    <tr>\n      <th>1</th>\n      <td>Austria</td>\n      <td>Wien</td>\n      <td>1</td>\n    </tr>\n    <tr>\n      <th>2</th>\n      <td>Belgium</td>\n      <td>Heverlee</td>\n      <td>1</td>\n    </tr>\n    <tr>\n      <th>3</th>\n      <td>Brazil</td>\n      <td>São Paulo</td>\n      <td>1</td>\n    </tr>\n    <tr>\n      <th>4</th>\n      <td>Canada</td>\n      <td>Calgary</td>\n      <td>1</td>\n    </tr>\n    <tr>\n      <th>5</th>\n      <td>Canada</td>\n      <td>Toronto</td>\n      <td>1</td>\n    </tr>\n    <tr>\n      <th>6</th>\n      <td>China</td>\n      <td>Shanghai</td>\n      <td>1</td>\n    </tr>\n    <tr>\n      <th>7</th>\n      <td>Finland</td>\n      <td>Kuopio</td>\n      <td>1</td>\n    </tr>\n    <tr>\n      <th>8</th>\n      <td>France</td>\n      <td>Lyon</td>\n      <td>1</td>\n    </tr>\n    <tr>\n      <th>9</th>\n      <td>France</td>\n      <td>Paris</td>\n      <td>1</td>\n    </tr>\n    <tr>\n      <th>10</th>\n      <td>Germany</td>\n      <td>Hamburg</td>\n      <td>1</td>\n    </tr>\n    <tr>\n      <th>11</th>\n      <td>Germany</td>\n      <td>München</td>\n      <td>1</td>\n    </tr>\n    <tr>\n      <th>12</th>\n      <td>Italy</td>\n      <td>Milano</td>\n      <td>1</td>\n    </tr>\n    <tr>\n      <th>13</th>\n      <td>Japan</td>\n      <td>Osaka City</td>\n      <td>1</td>\n    </tr>\n    <tr>\n      <th>14</th>\n      <td>Japan</td>\n      <td>Tokyo</td>\n      <td>1</td>\n    </tr>\n    <tr>\n      <th>15</th>\n      <td>Korea</td>\n      <td>Seoul</td>\n      <td>1</td>\n    </tr>\n    <tr>\n      <th>16</th>\n      <td>Mexico</td>\n      <td>Distrito Federal</td>\n      <td>1</td>\n    </tr>\n    <tr>\n      <th>17</th>\n      <td>Netherlands</td>\n      <td>Amsterdam</td>\n      <td>1</td>\n    </tr>\n    <tr>\n      <th>18</th>\n      <td>Spain</td>\n      <td>Bilbao</td>\n      <td>1</td>\n    </tr>\n    <tr>\n      <th>19</th>\n      <td>Sweden</td>\n      <td>Kista</td>\n      <td>1</td>\n    </tr>\n    <tr>\n      <th>20</th>\n      <td>Switzerland</td>\n      <td>Zürich</td>\n      <td>1</td>\n    </tr>\n    <tr>\n      <th>21</th>\n      <td>Taiwan</td>\n      <td>San Chung</td>\n      <td>1</td>\n    </tr>\n    <tr>\n      <th>22</th>\n      <td>United Kingdom</td>\n      <td>Birmingham</td>\n      <td>1</td>\n    </tr>\n    <tr>\n      <th>23</th>\n      <td>United Kingdom</td>\n      <td>London</td>\n      <td>1</td>\n    </tr>\n    <tr>\n      <th>24</th>\n      <td>United States</td>\n      <td>Boston</td>\n      <td>1</td>\n    </tr>\n    <tr>\n      <th>25</th>\n      <td>United States</td>\n      <td>Los Angeles</td>\n      <td>1</td>\n    </tr>\n    <tr>\n      <th>26</th>\n      <td>United States</td>\n      <td>Miami</td>\n      <td>1</td>\n    </tr>\n    <tr>\n      <th>27</th>\n      <td>United States</td>\n      <td>Seattle</td>\n      <td>1</td>\n    </tr>\n  </tbody>\n</table>\n</div>"
     },
     "execution_count": 88,
     "metadata": {},
     "output_type": "execute_result"
    }
   ],
   "source": [
    "merged_sales_branch = pd.merge(sales_branch_df, country_df, on='COUNTRY_CODE', how='left')\n",
    "grouped_data = merged_sales_branch.groupby(['COUNTRY', 'CITY']).size().reset_index(name='Klanten')\n",
    "result_df = grouped_data[['COUNTRY', 'CITY', 'Klanten']]\n",
    "result_df.columns = ['Land', 'Verkoper', 'Klanten']\n",
    "result_df"
   ]
  },
  {
   "cell_type": "markdown",
   "metadata": {},
   "source": [
    "## Pythonvertalingen van SUBSELECT en UNION met o.a. for-loops"
   ]
  },
  {
   "cell_type": "markdown",
   "metadata": {},
   "source": [
    "Geef een overzicht met daarin de voornaam en de achternaam van de medewerkers die nog nooit wat hebben verkocht (2 kolommen, 25 rijen) "
   ]
  },
  {
   "cell_type": "code",
   "execution_count": 89,
   "metadata": {
    "ExecuteTime": {
     "end_time": "2024-02-28T19:19:09.861352Z",
     "start_time": "2024-02-28T19:19:09.846835Z"
    }
   },
   "outputs": [
    {
     "data": {
      "text/plain": "   FIRST_NAME      LAST_NAME\n7      Walter         Taylor\n8    Penelope        Tamrine\n11      Polly         Linton\n19      Gracy        Gellens\n26       Else         Mörike\n27      Frank          Fuchs\n30      Fritz         Hirsch\n31       Jörg          Kunze\n33      Maria      Iacobucci\n38       Kick        Kalkman\n43      Karin      Bergström\n44      Denis           Pagé\n47      Sally          White\n49      Frank        Bretton\n50    Georges  Saint-Germain\n56       Alex      Rodriguez\n60   Samantha          Floyd\n65      Julie          Olsen\n69      Corey         Wright\n76    Estelle        Johnson\n77       Greg        Belding\n80      Julie        Béchard\n84      Lucía          Reyna\n89     Kazumi        Uragome\n91      Alice         Walter",
      "text/html": "<div>\n<style scoped>\n    .dataframe tbody tr th:only-of-type {\n        vertical-align: middle;\n    }\n\n    .dataframe tbody tr th {\n        vertical-align: top;\n    }\n\n    .dataframe thead th {\n        text-align: right;\n    }\n</style>\n<table border=\"1\" class=\"dataframe\">\n  <thead>\n    <tr style=\"text-align: right;\">\n      <th></th>\n      <th>FIRST_NAME</th>\n      <th>LAST_NAME</th>\n    </tr>\n  </thead>\n  <tbody>\n    <tr>\n      <th>7</th>\n      <td>Walter</td>\n      <td>Taylor</td>\n    </tr>\n    <tr>\n      <th>8</th>\n      <td>Penelope</td>\n      <td>Tamrine</td>\n    </tr>\n    <tr>\n      <th>11</th>\n      <td>Polly</td>\n      <td>Linton</td>\n    </tr>\n    <tr>\n      <th>19</th>\n      <td>Gracy</td>\n      <td>Gellens</td>\n    </tr>\n    <tr>\n      <th>26</th>\n      <td>Else</td>\n      <td>Mörike</td>\n    </tr>\n    <tr>\n      <th>27</th>\n      <td>Frank</td>\n      <td>Fuchs</td>\n    </tr>\n    <tr>\n      <th>30</th>\n      <td>Fritz</td>\n      <td>Hirsch</td>\n    </tr>\n    <tr>\n      <th>31</th>\n      <td>Jörg</td>\n      <td>Kunze</td>\n    </tr>\n    <tr>\n      <th>33</th>\n      <td>Maria</td>\n      <td>Iacobucci</td>\n    </tr>\n    <tr>\n      <th>38</th>\n      <td>Kick</td>\n      <td>Kalkman</td>\n    </tr>\n    <tr>\n      <th>43</th>\n      <td>Karin</td>\n      <td>Bergström</td>\n    </tr>\n    <tr>\n      <th>44</th>\n      <td>Denis</td>\n      <td>Pagé</td>\n    </tr>\n    <tr>\n      <th>47</th>\n      <td>Sally</td>\n      <td>White</td>\n    </tr>\n    <tr>\n      <th>49</th>\n      <td>Frank</td>\n      <td>Bretton</td>\n    </tr>\n    <tr>\n      <th>50</th>\n      <td>Georges</td>\n      <td>Saint-Germain</td>\n    </tr>\n    <tr>\n      <th>56</th>\n      <td>Alex</td>\n      <td>Rodriguez</td>\n    </tr>\n    <tr>\n      <th>60</th>\n      <td>Samantha</td>\n      <td>Floyd</td>\n    </tr>\n    <tr>\n      <th>65</th>\n      <td>Julie</td>\n      <td>Olsen</td>\n    </tr>\n    <tr>\n      <th>69</th>\n      <td>Corey</td>\n      <td>Wright</td>\n    </tr>\n    <tr>\n      <th>76</th>\n      <td>Estelle</td>\n      <td>Johnson</td>\n    </tr>\n    <tr>\n      <th>77</th>\n      <td>Greg</td>\n      <td>Belding</td>\n    </tr>\n    <tr>\n      <th>80</th>\n      <td>Julie</td>\n      <td>Béchard</td>\n    </tr>\n    <tr>\n      <th>84</th>\n      <td>Lucía</td>\n      <td>Reyna</td>\n    </tr>\n    <tr>\n      <th>89</th>\n      <td>Kazumi</td>\n      <td>Uragome</td>\n    </tr>\n    <tr>\n      <th>91</th>\n      <td>Alice</td>\n      <td>Walter</td>\n    </tr>\n  </tbody>\n</table>\n</div>"
     },
     "execution_count": 89,
     "metadata": {},
     "output_type": "execute_result"
    }
   ],
   "source": [
    "# Find all sales staff codes in order_header_df\n",
    "existing_codes = order_header_df['SALES_STAFF_CODE']\n",
    "\n",
    "# Filter sales_staff_df to exclude codes in existing_codes\n",
    "staff_without_sales = sales_staff_df[~sales_staff_df['SALES_STAFF_CODE'].isin(existing_codes)]\n",
    "selected_columns = ['FIRST_NAME', 'LAST_NAME']\n",
    "filtered_staff = staff_without_sales[selected_columns]\n",
    "\n",
    "# Print the DataFrame\n",
    "filtered_staff"
   ]
  },
  {
   "cell_type": "markdown",
   "metadata": {},
   "source": [
    "Geef een overzicht met daarin het aantal producten waarvan de marge lager is dan de gemiddelde marge van alle producten samen. Geef in het overzicht tevens aan wat de gemiddelde marge is van dit aantal producten waarvan de marge lager dan de gemiddelde marge van alle producten samen is. (1 kolom, 2 rijen) "
   ]
  },
  {
   "cell_type": "code",
   "execution_count": 90,
   "metadata": {
    "ExecuteTime": {
     "end_time": "2024-02-28T19:19:10.070208Z",
     "start_time": "2024-02-28T19:19:10.058355Z"
    }
   },
   "outputs": [
    {
     "data": {
      "text/plain": "   Average Margin  Products Below Avg\n0        0.396609                  59",
      "text/html": "<div>\n<style scoped>\n    .dataframe tbody tr th:only-of-type {\n        vertical-align: middle;\n    }\n\n    .dataframe tbody tr th {\n        vertical-align: top;\n    }\n\n    .dataframe thead th {\n        text-align: right;\n    }\n</style>\n<table border=\"1\" class=\"dataframe\">\n  <thead>\n    <tr style=\"text-align: right;\">\n      <th></th>\n      <th>Average Margin</th>\n      <th>Products Below Avg</th>\n    </tr>\n  </thead>\n  <tbody>\n    <tr>\n      <th>0</th>\n      <td>0.396609</td>\n      <td>59</td>\n    </tr>\n  </tbody>\n</table>\n</div>"
     },
     "execution_count": 90,
     "metadata": {},
     "output_type": "execute_result"
    }
   ],
   "source": [
    "numericMargin = pd.to_numeric(product_df['MARGIN'])\n",
    "total_margin = numericMargin.sum()\n",
    "# shape wordt gebruikt om het aantal rijen en kolommen te bepalen door[0] bepaal je aantal rijen en met [1] aantal kolommen\n",
    "total_Products = product_df['PRODUCT_NUMBER'].count()\n",
    "avg_margin_product = total_margin/total_Products\n",
    "low_margin_products = product_df['MARGIN'] < avg_margin_product\n",
    "\n",
    "total_low_margin = low_margin_products.sum()\n",
    "data = {\n",
    "    \"Average Margin\": [avg_margin_product],\n",
    "    \"Products Below Avg\": [low_margin_products.sum()]\n",
    "}\n",
    "\n",
    "overview_df = pd.DataFrame(data)\n",
    "\n",
    "overview_df"
   ]
  },
  {
   "cell_type": "markdown",
   "metadata": {},
   "source": [
    "Geef een overzicht met daarin de namen van de producten die voor meer dan 500 (verkoopprijs) zijn verkocht maar nooit zijn teruggebracht. (1 kolom, 13 rijen) "
   ]
  },
  {
   "cell_type": "code",
   "execution_count": 91,
   "metadata": {
    "ExecuteTime": {
     "end_time": "2024-02-28T19:19:10.236890Z",
     "start_time": "2024-02-28T19:19:10.228220Z"
    }
   },
   "outputs": [
    {
     "data": {
      "text/plain": "4              Hailstorm Titanium Irons\n6         Lady Hailstorm Titanium Irons\n7          Hailstorm Titanium Woods Set\n8             Hailstorm Steel Woods Set\n9     Lady Hailstorm Titanium Woods Set\n10       Lady Hailstorm Steel Woods Set\n19                            Star Dome\n21                         Star Gazer 3\n22                         Star Gazer 6\n55                       Husky Rope 200\nName: PRODUCT_NAME, dtype: object"
     },
     "execution_count": 91,
     "metadata": {},
     "output_type": "execute_result"
    }
   ],
   "source": [
    "products_over500 = product_df[\"PRODUCTION_COST\"] * (1 +product_df[\"MARGIN\"]) > 500\n",
    "over500_products_df = product_df[products_over500]\n",
    "over500_product_names = over500_products_df[\"PRODUCT_NAME\"]\n",
    "over500_product_names #klopt niet met de 13 rijen die verwacht worden en ik moet ook nog de check uitvoeren of ze nog nooit zijn teruggebracht"
   ]
  },
  {
   "cell_type": "markdown",
   "metadata": {},
   "source": [
    "Geef een overzicht met daarin per (achternaam van) medewerker of hij/zij manager is of niet, door deze informatie toe te voegen als extra 'Ja/Nee'-kolom.<br>\n",
    "Hint: gebruik een for-loop waarin je o.a. bepaalt of het woord 'Manager' in de functie (position_en) staat. (2 kolommen, 102 rijen)."
   ]
  },
  {
   "cell_type": "code",
   "execution_count": 92,
   "metadata": {
    "ExecuteTime": {
     "end_time": "2024-02-28T19:19:10.354885Z",
     "start_time": "2024-02-28T19:19:10.348885Z"
    }
   },
   "outputs": [
    {
     "data": {
      "text/plain": "(0      Savolainen\n 1             Kim\n 2            Choi\n 3             Kao\n 4            Fang\n           ...    \n 97       Iglesias\n 98          Lopes\n 99         Barros\n 100     Guimarães\n 101      Lindholm\n Name: LAST_NAME, Length: 102, dtype: object,\n 0      Level 2 Sales Representative\n 1      Level 2 Sales Representative\n 2      Level 3 Sales Representative\n 3      Level 2 Sales Representative\n 4      Level 3 Sales Representative\n                    ...             \n 97     Level 2 Sales Representative\n 98                   Branch Manager\n 99     Level 3 Sales Representative\n 100    Level 2 Sales Representative\n 101    Level 3 Sales Representative\n Name: POSITION_EN, Length: 102, dtype: object)"
     },
     "execution_count": 92,
     "metadata": {},
     "output_type": "execute_result"
    }
   ],
   "source": [
    "naam_functie = sales_staff_df['LAST_NAME'], sales_staff_df['POSITION_EN']\n",
    "naam_functie"
   ]
  },
  {
   "cell_type": "markdown",
   "metadata": {},
   "source": [
    "Met de onderstaande code laat je Python het huidige jaar uitrekenen."
   ]
  },
  {
   "cell_type": "code",
   "execution_count": 93,
   "metadata": {
    "ExecuteTime": {
     "end_time": "2024-02-28T19:19:10.538481Z",
     "start_time": "2024-02-28T19:19:10.532888Z"
    }
   },
   "outputs": [
    {
     "data": {
      "text/plain": "2024"
     },
     "execution_count": 93,
     "metadata": {},
     "output_type": "execute_result"
    }
   ],
   "source": [
    "from datetime import date\n",
    "date.today().year"
   ]
  },
  {
   "cell_type": "markdown",
   "metadata": {},
   "source": [
    "Met de onderstaande code selecteer je op een bepaald jaartal uit een datum."
   ]
  },
  {
   "cell_type": "code",
   "execution_count": 94,
   "metadata": {
    "ExecuteTime": {
     "end_time": "2024-02-28T19:19:10.607653Z",
     "start_time": "2024-02-28T19:19:10.602997Z"
    }
   },
   "outputs": [
    {
     "data": {
      "text/plain": "2013"
     },
     "execution_count": 94,
     "metadata": {},
     "output_type": "execute_result"
    }
   ],
   "source": [
    "from datetime import datetime\n",
    "\n",
    "date_str = '16-8-2013'\n",
    "date_format = '%d-%m-%Y'\n",
    "date_obj = datetime.strptime(date_str, date_format)\n",
    "\n",
    "date_obj.year"
   ]
  },
  {
   "cell_type": "markdown",
   "metadata": {},
   "source": [
    "Geef met behulp van bovenstaande hulpcode een overzicht met daarin op basis van het aantal jaar dat iemand in dienst is of een medewerker ‘kort in dienst’ (minder dan 25 jaar in dienst) of een ‘lang in dienst’ (groter gelijk dan 12 jaar in dienst) is. Geef daarbij per medewerker in een aparte kolom zowel ‘kort in dienst’ als ‘lang in dienst’ aan. Gebruik (wederom) een for-loop.<br>\n",
    "(2 kolommen, 102 rijen) "
   ]
  },
  {
   "cell_type": "code",
   "execution_count": 94,
   "metadata": {
    "ExecuteTime": {
     "end_time": "2024-02-28T19:19:10.777298Z",
     "start_time": "2024-02-28T19:19:10.773168Z"
    }
   },
   "outputs": [],
   "source": []
  }
 ],
 "metadata": {
  "kernelspec": {
   "display_name": "python-in-deds-P4iSP_yI-py3.11",
   "language": "python",
   "name": "python3"
  },
  "language_info": {
   "codemirror_mode": {
    "name": "ipython",
    "version": 3
   },
   "file_extension": ".py",
   "mimetype": "text/x-python",
   "name": "python",
   "nbconvert_exporter": "python",
   "pygments_lexer": "ipython3",
   "version": "3.12.2"
  }
 },
 "nbformat": 4,
 "nbformat_minor": 2
}
