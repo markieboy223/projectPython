{
 "cells": [
  {
   "cell_type": "code",
   "execution_count": 3,
   "id": "initial_id",
   "metadata": {
    "ExecuteTime": {
     "end_time": "2024-03-27T12:25:10.432004200Z",
     "start_time": "2024-03-27T12:17:47.204868800Z"
    }
   },
   "outputs": [
    {
     "ename": "ModuleNotFoundError",
     "evalue": "No module named 'bark'",
     "output_type": "error",
     "traceback": [
      "\u001b[1;31m---------------------------------------------------------------------------\u001b[0m",
      "\u001b[1;31mModuleNotFoundError\u001b[0m                       Traceback (most recent call last)",
      "Cell \u001b[1;32mIn[3], line 1\u001b[0m\n\u001b[1;32m----> 1\u001b[0m \u001b[38;5;28;01mfrom\u001b[39;00m \u001b[38;5;21;01mbark\u001b[39;00m \u001b[38;5;28;01mimport\u001b[39;00m SAMPLE_RATE, generate_audio, preload_models\n\u001b[0;32m      2\u001b[0m \u001b[38;5;28;01mfrom\u001b[39;00m \u001b[38;5;21;01mscipy\u001b[39;00m\u001b[38;5;21;01m.\u001b[39;00m\u001b[38;5;21;01mio\u001b[39;00m\u001b[38;5;21;01m.\u001b[39;00m\u001b[38;5;21;01mwavfile\u001b[39;00m \u001b[38;5;28;01mimport\u001b[39;00m write \u001b[38;5;28;01mas\u001b[39;00m write_wav\n\u001b[0;32m      3\u001b[0m \u001b[38;5;28;01mfrom\u001b[39;00m \u001b[38;5;21;01mIPython\u001b[39;00m\u001b[38;5;21;01m.\u001b[39;00m\u001b[38;5;21;01mdisplay\u001b[39;00m \u001b[38;5;28;01mimport\u001b[39;00m Audio, display\n",
      "\u001b[1;31mModuleNotFoundError\u001b[0m: No module named 'bark'"
     ]
    }
   ],
   "source": [
    "from bark import SAMPLE_RATE, generate_audio, preload_models\n",
    "from scipy.io.wavfile import write as write_wav\n",
    "from IPython.display import Audio, display\n",
    "\n",
    "# download and load all models\n",
    "preload_models()\n",
    "\n",
    "# generate audio from text\n",
    "text_prompt = \"\"\"\n",
    "     Hello, my name is Suno. And, uh — and I like pizza. [laughs] \n",
    "     But I also have other interests such as playing tic tac toe.\n",
    "\"\"\"\n",
    "audio_array = generate_audio(text_prompt)\n",
    "\n",
    "# save audio to disk\n",
    "write_wav(\"bark_generation.wav\", SAMPLE_RATE, audio_array)\n",
    "\n",
    "# play audio in notebook\n",
    "display(Audio(audio_array, rate=SAMPLE_RATE))\n"
   ]
  }
 ],
 "metadata": {
  "kernelspec": {
   "display_name": "Python 3 (ipykernel)",
   "language": "python",
   "name": "python3"
  },
  "language_info": {
   "codemirror_mode": {
    "name": "ipython",
    "version": 3
   },
   "file_extension": ".py",
   "mimetype": "text/x-python",
   "name": "python",
   "nbconvert_exporter": "python",
   "pygments_lexer": "ipython3",
   "version": "3.11.7"
  }
 },
 "nbformat": 4,
 "nbformat_minor": 5
}
