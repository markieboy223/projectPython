{
 "cells": [
  {
   "cell_type": "code",
   "outputs": [],
   "source": [
    "import random\n",
    "# Define the desired number of elements and value range\n",
    "num_elements = 1000\n",
    "min_value = 1\n",
    "max_value = 1000\n",
    "# Create an empty list\n",
    "my_list1 = []\n",
    "my_list2 = []\n",
    "my_list3 = []\n",
    "# Generate random integers and append them to the lists\n",
    "for _ in range(num_elements):  my_list1.append(random.randint(min_value, max_value))\n",
    "for _ in range(num_elements):  my_list2.append(random.randint(min_value,max_value))\n",
    "for _ in range(num_elements):  my_list3.append(random.randint(min_value,max_value))\n",
    "# Print the list\n",
    "# print(my_list3)"
   ],
   "metadata": {
    "collapsed": false,
    "ExecuteTime": {
     "end_time": "2024-02-27T11:24:03.315668Z",
     "start_time": "2024-02-27T11:24:03.285144Z"
    }
   },
   "id": "35b346fcf3cac30a",
   "execution_count": 8
  },
  {
   "cell_type": "code",
   "outputs": [],
   "source": [
    "#Goed voor complexe problemen, divide and conquer principle net als merge sort\n",
    "def quicksort(array):\n",
    "    # Als lengte array kleiner is dan 2 elementen return.\n",
    "    if len(array) < 2:\n",
    "        return array\n",
    "    # 3 arrays\n",
    "    low, same, high = [], [], []\n",
    "\n",
    "    # Pak laatste getal van de array.\n",
    "    pivot = array[len(array) - 1]\n",
    "    # Voor iedere item in de array kijk of deze kleiner, gelijk aan of groter dan het pivot getal is. Als dit dit is stop dat item in die bijbehorende array.\n",
    "    for item in array:\n",
    "        if item < pivot:\n",
    "            low.append(item)\n",
    "        elif item == pivot:\n",
    "            same.append(item)\n",
    "        elif item > pivot:\n",
    "            high.append(item)\n",
    "\n",
    "    # combineer 3 lijsten en return deze, sorteer ook lage en hoge lijst.\n",
    "    return quicksort(low) + same + quicksort(high)"
   ],
   "metadata": {
    "collapsed": false,
    "ExecuteTime": {
     "end_time": "2024-02-27T11:22:55.137430Z",
     "start_time": "2024-02-27T11:22:55.132149Z"
    }
   },
   "id": "b6b14e5d95e6e163",
   "execution_count": 3
  },
  {
   "cell_type": "code",
   "outputs": [
    {
     "data": {
      "text/plain": "[1,\n 2,\n 2,\n 3,\n 3,\n 4,\n 4,\n 5,\n 5,\n 5,\n 5,\n 5,\n 5,\n 5,\n 6,\n 6,\n 6,\n 6,\n 6,\n 6,\n 6,\n 7,\n 7,\n 7,\n 8,\n 8,\n 8,\n 9,\n 9,\n 10,\n 11,\n 11,\n 12,\n 14,\n 15,\n 15,\n 16,\n 16,\n 16,\n 16,\n 16,\n 17,\n 18,\n 18,\n 19,\n 19,\n 19,\n 20,\n 20,\n 20,\n 20,\n 20,\n 21,\n 21,\n 21,\n 22,\n 22,\n 22,\n 22,\n 22,\n 22,\n 23,\n 23,\n 24,\n 24,\n 25,\n 25,\n 25,\n 29,\n 29,\n 29,\n 29,\n 29,\n 30,\n 30,\n 31,\n 31,\n 31,\n 32,\n 32,\n 32,\n 32,\n 32,\n 33,\n 34,\n 34,\n 34,\n 34,\n 35,\n 35,\n 35,\n 35,\n 35,\n 36,\n 36,\n 36,\n 36,\n 37,\n 38,\n 38,\n 39,\n 39,\n 39,\n 39,\n 41,\n 41,\n 41,\n 41,\n 42,\n 42,\n 42,\n 43,\n 43,\n 44,\n 44,\n 45,\n 45,\n 46,\n 47,\n 48,\n 48,\n 48,\n 48,\n 48,\n 48,\n 48,\n 49,\n 50,\n 50,\n 50,\n 50,\n 50,\n 51,\n 51,\n 51,\n 52,\n 52,\n 53,\n 53,\n 53,\n 53,\n 53,\n 54,\n 54,\n 55,\n 55,\n 57,\n 57,\n 57,\n 57,\n 57,\n 57,\n 58,\n 58,\n 58,\n 58,\n 58,\n 59,\n 59,\n 60,\n 60,\n 61,\n 61,\n 61,\n 61,\n 61,\n 62,\n 62,\n 62,\n 62,\n 62,\n 62,\n 63,\n 63,\n 64,\n 64,\n 64,\n 64,\n 64,\n 64,\n 64,\n 64,\n 65,\n 66,\n 67,\n 67,\n 67,\n 67,\n 68,\n 68,\n 69,\n 69,\n 69,\n 70,\n 70,\n 70,\n 70,\n 71,\n 71,\n 71,\n 71,\n 72,\n 72,\n 73,\n 73,\n 73,\n 73,\n 73,\n 73,\n 73,\n 73,\n 74,\n 74,\n 74,\n 74,\n 75,\n 75,\n 75,\n 76,\n 76,\n 76,\n 76,\n 77,\n 78,\n 78,\n 78,\n 79,\n 79,\n 79,\n 80,\n 80,\n 80,\n 82,\n 83,\n 83,\n 83,\n 83,\n 83,\n 84,\n 84,\n 84,\n 84,\n 84,\n 84,\n 85,\n 85,\n 85,\n 86,\n 86,\n 87,\n 87,\n 88,\n 88,\n 89,\n 89,\n 90,\n 90,\n 90,\n 90,\n 91,\n 91,\n 91,\n 91,\n 91,\n 92,\n 92,\n 93,\n 93,\n 94,\n 95,\n 95,\n 95,\n 95,\n 95,\n 96,\n 96,\n 96,\n 96,\n 96,\n 96,\n 98,\n 98,\n 98,\n 98,\n 98,\n 99,\n 99,\n 99,\n 99,\n 101,\n 101,\n 101,\n 101,\n 102,\n 102,\n 102,\n 103,\n 104,\n 104,\n 105,\n 105,\n 106,\n 106,\n 106,\n 107,\n 107,\n 108,\n 108,\n 108,\n 108,\n 108,\n 109,\n 109,\n 109,\n 110,\n 110,\n 110,\n 110,\n 110,\n 110,\n 110,\n 111,\n 111,\n 111,\n 111,\n 111,\n 112,\n 112,\n 112,\n 113,\n 113,\n 114,\n 114,\n 114,\n 114,\n 114,\n 115,\n 115,\n 115,\n 115,\n 115,\n 115,\n 116,\n 117,\n 117,\n 117,\n 118,\n 118,\n 118,\n 118,\n 118,\n 119,\n 119,\n 120,\n 120,\n 120,\n 121,\n 121,\n 121,\n 121,\n 121,\n 121,\n 122,\n 122,\n 122,\n 122,\n 122,\n 123,\n 123,\n 123,\n 123,\n 123,\n 123,\n 124,\n 125,\n 125,\n 125,\n 126,\n 126,\n 126,\n 127,\n 127,\n 127,\n 128,\n 128,\n 128,\n 129,\n 130,\n 130,\n 130,\n 131,\n 131,\n 131,\n 133,\n 133,\n 133,\n 133,\n 133,\n 133,\n 133,\n 134,\n 134,\n 134,\n 135,\n 135,\n 136,\n 136,\n 136,\n 136,\n 136,\n 136,\n 137,\n 137,\n 137,\n 137,\n 137,\n 137,\n 137,\n 138,\n 138,\n 138,\n 139,\n 140,\n 140,\n 140,\n 140,\n 140,\n 140,\n 141,\n 141,\n 141,\n 141,\n 142,\n 142,\n 142,\n 143,\n 143,\n 143,\n 143,\n 144,\n 144,\n 145,\n 146,\n 146,\n 147,\n 147,\n 147,\n 147,\n 148,\n 148,\n 148,\n 149,\n 149,\n 149,\n 150,\n 150,\n 150,\n 150,\n 151,\n 153,\n 153,\n 153,\n 153,\n 154,\n 154,\n 154,\n 154,\n 154,\n 154,\n 155,\n 155,\n 155,\n 156,\n 156,\n 156,\n 156,\n 157,\n 157,\n 158,\n 158,\n 158,\n 158,\n 158,\n 158,\n 159,\n 159,\n 159,\n 159,\n 159,\n 159,\n 159,\n 159,\n 160,\n 160,\n 160,\n 160,\n 160,\n 161,\n 161,\n 161,\n 162,\n 162,\n 162,\n 163,\n 163,\n 163,\n 164,\n 164,\n 164,\n 164,\n 164,\n 166,\n 166,\n 167,\n 167,\n 167,\n 167,\n 167,\n 168,\n 168,\n 168,\n 168,\n 168,\n 168,\n 170,\n 170,\n 171,\n 171,\n 171,\n 171,\n 172,\n 172,\n 172,\n 172,\n 173,\n 173,\n 173,\n 174,\n 174,\n 174,\n 174,\n 174,\n 175,\n 175,\n 176,\n 176,\n 176,\n 177,\n 178,\n 179,\n 179,\n 179,\n 180,\n 181,\n 181,\n 181,\n 181,\n 181,\n 181,\n 182,\n 182,\n 182,\n 182,\n 182,\n 182,\n 182,\n 182,\n 182,\n 182,\n 183,\n 183,\n 183,\n 184,\n 184,\n 184,\n 184,\n 185,\n 186,\n 186,\n 187,\n 187,\n 188,\n 188,\n 188,\n 188,\n 189,\n 189,\n 191,\n 191,\n 192,\n 192,\n 193,\n 194,\n 194,\n 194,\n 195,\n 195,\n 195,\n 195,\n 196,\n 196,\n 196,\n 196,\n 197,\n 197,\n 198,\n 198,\n 198,\n 199,\n 199,\n 199,\n 199,\n 200,\n 200,\n 200,\n 201,\n 202,\n 202,\n 203,\n 203,\n 204,\n 204,\n 205,\n 205,\n 205,\n 205,\n 205,\n 205,\n 205,\n 205,\n 205,\n 205,\n 206,\n 206,\n 206,\n 207,\n 207,\n 207,\n 207,\n 208,\n 209,\n 209,\n 209,\n 209,\n 209,\n 209,\n 209,\n 209,\n 210,\n 211,\n 211,\n 211,\n 211,\n 212,\n 212,\n 212,\n 213,\n 213,\n 214,\n 214,\n 215,\n 215,\n 215,\n 215,\n 216,\n 217,\n 217,\n 217,\n 217,\n 218,\n 218,\n 218,\n 218,\n 218,\n 219,\n 219,\n 219,\n 219,\n 220,\n 220,\n 220,\n 220,\n 220,\n 220,\n 221,\n 221,\n 221,\n 221,\n 221,\n 222,\n 222,\n 223,\n 224,\n 224,\n 224,\n 224,\n 225,\n 225,\n 225,\n 225,\n 226,\n 226,\n 226,\n 226,\n 227,\n 227,\n 227,\n 227,\n 228,\n 228,\n 228,\n 228,\n 229,\n 229,\n 229,\n 229,\n 229,\n 230,\n 230,\n 230,\n 230,\n 230,\n 230,\n 231,\n 231,\n 231,\n 231,\n 231,\n 231,\n 231,\n 232,\n 232,\n 232,\n 232,\n 233,\n 233,\n 233,\n 233,\n 233,\n 234,\n 234,\n 234,\n 234,\n 234,\n 234,\n 234,\n 234,\n 235,\n 235,\n 235,\n 235,\n 236,\n 236,\n 237,\n 237,\n 237,\n 238,\n 238,\n 238,\n 238,\n 238,\n 238,\n 238,\n 238,\n 238,\n 238,\n 239,\n 239,\n 239,\n 240,\n 240,\n 241,\n 241,\n 241,\n 241,\n 241,\n 242,\n 242,\n 242,\n 242,\n 242,\n 243,\n 243,\n 243,\n 243,\n 243,\n 243,\n 245,\n 245,\n 245,\n 245,\n 246,\n 246,\n 246,\n 246,\n 247,\n 247,\n 248,\n 248,\n 249,\n 249,\n 249,\n 251,\n 251,\n 251,\n 251,\n 252,\n 252,\n 252,\n 252,\n 252,\n 253,\n 254,\n 254,\n 255,\n 255,\n 255,\n 255,\n 255,\n 255,\n 255,\n 255,\n 255,\n 256,\n 256,\n 256,\n 256,\n 257,\n 257,\n 257,\n 257,\n 258,\n 258,\n 258,\n 258,\n 258,\n 258,\n 259,\n 260,\n 260,\n 260,\n 260,\n 260,\n 260,\n 260,\n 261,\n 261,\n 261,\n 261,\n 261,\n 262,\n 262,\n 262,\n 262,\n 262,\n 263,\n 263,\n 263,\n 263,\n 264,\n 264,\n 265,\n 265,\n 265,\n 266,\n 266,\n 267,\n 267,\n 268,\n 268,\n 269,\n 270,\n 270,\n 270,\n 270,\n 272,\n 272,\n 273,\n 273,\n 273,\n 274,\n 274,\n 274,\n 275,\n 276,\n 277,\n 277,\n 277,\n 278,\n 278,\n 279,\n 279,\n 279,\n 280,\n 280,\n 281,\n 281,\n 281,\n 281,\n 282,\n 282,\n 282,\n 282,\n 282,\n 283,\n 283,\n 283,\n 284,\n 284,\n 284,\n 285,\n 285,\n 285,\n 285,\n 285,\n 286,\n 287,\n 287,\n 287,\n 287,\n 287,\n 287,\n 288,\n 288,\n 288,\n 289,\n 289,\n 289,\n 289,\n 289,\n 290,\n 290,\n 290,\n 290,\n 291,\n 291,\n 291,\n 291,\n 292,\n 292,\n 293,\n 293,\n 293,\n 293,\n 293,\n 294,\n 295,\n 295,\n 295,\n 296,\n 296,\n 296,\n 296,\n 296,\n 297,\n 297,\n 297,\n 298,\n 299,\n 299,\n 299,\n 300,\n 300,\n 300,\n 301,\n 302,\n 302,\n 302,\n 302,\n 302,\n 303,\n 303,\n 304,\n 304,\n 305,\n 305,\n 306,\n 306,\n 306,\n 306,\n 307,\n 308,\n 308,\n 308,\n 308,\n 309,\n 309,\n 310,\n 310,\n 311,\n 311,\n 312,\n 312,\n 312,\n 312,\n 312,\n 312,\n 313,\n 313,\n 314,\n ...]"
     },
     "execution_count": 9,
     "metadata": {},
     "output_type": "execute_result"
    }
   ],
   "source": [
    "quicksort(my_list1 + my_list2 + my_list3)"
   ],
   "metadata": {
    "collapsed": false,
    "ExecuteTime": {
     "end_time": "2024-02-27T11:24:05.760453Z",
     "start_time": "2024-02-27T11:24:05.743452Z"
    }
   },
   "id": "d83d2815b49e8221",
   "execution_count": 9
  },
  {
   "cell_type": "code",
   "outputs": [],
   "source": [
    "#Goed voor het sorteren van complexe array's.\n",
    "def merge_sort(arr):\n",
    "  # als de array langer is dan 1 voert de functie onderstaande code uit totdat de lengte van de array wel 1 is\n",
    "  if len(arr) >1:\n",
    "    left_arr = arr[:len(arr)//2]\n",
    "    right_arr = arr[len(arr)//2:]\n",
    "   # recursion om de arrays nog verder te splitsen \n",
    "    merge_sort(left_arr)\n",
    "    merge_sort(right_arr)\n",
    "\n",
    "    #merge vergelijk meest linker element van de ene array met het meest linker element van de andere array\n",
    "    i = 0 # linker_arr index\n",
    "    j = 0 # rechter_arr index\n",
    "    k = 0 # merged array index\n",
    "\n",
    "    while i < len(left_arr) and j < len(right_arr):\n",
    "        if left_arr[i] < right_arr[j]:\n",
    "          arr[k] = left_arr[i]\n",
    "          i += 1\n",
    "        else:\n",
    "          arr[k] =right_arr[j]\n",
    "          j +=1\n",
    "        k +=1 # verhoog de index van de merged array om de positie van de gesorteerde getallen te bepalen\n",
    "\n",
    "    while i < len(left_arr):\n",
    "        arr[k] = left_arr[i]\n",
    "        i+= 1\n",
    "        k+= 1\n",
    "\n",
    "    while  j < len(right_arr):\n",
    "      arr[k] = right_arr[j]\n",
    "      j +=1\n",
    "      k += 1\n",
    "          \n",
    "  return arr"
   ],
   "metadata": {
    "collapsed": false,
    "ExecuteTime": {
     "end_time": "2024-02-27T11:23:28.695353Z",
     "start_time": "2024-02-27T11:23:28.689524Z"
    }
   },
   "id": "28f861818915aa35",
   "execution_count": 6
  },
  {
   "cell_type": "code",
   "outputs": [
    {
     "data": {
      "text/plain": "[1,\n 2,\n 2,\n 3,\n 3,\n 4,\n 4,\n 5,\n 5,\n 5,\n 5,\n 5,\n 5,\n 5,\n 6,\n 6,\n 6,\n 6,\n 6,\n 6,\n 6,\n 7,\n 7,\n 7,\n 8,\n 8,\n 8,\n 9,\n 9,\n 10,\n 11,\n 11,\n 12,\n 14,\n 15,\n 15,\n 16,\n 16,\n 16,\n 16,\n 16,\n 17,\n 18,\n 18,\n 19,\n 19,\n 19,\n 20,\n 20,\n 20,\n 20,\n 20,\n 21,\n 21,\n 21,\n 22,\n 22,\n 22,\n 22,\n 22,\n 22,\n 23,\n 23,\n 24,\n 24,\n 25,\n 25,\n 25,\n 29,\n 29,\n 29,\n 29,\n 29,\n 30,\n 30,\n 31,\n 31,\n 31,\n 32,\n 32,\n 32,\n 32,\n 32,\n 33,\n 34,\n 34,\n 34,\n 34,\n 35,\n 35,\n 35,\n 35,\n 35,\n 36,\n 36,\n 36,\n 36,\n 37,\n 38,\n 38,\n 39,\n 39,\n 39,\n 39,\n 41,\n 41,\n 41,\n 41,\n 42,\n 42,\n 42,\n 43,\n 43,\n 44,\n 44,\n 45,\n 45,\n 46,\n 47,\n 48,\n 48,\n 48,\n 48,\n 48,\n 48,\n 48,\n 49,\n 50,\n 50,\n 50,\n 50,\n 50,\n 51,\n 51,\n 51,\n 52,\n 52,\n 53,\n 53,\n 53,\n 53,\n 53,\n 54,\n 54,\n 55,\n 55,\n 57,\n 57,\n 57,\n 57,\n 57,\n 57,\n 58,\n 58,\n 58,\n 58,\n 58,\n 59,\n 59,\n 60,\n 60,\n 61,\n 61,\n 61,\n 61,\n 61,\n 62,\n 62,\n 62,\n 62,\n 62,\n 62,\n 63,\n 63,\n 64,\n 64,\n 64,\n 64,\n 64,\n 64,\n 64,\n 64,\n 65,\n 66,\n 67,\n 67,\n 67,\n 67,\n 68,\n 68,\n 69,\n 69,\n 69,\n 70,\n 70,\n 70,\n 70,\n 71,\n 71,\n 71,\n 71,\n 72,\n 72,\n 73,\n 73,\n 73,\n 73,\n 73,\n 73,\n 73,\n 73,\n 74,\n 74,\n 74,\n 74,\n 75,\n 75,\n 75,\n 76,\n 76,\n 76,\n 76,\n 77,\n 78,\n 78,\n 78,\n 79,\n 79,\n 79,\n 80,\n 80,\n 80,\n 82,\n 83,\n 83,\n 83,\n 83,\n 83,\n 84,\n 84,\n 84,\n 84,\n 84,\n 84,\n 85,\n 85,\n 85,\n 86,\n 86,\n 87,\n 87,\n 88,\n 88,\n 89,\n 89,\n 90,\n 90,\n 90,\n 90,\n 91,\n 91,\n 91,\n 91,\n 91,\n 92,\n 92,\n 93,\n 93,\n 94,\n 95,\n 95,\n 95,\n 95,\n 95,\n 96,\n 96,\n 96,\n 96,\n 96,\n 96,\n 98,\n 98,\n 98,\n 98,\n 98,\n 99,\n 99,\n 99,\n 99,\n 101,\n 101,\n 101,\n 101,\n 102,\n 102,\n 102,\n 103,\n 104,\n 104,\n 105,\n 105,\n 106,\n 106,\n 106,\n 107,\n 107,\n 108,\n 108,\n 108,\n 108,\n 108,\n 109,\n 109,\n 109,\n 110,\n 110,\n 110,\n 110,\n 110,\n 110,\n 110,\n 111,\n 111,\n 111,\n 111,\n 111,\n 112,\n 112,\n 112,\n 113,\n 113,\n 114,\n 114,\n 114,\n 114,\n 114,\n 115,\n 115,\n 115,\n 115,\n 115,\n 115,\n 116,\n 117,\n 117,\n 117,\n 118,\n 118,\n 118,\n 118,\n 118,\n 119,\n 119,\n 120,\n 120,\n 120,\n 121,\n 121,\n 121,\n 121,\n 121,\n 121,\n 122,\n 122,\n 122,\n 122,\n 122,\n 123,\n 123,\n 123,\n 123,\n 123,\n 123,\n 124,\n 125,\n 125,\n 125,\n 126,\n 126,\n 126,\n 127,\n 127,\n 127,\n 128,\n 128,\n 128,\n 129,\n 130,\n 130,\n 130,\n 131,\n 131,\n 131,\n 133,\n 133,\n 133,\n 133,\n 133,\n 133,\n 133,\n 134,\n 134,\n 134,\n 135,\n 135,\n 136,\n 136,\n 136,\n 136,\n 136,\n 136,\n 137,\n 137,\n 137,\n 137,\n 137,\n 137,\n 137,\n 138,\n 138,\n 138,\n 139,\n 140,\n 140,\n 140,\n 140,\n 140,\n 140,\n 141,\n 141,\n 141,\n 141,\n 142,\n 142,\n 142,\n 143,\n 143,\n 143,\n 143,\n 144,\n 144,\n 145,\n 146,\n 146,\n 147,\n 147,\n 147,\n 147,\n 148,\n 148,\n 148,\n 149,\n 149,\n 149,\n 150,\n 150,\n 150,\n 150,\n 151,\n 153,\n 153,\n 153,\n 153,\n 154,\n 154,\n 154,\n 154,\n 154,\n 154,\n 155,\n 155,\n 155,\n 156,\n 156,\n 156,\n 156,\n 157,\n 157,\n 158,\n 158,\n 158,\n 158,\n 158,\n 158,\n 159,\n 159,\n 159,\n 159,\n 159,\n 159,\n 159,\n 159,\n 160,\n 160,\n 160,\n 160,\n 160,\n 161,\n 161,\n 161,\n 162,\n 162,\n 162,\n 163,\n 163,\n 163,\n 164,\n 164,\n 164,\n 164,\n 164,\n 166,\n 166,\n 167,\n 167,\n 167,\n 167,\n 167,\n 168,\n 168,\n 168,\n 168,\n 168,\n 168,\n 170,\n 170,\n 171,\n 171,\n 171,\n 171,\n 172,\n 172,\n 172,\n 172,\n 173,\n 173,\n 173,\n 174,\n 174,\n 174,\n 174,\n 174,\n 175,\n 175,\n 176,\n 176,\n 176,\n 177,\n 178,\n 179,\n 179,\n 179,\n 180,\n 181,\n 181,\n 181,\n 181,\n 181,\n 181,\n 182,\n 182,\n 182,\n 182,\n 182,\n 182,\n 182,\n 182,\n 182,\n 182,\n 183,\n 183,\n 183,\n 184,\n 184,\n 184,\n 184,\n 185,\n 186,\n 186,\n 187,\n 187,\n 188,\n 188,\n 188,\n 188,\n 189,\n 189,\n 191,\n 191,\n 192,\n 192,\n 193,\n 194,\n 194,\n 194,\n 195,\n 195,\n 195,\n 195,\n 196,\n 196,\n 196,\n 196,\n 197,\n 197,\n 198,\n 198,\n 198,\n 199,\n 199,\n 199,\n 199,\n 200,\n 200,\n 200,\n 201,\n 202,\n 202,\n 203,\n 203,\n 204,\n 204,\n 205,\n 205,\n 205,\n 205,\n 205,\n 205,\n 205,\n 205,\n 205,\n 205,\n 206,\n 206,\n 206,\n 207,\n 207,\n 207,\n 207,\n 208,\n 209,\n 209,\n 209,\n 209,\n 209,\n 209,\n 209,\n 209,\n 210,\n 211,\n 211,\n 211,\n 211,\n 212,\n 212,\n 212,\n 213,\n 213,\n 214,\n 214,\n 215,\n 215,\n 215,\n 215,\n 216,\n 217,\n 217,\n 217,\n 217,\n 218,\n 218,\n 218,\n 218,\n 218,\n 219,\n 219,\n 219,\n 219,\n 220,\n 220,\n 220,\n 220,\n 220,\n 220,\n 221,\n 221,\n 221,\n 221,\n 221,\n 222,\n 222,\n 223,\n 224,\n 224,\n 224,\n 224,\n 225,\n 225,\n 225,\n 225,\n 226,\n 226,\n 226,\n 226,\n 227,\n 227,\n 227,\n 227,\n 228,\n 228,\n 228,\n 228,\n 229,\n 229,\n 229,\n 229,\n 229,\n 230,\n 230,\n 230,\n 230,\n 230,\n 230,\n 231,\n 231,\n 231,\n 231,\n 231,\n 231,\n 231,\n 232,\n 232,\n 232,\n 232,\n 233,\n 233,\n 233,\n 233,\n 233,\n 234,\n 234,\n 234,\n 234,\n 234,\n 234,\n 234,\n 234,\n 235,\n 235,\n 235,\n 235,\n 236,\n 236,\n 237,\n 237,\n 237,\n 238,\n 238,\n 238,\n 238,\n 238,\n 238,\n 238,\n 238,\n 238,\n 238,\n 239,\n 239,\n 239,\n 240,\n 240,\n 241,\n 241,\n 241,\n 241,\n 241,\n 242,\n 242,\n 242,\n 242,\n 242,\n 243,\n 243,\n 243,\n 243,\n 243,\n 243,\n 245,\n 245,\n 245,\n 245,\n 246,\n 246,\n 246,\n 246,\n 247,\n 247,\n 248,\n 248,\n 249,\n 249,\n 249,\n 251,\n 251,\n 251,\n 251,\n 252,\n 252,\n 252,\n 252,\n 252,\n 253,\n 254,\n 254,\n 255,\n 255,\n 255,\n 255,\n 255,\n 255,\n 255,\n 255,\n 255,\n 256,\n 256,\n 256,\n 256,\n 257,\n 257,\n 257,\n 257,\n 258,\n 258,\n 258,\n 258,\n 258,\n 258,\n 259,\n 260,\n 260,\n 260,\n 260,\n 260,\n 260,\n 260,\n 261,\n 261,\n 261,\n 261,\n 261,\n 262,\n 262,\n 262,\n 262,\n 262,\n 263,\n 263,\n 263,\n 263,\n 264,\n 264,\n 265,\n 265,\n 265,\n 266,\n 266,\n 267,\n 267,\n 268,\n 268,\n 269,\n 270,\n 270,\n 270,\n 270,\n 272,\n 272,\n 273,\n 273,\n 273,\n 274,\n 274,\n 274,\n 275,\n 276,\n 277,\n 277,\n 277,\n 278,\n 278,\n 279,\n 279,\n 279,\n 280,\n 280,\n 281,\n 281,\n 281,\n 281,\n 282,\n 282,\n 282,\n 282,\n 282,\n 283,\n 283,\n 283,\n 284,\n 284,\n 284,\n 285,\n 285,\n 285,\n 285,\n 285,\n 286,\n 287,\n 287,\n 287,\n 287,\n 287,\n 287,\n 288,\n 288,\n 288,\n 289,\n 289,\n 289,\n 289,\n 289,\n 290,\n 290,\n 290,\n 290,\n 291,\n 291,\n 291,\n 291,\n 292,\n 292,\n 293,\n 293,\n 293,\n 293,\n 293,\n 294,\n 295,\n 295,\n 295,\n 296,\n 296,\n 296,\n 296,\n 296,\n 297,\n 297,\n 297,\n 298,\n 299,\n 299,\n 299,\n 300,\n 300,\n 300,\n 301,\n 302,\n 302,\n 302,\n 302,\n 302,\n 303,\n 303,\n 304,\n 304,\n 305,\n 305,\n 306,\n 306,\n 306,\n 306,\n 307,\n 308,\n 308,\n 308,\n 308,\n 309,\n 309,\n 310,\n 310,\n 311,\n 311,\n 312,\n 312,\n 312,\n 312,\n 312,\n 312,\n 313,\n 313,\n 314,\n ...]"
     },
     "execution_count": 10,
     "metadata": {},
     "output_type": "execute_result"
    }
   ],
   "source": [
    "merge_sort(my_list1 + my_list2 + my_list3)"
   ],
   "metadata": {
    "collapsed": false,
    "ExecuteTime": {
     "end_time": "2024-02-27T11:24:10.146159Z",
     "start_time": "2024-02-27T11:24:10.117Z"
    }
   },
   "id": "be740617fe6f2eba",
   "execution_count": 10
  },
  {
   "cell_type": "code",
   "outputs": [],
   "source": [
    "# redelijk voor het sorteren van kleinere lijsten. Naarmate het aantal elementen per lijst groeit wordt dit langzamer.\n",
    "def bubble_sort(array):\n",
    "    n = len(array)\n",
    "\n",
    "    for i in range(n):\n",
    "        #als al gesorteerd zet true\n",
    "        already_sorted = True\n",
    "\n",
    "        # Start looking at each item of the list one by one,\n",
    "        # comparing it with its adjacent value. With each\n",
    "        # iteration, the portion of the array that you look at\n",
    "        # shrinks because the remaining items have already been\n",
    "        # sorted.\n",
    "        for j in range(n - i - 1):\n",
    "            if array[j] > array[j + 1]:\n",
    "                # If the item you're looking at is greater than its\n",
    "                # adjacent value, then swap them\n",
    "                array[j], array[j + 1] = array[j + 1], array[j]\n",
    "\n",
    "                # Since you had to swap two elements,\n",
    "                # set the `already_sorted` flag to `False` so the\n",
    "                # algorithm doesn't finish prematurely\n",
    "                already_sorted = False\n",
    "\n",
    "        # If there were no swaps during the last iteration,\n",
    "        # the array is already sorted, and you can terminate\n",
    "        if already_sorted:\n",
    "            break\n",
    "\n",
    "    return array"
   ],
   "metadata": {
    "collapsed": false,
    "ExecuteTime": {
     "end_time": "2024-02-27T07:04:01.909771Z",
     "start_time": "2024-02-27T07:04:01.898285Z"
    }
   },
   "id": "41752137858e9b6",
   "execution_count": 7
  },
  {
   "cell_type": "code",
   "outputs": [
    {
     "data": {
      "text/plain": "[3,\n 15,\n 16,\n 23,\n 24,\n 25,\n 27,\n 28,\n 30,\n 32,\n 33,\n 35,\n 36,\n 44,\n 46,\n 47,\n 51,\n 53,\n 55,\n 55,\n 64,\n 66,\n 71,\n 73,\n 82,\n 84,\n 84,\n 93,\n 94,\n 97]"
     },
     "execution_count": 8,
     "metadata": {},
     "output_type": "execute_result"
    }
   ],
   "source": [
    "bubble_sort(my_list1 + my_list2 + my_list3)"
   ],
   "metadata": {
    "collapsed": false,
    "ExecuteTime": {
     "end_time": "2024-02-27T07:04:04.745187Z",
     "start_time": "2024-02-27T07:04:04.731783Z"
    }
   },
   "id": "aeec9154d4edcb71",
   "execution_count": 8
  },
  {
   "cell_type": "code",
   "outputs": [
    {
     "name": "stdout",
     "output_type": "stream",
     "text": [
      "Sorted array :\n",
      "2\n",
      "17\n",
      "23\n",
      "26\n",
      "36\n",
      "45\n",
      "53\n",
      "63\n",
      "80\n",
      "89\n"
     ]
    }
   ],
   "source": [
    "import random\n",
    " \n",
    "# Blijft shuffelen to gesorteerd, staat bekend als het meest nutteloze sort algorithme. Vreselijk bij lange array's\n",
    "def bogoSort(a):\n",
    "    n = len(a)\n",
    "    while (is_sorted(a)== False):\n",
    "        shuffle(a)\n",
    " \n",
    "# To check if array is sorted or not\n",
    "def is_sorted(a):\n",
    "    n = len(a)\n",
    "    for i in range(0, n-1):\n",
    "        if (a[i] > a[i+1] ):\n",
    "            return False\n",
    "    return True\n",
    " \n",
    "# To generate permutation of the array\n",
    "def shuffle(a):\n",
    "    n = len(a)\n",
    "    for i in range (0,n):\n",
    "        r = random.randint(0,n-1)\n",
    "        a[i], a[r] = a[r], a[i]\n",
    " \n",
    "bogoSort(my_list1)\n",
    "print(\"Sorted array :\")\n",
    "for i in range(len(my_list1)):\n",
    "    print (\"%d\" %my_list1[i]),"
   ],
   "metadata": {
    "collapsed": false,
    "ExecuteTime": {
     "end_time": "2024-02-27T07:08:25.133094Z",
     "start_time": "2024-02-27T07:08:02.220801Z"
    }
   },
   "id": "b44323f639f94531",
   "execution_count": 11
  }
 ],
 "metadata": {
  "kernelspec": {
   "display_name": "Python 3",
   "language": "python",
   "name": "python3"
  },
  "language_info": {
   "codemirror_mode": {
    "name": "ipython",
    "version": 2
   },
   "file_extension": ".py",
   "mimetype": "text/x-python",
   "name": "python",
   "nbconvert_exporter": "python",
   "pygments_lexer": "ipython2",
   "version": "2.7.6"
  }
 },
 "nbformat": 4,
 "nbformat_minor": 5
}
