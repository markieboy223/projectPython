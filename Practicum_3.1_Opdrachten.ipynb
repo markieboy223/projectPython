{
 "cells": [
  {
   "cell_type": "code",
   "outputs": [
    {
     "data": {
      "text/plain": "[74,\n 52,\n 21,\n 50,\n 63,\n 12,\n 59,\n 59,\n 81,\n 46,\n 21,\n 66,\n 31,\n 95,\n 73,\n 75,\n 87,\n 10,\n 9,\n 28,\n 74,\n 85,\n 4,\n 42,\n 7,\n 87,\n 76,\n 77,\n 76,\n 88,\n 78,\n 47,\n 64,\n 78,\n 40,\n 51,\n 37,\n 16,\n 53,\n 53,\n 54,\n 89,\n 69,\n 53,\n 57,\n 98,\n 53,\n 96,\n 53,\n 85,\n 99,\n 75,\n 72,\n 55,\n 74,\n 6,\n 56,\n 39,\n 59,\n 63,\n 59,\n 75,\n 90,\n 6,\n 25,\n 3,\n 67,\n 12,\n 75,\n 21,\n 6,\n 67,\n 87,\n 16,\n 93,\n 23,\n 64,\n 71,\n 60,\n 52,\n 5,\n 7,\n 90,\n 39,\n 78,\n 83,\n 33,\n 46,\n 9,\n 26,\n 60,\n 12,\n 87,\n 50,\n 78,\n 51,\n 52,\n 36,\n 29,\n 75,\n 64,\n 95,\n 49,\n 8,\n 2,\n 85,\n 50,\n 89,\n 20,\n 75,\n 42,\n 29,\n 40,\n 20,\n 77,\n 91,\n 13,\n 91,\n 28,\n 83,\n 73,\n 4,\n 66,\n 13,\n 15,\n 24,\n 89,\n 73,\n 5,\n 57,\n 54,\n 90,\n 53,\n 49,\n 90,\n 39,\n 92,\n 54,\n 76,\n 31,\n 72,\n 15,\n 70,\n 45,\n 49,\n 50,\n 27,\n 73,\n 2,\n 6,\n 53,\n 57,\n 94,\n 67,\n 60,\n 45,\n 24,\n 68,\n 83,\n 55,\n 92,\n 21,\n 4,\n 85,\n 31,\n 83,\n 21,\n 82,\n 68,\n 59,\n 29,\n 59,\n 28,\n 47,\n 74,\n 70,\n 62,\n 40,\n 80,\n 43,\n 95,\n 82,\n 68,\n 65,\n 7,\n 21,\n 1,\n 28,\n 99,\n 82,\n 27,\n 69,\n 49,\n 36,\n 68,\n 37,\n 77,\n 35,\n 58,\n 67,\n 53,\n 16,\n 54,\n 78,\n 17,\n 26,\n 76,\n 73,\n 19,\n 28,\n 15,\n 78,\n 92,\n 77,\n 25,\n 97,\n 45,\n 43,\n 81,\n 5,\n 6,\n 35,\n 82,\n 63,\n 42,\n 51,\n 94,\n 46,\n 87,\n 5,\n 77,\n 80,\n 11,\n 33,\n 4,\n 95,\n 95,\n 70,\n 59,\n 2,\n 6,\n 14,\n 38,\n 99,\n 51,\n 60,\n 83,\n 2,\n 68,\n 43,\n 33,\n 66,\n 49,\n 12,\n 53,\n 57,\n 88,\n 56,\n 22,\n 45,\n 62,\n 21,\n 54,\n 19,\n 90,\n 83,\n 11,\n 2,\n 48,\n 17,\n 29,\n 40,\n 46,\n 12,\n 5,\n 70,\n 76,\n 25,\n 54,\n 20,\n 40,\n 68,\n 91,\n 42,\n 93,\n 16,\n 12,\n 19,\n 22,\n 57,\n 85,\n 41,\n 34,\n 25,\n 55,\n 56,\n 17,\n 31,\n 29,\n 11,\n 39,\n 96,\n 60,\n 17,\n 33,\n 90,\n 94,\n 77,\n 19,\n 97,\n 76,\n 6,\n 58,\n 56,\n 92,\n 16,\n 46,\n 69,\n 40,\n 23,\n 59,\n 14,\n 95,\n 96,\n 52,\n 92,\n 83,\n 53,\n 51,\n 9,\n 51,\n 94,\n 68,\n 61,\n 28,\n 21,\n 66,\n 87,\n 50,\n 97,\n 1,\n 13,\n 46,\n 66,\n 14,\n 20,\n 60,\n 51,\n 19,\n 79,\n 31,\n 35,\n 93,\n 56,\n 67,\n 85,\n 73,\n 50,\n 86,\n 10,\n 32,\n 63,\n 71,\n 54,\n 65,\n 11,\n 35,\n 53,\n 10,\n 18,\n 49,\n 87,\n 38,\n 6,\n 73,\n 59,\n 64,\n 99,\n 82,\n 88,\n 60,\n 24,\n 36,\n 70,\n 9,\n 96,\n 83,\n 23,\n 85,\n 54,\n 64,\n 12,\n 69,\n 8,\n 94,\n 25,\n 50,\n 100,\n 60,\n 92,\n 90,\n 38,\n 72,\n 81,\n 26,\n 62,\n 26,\n 10,\n 100,\n 89,\n 13,\n 49,\n 91,\n 13,\n 57,\n 65,\n 63,\n 79,\n 60,\n 55,\n 87,\n 59,\n 92,\n 13,\n 34,\n 91,\n 96,\n 89,\n 75,\n 49,\n 37,\n 86,\n 71,\n 29,\n 5,\n 79,\n 57,\n 100,\n 38,\n 49,\n 7,\n 51,\n 28,\n 75,\n 63,\n 74,\n 87,\n 42,\n 69,\n 50,\n 100,\n 45,\n 84,\n 85,\n 43,\n 28,\n 39,\n 9,\n 54,\n 61,\n 76,\n 10,\n 52,\n 34,\n 66,\n 81,\n 30,\n 92,\n 99,\n 69,\n 42,\n 81,\n 41,\n 9,\n 34,\n 89,\n 41,\n 35,\n 23,\n 42,\n 84,\n 93,\n 87,\n 91,\n 23,\n 96,\n 55,\n 73,\n 95,\n 86,\n 56,\n 90,\n 74,\n 30,\n 79,\n 47,\n 58,\n 67,\n 46,\n 84,\n 62,\n 25,\n 77,\n 46,\n 69,\n 51,\n 82,\n 12,\n 20,\n 96,\n 49,\n 80,\n 51,\n 78,\n 97,\n 46,\n 38,\n 95,\n 44,\n 84,\n 66,\n 68,\n 26,\n 92,\n 63,\n 20,\n 60,\n 96,\n 62,\n 40,\n 86,\n 64,\n 98,\n 76,\n 97,\n 55,\n 51,\n 28,\n 34,\n 87,\n 61,\n 50,\n 59,\n 100,\n 66,\n 81,\n 77,\n 3,\n 78,\n 50,\n 81,\n 76,\n 54,\n 24,\n 60,\n 23,\n 92,\n 7,\n 62,\n 45,\n 65,\n 9,\n 46,\n 39,\n 51,\n 75,\n 45,\n 37,\n 64,\n 51,\n 98,\n 1,\n 78,\n 39,\n 89,\n 16,\n 83,\n 86,\n 25,\n 100,\n 94,\n 42,\n 10,\n 56,\n 26,\n 75,\n 85,\n 77,\n 27,\n 67,\n 58,\n 66,\n 72,\n 26,\n 63,\n 67,\n 53,\n 52,\n 48,\n 70,\n 6,\n 66,\n 38,\n 20,\n 91,\n 74,\n 85,\n 81,\n 70,\n 32,\n 76,\n 96,\n 1,\n 79,\n 98,\n 95,\n 83,\n 41,\n 42,\n 100,\n 49,\n 4,\n 98,\n 21,\n 9,\n 80,\n 44,\n 68,\n 87,\n 76,\n 61,\n 100,\n 76,\n 26,\n 21,\n 83,\n 7,\n 68,\n 56,\n 98,\n 32,\n 97,\n 57,\n 4,\n 43,\n 65,\n 35,\n 64,\n 43,\n 32,\n 6,\n 89,\n 83,\n 12,\n 62,\n 30,\n 66,\n 56,\n 5,\n 22,\n 62,\n 4,\n 4,\n 63,\n 36,\n 82,\n 47,\n 26,\n 29,\n 90,\n 2,\n 80,\n 70,\n 60,\n 94,\n 29,\n 55,\n 31,\n 28,\n 22,\n 39,\n 6,\n 45,\n 86,\n 60,\n 1,\n 56,\n 16,\n 1,\n 87,\n 15,\n 38,\n 11,\n 34,\n 49,\n 57,\n 91,\n 80,\n 64,\n 74,\n 84,\n 47,\n 16,\n 15,\n 25,\n 73,\n 11,\n 56,\n 84,\n 26,\n 74,\n 44,\n 25,\n 39,\n 5,\n 45,\n 12,\n 98,\n 34,\n 56,\n 32,\n 23,\n 88,\n 60,\n 62,\n 86,\n 87,\n 26,\n 97,\n 29,\n 41,\n 8,\n 83,\n 42,\n 84,\n 58,\n 60,\n 17,\n 63,\n 57,\n 49,\n 62,\n 59,\n 33,\n 66,\n 71,\n 95,\n 68,\n 91,\n 33,\n 87,\n 12,\n 42,\n 70,\n 14,\n 50,\n 6,\n 26,\n 49,\n 95,\n 74,\n 27,\n 70,\n 68,\n 60,\n 84,\n 42,\n 34,\n 38,\n 81,\n 68,\n 56,\n 20,\n 23,\n 96,\n 26,\n 35,\n 12,\n 9,\n 7,\n 7,\n 73,\n 26,\n 90,\n 80,\n 54,\n 57,\n 43,\n 54,\n 36,\n 71,\n 23,\n 89,\n 49,\n 40,\n 25,\n 4,\n 66,\n 48,\n 2,\n 84,\n 70,\n 30,\n 85,\n 13,\n 69,\n 36,\n 51,\n 60,\n 39,\n 8,\n 64,\n 86,\n 82,\n 8,\n 31,\n 21,\n 27,\n 48,\n 62,\n 91,\n 89,\n 45,\n 71,\n 54,\n 34,\n 18,\n 49,\n 38,\n 9,\n 87,\n 25,\n 70,\n 66,\n 29,\n 2,\n 52,\n 9,\n 19,\n 8,\n 68,\n 25,\n 47,\n 41,\n 4,\n 24,\n 62,\n 3,\n 48,\n 13,\n 76,\n 33,\n 78,\n 60,\n 53,\n 15,\n 34,\n 8,\n 98,\n 12,\n 61,\n 43,\n 62,\n 84,\n 98,\n 12,\n 47,\n 100,\n 26,\n 35,\n 53,\n 55,\n 57,\n 51,\n 2,\n 61,\n 92,\n 87,\n 92,\n 81,\n 1,\n 39,\n 68,\n 23,\n 66,\n 5,\n 68,\n 28,\n 8,\n 14,\n 68,\n 19,\n 51,\n 100,\n 23,\n 3,\n 32,\n 2,\n 40,\n 77,\n 77,\n 2,\n 69,\n 29,\n 77,\n 90,\n 86,\n 29,\n 8,\n 93,\n 16,\n 63,\n 78,\n 41,\n 95,\n 1,\n 95,\n 49,\n 97,\n 80,\n 23,\n 15,\n 12,\n 39,\n 92,\n 88,\n 24,\n 2,\n 88,\n 40,\n 15,\n 11,\n 86,\n 16,\n 78,\n 12,\n 99,\n 21,\n 86,\n 13,\n 83,\n 35,\n 73,\n 96,\n 52,\n 58,\n 23,\n 86,\n 92,\n 28,\n 29,\n 62,\n 15,\n 67,\n 52,\n 87,\n 51,\n 41,\n 48,\n 43,\n 100,\n 46,\n 56,\n 69,\n 7,\n 42,\n 7,\n 14,\n 86,\n 61,\n 65,\n 78,\n 26,\n 47,\n 15,\n 46,\n 60,\n 28,\n 69,\n 14,\n 90,\n 48,\n 28,\n 89,\n 1,\n 37,\n 83,\n 44,\n 51,\n 86,\n 52,\n 54,\n 58,\n 86,\n 71,\n 28,\n 87,\n 56,\n 27,\n 35,\n ...]"
     },
     "execution_count": 2,
     "metadata": {},
     "output_type": "execute_result"
    }
   ],
   "source": [
    "import random\n",
    "# Define the desired number of elements and value range\n",
    "num_elements = 1000\n",
    "min_value = 1\n",
    "max_value = 100\n",
    "# Create an empty list\n",
    "my_list1 = []\n",
    "my_list2 = []\n",
    "my_list3 = []\n",
    "# Generate random integers and append them to the lists\n",
    "for _ in range(num_elements):  my_list1.append(random.randint(min_value, max_value))\n",
    "for _ in range(num_elements):  my_list2.append(random.randint(min_value,max_value))\n",
    "for _ in range(num_elements):  my_list3.append(random.randint(min_value,max_value))\n",
    "# Print the list\n",
    "my_list1 + my_list2 + my_list3"
   ],
   "metadata": {
    "collapsed": false,
    "ExecuteTime": {
     "end_time": "2024-02-28T19:23:11.493268Z",
     "start_time": "2024-02-28T19:23:11.476744Z"
    }
   },
   "id": "35b346fcf3cac30a",
   "execution_count": 2
  },
  {
   "cell_type": "code",
   "outputs": [],
   "source": [
    "def quicksort(array):\n",
    "    # Als lengte array kleiner is dan 2 elementen return.\n",
    "    if len(array) < 2:\n",
    "        return array\n",
    "    # 3 arrays\n",
    "    low, same, high = [], [], []\n",
    "\n",
    "    # Pak laatste getal van de array.\n",
    "    pivot = array[len(array) - 1]\n",
    "    # Voor iedere item in de array kijk of deze kleiner, gelijk aan of groter dan het pivot getal is. Als dit is stop dat item in die bijbehorende array.\n",
    "    for item in array:\n",
    "        if item < pivot:\n",
    "            low.append(item)\n",
    "        elif item == pivot:\n",
    "            same.append(item)\n",
    "        elif item > pivot:\n",
    "            high.append(item)\n",
    "\n",
    "    # combineer 3 lijsten en return deze, sorteer ook lage en hoge lijst.\n",
    "    return quicksort(low) + same + quicksort(high)"
   ],
   "metadata": {
    "collapsed": false,
    "ExecuteTime": {
     "end_time": "2024-02-28T19:23:11.504783Z",
     "start_time": "2024-02-28T19:23:11.496786Z"
    }
   },
   "id": "b6b14e5d95e6e163",
   "execution_count": 3
  },
  {
   "cell_type": "code",
   "outputs": [
    {
     "data": {
      "text/plain": "[1,\n 1,\n 1,\n 1,\n 1,\n 1,\n 1,\n 1,\n 1,\n 1,\n 1,\n 1,\n 1,\n 1,\n 1,\n 1,\n 1,\n 1,\n 1,\n 1,\n 1,\n 1,\n 1,\n 1,\n 1,\n 1,\n 1,\n 1,\n 1,\n 1,\n 1,\n 1,\n 1,\n 1,\n 1,\n 1,\n 1,\n 1,\n 1,\n 1,\n 2,\n 2,\n 2,\n 2,\n 2,\n 2,\n 2,\n 2,\n 2,\n 2,\n 2,\n 2,\n 2,\n 2,\n 2,\n 2,\n 2,\n 2,\n 2,\n 2,\n 2,\n 2,\n 2,\n 2,\n 2,\n 2,\n 2,\n 2,\n 2,\n 2,\n 2,\n 2,\n 2,\n 2,\n 2,\n 2,\n 3,\n 3,\n 3,\n 3,\n 3,\n 3,\n 3,\n 3,\n 3,\n 3,\n 3,\n 3,\n 3,\n 3,\n 3,\n 3,\n 3,\n 4,\n 4,\n 4,\n 4,\n 4,\n 4,\n 4,\n 4,\n 4,\n 4,\n 4,\n 4,\n 4,\n 4,\n 4,\n 4,\n 4,\n 4,\n 4,\n 4,\n 4,\n 4,\n 4,\n 5,\n 5,\n 5,\n 5,\n 5,\n 5,\n 5,\n 5,\n 5,\n 5,\n 5,\n 5,\n 5,\n 5,\n 5,\n 5,\n 5,\n 5,\n 5,\n 5,\n 5,\n 5,\n 5,\n 5,\n 5,\n 6,\n 6,\n 6,\n 6,\n 6,\n 6,\n 6,\n 6,\n 6,\n 6,\n 6,\n 6,\n 6,\n 6,\n 6,\n 6,\n 6,\n 6,\n 6,\n 6,\n 6,\n 6,\n 6,\n 6,\n 6,\n 6,\n 6,\n 6,\n 6,\n 6,\n 6,\n 6,\n 7,\n 7,\n 7,\n 7,\n 7,\n 7,\n 7,\n 7,\n 7,\n 7,\n 7,\n 7,\n 7,\n 7,\n 7,\n 7,\n 7,\n 7,\n 7,\n 7,\n 7,\n 7,\n 7,\n 7,\n 7,\n 7,\n 7,\n 7,\n 7,\n 7,\n 8,\n 8,\n 8,\n 8,\n 8,\n 8,\n 8,\n 8,\n 8,\n 8,\n 8,\n 8,\n 8,\n 8,\n 8,\n 8,\n 8,\n 8,\n 8,\n 8,\n 8,\n 8,\n 8,\n 8,\n 8,\n 8,\n 8,\n 8,\n 8,\n 8,\n 8,\n 8,\n 8,\n 8,\n 8,\n 8,\n 8,\n 9,\n 9,\n 9,\n 9,\n 9,\n 9,\n 9,\n 9,\n 9,\n 9,\n 9,\n 9,\n 9,\n 9,\n 9,\n 9,\n 9,\n 9,\n 9,\n 9,\n 9,\n 9,\n 9,\n 9,\n 9,\n 9,\n 9,\n 9,\n 9,\n 9,\n 9,\n 9,\n 10,\n 10,\n 10,\n 10,\n 10,\n 10,\n 10,\n 10,\n 10,\n 10,\n 10,\n 10,\n 10,\n 10,\n 10,\n 10,\n 10,\n 10,\n 10,\n 10,\n 10,\n 10,\n 10,\n 10,\n 10,\n 10,\n 10,\n 11,\n 11,\n 11,\n 11,\n 11,\n 11,\n 11,\n 11,\n 11,\n 11,\n 11,\n 11,\n 11,\n 11,\n 11,\n 11,\n 11,\n 11,\n 11,\n 11,\n 11,\n 11,\n 12,\n 12,\n 12,\n 12,\n 12,\n 12,\n 12,\n 12,\n 12,\n 12,\n 12,\n 12,\n 12,\n 12,\n 12,\n 12,\n 12,\n 12,\n 12,\n 12,\n 12,\n 12,\n 12,\n 12,\n 12,\n 12,\n 12,\n 12,\n 12,\n 12,\n 12,\n 12,\n 12,\n 12,\n 12,\n 12,\n 12,\n 12,\n 12,\n 12,\n 12,\n 13,\n 13,\n 13,\n 13,\n 13,\n 13,\n 13,\n 13,\n 13,\n 13,\n 13,\n 13,\n 13,\n 13,\n 13,\n 13,\n 13,\n 13,\n 13,\n 13,\n 13,\n 13,\n 13,\n 13,\n 13,\n 13,\n 13,\n 13,\n 13,\n 13,\n 13,\n 13,\n 13,\n 13,\n 13,\n 13,\n 14,\n 14,\n 14,\n 14,\n 14,\n 14,\n 14,\n 14,\n 14,\n 14,\n 14,\n 14,\n 14,\n 14,\n 14,\n 14,\n 14,\n 14,\n 14,\n 14,\n 14,\n 14,\n 14,\n 14,\n 14,\n 14,\n 14,\n 14,\n 14,\n 14,\n 14,\n 15,\n 15,\n 15,\n 15,\n 15,\n 15,\n 15,\n 15,\n 15,\n 15,\n 15,\n 15,\n 15,\n 15,\n 15,\n 15,\n 15,\n 15,\n 15,\n 15,\n 15,\n 15,\n 15,\n 15,\n 15,\n 15,\n 15,\n 15,\n 15,\n 15,\n 15,\n 15,\n 15,\n 16,\n 16,\n 16,\n 16,\n 16,\n 16,\n 16,\n 16,\n 16,\n 16,\n 16,\n 16,\n 16,\n 16,\n 16,\n 16,\n 16,\n 16,\n 16,\n 16,\n 16,\n 16,\n 16,\n 16,\n 16,\n 16,\n 16,\n 16,\n 16,\n 16,\n 16,\n 16,\n 17,\n 17,\n 17,\n 17,\n 17,\n 17,\n 17,\n 17,\n 17,\n 17,\n 17,\n 17,\n 17,\n 17,\n 17,\n 17,\n 17,\n 17,\n 17,\n 17,\n 18,\n 18,\n 18,\n 18,\n 18,\n 18,\n 18,\n 18,\n 18,\n 18,\n 18,\n 18,\n 18,\n 18,\n 18,\n 18,\n 18,\n 18,\n 18,\n 18,\n 18,\n 18,\n 19,\n 19,\n 19,\n 19,\n 19,\n 19,\n 19,\n 19,\n 19,\n 19,\n 19,\n 19,\n 19,\n 19,\n 19,\n 19,\n 19,\n 19,\n 19,\n 19,\n 19,\n 19,\n 19,\n 19,\n 19,\n 19,\n 20,\n 20,\n 20,\n 20,\n 20,\n 20,\n 20,\n 20,\n 20,\n 20,\n 20,\n 20,\n 20,\n 20,\n 20,\n 20,\n 20,\n 20,\n 20,\n 20,\n 20,\n 20,\n 20,\n 20,\n 20,\n 20,\n 20,\n 20,\n 20,\n 21,\n 21,\n 21,\n 21,\n 21,\n 21,\n 21,\n 21,\n 21,\n 21,\n 21,\n 21,\n 21,\n 21,\n 21,\n 21,\n 21,\n 21,\n 21,\n 21,\n 21,\n 21,\n 21,\n 21,\n 21,\n 21,\n 21,\n 21,\n 21,\n 21,\n 21,\n 21,\n 21,\n 21,\n 22,\n 22,\n 22,\n 22,\n 22,\n 22,\n 22,\n 22,\n 22,\n 22,\n 22,\n 22,\n 22,\n 22,\n 22,\n 22,\n 22,\n 22,\n 22,\n 22,\n 22,\n 22,\n 22,\n 22,\n 22,\n 23,\n 23,\n 23,\n 23,\n 23,\n 23,\n 23,\n 23,\n 23,\n 23,\n 23,\n 23,\n 23,\n 23,\n 23,\n 23,\n 23,\n 23,\n 23,\n 23,\n 23,\n 23,\n 23,\n 23,\n 23,\n 23,\n 23,\n 23,\n 23,\n 23,\n 24,\n 24,\n 24,\n 24,\n 24,\n 24,\n 24,\n 24,\n 24,\n 24,\n 24,\n 24,\n 24,\n 24,\n 24,\n 24,\n 24,\n 24,\n 24,\n 24,\n 24,\n 24,\n 24,\n 24,\n 24,\n 24,\n 24,\n 24,\n 24,\n 24,\n 24,\n 24,\n 24,\n 24,\n 24,\n 25,\n 25,\n 25,\n 25,\n 25,\n 25,\n 25,\n 25,\n 25,\n 25,\n 25,\n 25,\n 25,\n 25,\n 25,\n 25,\n 25,\n 25,\n 25,\n 25,\n 25,\n 25,\n 25,\n 25,\n 25,\n 25,\n 25,\n 25,\n 25,\n 25,\n 25,\n 25,\n 25,\n 25,\n 25,\n 25,\n 26,\n 26,\n 26,\n 26,\n 26,\n 26,\n 26,\n 26,\n 26,\n 26,\n 26,\n 26,\n 26,\n 26,\n 26,\n 26,\n 26,\n 26,\n 26,\n 26,\n 26,\n 26,\n 26,\n 26,\n 26,\n 26,\n 26,\n 26,\n 26,\n 26,\n 26,\n 26,\n 27,\n 27,\n 27,\n 27,\n 27,\n 27,\n 27,\n 27,\n 27,\n 27,\n 27,\n 27,\n 27,\n 27,\n 27,\n 27,\n 27,\n 27,\n 27,\n 27,\n 27,\n 27,\n 27,\n 27,\n 27,\n 28,\n 28,\n 28,\n 28,\n 28,\n 28,\n 28,\n 28,\n 28,\n 28,\n 28,\n 28,\n 28,\n 28,\n 28,\n 28,\n 28,\n 28,\n 28,\n 28,\n 28,\n 28,\n 28,\n 28,\n 28,\n 28,\n 28,\n 28,\n 28,\n 28,\n 28,\n 28,\n 28,\n 28,\n 28,\n 28,\n 28,\n 28,\n 28,\n 28,\n 29,\n 29,\n 29,\n 29,\n 29,\n 29,\n 29,\n 29,\n 29,\n 29,\n 29,\n 29,\n 29,\n 29,\n 29,\n 29,\n 29,\n 29,\n 29,\n 29,\n 29,\n 29,\n 29,\n 29,\n 29,\n 29,\n 29,\n 29,\n 29,\n 29,\n 29,\n 29,\n 29,\n 30,\n 30,\n 30,\n 30,\n 30,\n 30,\n 30,\n 30,\n 30,\n 30,\n 30,\n 30,\n 30,\n 30,\n 30,\n 30,\n 30,\n 30,\n 30,\n 30,\n 31,\n 31,\n 31,\n 31,\n 31,\n 31,\n 31,\n 31,\n 31,\n 31,\n 31,\n 31,\n 31,\n 31,\n 31,\n 31,\n 31,\n 31,\n 31,\n 31,\n 31,\n 32,\n 32,\n 32,\n 32,\n 32,\n 32,\n 32,\n 32,\n 32,\n 32,\n 32,\n 32,\n 32,\n 32,\n 32,\n 32,\n 32,\n 32,\n 32,\n 32,\n 32,\n 32,\n 32,\n 32,\n 32,\n 32,\n 33,\n 33,\n 33,\n 33,\n 33,\n 33,\n 33,\n 33,\n 33,\n 33,\n 33,\n 33,\n 33,\n 33,\n 33,\n 33,\n 33,\n 33,\n 33,\n 33,\n 33,\n 33,\n 33,\n 33,\n 33,\n 33,\n 33,\n 33,\n 33,\n 33,\n 33,\n 34,\n 34,\n 34,\n 34,\n 34,\n 34,\n 34,\n 34,\n 34,\n 34,\n 34,\n 34,\n 34,\n 34,\n 34,\n 34,\n 34,\n 34,\n 34,\n 34,\n 34,\n ...]"
     },
     "execution_count": 4,
     "metadata": {},
     "output_type": "execute_result"
    }
   ],
   "source": [
    "quicksort(my_list1 + my_list2 + my_list3)"
   ],
   "metadata": {
    "collapsed": false,
    "ExecuteTime": {
     "end_time": "2024-02-28T19:23:11.524795Z",
     "start_time": "2024-02-28T19:23:11.506798Z"
    }
   },
   "id": "d83d2815b49e8221",
   "execution_count": 4
  },
  {
   "cell_type": "code",
   "outputs": [],
   "source": [
    "def merge_sort(arr):\n",
    "  # als de array langer is dan 1 voert de functie onderstaande code uit totdat de lengte van de array wel 1 is\n",
    "  if len(arr) >1:\n",
    "    left_arr = arr[:len(arr)//2]\n",
    "    right_arr = arr[len(arr)//2:]\n",
    "   # recursion om de arrays nog verder te splitsen \n",
    "    merge_sort(left_arr)\n",
    "    merge_sort(right_arr)\n",
    "\n",
    "    #merge vergelijk meest linker element van de ene array met het meest linker element van de andere array\n",
    "    i = 0 # linker_arr index\n",
    "    j = 0 # rechter_arr index\n",
    "    k = 0 # merged array index\n",
    "\n",
    "    while i < len(left_arr) and j < len(right_arr):\n",
    "        if left_arr[i] < right_arr[j]:\n",
    "          arr[k] = left_arr[i]\n",
    "          i += 1\n",
    "        else:\n",
    "          arr[k] =right_arr[j]\n",
    "          j +=1\n",
    "        k +=1 # verhoog de index van de merged array om de positie van de gesorteerde getallen te bepalen\n",
    "\n",
    "    while i < len(left_arr):\n",
    "        arr[k] = left_arr[i]\n",
    "        i+= 1\n",
    "        k+= 1\n",
    "\n",
    "    while  j < len(right_arr):\n",
    "      arr[k] = right_arr[j]\n",
    "      j +=1\n",
    "      k += 1\n",
    "          \n",
    "  return arr"
   ],
   "metadata": {
    "collapsed": false,
    "ExecuteTime": {
     "end_time": "2024-02-28T19:23:11.535306Z",
     "start_time": "2024-02-28T19:23:11.527785Z"
    }
   },
   "id": "28f861818915aa35",
   "execution_count": 5
  },
  {
   "cell_type": "code",
   "outputs": [
    {
     "data": {
      "text/plain": "[1,\n 1,\n 1,\n 1,\n 1,\n 1,\n 1,\n 1,\n 1,\n 1,\n 1,\n 1,\n 1,\n 1,\n 1,\n 1,\n 1,\n 1,\n 1,\n 1,\n 1,\n 1,\n 1,\n 1,\n 1,\n 1,\n 1,\n 1,\n 1,\n 1,\n 1,\n 1,\n 1,\n 1,\n 1,\n 1,\n 1,\n 1,\n 1,\n 1,\n 2,\n 2,\n 2,\n 2,\n 2,\n 2,\n 2,\n 2,\n 2,\n 2,\n 2,\n 2,\n 2,\n 2,\n 2,\n 2,\n 2,\n 2,\n 2,\n 2,\n 2,\n 2,\n 2,\n 2,\n 2,\n 2,\n 2,\n 2,\n 2,\n 2,\n 2,\n 2,\n 2,\n 2,\n 2,\n 2,\n 3,\n 3,\n 3,\n 3,\n 3,\n 3,\n 3,\n 3,\n 3,\n 3,\n 3,\n 3,\n 3,\n 3,\n 3,\n 3,\n 3,\n 4,\n 4,\n 4,\n 4,\n 4,\n 4,\n 4,\n 4,\n 4,\n 4,\n 4,\n 4,\n 4,\n 4,\n 4,\n 4,\n 4,\n 4,\n 4,\n 4,\n 4,\n 4,\n 4,\n 5,\n 5,\n 5,\n 5,\n 5,\n 5,\n 5,\n 5,\n 5,\n 5,\n 5,\n 5,\n 5,\n 5,\n 5,\n 5,\n 5,\n 5,\n 5,\n 5,\n 5,\n 5,\n 5,\n 5,\n 5,\n 6,\n 6,\n 6,\n 6,\n 6,\n 6,\n 6,\n 6,\n 6,\n 6,\n 6,\n 6,\n 6,\n 6,\n 6,\n 6,\n 6,\n 6,\n 6,\n 6,\n 6,\n 6,\n 6,\n 6,\n 6,\n 6,\n 6,\n 6,\n 6,\n 6,\n 6,\n 6,\n 7,\n 7,\n 7,\n 7,\n 7,\n 7,\n 7,\n 7,\n 7,\n 7,\n 7,\n 7,\n 7,\n 7,\n 7,\n 7,\n 7,\n 7,\n 7,\n 7,\n 7,\n 7,\n 7,\n 7,\n 7,\n 7,\n 7,\n 7,\n 7,\n 7,\n 8,\n 8,\n 8,\n 8,\n 8,\n 8,\n 8,\n 8,\n 8,\n 8,\n 8,\n 8,\n 8,\n 8,\n 8,\n 8,\n 8,\n 8,\n 8,\n 8,\n 8,\n 8,\n 8,\n 8,\n 8,\n 8,\n 8,\n 8,\n 8,\n 8,\n 8,\n 8,\n 8,\n 8,\n 8,\n 8,\n 8,\n 9,\n 9,\n 9,\n 9,\n 9,\n 9,\n 9,\n 9,\n 9,\n 9,\n 9,\n 9,\n 9,\n 9,\n 9,\n 9,\n 9,\n 9,\n 9,\n 9,\n 9,\n 9,\n 9,\n 9,\n 9,\n 9,\n 9,\n 9,\n 9,\n 9,\n 9,\n 9,\n 10,\n 10,\n 10,\n 10,\n 10,\n 10,\n 10,\n 10,\n 10,\n 10,\n 10,\n 10,\n 10,\n 10,\n 10,\n 10,\n 10,\n 10,\n 10,\n 10,\n 10,\n 10,\n 10,\n 10,\n 10,\n 10,\n 10,\n 11,\n 11,\n 11,\n 11,\n 11,\n 11,\n 11,\n 11,\n 11,\n 11,\n 11,\n 11,\n 11,\n 11,\n 11,\n 11,\n 11,\n 11,\n 11,\n 11,\n 11,\n 11,\n 12,\n 12,\n 12,\n 12,\n 12,\n 12,\n 12,\n 12,\n 12,\n 12,\n 12,\n 12,\n 12,\n 12,\n 12,\n 12,\n 12,\n 12,\n 12,\n 12,\n 12,\n 12,\n 12,\n 12,\n 12,\n 12,\n 12,\n 12,\n 12,\n 12,\n 12,\n 12,\n 12,\n 12,\n 12,\n 12,\n 12,\n 12,\n 12,\n 12,\n 12,\n 13,\n 13,\n 13,\n 13,\n 13,\n 13,\n 13,\n 13,\n 13,\n 13,\n 13,\n 13,\n 13,\n 13,\n 13,\n 13,\n 13,\n 13,\n 13,\n 13,\n 13,\n 13,\n 13,\n 13,\n 13,\n 13,\n 13,\n 13,\n 13,\n 13,\n 13,\n 13,\n 13,\n 13,\n 13,\n 13,\n 14,\n 14,\n 14,\n 14,\n 14,\n 14,\n 14,\n 14,\n 14,\n 14,\n 14,\n 14,\n 14,\n 14,\n 14,\n 14,\n 14,\n 14,\n 14,\n 14,\n 14,\n 14,\n 14,\n 14,\n 14,\n 14,\n 14,\n 14,\n 14,\n 14,\n 14,\n 15,\n 15,\n 15,\n 15,\n 15,\n 15,\n 15,\n 15,\n 15,\n 15,\n 15,\n 15,\n 15,\n 15,\n 15,\n 15,\n 15,\n 15,\n 15,\n 15,\n 15,\n 15,\n 15,\n 15,\n 15,\n 15,\n 15,\n 15,\n 15,\n 15,\n 15,\n 15,\n 15,\n 16,\n 16,\n 16,\n 16,\n 16,\n 16,\n 16,\n 16,\n 16,\n 16,\n 16,\n 16,\n 16,\n 16,\n 16,\n 16,\n 16,\n 16,\n 16,\n 16,\n 16,\n 16,\n 16,\n 16,\n 16,\n 16,\n 16,\n 16,\n 16,\n 16,\n 16,\n 16,\n 17,\n 17,\n 17,\n 17,\n 17,\n 17,\n 17,\n 17,\n 17,\n 17,\n 17,\n 17,\n 17,\n 17,\n 17,\n 17,\n 17,\n 17,\n 17,\n 17,\n 18,\n 18,\n 18,\n 18,\n 18,\n 18,\n 18,\n 18,\n 18,\n 18,\n 18,\n 18,\n 18,\n 18,\n 18,\n 18,\n 18,\n 18,\n 18,\n 18,\n 18,\n 18,\n 19,\n 19,\n 19,\n 19,\n 19,\n 19,\n 19,\n 19,\n 19,\n 19,\n 19,\n 19,\n 19,\n 19,\n 19,\n 19,\n 19,\n 19,\n 19,\n 19,\n 19,\n 19,\n 19,\n 19,\n 19,\n 19,\n 20,\n 20,\n 20,\n 20,\n 20,\n 20,\n 20,\n 20,\n 20,\n 20,\n 20,\n 20,\n 20,\n 20,\n 20,\n 20,\n 20,\n 20,\n 20,\n 20,\n 20,\n 20,\n 20,\n 20,\n 20,\n 20,\n 20,\n 20,\n 20,\n 21,\n 21,\n 21,\n 21,\n 21,\n 21,\n 21,\n 21,\n 21,\n 21,\n 21,\n 21,\n 21,\n 21,\n 21,\n 21,\n 21,\n 21,\n 21,\n 21,\n 21,\n 21,\n 21,\n 21,\n 21,\n 21,\n 21,\n 21,\n 21,\n 21,\n 21,\n 21,\n 21,\n 21,\n 22,\n 22,\n 22,\n 22,\n 22,\n 22,\n 22,\n 22,\n 22,\n 22,\n 22,\n 22,\n 22,\n 22,\n 22,\n 22,\n 22,\n 22,\n 22,\n 22,\n 22,\n 22,\n 22,\n 22,\n 22,\n 23,\n 23,\n 23,\n 23,\n 23,\n 23,\n 23,\n 23,\n 23,\n 23,\n 23,\n 23,\n 23,\n 23,\n 23,\n 23,\n 23,\n 23,\n 23,\n 23,\n 23,\n 23,\n 23,\n 23,\n 23,\n 23,\n 23,\n 23,\n 23,\n 23,\n 24,\n 24,\n 24,\n 24,\n 24,\n 24,\n 24,\n 24,\n 24,\n 24,\n 24,\n 24,\n 24,\n 24,\n 24,\n 24,\n 24,\n 24,\n 24,\n 24,\n 24,\n 24,\n 24,\n 24,\n 24,\n 24,\n 24,\n 24,\n 24,\n 24,\n 24,\n 24,\n 24,\n 24,\n 24,\n 25,\n 25,\n 25,\n 25,\n 25,\n 25,\n 25,\n 25,\n 25,\n 25,\n 25,\n 25,\n 25,\n 25,\n 25,\n 25,\n 25,\n 25,\n 25,\n 25,\n 25,\n 25,\n 25,\n 25,\n 25,\n 25,\n 25,\n 25,\n 25,\n 25,\n 25,\n 25,\n 25,\n 25,\n 25,\n 25,\n 26,\n 26,\n 26,\n 26,\n 26,\n 26,\n 26,\n 26,\n 26,\n 26,\n 26,\n 26,\n 26,\n 26,\n 26,\n 26,\n 26,\n 26,\n 26,\n 26,\n 26,\n 26,\n 26,\n 26,\n 26,\n 26,\n 26,\n 26,\n 26,\n 26,\n 26,\n 26,\n 27,\n 27,\n 27,\n 27,\n 27,\n 27,\n 27,\n 27,\n 27,\n 27,\n 27,\n 27,\n 27,\n 27,\n 27,\n 27,\n 27,\n 27,\n 27,\n 27,\n 27,\n 27,\n 27,\n 27,\n 27,\n 28,\n 28,\n 28,\n 28,\n 28,\n 28,\n 28,\n 28,\n 28,\n 28,\n 28,\n 28,\n 28,\n 28,\n 28,\n 28,\n 28,\n 28,\n 28,\n 28,\n 28,\n 28,\n 28,\n 28,\n 28,\n 28,\n 28,\n 28,\n 28,\n 28,\n 28,\n 28,\n 28,\n 28,\n 28,\n 28,\n 28,\n 28,\n 28,\n 28,\n 29,\n 29,\n 29,\n 29,\n 29,\n 29,\n 29,\n 29,\n 29,\n 29,\n 29,\n 29,\n 29,\n 29,\n 29,\n 29,\n 29,\n 29,\n 29,\n 29,\n 29,\n 29,\n 29,\n 29,\n 29,\n 29,\n 29,\n 29,\n 29,\n 29,\n 29,\n 29,\n 29,\n 30,\n 30,\n 30,\n 30,\n 30,\n 30,\n 30,\n 30,\n 30,\n 30,\n 30,\n 30,\n 30,\n 30,\n 30,\n 30,\n 30,\n 30,\n 30,\n 30,\n 31,\n 31,\n 31,\n 31,\n 31,\n 31,\n 31,\n 31,\n 31,\n 31,\n 31,\n 31,\n 31,\n 31,\n 31,\n 31,\n 31,\n 31,\n 31,\n 31,\n 31,\n 32,\n 32,\n 32,\n 32,\n 32,\n 32,\n 32,\n 32,\n 32,\n 32,\n 32,\n 32,\n 32,\n 32,\n 32,\n 32,\n 32,\n 32,\n 32,\n 32,\n 32,\n 32,\n 32,\n 32,\n 32,\n 32,\n 33,\n 33,\n 33,\n 33,\n 33,\n 33,\n 33,\n 33,\n 33,\n 33,\n 33,\n 33,\n 33,\n 33,\n 33,\n 33,\n 33,\n 33,\n 33,\n 33,\n 33,\n 33,\n 33,\n 33,\n 33,\n 33,\n 33,\n 33,\n 33,\n 33,\n 33,\n 34,\n 34,\n 34,\n 34,\n 34,\n 34,\n 34,\n 34,\n 34,\n 34,\n 34,\n 34,\n 34,\n 34,\n 34,\n 34,\n 34,\n 34,\n 34,\n 34,\n 34,\n ...]"
     },
     "execution_count": 6,
     "metadata": {},
     "output_type": "execute_result"
    }
   ],
   "source": [
    "merge_sort(my_list1 + my_list2 + my_list3)"
   ],
   "metadata": {
    "collapsed": false,
    "ExecuteTime": {
     "end_time": "2024-02-28T19:23:11.565833Z",
     "start_time": "2024-02-28T19:23:11.538320Z"
    }
   },
   "id": "be740617fe6f2eba",
   "execution_count": 6
  },
  {
   "cell_type": "code",
   "outputs": [],
   "source": [
    "# redelijk voor het sorteren van kleinere lijsten. Naarmate het aantal elementen per lijst groeit wordt dit langzamer.\n",
    "def bubble_sort(array):\n",
    "    n = len(array)\n",
    "\n",
    "    for i in range(n):\n",
    "        # Create a flag that will allow the function to\n",
    "        # terminate early if there's nothing left to sort\n",
    "        already_sorted = True\n",
    "\n",
    "        # Start looking at each item of the list one by one,\n",
    "        # comparing it with its adjacent value. With each\n",
    "        # iteration, the portion of the array that you look at\n",
    "        # shrinks because the remaining items have already been\n",
    "        # sorted.\n",
    "        for j in range(n - i - 1):\n",
    "            if array[j] > array[j + 1]:\n",
    "                # If the item you're looking at is greater than its\n",
    "                # adjacent value, then swap them\n",
    "                array[j], array[j + 1] = array[j + 1], array[j]\n",
    "\n",
    "                # Since you had to swap two elements,\n",
    "                # set the `already_sorted` flag to `False` so the\n",
    "                # algorithm doesn't finish prematurely\n",
    "                already_sorted = False\n",
    "\n",
    "        # If there were no swaps during the last iteration,\n",
    "        # the array is already sorted, and you can terminate\n",
    "        if already_sorted:\n",
    "            break\n",
    "\n",
    "    return array"
   ],
   "metadata": {
    "collapsed": false,
    "ExecuteTime": {
     "end_time": "2024-02-28T19:23:11.580693Z",
     "start_time": "2024-02-28T19:23:11.568818Z"
    }
   },
   "id": "41752137858e9b6",
   "execution_count": 7
  },
  {
   "cell_type": "code",
   "outputs": [
    {
     "data": {
      "text/plain": "[1,\n 1,\n 1,\n 1,\n 1,\n 1,\n 1,\n 1,\n 1,\n 1,\n 1,\n 1,\n 1,\n 1,\n 1,\n 1,\n 1,\n 1,\n 1,\n 1,\n 1,\n 1,\n 1,\n 1,\n 1,\n 1,\n 1,\n 1,\n 1,\n 1,\n 1,\n 1,\n 1,\n 1,\n 1,\n 1,\n 1,\n 1,\n 1,\n 1,\n 2,\n 2,\n 2,\n 2,\n 2,\n 2,\n 2,\n 2,\n 2,\n 2,\n 2,\n 2,\n 2,\n 2,\n 2,\n 2,\n 2,\n 2,\n 2,\n 2,\n 2,\n 2,\n 2,\n 2,\n 2,\n 2,\n 2,\n 2,\n 2,\n 2,\n 2,\n 2,\n 2,\n 2,\n 2,\n 2,\n 3,\n 3,\n 3,\n 3,\n 3,\n 3,\n 3,\n 3,\n 3,\n 3,\n 3,\n 3,\n 3,\n 3,\n 3,\n 3,\n 3,\n 4,\n 4,\n 4,\n 4,\n 4,\n 4,\n 4,\n 4,\n 4,\n 4,\n 4,\n 4,\n 4,\n 4,\n 4,\n 4,\n 4,\n 4,\n 4,\n 4,\n 4,\n 4,\n 4,\n 5,\n 5,\n 5,\n 5,\n 5,\n 5,\n 5,\n 5,\n 5,\n 5,\n 5,\n 5,\n 5,\n 5,\n 5,\n 5,\n 5,\n 5,\n 5,\n 5,\n 5,\n 5,\n 5,\n 5,\n 5,\n 6,\n 6,\n 6,\n 6,\n 6,\n 6,\n 6,\n 6,\n 6,\n 6,\n 6,\n 6,\n 6,\n 6,\n 6,\n 6,\n 6,\n 6,\n 6,\n 6,\n 6,\n 6,\n 6,\n 6,\n 6,\n 6,\n 6,\n 6,\n 6,\n 6,\n 6,\n 6,\n 7,\n 7,\n 7,\n 7,\n 7,\n 7,\n 7,\n 7,\n 7,\n 7,\n 7,\n 7,\n 7,\n 7,\n 7,\n 7,\n 7,\n 7,\n 7,\n 7,\n 7,\n 7,\n 7,\n 7,\n 7,\n 7,\n 7,\n 7,\n 7,\n 7,\n 8,\n 8,\n 8,\n 8,\n 8,\n 8,\n 8,\n 8,\n 8,\n 8,\n 8,\n 8,\n 8,\n 8,\n 8,\n 8,\n 8,\n 8,\n 8,\n 8,\n 8,\n 8,\n 8,\n 8,\n 8,\n 8,\n 8,\n 8,\n 8,\n 8,\n 8,\n 8,\n 8,\n 8,\n 8,\n 8,\n 8,\n 9,\n 9,\n 9,\n 9,\n 9,\n 9,\n 9,\n 9,\n 9,\n 9,\n 9,\n 9,\n 9,\n 9,\n 9,\n 9,\n 9,\n 9,\n 9,\n 9,\n 9,\n 9,\n 9,\n 9,\n 9,\n 9,\n 9,\n 9,\n 9,\n 9,\n 9,\n 9,\n 10,\n 10,\n 10,\n 10,\n 10,\n 10,\n 10,\n 10,\n 10,\n 10,\n 10,\n 10,\n 10,\n 10,\n 10,\n 10,\n 10,\n 10,\n 10,\n 10,\n 10,\n 10,\n 10,\n 10,\n 10,\n 10,\n 10,\n 11,\n 11,\n 11,\n 11,\n 11,\n 11,\n 11,\n 11,\n 11,\n 11,\n 11,\n 11,\n 11,\n 11,\n 11,\n 11,\n 11,\n 11,\n 11,\n 11,\n 11,\n 11,\n 12,\n 12,\n 12,\n 12,\n 12,\n 12,\n 12,\n 12,\n 12,\n 12,\n 12,\n 12,\n 12,\n 12,\n 12,\n 12,\n 12,\n 12,\n 12,\n 12,\n 12,\n 12,\n 12,\n 12,\n 12,\n 12,\n 12,\n 12,\n 12,\n 12,\n 12,\n 12,\n 12,\n 12,\n 12,\n 12,\n 12,\n 12,\n 12,\n 12,\n 12,\n 13,\n 13,\n 13,\n 13,\n 13,\n 13,\n 13,\n 13,\n 13,\n 13,\n 13,\n 13,\n 13,\n 13,\n 13,\n 13,\n 13,\n 13,\n 13,\n 13,\n 13,\n 13,\n 13,\n 13,\n 13,\n 13,\n 13,\n 13,\n 13,\n 13,\n 13,\n 13,\n 13,\n 13,\n 13,\n 13,\n 14,\n 14,\n 14,\n 14,\n 14,\n 14,\n 14,\n 14,\n 14,\n 14,\n 14,\n 14,\n 14,\n 14,\n 14,\n 14,\n 14,\n 14,\n 14,\n 14,\n 14,\n 14,\n 14,\n 14,\n 14,\n 14,\n 14,\n 14,\n 14,\n 14,\n 14,\n 15,\n 15,\n 15,\n 15,\n 15,\n 15,\n 15,\n 15,\n 15,\n 15,\n 15,\n 15,\n 15,\n 15,\n 15,\n 15,\n 15,\n 15,\n 15,\n 15,\n 15,\n 15,\n 15,\n 15,\n 15,\n 15,\n 15,\n 15,\n 15,\n 15,\n 15,\n 15,\n 15,\n 16,\n 16,\n 16,\n 16,\n 16,\n 16,\n 16,\n 16,\n 16,\n 16,\n 16,\n 16,\n 16,\n 16,\n 16,\n 16,\n 16,\n 16,\n 16,\n 16,\n 16,\n 16,\n 16,\n 16,\n 16,\n 16,\n 16,\n 16,\n 16,\n 16,\n 16,\n 16,\n 17,\n 17,\n 17,\n 17,\n 17,\n 17,\n 17,\n 17,\n 17,\n 17,\n 17,\n 17,\n 17,\n 17,\n 17,\n 17,\n 17,\n 17,\n 17,\n 17,\n 18,\n 18,\n 18,\n 18,\n 18,\n 18,\n 18,\n 18,\n 18,\n 18,\n 18,\n 18,\n 18,\n 18,\n 18,\n 18,\n 18,\n 18,\n 18,\n 18,\n 18,\n 18,\n 19,\n 19,\n 19,\n 19,\n 19,\n 19,\n 19,\n 19,\n 19,\n 19,\n 19,\n 19,\n 19,\n 19,\n 19,\n 19,\n 19,\n 19,\n 19,\n 19,\n 19,\n 19,\n 19,\n 19,\n 19,\n 19,\n 20,\n 20,\n 20,\n 20,\n 20,\n 20,\n 20,\n 20,\n 20,\n 20,\n 20,\n 20,\n 20,\n 20,\n 20,\n 20,\n 20,\n 20,\n 20,\n 20,\n 20,\n 20,\n 20,\n 20,\n 20,\n 20,\n 20,\n 20,\n 20,\n 21,\n 21,\n 21,\n 21,\n 21,\n 21,\n 21,\n 21,\n 21,\n 21,\n 21,\n 21,\n 21,\n 21,\n 21,\n 21,\n 21,\n 21,\n 21,\n 21,\n 21,\n 21,\n 21,\n 21,\n 21,\n 21,\n 21,\n 21,\n 21,\n 21,\n 21,\n 21,\n 21,\n 21,\n 22,\n 22,\n 22,\n 22,\n 22,\n 22,\n 22,\n 22,\n 22,\n 22,\n 22,\n 22,\n 22,\n 22,\n 22,\n 22,\n 22,\n 22,\n 22,\n 22,\n 22,\n 22,\n 22,\n 22,\n 22,\n 23,\n 23,\n 23,\n 23,\n 23,\n 23,\n 23,\n 23,\n 23,\n 23,\n 23,\n 23,\n 23,\n 23,\n 23,\n 23,\n 23,\n 23,\n 23,\n 23,\n 23,\n 23,\n 23,\n 23,\n 23,\n 23,\n 23,\n 23,\n 23,\n 23,\n 24,\n 24,\n 24,\n 24,\n 24,\n 24,\n 24,\n 24,\n 24,\n 24,\n 24,\n 24,\n 24,\n 24,\n 24,\n 24,\n 24,\n 24,\n 24,\n 24,\n 24,\n 24,\n 24,\n 24,\n 24,\n 24,\n 24,\n 24,\n 24,\n 24,\n 24,\n 24,\n 24,\n 24,\n 24,\n 25,\n 25,\n 25,\n 25,\n 25,\n 25,\n 25,\n 25,\n 25,\n 25,\n 25,\n 25,\n 25,\n 25,\n 25,\n 25,\n 25,\n 25,\n 25,\n 25,\n 25,\n 25,\n 25,\n 25,\n 25,\n 25,\n 25,\n 25,\n 25,\n 25,\n 25,\n 25,\n 25,\n 25,\n 25,\n 25,\n 26,\n 26,\n 26,\n 26,\n 26,\n 26,\n 26,\n 26,\n 26,\n 26,\n 26,\n 26,\n 26,\n 26,\n 26,\n 26,\n 26,\n 26,\n 26,\n 26,\n 26,\n 26,\n 26,\n 26,\n 26,\n 26,\n 26,\n 26,\n 26,\n 26,\n 26,\n 26,\n 27,\n 27,\n 27,\n 27,\n 27,\n 27,\n 27,\n 27,\n 27,\n 27,\n 27,\n 27,\n 27,\n 27,\n 27,\n 27,\n 27,\n 27,\n 27,\n 27,\n 27,\n 27,\n 27,\n 27,\n 27,\n 28,\n 28,\n 28,\n 28,\n 28,\n 28,\n 28,\n 28,\n 28,\n 28,\n 28,\n 28,\n 28,\n 28,\n 28,\n 28,\n 28,\n 28,\n 28,\n 28,\n 28,\n 28,\n 28,\n 28,\n 28,\n 28,\n 28,\n 28,\n 28,\n 28,\n 28,\n 28,\n 28,\n 28,\n 28,\n 28,\n 28,\n 28,\n 28,\n 28,\n 29,\n 29,\n 29,\n 29,\n 29,\n 29,\n 29,\n 29,\n 29,\n 29,\n 29,\n 29,\n 29,\n 29,\n 29,\n 29,\n 29,\n 29,\n 29,\n 29,\n 29,\n 29,\n 29,\n 29,\n 29,\n 29,\n 29,\n 29,\n 29,\n 29,\n 29,\n 29,\n 29,\n 30,\n 30,\n 30,\n 30,\n 30,\n 30,\n 30,\n 30,\n 30,\n 30,\n 30,\n 30,\n 30,\n 30,\n 30,\n 30,\n 30,\n 30,\n 30,\n 30,\n 31,\n 31,\n 31,\n 31,\n 31,\n 31,\n 31,\n 31,\n 31,\n 31,\n 31,\n 31,\n 31,\n 31,\n 31,\n 31,\n 31,\n 31,\n 31,\n 31,\n 31,\n 32,\n 32,\n 32,\n 32,\n 32,\n 32,\n 32,\n 32,\n 32,\n 32,\n 32,\n 32,\n 32,\n 32,\n 32,\n 32,\n 32,\n 32,\n 32,\n 32,\n 32,\n 32,\n 32,\n 32,\n 32,\n 32,\n 33,\n 33,\n 33,\n 33,\n 33,\n 33,\n 33,\n 33,\n 33,\n 33,\n 33,\n 33,\n 33,\n 33,\n 33,\n 33,\n 33,\n 33,\n 33,\n 33,\n 33,\n 33,\n 33,\n 33,\n 33,\n 33,\n 33,\n 33,\n 33,\n 33,\n 33,\n 34,\n 34,\n 34,\n 34,\n 34,\n 34,\n 34,\n 34,\n 34,\n 34,\n 34,\n 34,\n 34,\n 34,\n 34,\n 34,\n 34,\n 34,\n 34,\n 34,\n 34,\n ...]"
     },
     "execution_count": 8,
     "metadata": {},
     "output_type": "execute_result"
    }
   ],
   "source": [
    "bubble_sort(my_list1 + my_list2 + my_list3)"
   ],
   "metadata": {
    "collapsed": false,
    "ExecuteTime": {
     "end_time": "2024-02-28T19:23:12.330914Z",
     "start_time": "2024-02-28T19:23:11.584689Z"
    }
   },
   "id": "aeec9154d4edcb71",
   "execution_count": 8
  }
 ],
 "metadata": {
  "kernelspec": {
   "display_name": "Python 3",
   "language": "python",
   "name": "python3"
  },
  "language_info": {
   "codemirror_mode": {
    "name": "ipython",
    "version": 2
   },
   "file_extension": ".py",
   "mimetype": "text/x-python",
   "name": "python",
   "nbconvert_exporter": "python",
   "pygments_lexer": "ipython2",
   "version": "2.7.6"
  }
 },
 "nbformat": 4,
 "nbformat_minor": 5
}
