{
 "cells": [
  {
   "cell_type": "code",
   "outputs": [],
   "source": [
    "import random\n",
    "# Define the desired number of elements and value range\n",
    "num_elements = 10\n",
    "min_value = 1\n",
    "max_value = 100\n",
    "# Create an empty list\n",
    "my_list1 = []\n",
    "my_list2 = []\n",
    "my_list3 = []\n",
    "# Generate random integers and append them to the lists\n",
    "for _ in range(num_elements):  my_list1.append(random.randint(min_value, max_value))\n",
    "for _ in range(num_elements):  my_list2.append(random.randint(min_value,max_value))\n",
    "for _ in range(num_elements):  my_list3.append(random.randint(min_value,max_value))\n",
    "# Print the list\n",
    "# print(my_list3)"
   ],
   "metadata": {
    "collapsed": false,
    "ExecuteTime": {
     "end_time": "2024-02-26T15:24:16.489370900Z",
     "start_time": "2024-02-26T15:24:16.473405Z"
    }
   },
   "id": "35b346fcf3cac30a",
   "execution_count": 193
  },
  {
   "cell_type": "code",
   "outputs": [],
   "source": [
    "#Goed voor complexe problemen, divide and conquer principle net als merge sort\n",
    "def quicksort(array):\n",
    "    # Als lengte array kleiner is dan 2 elementen return.\n",
    "    if len(array) < 2:\n",
    "        return array\n",
    "    # 3 arrays\n",
    "    low, same, high = [], [], []\n",
    "\n",
    "    # Pak laatste getal van de array.\n",
    "    pivot = array[len(array) - 1]\n",
    "    # Voor iedere item in de array kijk of deze kleiner, gelijk aan of groter dan het pivot getal is. Als dit dit is stop dat item in die bijbehorende array.\n",
    "    for item in array:\n",
    "        if item < pivot:\n",
    "            low.append(item)\n",
    "        elif item == pivot:\n",
    "            same.append(item)\n",
    "        elif item > pivot:\n",
    "            high.append(item)\n",
    "\n",
    "    # combineer 3 lijsten en return deze, sorteer ook lage en hoge lijst.\n",
    "    return quicksort(low) + same + quicksort(high)"
   ],
   "metadata": {
    "collapsed": false,
    "ExecuteTime": {
     "end_time": "2024-02-26T15:17:08.622652700Z",
     "start_time": "2024-02-26T15:17:08.610635900Z"
    }
   },
   "id": "b6b14e5d95e6e163",
   "execution_count": 184
  },
  {
   "cell_type": "code",
   "outputs": [
    {
     "data": {
      "text/plain": "[9,\n 9,\n 10,\n 11,\n 14,\n 17,\n 18,\n 20,\n 26,\n 27,\n 30,\n 31,\n 37,\n 39,\n 40,\n 42,\n 52,\n 55,\n 63,\n 66,\n 70,\n 72,\n 73,\n 79,\n 85,\n 86,\n 90,\n 90,\n 97,\n 98]"
     },
     "execution_count": 185,
     "metadata": {},
     "output_type": "execute_result"
    }
   ],
   "source": [
    "quicksort(my_list1 + my_list2 + my_list3)"
   ],
   "metadata": {
    "collapsed": false,
    "ExecuteTime": {
     "end_time": "2024-02-26T15:17:11.461332900Z",
     "start_time": "2024-02-26T15:17:11.453091400Z"
    }
   },
   "id": "d83d2815b49e8221",
   "execution_count": 185
  },
  {
   "cell_type": "code",
   "outputs": [],
   "source": [
    "#Goed voor het sorteren van complexe array's.\n",
    "def merge_sort(arr):\n",
    "  # als de array langer is dan 1 voert de functie onderstaande code uit totdat de lengte van de array wel 1 is\n",
    "  if len(arr) >1:\n",
    "    left_arr = arr[:len(arr)//2]\n",
    "    right_arr = arr[len(arr)//2:]\n",
    "   # recursion om de arrays nog verder te splitsen \n",
    "    merge_sort(left_arr)\n",
    "    merge_sort(right_arr)\n",
    "\n",
    "    #merge vergelijk meest linker element van de ene array met het meest linker element van de andere array\n",
    "    i = 0 # linker_arr index\n",
    "    j = 0 # rechter_arr index\n",
    "    k = 0 # merged array index\n",
    "\n",
    "    while i < len(left_arr) and j < len(right_arr):\n",
    "        if left_arr[i] < right_arr[j]:\n",
    "          arr[k] = left_arr[i]\n",
    "          i += 1\n",
    "        else:\n",
    "          arr[k] =right_arr[j]\n",
    "          j +=1\n",
    "        k +=1 # verhoog de index van de merged array om de positie van de gesorteerde getallen te bepalen\n",
    "\n",
    "    while i < len(left_arr):\n",
    "        arr[k] = left_arr[i]\n",
    "        i+= 1\n",
    "        k+= 1\n",
    "\n",
    "    while  j < len(right_arr):\n",
    "      arr[k] = right_arr[j]\n",
    "      j +=1\n",
    "      k += 1\n",
    "          \n",
    "  return arr"
   ],
   "metadata": {
    "collapsed": false,
    "ExecuteTime": {
     "end_time": "2024-02-26T15:17:23.218399500Z",
     "start_time": "2024-02-26T15:17:23.211950300Z"
    }
   },
   "id": "28f861818915aa35",
   "execution_count": 186
  },
  {
   "cell_type": "code",
   "outputs": [
    {
     "data": {
      "text/plain": "[9,\n 9,\n 10,\n 11,\n 14,\n 17,\n 18,\n 20,\n 26,\n 27,\n 30,\n 31,\n 37,\n 39,\n 40,\n 42,\n 52,\n 55,\n 63,\n 66,\n 70,\n 72,\n 73,\n 79,\n 85,\n 86,\n 90,\n 90,\n 97,\n 98]"
     },
     "execution_count": 187,
     "metadata": {},
     "output_type": "execute_result"
    }
   ],
   "source": [
    "merge_sort(my_list1 + my_list2 + my_list3)"
   ],
   "metadata": {
    "collapsed": false,
    "ExecuteTime": {
     "end_time": "2024-02-26T15:17:30.129875500Z",
     "start_time": "2024-02-26T15:17:30.121359500Z"
    }
   },
   "id": "be740617fe6f2eba",
   "execution_count": 187
  },
  {
   "cell_type": "code",
   "outputs": [],
   "source": [
    "# redelijk voor het sorteren van kleinere lijsten. Naarmate het aantal elementen per lijst groeit wordt dit langzamer.\n",
    "def bubble_sort(array):\n",
    "    n = len(array)\n",
    "\n",
    "    for i in range(n):\n",
    "        #als al gesorteerd zet true\n",
    "        already_sorted = True\n",
    "\n",
    "        # Start looking at each item of the list one by one,\n",
    "        # comparing it with its adjacent value. With each\n",
    "        # iteration, the portion of the array that you look at\n",
    "        # shrinks because the remaining items have already been\n",
    "        # sorted.\n",
    "        for j in range(n - i - 1):\n",
    "            if array[j] > array[j + 1]:\n",
    "                # If the item you're looking at is greater than its\n",
    "                # adjacent value, then swap them\n",
    "                array[j], array[j + 1] = array[j + 1], array[j]\n",
    "\n",
    "                # Since you had to swap two elements,\n",
    "                # set the `already_sorted` flag to `False` so the\n",
    "                # algorithm doesn't finish prematurely\n",
    "                already_sorted = False\n",
    "\n",
    "        # If there were no swaps during the last iteration,\n",
    "        # the array is already sorted, and you can terminate\n",
    "        if already_sorted:\n",
    "            break\n",
    "\n",
    "    return array"
   ],
   "metadata": {
    "collapsed": false,
    "ExecuteTime": {
     "end_time": "2024-02-26T15:17:34.818589200Z",
     "start_time": "2024-02-26T15:17:34.810524Z"
    }
   },
   "id": "41752137858e9b6",
   "execution_count": 188
  },
  {
   "cell_type": "code",
   "outputs": [
    {
     "data": {
      "text/plain": "[1,\n 1,\n 1,\n 1,\n 1,\n 1,\n 1,\n 1,\n 1,\n 1,\n 1,\n 1,\n 1,\n 1,\n 1,\n 1,\n 1,\n 1,\n 1,\n 1,\n 1,\n 1,\n 1,\n 1,\n 1,\n 1,\n 2,\n 2,\n 2,\n 2,\n 2,\n 2,\n 2,\n 2,\n 2,\n 2,\n 2,\n 2,\n 2,\n 2,\n 2,\n 2,\n 2,\n 2,\n 2,\n 2,\n 2,\n 2,\n 2,\n 2,\n 2,\n 2,\n 2,\n 2,\n 2,\n 3,\n 3,\n 3,\n 3,\n 3,\n 3,\n 3,\n 3,\n 3,\n 3,\n 3,\n 3,\n 3,\n 3,\n 3,\n 3,\n 3,\n 3,\n 3,\n 3,\n 3,\n 3,\n 3,\n 3,\n 3,\n 4,\n 4,\n 4,\n 4,\n 4,\n 4,\n 4,\n 4,\n 4,\n 4,\n 4,\n 4,\n 4,\n 4,\n 4,\n 4,\n 4,\n 4,\n 4,\n 4,\n 4,\n 4,\n 4,\n 4,\n 4,\n 4,\n 4,\n 4,\n 5,\n 5,\n 5,\n 5,\n 5,\n 5,\n 5,\n 5,\n 5,\n 5,\n 5,\n 5,\n 5,\n 5,\n 5,\n 5,\n 5,\n 5,\n 5,\n 5,\n 5,\n 5,\n 5,\n 5,\n 5,\n 5,\n 5,\n 5,\n 5,\n 5,\n 5,\n 5,\n 5,\n 5,\n 5,\n 5,\n 5,\n 5,\n 5,\n 6,\n 6,\n 6,\n 6,\n 6,\n 6,\n 6,\n 6,\n 6,\n 6,\n 6,\n 6,\n 6,\n 6,\n 6,\n 6,\n 6,\n 6,\n 6,\n 6,\n 6,\n 6,\n 6,\n 6,\n 6,\n 6,\n 6,\n 6,\n 6,\n 6,\n 6,\n 6,\n 6,\n 6,\n 7,\n 7,\n 7,\n 7,\n 7,\n 7,\n 7,\n 7,\n 7,\n 7,\n 7,\n 7,\n 7,\n 7,\n 7,\n 7,\n 7,\n 7,\n 7,\n 7,\n 7,\n 7,\n 7,\n 7,\n 7,\n 8,\n 8,\n 8,\n 8,\n 8,\n 8,\n 8,\n 8,\n 8,\n 8,\n 8,\n 8,\n 8,\n 8,\n 8,\n 8,\n 8,\n 8,\n 8,\n 8,\n 8,\n 8,\n 8,\n 8,\n 8,\n 8,\n 8,\n 8,\n 8,\n 8,\n 8,\n 8,\n 8,\n 8,\n 8,\n 8,\n 8,\n 8,\n 8,\n 9,\n 9,\n 9,\n 9,\n 9,\n 9,\n 9,\n 9,\n 9,\n 9,\n 9,\n 9,\n 9,\n 9,\n 9,\n 9,\n 9,\n 9,\n 9,\n 9,\n 9,\n 9,\n 9,\n 9,\n 9,\n 9,\n 9,\n 9,\n 9,\n 10,\n 10,\n 10,\n 10,\n 10,\n 10,\n 10,\n 10,\n 10,\n 10,\n 10,\n 10,\n 10,\n 10,\n 10,\n 10,\n 10,\n 10,\n 10,\n 10,\n 10,\n 10,\n 11,\n 11,\n 11,\n 11,\n 11,\n 11,\n 11,\n 11,\n 11,\n 11,\n 11,\n 11,\n 11,\n 11,\n 11,\n 11,\n 11,\n 11,\n 11,\n 11,\n 12,\n 12,\n 12,\n 12,\n 12,\n 12,\n 12,\n 12,\n 12,\n 12,\n 12,\n 12,\n 12,\n 12,\n 12,\n 12,\n 12,\n 12,\n 12,\n 12,\n 12,\n 12,\n 12,\n 12,\n 12,\n 12,\n 13,\n 13,\n 13,\n 13,\n 13,\n 13,\n 13,\n 13,\n 13,\n 13,\n 13,\n 13,\n 13,\n 13,\n 13,\n 13,\n 13,\n 13,\n 13,\n 13,\n 13,\n 13,\n 13,\n 13,\n 13,\n 14,\n 14,\n 14,\n 14,\n 14,\n 14,\n 14,\n 14,\n 14,\n 14,\n 14,\n 14,\n 14,\n 14,\n 14,\n 14,\n 14,\n 14,\n 14,\n 14,\n 14,\n 14,\n 14,\n 14,\n 14,\n 14,\n 14,\n 14,\n 14,\n 14,\n 15,\n 15,\n 15,\n 15,\n 15,\n 15,\n 15,\n 15,\n 15,\n 15,\n 15,\n 15,\n 15,\n 15,\n 15,\n 15,\n 15,\n 15,\n 15,\n 15,\n 15,\n 15,\n 15,\n 15,\n 15,\n 15,\n 15,\n 15,\n 15,\n 16,\n 16,\n 16,\n 16,\n 16,\n 16,\n 16,\n 16,\n 16,\n 16,\n 16,\n 16,\n 16,\n 16,\n 16,\n 16,\n 16,\n 16,\n 16,\n 16,\n 16,\n 16,\n 16,\n 16,\n 17,\n 17,\n 17,\n 17,\n 17,\n 17,\n 17,\n 17,\n 17,\n 17,\n 17,\n 17,\n 17,\n 17,\n 17,\n 17,\n 17,\n 17,\n 17,\n 17,\n 17,\n 17,\n 17,\n 17,\n 17,\n 17,\n 17,\n 17,\n 17,\n 17,\n 17,\n 17,\n 17,\n 18,\n 18,\n 18,\n 18,\n 18,\n 18,\n 18,\n 18,\n 18,\n 18,\n 18,\n 18,\n 18,\n 18,\n 18,\n 18,\n 18,\n 18,\n 18,\n 18,\n 18,\n 18,\n 18,\n 18,\n 18,\n 18,\n 18,\n 18,\n 18,\n 18,\n 18,\n 18,\n 19,\n 19,\n 19,\n 19,\n 19,\n 19,\n 19,\n 19,\n 19,\n 19,\n 19,\n 19,\n 19,\n 19,\n 19,\n 19,\n 19,\n 19,\n 19,\n 19,\n 19,\n 19,\n 19,\n 19,\n 19,\n 19,\n 19,\n 19,\n 19,\n 19,\n 19,\n 19,\n 19,\n 19,\n 19,\n 19,\n 19,\n 19,\n 19,\n 19,\n 19,\n 19,\n 19,\n 20,\n 20,\n 20,\n 20,\n 20,\n 20,\n 20,\n 20,\n 20,\n 20,\n 20,\n 20,\n 20,\n 20,\n 20,\n 20,\n 20,\n 20,\n 20,\n 20,\n 20,\n 20,\n 20,\n 20,\n 20,\n 20,\n 20,\n 20,\n 20,\n 21,\n 21,\n 21,\n 21,\n 21,\n 21,\n 21,\n 21,\n 21,\n 21,\n 21,\n 21,\n 21,\n 21,\n 21,\n 21,\n 21,\n 21,\n 21,\n 21,\n 21,\n 21,\n 21,\n 21,\n 21,\n 21,\n 21,\n 21,\n 21,\n 21,\n 21,\n 21,\n 21,\n 21,\n 21,\n 21,\n 21,\n 21,\n 21,\n 21,\n 21,\n 21,\n 22,\n 22,\n 22,\n 22,\n 22,\n 22,\n 22,\n 22,\n 22,\n 22,\n 22,\n 22,\n 22,\n 22,\n 22,\n 22,\n 22,\n 22,\n 22,\n 22,\n 22,\n 22,\n 22,\n 22,\n 22,\n 22,\n 23,\n 23,\n 23,\n 23,\n 23,\n 23,\n 23,\n 23,\n 23,\n 23,\n 23,\n 23,\n 23,\n 23,\n 23,\n 23,\n 23,\n 23,\n 23,\n 23,\n 23,\n 23,\n 23,\n 23,\n 24,\n 24,\n 24,\n 24,\n 24,\n 24,\n 24,\n 24,\n 24,\n 24,\n 24,\n 24,\n 24,\n 24,\n 24,\n 24,\n 24,\n 24,\n 24,\n 25,\n 25,\n 25,\n 25,\n 25,\n 25,\n 25,\n 25,\n 25,\n 25,\n 25,\n 25,\n 25,\n 25,\n 25,\n 25,\n 25,\n 25,\n 25,\n 25,\n 25,\n 25,\n 25,\n 25,\n 25,\n 25,\n 25,\n 25,\n 25,\n 25,\n 25,\n 25,\n 25,\n 25,\n 25,\n 26,\n 26,\n 26,\n 26,\n 26,\n 26,\n 26,\n 26,\n 26,\n 26,\n 26,\n 26,\n 26,\n 26,\n 26,\n 26,\n 26,\n 26,\n 26,\n 26,\n 26,\n 26,\n 26,\n 26,\n 26,\n 26,\n 26,\n 26,\n 26,\n 26,\n 26,\n 26,\n 26,\n 26,\n 27,\n 27,\n 27,\n 27,\n 27,\n 27,\n 27,\n 27,\n 27,\n 27,\n 27,\n 27,\n 27,\n 27,\n 27,\n 27,\n 27,\n 27,\n 27,\n 27,\n 27,\n 27,\n 27,\n 27,\n 28,\n 28,\n 28,\n 28,\n 28,\n 28,\n 28,\n 28,\n 28,\n 28,\n 28,\n 28,\n 28,\n 28,\n 28,\n 28,\n 28,\n 28,\n 28,\n 28,\n 28,\n 28,\n 28,\n 28,\n 28,\n 28,\n 28,\n 28,\n 29,\n 29,\n 29,\n 29,\n 29,\n 29,\n 29,\n 29,\n 29,\n 29,\n 29,\n 29,\n 29,\n 29,\n 29,\n 29,\n 29,\n 29,\n 29,\n 29,\n 29,\n 29,\n 29,\n 29,\n 29,\n 30,\n 30,\n 30,\n 30,\n 30,\n 30,\n 30,\n 30,\n 30,\n 30,\n 30,\n 30,\n 30,\n 30,\n 30,\n 30,\n 30,\n 30,\n 30,\n 30,\n 30,\n 30,\n 30,\n 30,\n 30,\n 30,\n 30,\n 30,\n 30,\n 30,\n 31,\n 31,\n 31,\n 31,\n 31,\n 31,\n 31,\n 31,\n 31,\n 31,\n 31,\n 31,\n 31,\n 31,\n 31,\n 31,\n 31,\n 31,\n 31,\n 31,\n 31,\n 31,\n 31,\n 31,\n 31,\n 31,\n 31,\n 31,\n 31,\n 31,\n 31,\n 31,\n 31,\n 31,\n 31,\n 31,\n 31,\n 32,\n 32,\n 32,\n 32,\n 32,\n 32,\n 32,\n 32,\n 32,\n 32,\n 32,\n 32,\n 32,\n 32,\n 32,\n 32,\n 32,\n 32,\n 32,\n 32,\n 32,\n 32,\n 32,\n 32,\n 32,\n 32,\n 32,\n 32,\n 33,\n 33,\n 33,\n 33,\n 33,\n 33,\n 33,\n 33,\n 33,\n 33,\n 33,\n 33,\n 33,\n 33,\n 33,\n 33,\n 33,\n 33,\n 33,\n 33,\n 33,\n 33,\n 33,\n 33,\n 33,\n 33,\n 33,\n 33,\n 33,\n 33,\n 34,\n 34,\n 34,\n 34,\n 34,\n 34,\n 34,\n 34,\n 34,\n 34,\n 34,\n 34,\n 34,\n 34,\n 34,\n 34,\n 34,\n 34,\n 34,\n 34,\n 34,\n 34,\n 34,\n 34,\n 34,\n 34,\n 34,\n 34,\n 34,\n 34,\n 34,\n ...]"
     },
     "execution_count": 164,
     "metadata": {},
     "output_type": "execute_result"
    }
   ],
   "source": [
    "bubble_sort(my_list1 + my_list2 + my_list3)"
   ],
   "metadata": {
    "collapsed": false,
    "ExecuteTime": {
     "end_time": "2024-02-26T14:42:18.922210900Z",
     "start_time": "2024-02-26T14:42:18.184882100Z"
    }
   },
   "id": "aeec9154d4edcb71",
   "execution_count": 164
  },
  {
   "cell_type": "code",
   "outputs": [
    {
     "name": "stdout",
     "output_type": "stream",
     "text": [
      "Sorted array :\n",
      "30\n",
      "30\n",
      "45\n",
      "61\n",
      "66\n",
      "72\n",
      "80\n",
      "91\n",
      "93\n",
      "100\n"
     ]
    }
   ],
   "source": [
    "import random\n",
    " \n",
    "# Blijft shuffelen to gesorteerd, staat bekend als het meest nutteloze sort algorithme. Vreselijk bij lange array's\n",
    "def bogoSort(a):\n",
    "    n = len(a)\n",
    "    while (is_sorted(a)== False):\n",
    "        shuffle(a)\n",
    " \n",
    "# To check if array is sorted or not\n",
    "def is_sorted(a):\n",
    "    n = len(a)\n",
    "    for i in range(0, n-1):\n",
    "        if (a[i] > a[i+1] ):\n",
    "            return False\n",
    "    return True\n",
    " \n",
    "# To generate permutation of the array\n",
    "def shuffle(a):\n",
    "    n = len(a)\n",
    "    for i in range (0,n):\n",
    "        r = random.randint(0,n-1)\n",
    "        a[i], a[r] = a[r], a[i]\n",
    " \n",
    "bogoSort(my_list1)\n",
    "print(\"Sorted array :\")\n",
    "for i in range(len(my_list1)):\n",
    "    print (\"%d\" %my_list1[i]),"
   ],
   "metadata": {
    "collapsed": false,
    "ExecuteTime": {
     "end_time": "2024-02-26T14:59:00.511953600Z",
     "start_time": "2024-02-26T14:58:55.869215800Z"
    }
   },
   "id": "b44323f639f94531",
   "execution_count": 180
  }
 ],
 "metadata": {
  "kernelspec": {
   "display_name": "Python 3",
   "language": "python",
   "name": "python3"
  },
  "language_info": {
   "codemirror_mode": {
    "name": "ipython",
    "version": 2
   },
   "file_extension": ".py",
   "mimetype": "text/x-python",
   "name": "python",
   "nbconvert_exporter": "python",
   "pygments_lexer": "ipython2",
   "version": "2.7.6"
  }
 },
 "nbformat": 4,
 "nbformat_minor": 5
}
