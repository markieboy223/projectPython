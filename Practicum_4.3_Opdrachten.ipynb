{
 "cells": [
  {
   "cell_type": "code",
   "outputs": [
    {
     "data": {
      "text/plain": "<pyodbc.Cursor at 0x1f82c1204b0>"
     },
     "execution_count": 1,
     "metadata": {},
     "output_type": "execute_result"
    }
   ],
   "source": [
    "import pandas as pd\n",
    "import pyodbc\n",
    "\n",
    "DB = {'servername': r'LAPTOP-NDOACQTH\\SQLEXPRESS',\n",
    "      'database': 'Practicum_4'}\n",
    "\n",
    "# Constructing the connection string with Windows Authentication\n",
    "conn_str = (\n",
    "    'Driver={SQL Server};'\n",
    "    'SERVER=' + DB['servername'] + ';'\n",
    "    'DATABASE=' + DB['database'] + ';'\n",
    "    'Trusted_Connection=yes;'\n",
    ")\n",
    "\n",
    "# Establishing the connection\n",
    "export_conn = pyodbc.connect(conn_str)\n",
    "export_cursor = export_conn.cursor()\n",
    "export_cursor"
   ],
   "metadata": {
    "collapsed": false,
    "ExecuteTime": {
     "end_time": "2024-03-13T10:44:54.485896800Z",
     "start_time": "2024-03-13T10:44:53.436084500Z"
    }
   },
   "execution_count": 1
  },
  {
   "cell_type": "code",
   "outputs": [
    {
     "data": {
      "text/plain": "      INVENTORY_YEAR  INVENTORY_MONTH  PRODUCT_NUMBER  INVENTORY_COUNT\n2021               4               48            1932              NaN\n2021               4               49            1400              NaN\n2021               4               50           21705              NaN\n2021               4               51            9710              NaN\n2021               4               52            5616              NaN\n...              ...              ...             ...              ...\n2022              12              111            1128              NaN\n2022              12              112            7810              NaN\n2022              12              113            3485              NaN\n2022              12              114             350              NaN\n2022              12              115            3310              NaN\n\n[3888 rows x 4 columns]",
      "text/html": "<div>\n<style scoped>\n    .dataframe tbody tr th:only-of-type {\n        vertical-align: middle;\n    }\n\n    .dataframe tbody tr th {\n        vertical-align: top;\n    }\n\n    .dataframe thead th {\n        text-align: right;\n    }\n</style>\n<table border=\"1\" class=\"dataframe\">\n  <thead>\n    <tr style=\"text-align: right;\">\n      <th></th>\n      <th>INVENTORY_YEAR</th>\n      <th>INVENTORY_MONTH</th>\n      <th>PRODUCT_NUMBER</th>\n      <th>INVENTORY_COUNT</th>\n    </tr>\n  </thead>\n  <tbody>\n    <tr>\n      <th>2021</th>\n      <td>4</td>\n      <td>48</td>\n      <td>1932</td>\n      <td>NaN</td>\n    </tr>\n    <tr>\n      <th>2021</th>\n      <td>4</td>\n      <td>49</td>\n      <td>1400</td>\n      <td>NaN</td>\n    </tr>\n    <tr>\n      <th>2021</th>\n      <td>4</td>\n      <td>50</td>\n      <td>21705</td>\n      <td>NaN</td>\n    </tr>\n    <tr>\n      <th>2021</th>\n      <td>4</td>\n      <td>51</td>\n      <td>9710</td>\n      <td>NaN</td>\n    </tr>\n    <tr>\n      <th>2021</th>\n      <td>4</td>\n      <td>52</td>\n      <td>5616</td>\n      <td>NaN</td>\n    </tr>\n    <tr>\n      <th>...</th>\n      <td>...</td>\n      <td>...</td>\n      <td>...</td>\n      <td>...</td>\n    </tr>\n    <tr>\n      <th>2022</th>\n      <td>12</td>\n      <td>111</td>\n      <td>1128</td>\n      <td>NaN</td>\n    </tr>\n    <tr>\n      <th>2022</th>\n      <td>12</td>\n      <td>112</td>\n      <td>7810</td>\n      <td>NaN</td>\n    </tr>\n    <tr>\n      <th>2022</th>\n      <td>12</td>\n      <td>113</td>\n      <td>3485</td>\n      <td>NaN</td>\n    </tr>\n    <tr>\n      <th>2022</th>\n      <td>12</td>\n      <td>114</td>\n      <td>350</td>\n      <td>NaN</td>\n    </tr>\n    <tr>\n      <th>2022</th>\n      <td>12</td>\n      <td>115</td>\n      <td>3310</td>\n      <td>NaN</td>\n    </tr>\n  </tbody>\n</table>\n<p>3888 rows × 4 columns</p>\n</div>"
     },
     "execution_count": 3,
     "metadata": {},
     "output_type": "execute_result"
    }
   ],
   "source": [
    "inventory_levels_df = pd.read_csv('GO_SALES_INVENTORY_LEVELSData.csv')\n",
    "inventory_levels_df"
   ],
   "metadata": {
    "collapsed": false,
    "ExecuteTime": {
     "end_time": "2024-03-13T10:45:11.806294700Z",
     "start_time": "2024-03-13T10:45:11.778199500Z"
    }
   },
   "execution_count": 3
  },
  {
   "cell_type": "code",
   "outputs": [
    {
     "ename": "IntegrityError",
     "evalue": "('23000', \"[23000] [Microsoft][ODBC SQL Server Driver][SQL Server]Violation of PRIMARY KEY constraint 'PK_SALES_INVENTORY_LEVELS'. Cannot insert duplicate key in object 'dbo.SALES_INVENTORY_LEVELS'. The duplicate key value is (4, 48). (2627) (SQLExecDirectW); [23000] [Microsoft][ODBC SQL Server Driver][SQL Server]The statement has been terminated. (3621)\")",
     "output_type": "error",
     "traceback": [
      "\u001B[1;31m---------------------------------------------------------------------------\u001B[0m",
      "\u001B[1;31mIntegrityError\u001B[0m                            Traceback (most recent call last)",
      "Cell \u001B[1;32mIn[7], line 7\u001B[0m\n\u001B[0;32m      5\u001B[0m \u001B[38;5;66;03m# Itereer over de rijen van het DataFrame en voeg deze toe aan de database\u001B[39;00m\n\u001B[0;32m      6\u001B[0m \u001B[38;5;28;01mfor\u001B[39;00m index, row \u001B[38;5;129;01min\u001B[39;00m inventory_levels_df\u001B[38;5;241m.\u001B[39miterrows():\n\u001B[1;32m----> 7\u001B[0m     \u001B[43mcursor\u001B[49m\u001B[38;5;241;43m.\u001B[39;49m\u001B[43mexecute\u001B[49m\u001B[43m(\u001B[49m\u001B[38;5;124;43m\"\u001B[39;49m\u001B[38;5;124;43mINSERT INTO [SALES_INVENTORY_LEVELS] (INVENTORY_YEAR, INVENTORY_MONTH, PRODUCT_NUMBER, INVENTORY_COUNT) VALUES (?, ?, ?, ?)\u001B[39;49m\u001B[38;5;124;43m\"\u001B[39;49m\u001B[43m,\u001B[49m\n\u001B[0;32m      8\u001B[0m \u001B[43m                   \u001B[49m\u001B[43mrow\u001B[49m\u001B[43m[\u001B[49m\u001B[38;5;124;43m'\u001B[39;49m\u001B[38;5;124;43mINVENTORY_YEAR\u001B[39;49m\u001B[38;5;124;43m'\u001B[39;49m\u001B[43m]\u001B[49m\u001B[43m,\u001B[49m\u001B[43m \u001B[49m\u001B[43mrow\u001B[49m\u001B[43m[\u001B[49m\u001B[38;5;124;43m'\u001B[39;49m\u001B[38;5;124;43mINVENTORY_MONTH\u001B[39;49m\u001B[38;5;124;43m'\u001B[39;49m\u001B[43m]\u001B[49m\u001B[43m,\u001B[49m\u001B[43m \u001B[49m\u001B[43mrow\u001B[49m\u001B[43m[\u001B[49m\u001B[38;5;124;43m'\u001B[39;49m\u001B[38;5;124;43mPRODUCT_NUMBER\u001B[39;49m\u001B[38;5;124;43m'\u001B[39;49m\u001B[43m]\u001B[49m\u001B[43m,\u001B[49m\u001B[43m \u001B[49m\u001B[43mrow\u001B[49m\u001B[43m[\u001B[49m\u001B[38;5;124;43m'\u001B[39;49m\u001B[38;5;124;43mINVENTORY_COUNT\u001B[39;49m\u001B[38;5;124;43m'\u001B[39;49m\u001B[43m]\u001B[49m\u001B[43m)\u001B[49m\n\u001B[0;32m     10\u001B[0m \u001B[38;5;66;03m# Transactie commiten\u001B[39;00m\n\u001B[0;32m     11\u001B[0m export_conn\u001B[38;5;241m.\u001B[39mcommit()\n",
      "\u001B[1;31mIntegrityError\u001B[0m: ('23000', \"[23000] [Microsoft][ODBC SQL Server Driver][SQL Server]Violation of PRIMARY KEY constraint 'PK_SALES_INVENTORY_LEVELS'. Cannot insert duplicate key in object 'dbo.SALES_INVENTORY_LEVELS'. The duplicate key value is (4, 48). (2627) (SQLExecDirectW); [23000] [Microsoft][ODBC SQL Server Driver][SQL Server]The statement has been terminated. (3621)\")"
     ]
    }
   ],
   "source": [
    "inventory_levels_df = inventory_levels_df.astype(str)\n",
    "\n",
    "cursor = export_conn.cursor()\n",
    "\n",
    "# Itereer over de rijen van het DataFrame en voeg deze toe aan de database\n",
    "for index, row in inventory_levels_df.iterrows():\n",
    "    cursor.execute(\"INSERT INTO [SALES_INVENTORY_LEVELS] (INVENTORY_YEAR, INVENTORY_MONTH, PRODUCT_NUMBER, INVENTORY_COUNT) VALUES (?, ?, ?, ?)\",\n",
    "                   row['INVENTORY_YEAR'], row['INVENTORY_MONTH'], row['PRODUCT_NUMBER'], row['INVENTORY_COUNT'])\n",
    "\n",
    "# Transactie commiten\n",
    "export_conn.commit()\n",
    "\n",
    "# Cursor en verbinding sluiten\n",
    "cursor.close()\n",
    "export_conn.close()"
   ],
   "metadata": {
    "collapsed": false,
    "ExecuteTime": {
     "end_time": "2024-03-13T11:09:10.594441400Z",
     "start_time": "2024-03-13T11:09:10.557754200Z"
    }
   },
   "execution_count": 7
  },
  {
   "cell_type": "code",
   "outputs": [
    {
     "data": {
      "text/plain": "      PRODUCT_NUMBER  YEAR  MONTH  EXPECTED_VOLUME\n0                 44  2022     12              383\n1                 45  2021      1               80\n2                 45  2021      2               51\n3                 45  2021      3              214\n4                 45  2021      4              300\n...              ...   ...    ...              ...\n3867             115  2022      8              282\n3868             115  2022      9              920\n3869             115  2022     10             1081\n3870             115  2022     11              398\n3871             115  2022     12              759\n\n[3872 rows x 4 columns]",
      "text/html": "<div>\n<style scoped>\n    .dataframe tbody tr th:only-of-type {\n        vertical-align: middle;\n    }\n\n    .dataframe tbody tr th {\n        vertical-align: top;\n    }\n\n    .dataframe thead th {\n        text-align: right;\n    }\n</style>\n<table border=\"1\" class=\"dataframe\">\n  <thead>\n    <tr style=\"text-align: right;\">\n      <th></th>\n      <th>PRODUCT_NUMBER</th>\n      <th>YEAR</th>\n      <th>MONTH</th>\n      <th>EXPECTED_VOLUME</th>\n    </tr>\n  </thead>\n  <tbody>\n    <tr>\n      <th>0</th>\n      <td>44</td>\n      <td>2022</td>\n      <td>12</td>\n      <td>383</td>\n    </tr>\n    <tr>\n      <th>1</th>\n      <td>45</td>\n      <td>2021</td>\n      <td>1</td>\n      <td>80</td>\n    </tr>\n    <tr>\n      <th>2</th>\n      <td>45</td>\n      <td>2021</td>\n      <td>2</td>\n      <td>51</td>\n    </tr>\n    <tr>\n      <th>3</th>\n      <td>45</td>\n      <td>2021</td>\n      <td>3</td>\n      <td>214</td>\n    </tr>\n    <tr>\n      <th>4</th>\n      <td>45</td>\n      <td>2021</td>\n      <td>4</td>\n      <td>300</td>\n    </tr>\n    <tr>\n      <th>...</th>\n      <td>...</td>\n      <td>...</td>\n      <td>...</td>\n      <td>...</td>\n    </tr>\n    <tr>\n      <th>3867</th>\n      <td>115</td>\n      <td>2022</td>\n      <td>8</td>\n      <td>282</td>\n    </tr>\n    <tr>\n      <th>3868</th>\n      <td>115</td>\n      <td>2022</td>\n      <td>9</td>\n      <td>920</td>\n    </tr>\n    <tr>\n      <th>3869</th>\n      <td>115</td>\n      <td>2022</td>\n      <td>10</td>\n      <td>1081</td>\n    </tr>\n    <tr>\n      <th>3870</th>\n      <td>115</td>\n      <td>2022</td>\n      <td>11</td>\n      <td>398</td>\n    </tr>\n    <tr>\n      <th>3871</th>\n      <td>115</td>\n      <td>2022</td>\n      <td>12</td>\n      <td>759</td>\n    </tr>\n  </tbody>\n</table>\n<p>3872 rows × 4 columns</p>\n</div>"
     },
     "execution_count": 4,
     "metadata": {},
     "output_type": "execute_result"
    }
   ],
   "source": [
    "product_forecast_df = pd.read_csv('GO_SALES_PRODUCT_FORECASTData.csv')\n",
    "product_forecast_df"
   ],
   "metadata": {
    "collapsed": false,
    "ExecuteTime": {
     "end_time": "2024-03-13T10:48:05.523281700Z",
     "start_time": "2024-03-13T10:48:05.499798500Z"
    }
   },
   "execution_count": 4
  }
 ],
 "metadata": {
  "kernelspec": {
   "display_name": "python-in-deds-P4iSP_yI-py3.11",
   "language": "python",
   "name": "python3"
  },
  "language_info": {
   "codemirror_mode": {
    "name": "ipython",
    "version": 3
   },
   "file_extension": ".py",
   "mimetype": "text/x-python",
   "name": "python",
   "nbconvert_exporter": "python",
   "pygments_lexer": "ipython3",
   "version": "3.11.4"
  }
 },
 "nbformat": 4,
 "nbformat_minor": 2
}
