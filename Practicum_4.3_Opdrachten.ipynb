{
 "cells": [
  {
   "cell_type": "code",
   "outputs": [
    {
     "data": {
      "text/plain": "<pyodbc.Cursor at 0x15f2c339530>"
     },
     "execution_count": 39,
     "metadata": {},
     "output_type": "execute_result"
    }
   ],
   "source": [
    "import pandas as pd\n",
    "import sqlite3\n",
    "import pyodbc\n",
    "\n",
    "DB = {'servername': r'DESKTOP-R9U7MMK\\SQLEXPRESS',\n",
    "      'database': 'PR4'}\n",
    "\n",
    "# Constructing the connection string with Windows Authentication\n",
    "conn_str = (\n",
    "    'Driver={SQL Server};'\n",
    "    'SERVER=' + DB['servername'] + ';'\n",
    "    'DATABASE=' + DB['database'] + ';'\n",
    "    'Trusted_Connection=yes;'\n",
    ")\n",
    "\n",
    "# Establishing the connection\n",
    "export_conn = pyodbc.connect(conn_str)\n",
    "export_cursor = export_conn.cursor()\n",
    "export_cursor"
   ],
   "metadata": {
    "collapsed": false,
    "ExecuteTime": {
     "end_time": "2024-03-13T13:25:04.651602Z",
     "start_time": "2024-03-13T13:25:04.619598Z"
    }
   },
   "execution_count": 39
  },
  {
   "cell_type": "code",
   "outputs": [
    {
     "data": {
      "text/plain": "      INVENTORY_YEAR  INVENTORY_MONTH  PRODUCT_NUMBER  INVENTORY_COUNT\n0               2021                4              48             1932\n1               2021                4              49             1400\n2               2021                4              50            21705\n3               2021                4              51             9710\n4               2021                4              52             5616\n...              ...              ...             ...              ...\n3883            2022               12             111             1128\n3884            2022               12             112             7810\n3885            2022               12             113             3485\n3886            2022               12             114              350\n3887            2022               12             115             3310\n\n[3888 rows x 4 columns]",
      "text/html": "<div>\n<style scoped>\n    .dataframe tbody tr th:only-of-type {\n        vertical-align: middle;\n    }\n\n    .dataframe tbody tr th {\n        vertical-align: top;\n    }\n\n    .dataframe thead th {\n        text-align: right;\n    }\n</style>\n<table border=\"1\" class=\"dataframe\">\n  <thead>\n    <tr style=\"text-align: right;\">\n      <th></th>\n      <th>INVENTORY_YEAR</th>\n      <th>INVENTORY_MONTH</th>\n      <th>PRODUCT_NUMBER</th>\n      <th>INVENTORY_COUNT</th>\n    </tr>\n  </thead>\n  <tbody>\n    <tr>\n      <th>0</th>\n      <td>2021</td>\n      <td>4</td>\n      <td>48</td>\n      <td>1932</td>\n    </tr>\n    <tr>\n      <th>1</th>\n      <td>2021</td>\n      <td>4</td>\n      <td>49</td>\n      <td>1400</td>\n    </tr>\n    <tr>\n      <th>2</th>\n      <td>2021</td>\n      <td>4</td>\n      <td>50</td>\n      <td>21705</td>\n    </tr>\n    <tr>\n      <th>3</th>\n      <td>2021</td>\n      <td>4</td>\n      <td>51</td>\n      <td>9710</td>\n    </tr>\n    <tr>\n      <th>4</th>\n      <td>2021</td>\n      <td>4</td>\n      <td>52</td>\n      <td>5616</td>\n    </tr>\n    <tr>\n      <th>...</th>\n      <td>...</td>\n      <td>...</td>\n      <td>...</td>\n      <td>...</td>\n    </tr>\n    <tr>\n      <th>3883</th>\n      <td>2022</td>\n      <td>12</td>\n      <td>111</td>\n      <td>1128</td>\n    </tr>\n    <tr>\n      <th>3884</th>\n      <td>2022</td>\n      <td>12</td>\n      <td>112</td>\n      <td>7810</td>\n    </tr>\n    <tr>\n      <th>3885</th>\n      <td>2022</td>\n      <td>12</td>\n      <td>113</td>\n      <td>3485</td>\n    </tr>\n    <tr>\n      <th>3886</th>\n      <td>2022</td>\n      <td>12</td>\n      <td>114</td>\n      <td>350</td>\n    </tr>\n    <tr>\n      <th>3887</th>\n      <td>2022</td>\n      <td>12</td>\n      <td>115</td>\n      <td>3310</td>\n    </tr>\n  </tbody>\n</table>\n<p>3888 rows × 4 columns</p>\n</div>"
     },
     "execution_count": 55,
     "metadata": {},
     "output_type": "execute_result"
    }
   ],
   "source": [
    "inventory_levels_df = pd.read_csv('GO_SALES_INVENTORY_LEVELSData.csv', index_col=False)\n",
    "inventory_levels_df"
   ],
   "metadata": {
    "collapsed": false,
    "ExecuteTime": {
     "end_time": "2024-03-13T13:37:36.696595Z",
     "start_time": "2024-03-13T13:37:36.683597Z"
    }
   },
   "execution_count": 55
  },
  {
   "cell_type": "code",
   "outputs": [],
   "source": [
    "# Read product data from SQLite database into a DataFrame\n",
    "goSales = sqlite3.connect('go_sales.sqlite')\n",
    "product_df = pd.read_sql_query(\"SELECT PRODUCT_NUMBER, MARGIN, LANGUAGE, DESCRIPTION FROM product\", goSales)\n",
    "inventory_levels_df['PRODUCT_NUMBER'] = inventory_levels_df['PRODUCT_NUMBER'].astype(str)\n",
    "\n",
    "# Merge inventory_levels_df with product_df on PRODUCT_NUMBER\n",
    "merged_df = pd.merge(inventory_levels_df, product_df, on='PRODUCT_NUMBER', how='left')\n",
    "\n",
    "# Replace NaN values in MARGIN, LANGUAGE, and DESCRIPTION with empty strings\n",
    "merged_df[['MARGIN', 'LANGUAGE', 'DESCRIPTION']] = merged_df[['MARGIN', 'LANGUAGE', 'DESCRIPTION']].fillna('')\n",
    "\n",
    "# Establish connection to SQL Server database\n",
    "export_conn = pyodbc.connect(conn_str)\n",
    "cursor = export_conn.cursor()\n",
    "\n",
    "# Iterate over the rows of the merged DataFrame and insert them into the database\n",
    "for index, row in merged_df.iterrows():\n",
    "    cursor.execute(\"INSERT INTO [PR4].[dbo].[INVENTORY_SALES_LEVELS] (INVENTORY_YEAR, INVENTORY_MONTH, PRODUCT_NUMBER, INVENTORY_COUNT, MARGIN, LANGUAGE, DESCRIPTION) VALUES (?, ?, ?, ?, ?, ?, ?)\",\n",
    "                   row['INVENTORY_YEAR'], row['INVENTORY_MONTH'], row['PRODUCT_NUMBER'], row['INVENTORY_COUNT'], row['MARGIN'], row['LANGUAGE'], row['DESCRIPTION'])\n",
    "\n",
    "# Commit the transaction and close the cursor and connection\n",
    "export_conn.commit()\n",
    "cursor.close()\n",
    "export_conn.close()\n"
   ],
   "metadata": {
    "collapsed": false,
    "ExecuteTime": {
     "end_time": "2024-03-13T13:39:27.363722Z",
     "start_time": "2024-03-13T13:39:25.931302Z"
    }
   },
   "execution_count": 58
  },
  {
   "cell_type": "code",
   "outputs": [],
   "source": [
    "# Establish connection to SQLite database\n",
    "goSales = sqlite3.connect('go_sales.sqlite')\n",
    "\n",
    "# Read data from the 'returned_item' table into a DataFrame\n",
    "returned_item_df = pd.read_sql_query(\"SELECT RETURN_CODE, RETURN_DATE, ORDER_DETAIL_CODE, RETURN_REASON_CODE, RETURN_QUANTITY FROM returned_item\", goSales)\n",
    "\n",
    "# Establish connection to SQL Server database\n",
    "export_conn = pyodbc.connect(conn_str)\n",
    "cursor = export_conn.cursor()\n",
    "\n",
    "# Iterate over the rows of the DataFrame and insert them into the SQL Server database\n",
    "for index, row in returned_item_df.iterrows():\n",
    "    cursor.execute(\"INSERT INTO [PR4].[dbo].[RETURNED_ITEM] (RETURN_CODE, RETURN_DATE, ORDER_NUMBER, RETURN_REASON_CODE, RETURN_QUANTITY) VALUES (?, ?, ?, ?, ?)\",\n",
    "                   row['RETURN_CODE'], row['RETURN_DATE'], row['ORDER_DETAIL_CODE'], row['RETURN_REASON_CODE'], row['RETURN_QUANTITY'])\n",
    "\n",
    "# Commit the transaction and close the cursor and connection\n",
    "export_conn.commit()\n",
    "cursor.close()\n",
    "export_conn.close()"
   ],
   "metadata": {
    "collapsed": false,
    "ExecuteTime": {
     "end_time": "2024-03-13T13:49:30.263563Z",
     "start_time": "2024-03-13T13:49:30.006365Z"
    }
   },
   "execution_count": 67
  },
  {
   "cell_type": "code",
   "outputs": [
    {
     "ename": "KeyboardInterrupt",
     "evalue": "",
     "output_type": "error",
     "traceback": [
      "\u001B[1;31m---------------------------------------------------------------------------\u001B[0m",
      "\u001B[1;31mKeyboardInterrupt\u001B[0m                         Traceback (most recent call last)",
      "Cell \u001B[1;32mIn[78], line 16\u001B[0m\n\u001B[0;32m     14\u001B[0m \u001B[38;5;66;03m# Iterate over the rows of the DataFrame and insert them into the SQL Server database\u001B[39;00m\n\u001B[0;32m     15\u001B[0m \u001B[38;5;28;01mfor\u001B[39;00m index, row \u001B[38;5;129;01min\u001B[39;00m merged_sales_targetdata_df\u001B[38;5;241m.\u001B[39miterrows():\n\u001B[1;32m---> 16\u001B[0m     \u001B[43mcursor\u001B[49m\u001B[38;5;241;43m.\u001B[39;49m\u001B[43mexecute\u001B[49m\u001B[43m(\u001B[49m\u001B[38;5;124;43m\"\u001B[39;49m\u001B[38;5;124;43mINSERT INTO [PR4].[dbo].[SALES_TARGET_DATA] (SALES_TARGET_DATA_id, SALES_STAFF_CODE, SALES_YEAR, SALES_PERIODS, RETAILER_NAME, PRODUCT_NUMBER, SALES_TARGET, RETAILER_CODE, MARGIN, LANGUAGE, DESCRIPTION) VALUES (?, ?, ?, ?, ?, ?, ?, ?, ?, ?, ?)\u001B[39;49m\u001B[38;5;124;43m\"\u001B[39;49m\u001B[43m,\u001B[49m\n\u001B[0;32m     17\u001B[0m \u001B[43m                   \u001B[49m\u001B[43mrow\u001B[49m\u001B[43m[\u001B[49m\u001B[38;5;124;43m'\u001B[39;49m\u001B[38;5;124;43mId\u001B[39;49m\u001B[38;5;124;43m'\u001B[39;49m\u001B[43m]\u001B[49m\u001B[43m,\u001B[49m\u001B[43m \u001B[49m\u001B[43mrow\u001B[49m\u001B[43m[\u001B[49m\u001B[38;5;124;43m'\u001B[39;49m\u001B[38;5;124;43mSALES_STAFF_CODE\u001B[39;49m\u001B[38;5;124;43m'\u001B[39;49m\u001B[43m]\u001B[49m\u001B[43m,\u001B[49m\u001B[43m \u001B[49m\u001B[43mrow\u001B[49m\u001B[43m[\u001B[49m\u001B[38;5;124;43m'\u001B[39;49m\u001B[38;5;124;43mSALES_YEAR\u001B[39;49m\u001B[38;5;124;43m'\u001B[39;49m\u001B[43m]\u001B[49m\u001B[43m,\u001B[49m\u001B[43m \u001B[49m\u001B[43mrow\u001B[49m\u001B[43m[\u001B[49m\u001B[38;5;124;43m'\u001B[39;49m\u001B[38;5;124;43mSALES_PERIOD\u001B[39;49m\u001B[38;5;124;43m'\u001B[39;49m\u001B[43m]\u001B[49m\u001B[43m,\u001B[49m\u001B[43m \u001B[49m\u001B[43mrow\u001B[49m\u001B[43m[\u001B[49m\u001B[38;5;124;43m'\u001B[39;49m\u001B[38;5;124;43mRETAILER_NAME\u001B[39;49m\u001B[38;5;124;43m'\u001B[39;49m\u001B[43m]\u001B[49m\u001B[43m,\u001B[49m\u001B[43m \u001B[49m\u001B[43mrow\u001B[49m\u001B[43m[\u001B[49m\u001B[38;5;124;43m'\u001B[39;49m\u001B[38;5;124;43mPRODUCT_NUMBER\u001B[39;49m\u001B[38;5;124;43m'\u001B[39;49m\u001B[43m]\u001B[49m\u001B[43m,\u001B[49m\u001B[43m \u001B[49m\u001B[43mrow\u001B[49m\u001B[43m[\u001B[49m\u001B[38;5;124;43m'\u001B[39;49m\u001B[38;5;124;43mSALES_TARGET\u001B[39;49m\u001B[38;5;124;43m'\u001B[39;49m\u001B[43m]\u001B[49m\u001B[43m,\u001B[49m\u001B[43m \u001B[49m\u001B[43mrow\u001B[49m\u001B[43m[\u001B[49m\u001B[38;5;124;43m'\u001B[39;49m\u001B[38;5;124;43mRETAILER_CODE\u001B[39;49m\u001B[38;5;124;43m'\u001B[39;49m\u001B[43m]\u001B[49m\u001B[43m,\u001B[49m\u001B[43m \u001B[49m\u001B[43mrow\u001B[49m\u001B[43m[\u001B[49m\u001B[38;5;124;43m'\u001B[39;49m\u001B[38;5;124;43mMARGIN\u001B[39;49m\u001B[38;5;124;43m'\u001B[39;49m\u001B[43m]\u001B[49m\u001B[43m,\u001B[49m\u001B[43m \u001B[49m\u001B[43mrow\u001B[49m\u001B[43m[\u001B[49m\u001B[38;5;124;43m'\u001B[39;49m\u001B[38;5;124;43mLANGUAGE\u001B[39;49m\u001B[38;5;124;43m'\u001B[39;49m\u001B[43m]\u001B[49m\u001B[43m,\u001B[49m\u001B[43m \u001B[49m\u001B[43mrow\u001B[49m\u001B[43m[\u001B[49m\u001B[38;5;124;43m'\u001B[39;49m\u001B[38;5;124;43mDESCRIPTION\u001B[39;49m\u001B[38;5;124;43m'\u001B[39;49m\u001B[43m]\u001B[49m\u001B[43m)\u001B[49m\n\u001B[0;32m     19\u001B[0m \u001B[38;5;66;03m# Commit the transaction and close the cursor and connection\u001B[39;00m\n\u001B[0;32m     20\u001B[0m export_conn\u001B[38;5;241m.\u001B[39mcommit()\n",
      "\u001B[1;31mKeyboardInterrupt\u001B[0m: "
     ]
    }
   ],
   "source": [
    "# Establish connection to SQLite database\n",
    "goSales = sqlite3.connect('go_sales.sqlite')\n",
    "\n",
    "# Read data from the 'SALES_TARGETData' table into a DataFrame\n",
    "sales_targetdata_df = pd.read_sql_query(\"SELECT Id, SALES_STAFF_CODE, SALES_YEAR, SALES_PERIOD, RETAILER_NAME, PRODUCT_NUMBER, SALES_TARGET, RETAILER_CODE FROM SALES_TARGETData\", goSales)\n",
    "\n",
    "# Establish connection to SQL Server database\n",
    "export_conn = pyodbc.connect(conn_str)\n",
    "cursor = export_conn.cursor()\n",
    "\n",
    "# Merge with product_df on PRODUCT_NUMBER to get additional columns\n",
    "merged_sales_targetdata_df = pd.merge(sales_targetdata_df, product_df, on='PRODUCT_NUMBER', how='left')\n",
    "\n",
    "# Iterate over the rows of the DataFrame and insert them into the SQL Server database\n",
    "for index, row in merged_sales_targetdata_df.iterrows():\n",
    "    cursor.execute(\"INSERT INTO [PR4].[dbo].[SALES_TARGET_DATA] (SALES_TARGET_DATA_id, SALES_STAFF_CODE, SALES_YEAR, SALES_PERIODS, RETAILER_NAME, PRODUCT_NUMBER, SALES_TARGET, RETAILER_CODE, MARGIN, LANGUAGE, DESCRIPTION) VALUES (?, ?, ?, ?, ?, ?, ?, ?, ?, ?, ?)\",\n",
    "                   row['Id'], row['SALES_STAFF_CODE'], row['SALES_YEAR'], row['SALES_PERIOD'], row['RETAILER_NAME'], row['PRODUCT_NUMBER'], row['SALES_TARGET'], row['RETAILER_CODE'], row['MARGIN'], row['LANGUAGE'], row['DESCRIPTION'])\n",
    "\n",
    "# Commit the transaction and close the cursor and connection\n",
    "export_conn.commit()\n",
    "cursor.close()\n",
    "export_conn.close()\n"
   ],
   "metadata": {
    "collapsed": false,
    "ExecuteTime": {
     "end_time": "2024-03-13T13:58:35.877482Z",
     "start_time": "2024-03-13T13:58:19.133436Z"
    }
   },
   "execution_count": 78
  }
 ],
 "metadata": {
  "kernelspec": {
   "display_name": "python-in-deds-P4iSP_yI-py3.11",
   "language": "python",
   "name": "python3"
  },
  "language_info": {
   "codemirror_mode": {
    "name": "ipython",
    "version": 3
   },
   "file_extension": ".py",
   "mimetype": "text/x-python",
   "name": "python",
   "nbconvert_exporter": "python",
   "pygments_lexer": "ipython3",
   "version": "3.11.4"
  }
 },
 "nbformat": 4,
 "nbformat_minor": 2
}
