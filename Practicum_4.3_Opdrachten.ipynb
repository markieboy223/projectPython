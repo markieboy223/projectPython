{
 "cells": [
  {
   "cell_type": "code",
   "outputs": [
    {
     "data": {
      "text/plain": "<pyodbc.Cursor at 0x15f2c339530>"
     },
     "execution_count": 39,
     "metadata": {},
     "output_type": "execute_result"
    }
   ],
   "source": [
    "import pandas as pd\n",
    "import sqlite3\n",
    "import pyodbc\n",
    "\n",
    "DB = {'servername': r'DESKTOP-R9U7MMK\\SQLEXPRESS',\n",
    "      'database': 'PR4'}\n",
    "\n",
    "# Constructing the connection string with Windows Authentication\n",
    "conn_str = (\n",
    "    'Driver={SQL Server};'\n",
    "    'SERVER=' + DB['servername'] + ';'\n",
    "    'DATABASE=' + DB['database'] + ';'\n",
    "    'Trusted_Connection=yes;'\n",
    ")\n",
    "\n",
    "# Establishing the connection\n",
    "export_conn = pyodbc.connect(conn_str)\n",
    "export_cursor = export_conn.cursor()\n",
    "export_cursor"
   ],
   "metadata": {
    "collapsed": false,
    "ExecuteTime": {
     "end_time": "2024-03-13T13:25:04.651602Z",
     "start_time": "2024-03-13T13:25:04.619598Z"
    }
   },
   "execution_count": 39
  },
  {
   "cell_type": "code",
   "outputs": [],
   "source": [
    "#inventory_levels\n",
    "inventory_levels_df = pd.read_csv('GO_SALES_INVENTORY_LEVELSData.csv', index_col=False)\n",
    "goSales = sqlite3.connect('go_sales.sqlite')\n",
    "product_df = pd.read_sql_query(\"SELECT PRODUCT_NUMBER, MARGIN, LANGUAGE, DESCRIPTION, INTRODUCTION_DATE FROM product\", goSales)\n",
    "inventory_levels_df['PRODUCT_NUMBER'] = inventory_levels_df['PRODUCT_NUMBER'].astype(str)\n",
    "\n",
    "# Merge inventory_levels_df with product_df on PRODUCT_NUMBER\n",
    "merged_df = pd.merge(inventory_levels_df, product_df, on='PRODUCT_NUMBER', how='left')\n",
    "\n",
    "# Replace NaN values in MARGIN, LANGUAGE, and DESCRIPTION with empty strings\n",
    "merged_df[['MARGIN', 'LANGUAGE', 'DESCRIPTION']] = merged_df[['MARGIN', 'LANGUAGE', 'DESCRIPTION']].fillna('')\n",
    "\n",
    "# Establish connection to SQL Server database\n",
    "export_conn = pyodbc.connect(conn_str)\n",
    "cursor = export_conn.cursor()\n",
    "\n",
    "# Iterate over the rows of the merged DataFrame and insert them into the database\n",
    "for index, row in merged_df.iterrows():\n",
    "    cursor.execute(\"INSERT INTO [PR4].[dbo].[INVENTORY_SALES_LEVELS] (INVENTORY_YEAR, INVENTORY_MONTH, PRODUCT_NUMBER, INVENTORY_COUNT, MARGIN, LANGUAGE, DESCRIPTION) VALUES (?, ?, ?, ?, ?, ?, ?)\",\n",
    "                   row['INVENTORY_YEAR'], row['INVENTORY_MONTH'], row['PRODUCT_NUMBER'], row['INVENTORY_COUNT'], row['MARGIN'], row['LANGUAGE'], row['DESCRIPTION'])\n",
    "\n",
    "# Commit the transaction and close the cursor and connection\n",
    "export_conn.commit()\n",
    "cursor.close()\n",
    "export_conn.close()\n"
   ],
   "metadata": {
    "collapsed": false,
    "ExecuteTime": {
     "end_time": "2024-03-13T14:52:30.022760Z",
     "start_time": "2024-03-13T14:52:28.237655Z"
    }
   },
   "execution_count": 103
  },
  {
   "cell_type": "code",
   "outputs": [],
   "source": [
    "#sales_product_forecast\n",
    "sales_product_forecast_df = pd.read_csv('GO_SALES_PRODUCT_FORECASTData.csv', index_col=False)\n",
    "\n",
    "sales_product_forecast_df['PRODUCT_NUMBER'] = sales_product_forecast_df['PRODUCT_NUMBER'].astype(str)\n",
    "\n",
    "# Merge inventory_levels_df with product_df on PRODUCT_NUMBER\n",
    "merged_df = pd.merge(sales_product_forecast_df, product_df, on='PRODUCT_NUMBER', how='left')\n",
    "\n",
    "# Replace NaN values in MARGIN, LANGUAGE, and DESCRIPTION with empty strings\n",
    "merged_df[['MARGIN', 'LANGUAGE', 'DESCRIPTION']] = merged_df[['MARGIN', 'LANGUAGE', 'DESCRIPTION']].fillna('')\n",
    "\n",
    "# Establish connection to SQL Server database\n",
    "export_conn = pyodbc.connect(conn_str)\n",
    "cursor = export_conn.cursor()\n",
    "\n",
    "# Iterate over the rows of the merged DataFrame and insert them into the database\n",
    "for index, row in merged_df.iterrows():\n",
    "    cursor.execute(\"INSERT INTO [PR4].[dbo].[SALES_PRODUCT_FORECAST_1] (YEAR, MONTH, PRODUCT_NUMBER, EXPECTED_VOLUME, MARGIN, LANGUAGE, DESCRIPTION) VALUES (?, ?, ?, ?, ?, ?, ?)\",\n",
    "                   row['YEAR'], row['MONTH'], row['PRODUCT_NUMBER'], row['EXPECTED_VOLUME'], row['MARGIN'], row['LANGUAGE'], row['DESCRIPTION'])\n",
    "\n",
    "# Commit the transaction and close the cursor and connection\n",
    "export_conn.commit()\n",
    "cursor.close()\n",
    "export_conn.close()"
   ],
   "metadata": {
    "collapsed": false,
    "ExecuteTime": {
     "end_time": "2024-03-13T14:16:05.014764Z",
     "start_time": "2024-03-13T14:16:03.295791Z"
    }
   },
   "execution_count": 84
  },
  {
   "cell_type": "code",
   "outputs": [],
   "source": [
    "#returned_item_df\n",
    "goSales = sqlite3.connect('go_sales.sqlite')\n",
    "\n",
    "# Read data from the 'returned_item' table into a DataFrame\n",
    "returned_item_df = pd.read_sql_query(\"SELECT RETURN_CODE, RETURN_DATE, ORDER_DETAIL_CODE, RETURN_REASON_CODE, RETURN_QUANTITY FROM returned_item\", goSales)\n",
    "\n",
    "# Establish connection to SQL Server database\n",
    "export_conn = pyodbc.connect(conn_str)\n",
    "cursor = export_conn.cursor()\n",
    "\n",
    "# Iterate over the rows of the DataFrame and insert them into the SQL Server database\n",
    "for index, row in returned_item_df.iterrows():\n",
    "    cursor.execute(\"INSERT INTO [PR4].[dbo].[RETURNED_ITEM] (RETURN_CODE, RETURN_DATE, ORDER_NUMBER, RETURN_REASON_CODE, RETURN_QUANTITY) VALUES (?, ?, ?, ?, ?)\",\n",
    "                   row['RETURN_CODE'], row['RETURN_DATE'], row['ORDER_DETAIL_CODE'], row['RETURN_REASON_CODE'], row['RETURN_QUANTITY'])\n",
    "\n",
    "# Commit the transaction and close the cursor and connection\n",
    "export_conn.commit()\n",
    "cursor.close()\n",
    "export_conn.close()"
   ],
   "metadata": {
    "collapsed": false,
    "ExecuteTime": {
     "end_time": "2024-03-13T13:49:30.263563Z",
     "start_time": "2024-03-13T13:49:30.006365Z"
    }
   },
   "execution_count": 67
  },
  {
   "cell_type": "code",
   "outputs": [],
   "source": [
    "#Sales_target_data\n",
    "goSales = sqlite3.connect('go_sales.sqlite')\n",
    "\n",
    "# Read data from the 'SALES_TARGETData' table into a DataFrame\n",
    "sales_targetdata_df = pd.read_sql_query(\"SELECT Id, SALES_STAFF_CODE, SALES_YEAR, SALES_PERIOD, RETAILER_NAME, PRODUCT_NUMBER, SALES_TARGET, RETAILER_CODE FROM SALES_TARGETData\", goSales)\n",
    "\n",
    "# Establish connection to SQL Server database\n",
    "export_conn = pyodbc.connect(conn_str)\n",
    "cursor = export_conn.cursor()\n",
    "\n",
    "# Merge with product_df on PRODUCT_NUMBER to get additional columns\n",
    "merged_sales_targetdata_df = pd.merge(sales_targetdata_df, product_df, on='PRODUCT_NUMBER', how='left')\n",
    "\n",
    "# Iterate over the rows of the DataFrame and insert them into the SQL Server database\n",
    "for index, row in merged_sales_targetdata_df.iterrows():\n",
    "    cursor.execute(\"INSERT INTO [PR4].[dbo].[SALES_TARGET_DATA] (SALES_TARGET_DATA_id, SALES_STAFF_CODE, SALES_YEAR, SALES_PERIODS, RETAILER_NAME, PRODUCT_NUMBER, SALES_TARGET, INTRODUCTION_DATE, RETAILER_CODE, MARGIN, LANGUAGE, DESCRIPTION) VALUES (?, ?, ?, ?, ?, ?, ?, ?, ?, ?, ?, ?)\",\n",
    "                   row['Id'], row['SALES_STAFF_CODE'], row['SALES_YEAR'], row['SALES_PERIOD'], row['RETAILER_NAME'], row['PRODUCT_NUMBER'], row['SALES_TARGET'], row['INTRODUCTION_DATE'], row['RETAILER_CODE'], row['MARGIN'], row['LANGUAGE'], row['DESCRIPTION'])\n",
    "\n",
    "# Commit the transaction and close the cursor and connection\n",
    "export_conn.commit()\n",
    "cursor.close()\n",
    "export_conn.close()\n"
   ],
   "metadata": {
    "collapsed": false,
    "ExecuteTime": {
     "end_time": "2024-03-13T14:53:08.711710Z",
     "start_time": "2024-03-13T14:52:35.447914Z"
    }
   },
   "execution_count": 104
  },
  {
   "cell_type": "code",
   "outputs": [],
   "source": [
    "#Satisfaction\n",
    "goStaff = sqlite3.connect('go_staff.sqlite')\n",
    "\n",
    "satisfaction_df = pd.read_sql_query(\"SELECT YEAR, SALES_STAFF_CODE, SATISFACTION_TYPE_CODE FROM SATISFACTION\", goStaff)\n",
    "\n",
    "satisfaction_type_df = pd.read_sql_query(\"SELECT SATISFACTION_TYPE_CODE, SATISFACTION_TYPE_DESCRIPTION FROM satisfaction_type\", goStaff)\n",
    "\n",
    "sales_staff_df = pd.read_sql_query(\"SELECT SALES_STAFF_CODE, POSITION_EN, EXTENSION, DATE_HIRED FROM sales_staff\", goStaff)\n",
    "\n",
    "merged_satisfaction_df = pd.merge(satisfaction_df, satisfaction_type_df, on='SATISFACTION_TYPE_CODE', how='left')\n",
    "\n",
    "final_merged_df = pd.merge(merged_satisfaction_df, sales_staff_df, on='SALES_STAFF_CODE', how='left')\n",
    "\n",
    "# Establish connection to SQL Server database\n",
    "export_conn = pyodbc.connect(conn_str)\n",
    "cursor = export_conn.cursor()\n",
    "\n",
    "# Iterate over the rows of the DataFrame and insert them into the SQL Server database\n",
    "for index, row in final_merged_df.iterrows():\n",
    "    cursor.execute(\"INSERT INTO [PR4].[dbo].[SATISFACTION] (YEAR, SALES_STAFF_CODE, SATISFACTION_TYPE_CODE, SATISFACTION_TYPE_DESCRIPTION, POSITION_EN, EXTENSION, DATE_HIRED) VALUES (?, ?, ?, ?, ?, ?, ?)\",\n",
    "                   row['YEAR'], row['SALES_STAFF_CODE'], row['SATISFACTION_TYPE_CODE'], row['SATISFACTION_TYPE_DESCRIPTION'], row['POSITION_EN'], row['EXTENSION'], row['DATE_HIRED'])\n",
    "\n",
    "# Commit the transaction and close the cursor and connection\n",
    "export_conn.commit()\n",
    "cursor.close()\n",
    "export_conn.close()"
   ],
   "metadata": {
    "collapsed": false,
    "ExecuteTime": {
     "end_time": "2024-03-13T14:27:52.829202Z",
     "start_time": "2024-03-13T14:27:52.599195Z"
    }
   },
   "execution_count": 87
  },
  {
   "cell_type": "code",
   "outputs": [],
   "source": [
    "#SALES_DEMOGRAPHIC\n",
    "goCrm = sqlite3.connect('go_crm.sqlite')\n",
    "\n",
    "# Read data from the 'SALES_DEMOGRAPHIC' table into a DataFrame\n",
    "SALES_DEMOGRAPHIC_df = pd.read_sql_query(\"SELECT DEMOGRAPHIC_CODE, RETAILER_CODEMR, AGE_GROUP_CODE, SALES_PERCENT FROM SALES_DEMOGRAPHIC\", goCrm)\n",
    "\n",
    "# Read data from the 'AGE_GROUP' table into a DataFrame\n",
    "AGE_GROUP_df = pd.read_sql_query(\"SELECT UPPER_AGE, LOWER_AGE, AGE_GROUP_CODE FROM AGE_GROUP\", goCrm)\n",
    "\n",
    "# Read data from the 'RETAILER' table into a DataFrame\n",
    "RETAILER_df = pd.read_sql_query(\"SELECT COMPANY_NAME, RETAILER_CODEMR FROM RETAILER\", goCrm)\n",
    "\n",
    "# Merge SALES_DEMOGRAPHIC_df with AGE_GROUP_df on AGE_GROUP_CODE to get additional columns\n",
    "merged_sales_demographic_df = pd.merge(SALES_DEMOGRAPHIC_df, AGE_GROUP_df, on='AGE_GROUP_CODE', how='left')\n",
    "\n",
    "# Merge merged_sales_demographic_df with RETAILER_df on RETAILER_CODEMR to get additional columns\n",
    "final_merged_df = pd.merge(merged_sales_demographic_df, RETAILER_df, on='RETAILER_CODEMR', how='left')\n",
    "\n",
    "# Establish connection to SQL Server database\n",
    "export_conn = pyodbc.connect(conn_str)\n",
    "cursor = export_conn.cursor()\n",
    "\n",
    "# Iterate over the rows of the DataFrame and insert them into the SQL Server database\n",
    "for index, row in final_merged_df.iterrows():\n",
    "    cursor.execute(\"INSERT INTO [PR4].[dbo].[SALES_DEMOGRAPHIC] (DEMOGRAPHIC_CODE, UPPER_AGE, LOWER_AGE, AGE_GROUP_CODE, SALES_PERCENT, COMPANY_NAME, RETAILER_CODEMR) VALUES (?, ?, ?, ?, ?, ?, ?)\",\n",
    "                   str(row['DEMOGRAPHIC_CODE']), str(row['UPPER_AGE']), str(row['LOWER_AGE']), str(row['AGE_GROUP_CODE']), str(row['SALES_PERCENT']), str(row['COMPANY_NAME']), str(row['RETAILER_CODEMR']))\n",
    "\n",
    "# Commit the transaction and close the cursor and connection\n",
    "export_conn.commit()\n",
    "cursor.close()\n",
    "export_conn.close()"
   ],
   "metadata": {
    "collapsed": false,
    "ExecuteTime": {
     "end_time": "2024-03-13T14:46:48.713030Z",
     "start_time": "2024-03-13T14:46:47.540386Z"
    }
   },
   "execution_count": 98
  },
  {
   "cell_type": "code",
   "outputs": [],
   "source": [
    "go_staff = sqlite3.connect('go_staff.sqlite')\n",
    "trainingDF = pd.read_sql_query(\"SELECT * FROM TRAINING\",go_staff)\n",
    "courseDF = pd.read_sql_query(\"SELECT * FROM COURSE\", go_staff)\n",
    "staffDF = pd.read_sql_query(\"SELECT * FROM SALES_STAFF\", go_staff)\n",
    "merged_trainingCourse_df = pd.merge(trainingDF, courseDF, on='COURSE_CODE')\n",
    "merged_helemaal = pd.merge(merged_trainingCourse_df, staffDF, on='SALES_STAFF_CODE')\n",
    "export_conn = pyodbc.connect(conn_str)\n",
    "cursor = export_conn.cursor()\n",
    "for index, row in merged_helemaal.iterrows():    \n",
    "    cursor.execute(\"INSERT INTO [PR4].[dbo].[TRAINING]([YEAR],[SALES_STAFF_CODE], [COURSE_CODE], [COURSE_DESCRIPTION],[POSITION_EN],[EXTENSION],[DATE_HIRED]) VALUES (?, ?, ?,?,?,?,?)\", row[\"YEAR\"], row[\"SALES_STAFF_CODE\"],row[\"COURSE_CODE\"],row[\"COURSE_DESCRIPTION\"],row[\"POSITION_EN\"],row[\"EXTENSION\"],row[\"DATE_HIRED\"])    \n",
    "\n",
    "export_conn.commit()"
   ],
   "metadata": {
    "collapsed": false,
    "ExecuteTime": {
     "end_time": "2024-03-13T14:54:59.922622Z",
     "start_time": "2024-03-13T14:54:59.702648Z"
    }
   },
   "execution_count": 105
  }
 ],
 "metadata": {
  "kernelspec": {
   "display_name": "python-in-deds-P4iSP_yI-py3.11",
   "language": "python",
   "name": "python3"
  },
  "language_info": {
   "codemirror_mode": {
    "name": "ipython",
    "version": 3
   },
   "file_extension": ".py",
   "mimetype": "text/x-python",
   "name": "python",
   "nbconvert_exporter": "python",
   "pygments_lexer": "ipython3",
   "version": "3.11.4"
  }
 },
 "nbformat": 4,
 "nbformat_minor": 2
}
