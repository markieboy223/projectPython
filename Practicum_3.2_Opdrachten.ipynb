{
 "cells": [
  {
   "cell_type": "code",
   "outputs": [
    {
     "name": "stdout",
     "output_type": "stream",
     "text": [
      "{'naam': ['Kees', 'tonie JR'], 'leeftijd': 25, 'stad': 'Den Haag'}\n",
      "Naam: ['Kees', 'tonie JR']\n",
      "Leeftijd gevonden: 25\n",
      "naam: ['Kees', 'tonie JR']\n",
      "leeftijd: 25\n",
      "stad: Den Haag\n",
      "25\n",
      "Geüpdatete dictionary: {'naam': ['Kees', 'tonie JR'], 'stad': 'Den Haag'}\n"
     ]
    }
   ],
   "source": [
    "# Voorbeeld dictionary datastructuur\n",
    "# lege disctionary aanmaken\n",
    "mijn_dict = {}\n",
    "\n",
    "# Elementen toevoegen aan de dictionary\n",
    "mijn_dict['naam'] = ['Kees']\n",
    "mijn_dict['leeftijd'] = 25\n",
    "mijn_dict['stad'] = 'Den Haag'\n",
    "\n",
    "mijn_dict['naam'].append('tonie JR')\n",
    "# Dictionary printen\n",
    "print(mijn_dict)\n",
    "\n",
    "# Een specifiek element ophalen dmv key\n",
    "naam = mijn_dict['naam']\n",
    "print(\"Naam:\", naam)\n",
    "\n",
    "# Controleren of een key in de dictionary aanwezig is\n",
    "if 'leeftijd' in mijn_dict:\n",
    "    print(\"Leeftijd gevonden:\", mijn_dict['leeftijd'])\n",
    "else:\n",
    "    print(\"Leeftijd niet gevonden\")\n",
    "\n",
    "# loopen over de keys en values van de dictionary\n",
    "for key, waarde in mijn_dict.items():\n",
    "    print(f\"{key}: {waarde}\")\n",
    "\n",
    "# Een element verwijderen\n",
    "verwijderde_leeftijd = mijn_dict.pop('leeftijd')\n",
    "print(verwijderde_leeftijd)\n",
    "\n",
    "# De geüpdatete dictionary afdrukken\n",
    "print(\"Geüpdatete dictionary:\", mijn_dict)"
   ],
   "metadata": {
    "collapsed": false,
    "ExecuteTime": {
     "end_time": "2024-02-28T12:46:25.224194200Z",
     "start_time": "2024-02-28T12:46:25.217666700Z"
    }
   },
   "id": "35b346fcf3cac30a",
   "execution_count": 65
  },
  {
   "cell_type": "markdown",
   "source": [
    "Hashing is een veelgebruikt algoritme in python voor dictionary datastructures."
   ],
   "metadata": {
    "collapsed": false
   },
   "id": "7e1fdd2b68aa8e0a"
  },
  {
   "cell_type": "code",
   "outputs": [
    {
     "name": "stdout",
     "output_type": "stream",
     "text": [
      "Leeftijd: 25\n"
     ]
    }
   ],
   "source": [
    "class MijnDictionary:\n",
    "    def __init__(self):\n",
    "        # Initialiseren van een lege hash table\n",
    "        self.hash_table = {}\n",
    "\n",
    "    def voeg_toe(self, key, value):\n",
    "        # Hashen van de sleutel om de index te verkrijgen\n",
    "        index = hash(key) + 2\n",
    "        # print(index)\n",
    "        # Toevoegen van het sleutel-waardepaar aan de hash table\n",
    "        if index not in self.hash_table:\n",
    "            self.hash_table[index] = []\n",
    "        self.hash_table[index].append((key, value))\n",
    "\n",
    "    def krijg_waarde(self, key):\n",
    "        # Hashen van de sleutel om de index te verkrijgen\n",
    "        index = hash(key) + 2\n",
    "\n",
    "        # Doorzoeken van de gekozen index in de hash table\n",
    "        if index in self.hash_table:\n",
    "            for stored_key, value in self.hash_table[index]:\n",
    "                if stored_key == key:\n",
    "                    return value\n",
    "\n",
    "        # Als de sleutel niet wordt gevonden\n",
    "        return None\n",
    "\n",
    "# Voorbeeldgebruik\n",
    "mijn_dict = MijnDictionary()\n",
    "mijn_dict.voeg_toe('naam', 'John')\n",
    "mijn_dict.voeg_toe('leeftijd', 25)\n",
    "mijn_dict.voeg_toe('stad', 'Amsterdam')\n",
    "\n",
    "# Waarde ophalen op basis van de sleutel\n",
    "print(\"Leeftijd:\", mijn_dict.krijg_waarde('leeftijd'))"
   ],
   "metadata": {
    "collapsed": false,
    "ExecuteTime": {
     "end_time": "2024-02-28T12:28:50.754858500Z",
     "start_time": "2024-02-28T12:28:50.746204300Z"
    }
   },
   "id": "f6e7062dc9ba4838",
   "execution_count": 59
  },
  {
   "cell_type": "markdown",
   "source": [
    "Om de complexiteit/big oh te bepalen moet eerste de complexiteit van de methodes bekend zijn.\n",
    "# Toevoegen:\n",
    "Het toevoegen van een nieuw item aan de dictionary heeft in dit geval de hashfunctie nodig. Hiermee wordt de sleutel omgezet tot een hash. Daarna moet een nieuw item toegevoegd worden, als er al items aanwezig zijn kan dit langer duren doordat het programma langs alle items in de dictionary moet. Dit duur normaal niet lang maar kan lang duren afhankelijk van n. Als er geen items zijn is het dus O(1). In het ergste geval is het O(n).\n",
    "# Ophalen:\n",
    "Bij het zoeken naar een item in de dictionary wordt de hashfunctie opnieuw gebruikt om de key te hashen en te zorgen naar een al bestaande overeenkomende gehashte key. Deze keys zijn altijd anders dan elkaar dus altijd O(1)."
   ],
   "metadata": {
    "collapsed": false
   },
   "id": "e4d974ba21fa12c6"
  }
 ],
 "metadata": {
  "kernelspec": {
   "display_name": "Python 3",
   "language": "python",
   "name": "python3"
  },
  "language_info": {
   "codemirror_mode": {
    "name": "ipython",
    "version": 2
   },
   "file_extension": ".py",
   "mimetype": "text/x-python",
   "name": "python",
   "nbconvert_exporter": "python",
   "pygments_lexer": "ipython2",
   "version": "2.7.6"
  }
 },
 "nbformat": 4,
 "nbformat_minor": 5
}
