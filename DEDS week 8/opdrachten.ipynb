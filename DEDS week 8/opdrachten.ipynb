{
 "cells": [
  {
   "cell_type": "code",
   "execution_count": 4,
   "id": "initial_id",
   "metadata": {
    "collapsed": true,
    "ExecuteTime": {
     "end_time": "2024-04-03T11:47:49.896164800Z",
     "start_time": "2024-04-03T11:47:47.393080500Z"
    }
   },
   "outputs": [],
   "source": [
    "import pandas as pd\n",
    "from sklearn.model_selection import train_test_split\n",
    "import random\n",
    "from sklearn import linear_model\n",
    "from sklearn.linear_model import LinearRegression\n",
    "from sklearn.metrics import mean_squared_error, mean_absolute_error\n",
    "import matplotlib.pyplot as plt"
   ]
  },
  {
   "cell_type": "code",
   "outputs": [
    {
     "data": {
      "text/plain": "      ORDER_DETAIL_CODE ORDER_NUMBER PRODUCT_NUMBER  QUANTITY UNIT_COST  \\\n0                100000         8462             96        16      16.1   \n1                100001         9111             96        20      16.1   \n2                100002         8451             96        24      16.1   \n3                100003         8453             96        18      16.1   \n4                100004         8439             96        20      16.1   \n...                 ...          ...            ...       ...       ...   \n43058             99995         8459             95       146      2.76   \n43059             99996         8457             95       172      2.76   \n43060             99997         9267             95       192      2.76   \n43061             99998         8441             95       192      2.76   \n43062             99999         8440             96        22      16.1   \n\n      UNIT_SALE_PRICE INTRODUCTION_DATE PRODUCT_TYPE_CODE PRODUCTION_COST  \\\n0               22.54         15-2-2011                17           16.43   \n1               22.54         15-2-2011                17           16.43   \n2               22.54         15-2-2011                17           16.43   \n3               22.54         15-2-2011                17           16.43   \n4               22.54         15-2-2011                17           16.43   \n...               ...               ...               ...             ...   \n43058            5.55         15-2-2011                16               3   \n43059            5.55         15-2-2011                16               3   \n43060            5.55         15-2-2011                16               3   \n43061            5.55         15-2-2011                16               3   \n43062           22.54         15-2-2011                17           16.43   \n\n      MARGIN LANGUAGE        PRODUCT_NAME  \\\n0        .28       EN  Compact Relief Kit   \n1        .28       EN  Compact Relief Kit   \n2        .28       EN  Compact Relief Kit   \n3        .28       EN  Compact Relief Kit   \n4        .28       EN  Compact Relief Kit   \n...      ...      ...                 ...   \n43058     .5       EN          Sun Shield   \n43059     .5       EN          Sun Shield   \n43060     .5       EN          Sun Shield   \n43061     .5       EN          Sun Shield   \n43062    .28       EN  Compact Relief Kit   \n\n                                             DESCRIPTION  \n0      A personal first aid kit is recommended for ev...  \n1      A personal first aid kit is recommended for ev...  \n2      A personal first aid kit is recommended for ev...  \n3      A personal first aid kit is recommended for ev...  \n4      A personal first aid kit is recommended for ev...  \n...                                                  ...  \n43058  PABA free sunscreen, SPF 30, poison oak and iv...  \n43059  PABA free sunscreen, SPF 30, poison oak and iv...  \n43060  PABA free sunscreen, SPF 30, poison oak and iv...  \n43061  PABA free sunscreen, SPF 30, poison oak and iv...  \n43062  A personal first aid kit is recommended for ev...  \n\n[43063 rows x 13 columns]",
      "text/html": "<div>\n<style scoped>\n    .dataframe tbody tr th:only-of-type {\n        vertical-align: middle;\n    }\n\n    .dataframe tbody tr th {\n        vertical-align: top;\n    }\n\n    .dataframe thead th {\n        text-align: right;\n    }\n</style>\n<table border=\"1\" class=\"dataframe\">\n  <thead>\n    <tr style=\"text-align: right;\">\n      <th></th>\n      <th>ORDER_DETAIL_CODE</th>\n      <th>ORDER_NUMBER</th>\n      <th>PRODUCT_NUMBER</th>\n      <th>QUANTITY</th>\n      <th>UNIT_COST</th>\n      <th>UNIT_SALE_PRICE</th>\n      <th>INTRODUCTION_DATE</th>\n      <th>PRODUCT_TYPE_CODE</th>\n      <th>PRODUCTION_COST</th>\n      <th>MARGIN</th>\n      <th>LANGUAGE</th>\n      <th>PRODUCT_NAME</th>\n      <th>DESCRIPTION</th>\n    </tr>\n  </thead>\n  <tbody>\n    <tr>\n      <th>0</th>\n      <td>100000</td>\n      <td>8462</td>\n      <td>96</td>\n      <td>16</td>\n      <td>16.1</td>\n      <td>22.54</td>\n      <td>15-2-2011</td>\n      <td>17</td>\n      <td>16.43</td>\n      <td>.28</td>\n      <td>EN</td>\n      <td>Compact Relief Kit</td>\n      <td>A personal first aid kit is recommended for ev...</td>\n    </tr>\n    <tr>\n      <th>1</th>\n      <td>100001</td>\n      <td>9111</td>\n      <td>96</td>\n      <td>20</td>\n      <td>16.1</td>\n      <td>22.54</td>\n      <td>15-2-2011</td>\n      <td>17</td>\n      <td>16.43</td>\n      <td>.28</td>\n      <td>EN</td>\n      <td>Compact Relief Kit</td>\n      <td>A personal first aid kit is recommended for ev...</td>\n    </tr>\n    <tr>\n      <th>2</th>\n      <td>100002</td>\n      <td>8451</td>\n      <td>96</td>\n      <td>24</td>\n      <td>16.1</td>\n      <td>22.54</td>\n      <td>15-2-2011</td>\n      <td>17</td>\n      <td>16.43</td>\n      <td>.28</td>\n      <td>EN</td>\n      <td>Compact Relief Kit</td>\n      <td>A personal first aid kit is recommended for ev...</td>\n    </tr>\n    <tr>\n      <th>3</th>\n      <td>100003</td>\n      <td>8453</td>\n      <td>96</td>\n      <td>18</td>\n      <td>16.1</td>\n      <td>22.54</td>\n      <td>15-2-2011</td>\n      <td>17</td>\n      <td>16.43</td>\n      <td>.28</td>\n      <td>EN</td>\n      <td>Compact Relief Kit</td>\n      <td>A personal first aid kit is recommended for ev...</td>\n    </tr>\n    <tr>\n      <th>4</th>\n      <td>100004</td>\n      <td>8439</td>\n      <td>96</td>\n      <td>20</td>\n      <td>16.1</td>\n      <td>22.54</td>\n      <td>15-2-2011</td>\n      <td>17</td>\n      <td>16.43</td>\n      <td>.28</td>\n      <td>EN</td>\n      <td>Compact Relief Kit</td>\n      <td>A personal first aid kit is recommended for ev...</td>\n    </tr>\n    <tr>\n      <th>...</th>\n      <td>...</td>\n      <td>...</td>\n      <td>...</td>\n      <td>...</td>\n      <td>...</td>\n      <td>...</td>\n      <td>...</td>\n      <td>...</td>\n      <td>...</td>\n      <td>...</td>\n      <td>...</td>\n      <td>...</td>\n      <td>...</td>\n    </tr>\n    <tr>\n      <th>43058</th>\n      <td>99995</td>\n      <td>8459</td>\n      <td>95</td>\n      <td>146</td>\n      <td>2.76</td>\n      <td>5.55</td>\n      <td>15-2-2011</td>\n      <td>16</td>\n      <td>3</td>\n      <td>.5</td>\n      <td>EN</td>\n      <td>Sun Shield</td>\n      <td>PABA free sunscreen, SPF 30, poison oak and iv...</td>\n    </tr>\n    <tr>\n      <th>43059</th>\n      <td>99996</td>\n      <td>8457</td>\n      <td>95</td>\n      <td>172</td>\n      <td>2.76</td>\n      <td>5.55</td>\n      <td>15-2-2011</td>\n      <td>16</td>\n      <td>3</td>\n      <td>.5</td>\n      <td>EN</td>\n      <td>Sun Shield</td>\n      <td>PABA free sunscreen, SPF 30, poison oak and iv...</td>\n    </tr>\n    <tr>\n      <th>43060</th>\n      <td>99997</td>\n      <td>9267</td>\n      <td>95</td>\n      <td>192</td>\n      <td>2.76</td>\n      <td>5.55</td>\n      <td>15-2-2011</td>\n      <td>16</td>\n      <td>3</td>\n      <td>.5</td>\n      <td>EN</td>\n      <td>Sun Shield</td>\n      <td>PABA free sunscreen, SPF 30, poison oak and iv...</td>\n    </tr>\n    <tr>\n      <th>43061</th>\n      <td>99998</td>\n      <td>8441</td>\n      <td>95</td>\n      <td>192</td>\n      <td>2.76</td>\n      <td>5.55</td>\n      <td>15-2-2011</td>\n      <td>16</td>\n      <td>3</td>\n      <td>.5</td>\n      <td>EN</td>\n      <td>Sun Shield</td>\n      <td>PABA free sunscreen, SPF 30, poison oak and iv...</td>\n    </tr>\n    <tr>\n      <th>43062</th>\n      <td>99999</td>\n      <td>8440</td>\n      <td>96</td>\n      <td>22</td>\n      <td>16.1</td>\n      <td>22.54</td>\n      <td>15-2-2011</td>\n      <td>17</td>\n      <td>16.43</td>\n      <td>.28</td>\n      <td>EN</td>\n      <td>Compact Relief Kit</td>\n      <td>A personal first aid kit is recommended for ev...</td>\n    </tr>\n  </tbody>\n</table>\n<p>43063 rows × 13 columns</p>\n</div>"
     },
     "execution_count": 50,
     "metadata": {},
     "output_type": "execute_result"
    }
   ],
   "source": [
    "import sqlite3\n",
    "# Connect to the SQLite database\n",
    "goSales = sqlite3.connect('../go_sales.sqlite')\n",
    "\n",
    "# Read product table into a DataFrame\n",
    "product_df = pd.read_sql_query(\"SELECT PRODUCT_NUMBER, INTRODUCTION_DATE, PRODUCT_TYPE_CODE, PRODUCTION_COST, MARGIN, LANGUAGE, PRODUCT_NAME, DESCRIPTION FROM product\", goSales)\n",
    "\n",
    "# Read order_detail table into a DataFrame\n",
    "orderDetails_df = pd.read_sql_query(\"SELECT ORDER_DETAIL_CODE, ORDER_NUMBER, PRODUCT_NUMBER, QUANTITY, UNIT_COST, UNIT_SALE_PRICE FROM order_details\", goSales)\n",
    "\n",
    "# Merge the two DataFrames on 'PRODUCT_NUMBER'\n",
    "merged_df = pd.merge(orderDetails_df, product_df, on='PRODUCT_NUMBER', how='inner')\n",
    "\n",
    "# Print the merged DataFrame\n",
    "merged_df"
   ],
   "metadata": {
    "collapsed": false,
    "ExecuteTime": {
     "end_time": "2024-04-03T13:26:57.432725800Z",
     "start_time": "2024-04-03T13:26:57.180383500Z"
    }
   },
   "id": "48376cd873b76b21",
   "execution_count": 50
  },
  {
   "cell_type": "code",
   "outputs": [
    {
     "data": {
      "text/plain": "       QUANTITY  UNIT_COST  UNIT_SALE_PRICE   MARGIN\n0          16.0      16.10            22.54  1.40000\n1          20.0      16.10            22.54  1.40000\n2          24.0      16.10            22.54  1.40000\n3          18.0      16.10            22.54  1.40000\n4          20.0      16.10            22.54  1.40000\n...         ...        ...              ...      ...\n43058     146.0       2.76             5.55  2.01087\n43059     172.0       2.76             5.55  2.01087\n43060     192.0       2.76             5.55  2.01087\n43061     192.0       2.76             5.55  2.01087\n43062      22.0      16.10            22.54  1.40000\n\n[43063 rows x 4 columns]",
      "text/html": "<div>\n<style scoped>\n    .dataframe tbody tr th:only-of-type {\n        vertical-align: middle;\n    }\n\n    .dataframe tbody tr th {\n        vertical-align: top;\n    }\n\n    .dataframe thead th {\n        text-align: right;\n    }\n</style>\n<table border=\"1\" class=\"dataframe\">\n  <thead>\n    <tr style=\"text-align: right;\">\n      <th></th>\n      <th>QUANTITY</th>\n      <th>UNIT_COST</th>\n      <th>UNIT_SALE_PRICE</th>\n      <th>MARGIN</th>\n    </tr>\n  </thead>\n  <tbody>\n    <tr>\n      <th>0</th>\n      <td>16.0</td>\n      <td>16.10</td>\n      <td>22.54</td>\n      <td>1.40000</td>\n    </tr>\n    <tr>\n      <th>1</th>\n      <td>20.0</td>\n      <td>16.10</td>\n      <td>22.54</td>\n      <td>1.40000</td>\n    </tr>\n    <tr>\n      <th>2</th>\n      <td>24.0</td>\n      <td>16.10</td>\n      <td>22.54</td>\n      <td>1.40000</td>\n    </tr>\n    <tr>\n      <th>3</th>\n      <td>18.0</td>\n      <td>16.10</td>\n      <td>22.54</td>\n      <td>1.40000</td>\n    </tr>\n    <tr>\n      <th>4</th>\n      <td>20.0</td>\n      <td>16.10</td>\n      <td>22.54</td>\n      <td>1.40000</td>\n    </tr>\n    <tr>\n      <th>...</th>\n      <td>...</td>\n      <td>...</td>\n      <td>...</td>\n      <td>...</td>\n    </tr>\n    <tr>\n      <th>43058</th>\n      <td>146.0</td>\n      <td>2.76</td>\n      <td>5.55</td>\n      <td>2.01087</td>\n    </tr>\n    <tr>\n      <th>43059</th>\n      <td>172.0</td>\n      <td>2.76</td>\n      <td>5.55</td>\n      <td>2.01087</td>\n    </tr>\n    <tr>\n      <th>43060</th>\n      <td>192.0</td>\n      <td>2.76</td>\n      <td>5.55</td>\n      <td>2.01087</td>\n    </tr>\n    <tr>\n      <th>43061</th>\n      <td>192.0</td>\n      <td>2.76</td>\n      <td>5.55</td>\n      <td>2.01087</td>\n    </tr>\n    <tr>\n      <th>43062</th>\n      <td>22.0</td>\n      <td>16.10</td>\n      <td>22.54</td>\n      <td>1.40000</td>\n    </tr>\n  </tbody>\n</table>\n<p>43063 rows × 4 columns</p>\n</div>"
     },
     "execution_count": 91,
     "metadata": {},
     "output_type": "execute_result"
    }
   ],
   "source": [
    "merged_df = merged_df.loc[:,['QUANTITY', 'UNIT_COST', 'UNIT_SALE_PRICE', 'MARGIN']]\n",
    "merged_df['QUANTITY'] = merged_df['QUANTITY'].astype(float)\n",
    "merged_df['UNIT_COST'] = merged_df['UNIT_COST'].astype(float)\n",
    "merged_df['UNIT_SALE_PRICE'] = merged_df['UNIT_SALE_PRICE'].astype(float)\n",
    "merged_df['MARGIN'] = merged_df['MARGIN'].astype(float)\n",
    "merged_df['MARGIN'] = merged_df['UNIT_SALE_PRICE'] / merged_df['UNIT_COST']\n",
    "merged_df"
   ],
   "metadata": {
    "collapsed": false,
    "ExecuteTime": {
     "end_time": "2024-04-03T14:03:10.772913400Z",
     "start_time": "2024-04-03T14:03:10.727985400Z"
    }
   },
   "id": "e1d19b9792673125",
   "execution_count": 91
  },
  {
   "cell_type": "code",
   "outputs": [
    {
     "data": {
      "text/plain": "       QUANTITY  UNIT_COST   MARGIN\n0          16.0      16.10  1.40000\n1          20.0      16.10  1.40000\n2          24.0      16.10  1.40000\n3          18.0      16.10  1.40000\n4          20.0      16.10  1.40000\n...         ...        ...      ...\n43058     146.0       2.76  2.01087\n43059     172.0       2.76  2.01087\n43060     192.0       2.76  2.01087\n43061     192.0       2.76  2.01087\n43062      22.0      16.10  1.40000\n\n[43063 rows x 3 columns]",
      "text/html": "<div>\n<style scoped>\n    .dataframe tbody tr th:only-of-type {\n        vertical-align: middle;\n    }\n\n    .dataframe tbody tr th {\n        vertical-align: top;\n    }\n\n    .dataframe thead th {\n        text-align: right;\n    }\n</style>\n<table border=\"1\" class=\"dataframe\">\n  <thead>\n    <tr style=\"text-align: right;\">\n      <th></th>\n      <th>QUANTITY</th>\n      <th>UNIT_COST</th>\n      <th>MARGIN</th>\n    </tr>\n  </thead>\n  <tbody>\n    <tr>\n      <th>0</th>\n      <td>16.0</td>\n      <td>16.10</td>\n      <td>1.40000</td>\n    </tr>\n    <tr>\n      <th>1</th>\n      <td>20.0</td>\n      <td>16.10</td>\n      <td>1.40000</td>\n    </tr>\n    <tr>\n      <th>2</th>\n      <td>24.0</td>\n      <td>16.10</td>\n      <td>1.40000</td>\n    </tr>\n    <tr>\n      <th>3</th>\n      <td>18.0</td>\n      <td>16.10</td>\n      <td>1.40000</td>\n    </tr>\n    <tr>\n      <th>4</th>\n      <td>20.0</td>\n      <td>16.10</td>\n      <td>1.40000</td>\n    </tr>\n    <tr>\n      <th>...</th>\n      <td>...</td>\n      <td>...</td>\n      <td>...</td>\n    </tr>\n    <tr>\n      <th>43058</th>\n      <td>146.0</td>\n      <td>2.76</td>\n      <td>2.01087</td>\n    </tr>\n    <tr>\n      <th>43059</th>\n      <td>172.0</td>\n      <td>2.76</td>\n      <td>2.01087</td>\n    </tr>\n    <tr>\n      <th>43060</th>\n      <td>192.0</td>\n      <td>2.76</td>\n      <td>2.01087</td>\n    </tr>\n    <tr>\n      <th>43061</th>\n      <td>192.0</td>\n      <td>2.76</td>\n      <td>2.01087</td>\n    </tr>\n    <tr>\n      <th>43062</th>\n      <td>22.0</td>\n      <td>16.10</td>\n      <td>1.40000</td>\n    </tr>\n  </tbody>\n</table>\n<p>43063 rows × 3 columns</p>\n</div>"
     },
     "execution_count": 92,
     "metadata": {},
     "output_type": "execute_result"
    }
   ],
   "source": [
    "x = merged_df.drop('UNIT_SALE_PRICE', axis=1)\n",
    "y = merged_df.loc[:, 'UNIT_SALE_PRICE']\n",
    "x"
   ],
   "metadata": {
    "collapsed": false,
    "ExecuteTime": {
     "end_time": "2024-04-03T14:03:14.721257500Z",
     "start_time": "2024-04-03T14:03:14.689018Z"
    }
   },
   "id": "21f576e7d3d06488",
   "execution_count": 92
  },
  {
   "cell_type": "code",
   "outputs": [],
   "source": [
    "x_train, x_test, y_train, y_test = train_test_split(\n",
    "    x,\n",
    "    y,\n",
    "    test_size=0.15,\n",
    "    random_state=42\n",
    ")"
   ],
   "metadata": {
    "collapsed": false,
    "ExecuteTime": {
     "end_time": "2024-04-03T14:03:17.039358600Z",
     "start_time": "2024-04-03T14:03:17.011469100Z"
    }
   },
   "id": "a46b05f09f1fb4e1",
   "execution_count": 93
  },
  {
   "cell_type": "code",
   "outputs": [
    {
     "data": {
      "text/plain": "LinearRegression()",
      "text/html": "<style>#sk-container-id-7 {\n  /* Definition of color scheme common for light and dark mode */\n  --sklearn-color-text: black;\n  --sklearn-color-line: gray;\n  /* Definition of color scheme for unfitted estimators */\n  --sklearn-color-unfitted-level-0: #fff5e6;\n  --sklearn-color-unfitted-level-1: #f6e4d2;\n  --sklearn-color-unfitted-level-2: #ffe0b3;\n  --sklearn-color-unfitted-level-3: chocolate;\n  /* Definition of color scheme for fitted estimators */\n  --sklearn-color-fitted-level-0: #f0f8ff;\n  --sklearn-color-fitted-level-1: #d4ebff;\n  --sklearn-color-fitted-level-2: #b3dbfd;\n  --sklearn-color-fitted-level-3: cornflowerblue;\n\n  /* Specific color for light theme */\n  --sklearn-color-text-on-default-background: var(--sg-text-color, var(--theme-code-foreground, var(--jp-content-font-color1, black)));\n  --sklearn-color-background: var(--sg-background-color, var(--theme-background, var(--jp-layout-color0, white)));\n  --sklearn-color-border-box: var(--sg-text-color, var(--theme-code-foreground, var(--jp-content-font-color1, black)));\n  --sklearn-color-icon: #696969;\n\n  @media (prefers-color-scheme: dark) {\n    /* Redefinition of color scheme for dark theme */\n    --sklearn-color-text-on-default-background: var(--sg-text-color, var(--theme-code-foreground, var(--jp-content-font-color1, white)));\n    --sklearn-color-background: var(--sg-background-color, var(--theme-background, var(--jp-layout-color0, #111)));\n    --sklearn-color-border-box: var(--sg-text-color, var(--theme-code-foreground, var(--jp-content-font-color1, white)));\n    --sklearn-color-icon: #878787;\n  }\n}\n\n#sk-container-id-7 {\n  color: var(--sklearn-color-text);\n}\n\n#sk-container-id-7 pre {\n  padding: 0;\n}\n\n#sk-container-id-7 input.sk-hidden--visually {\n  border: 0;\n  clip: rect(1px 1px 1px 1px);\n  clip: rect(1px, 1px, 1px, 1px);\n  height: 1px;\n  margin: -1px;\n  overflow: hidden;\n  padding: 0;\n  position: absolute;\n  width: 1px;\n}\n\n#sk-container-id-7 div.sk-dashed-wrapped {\n  border: 1px dashed var(--sklearn-color-line);\n  margin: 0 0.4em 0.5em 0.4em;\n  box-sizing: border-box;\n  padding-bottom: 0.4em;\n  background-color: var(--sklearn-color-background);\n}\n\n#sk-container-id-7 div.sk-container {\n  /* jupyter's `normalize.less` sets `[hidden] { display: none; }`\n     but bootstrap.min.css set `[hidden] { display: none !important; }`\n     so we also need the `!important` here to be able to override the\n     default hidden behavior on the sphinx rendered scikit-learn.org.\n     See: https://github.com/scikit-learn/scikit-learn/issues/21755 */\n  display: inline-block !important;\n  position: relative;\n}\n\n#sk-container-id-7 div.sk-text-repr-fallback {\n  display: none;\n}\n\ndiv.sk-parallel-item,\ndiv.sk-serial,\ndiv.sk-item {\n  /* draw centered vertical line to link estimators */\n  background-image: linear-gradient(var(--sklearn-color-text-on-default-background), var(--sklearn-color-text-on-default-background));\n  background-size: 2px 100%;\n  background-repeat: no-repeat;\n  background-position: center center;\n}\n\n/* Parallel-specific style estimator block */\n\n#sk-container-id-7 div.sk-parallel-item::after {\n  content: \"\";\n  width: 100%;\n  border-bottom: 2px solid var(--sklearn-color-text-on-default-background);\n  flex-grow: 1;\n}\n\n#sk-container-id-7 div.sk-parallel {\n  display: flex;\n  align-items: stretch;\n  justify-content: center;\n  background-color: var(--sklearn-color-background);\n  position: relative;\n}\n\n#sk-container-id-7 div.sk-parallel-item {\n  display: flex;\n  flex-direction: column;\n}\n\n#sk-container-id-7 div.sk-parallel-item:first-child::after {\n  align-self: flex-end;\n  width: 50%;\n}\n\n#sk-container-id-7 div.sk-parallel-item:last-child::after {\n  align-self: flex-start;\n  width: 50%;\n}\n\n#sk-container-id-7 div.sk-parallel-item:only-child::after {\n  width: 0;\n}\n\n/* Serial-specific style estimator block */\n\n#sk-container-id-7 div.sk-serial {\n  display: flex;\n  flex-direction: column;\n  align-items: center;\n  background-color: var(--sklearn-color-background);\n  padding-right: 1em;\n  padding-left: 1em;\n}\n\n\n/* Toggleable style: style used for estimator/Pipeline/ColumnTransformer box that is\nclickable and can be expanded/collapsed.\n- Pipeline and ColumnTransformer use this feature and define the default style\n- Estimators will overwrite some part of the style using the `sk-estimator` class\n*/\n\n/* Pipeline and ColumnTransformer style (default) */\n\n#sk-container-id-7 div.sk-toggleable {\n  /* Default theme specific background. It is overwritten whether we have a\n  specific estimator or a Pipeline/ColumnTransformer */\n  background-color: var(--sklearn-color-background);\n}\n\n/* Toggleable label */\n#sk-container-id-7 label.sk-toggleable__label {\n  cursor: pointer;\n  display: block;\n  width: 100%;\n  margin-bottom: 0;\n  padding: 0.5em;\n  box-sizing: border-box;\n  text-align: center;\n}\n\n#sk-container-id-7 label.sk-toggleable__label-arrow:before {\n  /* Arrow on the left of the label */\n  content: \"▸\";\n  float: left;\n  margin-right: 0.25em;\n  color: var(--sklearn-color-icon);\n}\n\n#sk-container-id-7 label.sk-toggleable__label-arrow:hover:before {\n  color: var(--sklearn-color-text);\n}\n\n/* Toggleable content - dropdown */\n\n#sk-container-id-7 div.sk-toggleable__content {\n  max-height: 0;\n  max-width: 0;\n  overflow: hidden;\n  text-align: left;\n  /* unfitted */\n  background-color: var(--sklearn-color-unfitted-level-0);\n}\n\n#sk-container-id-7 div.sk-toggleable__content.fitted {\n  /* fitted */\n  background-color: var(--sklearn-color-fitted-level-0);\n}\n\n#sk-container-id-7 div.sk-toggleable__content pre {\n  margin: 0.2em;\n  border-radius: 0.25em;\n  color: var(--sklearn-color-text);\n  /* unfitted */\n  background-color: var(--sklearn-color-unfitted-level-0);\n}\n\n#sk-container-id-7 div.sk-toggleable__content.fitted pre {\n  /* unfitted */\n  background-color: var(--sklearn-color-fitted-level-0);\n}\n\n#sk-container-id-7 input.sk-toggleable__control:checked~div.sk-toggleable__content {\n  /* Expand drop-down */\n  max-height: 200px;\n  max-width: 100%;\n  overflow: auto;\n}\n\n#sk-container-id-7 input.sk-toggleable__control:checked~label.sk-toggleable__label-arrow:before {\n  content: \"▾\";\n}\n\n/* Pipeline/ColumnTransformer-specific style */\n\n#sk-container-id-7 div.sk-label input.sk-toggleable__control:checked~label.sk-toggleable__label {\n  color: var(--sklearn-color-text);\n  background-color: var(--sklearn-color-unfitted-level-2);\n}\n\n#sk-container-id-7 div.sk-label.fitted input.sk-toggleable__control:checked~label.sk-toggleable__label {\n  background-color: var(--sklearn-color-fitted-level-2);\n}\n\n/* Estimator-specific style */\n\n/* Colorize estimator box */\n#sk-container-id-7 div.sk-estimator input.sk-toggleable__control:checked~label.sk-toggleable__label {\n  /* unfitted */\n  background-color: var(--sklearn-color-unfitted-level-2);\n}\n\n#sk-container-id-7 div.sk-estimator.fitted input.sk-toggleable__control:checked~label.sk-toggleable__label {\n  /* fitted */\n  background-color: var(--sklearn-color-fitted-level-2);\n}\n\n#sk-container-id-7 div.sk-label label.sk-toggleable__label,\n#sk-container-id-7 div.sk-label label {\n  /* The background is the default theme color */\n  color: var(--sklearn-color-text-on-default-background);\n}\n\n/* On hover, darken the color of the background */\n#sk-container-id-7 div.sk-label:hover label.sk-toggleable__label {\n  color: var(--sklearn-color-text);\n  background-color: var(--sklearn-color-unfitted-level-2);\n}\n\n/* Label box, darken color on hover, fitted */\n#sk-container-id-7 div.sk-label.fitted:hover label.sk-toggleable__label.fitted {\n  color: var(--sklearn-color-text);\n  background-color: var(--sklearn-color-fitted-level-2);\n}\n\n/* Estimator label */\n\n#sk-container-id-7 div.sk-label label {\n  font-family: monospace;\n  font-weight: bold;\n  display: inline-block;\n  line-height: 1.2em;\n}\n\n#sk-container-id-7 div.sk-label-container {\n  text-align: center;\n}\n\n/* Estimator-specific */\n#sk-container-id-7 div.sk-estimator {\n  font-family: monospace;\n  border: 1px dotted var(--sklearn-color-border-box);\n  border-radius: 0.25em;\n  box-sizing: border-box;\n  margin-bottom: 0.5em;\n  /* unfitted */\n  background-color: var(--sklearn-color-unfitted-level-0);\n}\n\n#sk-container-id-7 div.sk-estimator.fitted {\n  /* fitted */\n  background-color: var(--sklearn-color-fitted-level-0);\n}\n\n/* on hover */\n#sk-container-id-7 div.sk-estimator:hover {\n  /* unfitted */\n  background-color: var(--sklearn-color-unfitted-level-2);\n}\n\n#sk-container-id-7 div.sk-estimator.fitted:hover {\n  /* fitted */\n  background-color: var(--sklearn-color-fitted-level-2);\n}\n\n/* Specification for estimator info (e.g. \"i\" and \"?\") */\n\n/* Common style for \"i\" and \"?\" */\n\n.sk-estimator-doc-link,\na:link.sk-estimator-doc-link,\na:visited.sk-estimator-doc-link {\n  float: right;\n  font-size: smaller;\n  line-height: 1em;\n  font-family: monospace;\n  background-color: var(--sklearn-color-background);\n  border-radius: 1em;\n  height: 1em;\n  width: 1em;\n  text-decoration: none !important;\n  margin-left: 1ex;\n  /* unfitted */\n  border: var(--sklearn-color-unfitted-level-1) 1pt solid;\n  color: var(--sklearn-color-unfitted-level-1);\n}\n\n.sk-estimator-doc-link.fitted,\na:link.sk-estimator-doc-link.fitted,\na:visited.sk-estimator-doc-link.fitted {\n  /* fitted */\n  border: var(--sklearn-color-fitted-level-1) 1pt solid;\n  color: var(--sklearn-color-fitted-level-1);\n}\n\n/* On hover */\ndiv.sk-estimator:hover .sk-estimator-doc-link:hover,\n.sk-estimator-doc-link:hover,\ndiv.sk-label-container:hover .sk-estimator-doc-link:hover,\n.sk-estimator-doc-link:hover {\n  /* unfitted */\n  background-color: var(--sklearn-color-unfitted-level-3);\n  color: var(--sklearn-color-background);\n  text-decoration: none;\n}\n\ndiv.sk-estimator.fitted:hover .sk-estimator-doc-link.fitted:hover,\n.sk-estimator-doc-link.fitted:hover,\ndiv.sk-label-container:hover .sk-estimator-doc-link.fitted:hover,\n.sk-estimator-doc-link.fitted:hover {\n  /* fitted */\n  background-color: var(--sklearn-color-fitted-level-3);\n  color: var(--sklearn-color-background);\n  text-decoration: none;\n}\n\n/* Span, style for the box shown on hovering the info icon */\n.sk-estimator-doc-link span {\n  display: none;\n  z-index: 9999;\n  position: relative;\n  font-weight: normal;\n  right: .2ex;\n  padding: .5ex;\n  margin: .5ex;\n  width: min-content;\n  min-width: 20ex;\n  max-width: 50ex;\n  color: var(--sklearn-color-text);\n  box-shadow: 2pt 2pt 4pt #999;\n  /* unfitted */\n  background: var(--sklearn-color-unfitted-level-0);\n  border: .5pt solid var(--sklearn-color-unfitted-level-3);\n}\n\n.sk-estimator-doc-link.fitted span {\n  /* fitted */\n  background: var(--sklearn-color-fitted-level-0);\n  border: var(--sklearn-color-fitted-level-3);\n}\n\n.sk-estimator-doc-link:hover span {\n  display: block;\n}\n\n/* \"?\"-specific style due to the `<a>` HTML tag */\n\n#sk-container-id-7 a.estimator_doc_link {\n  float: right;\n  font-size: 1rem;\n  line-height: 1em;\n  font-family: monospace;\n  background-color: var(--sklearn-color-background);\n  border-radius: 1rem;\n  height: 1rem;\n  width: 1rem;\n  text-decoration: none;\n  /* unfitted */\n  color: var(--sklearn-color-unfitted-level-1);\n  border: var(--sklearn-color-unfitted-level-1) 1pt solid;\n}\n\n#sk-container-id-7 a.estimator_doc_link.fitted {\n  /* fitted */\n  border: var(--sklearn-color-fitted-level-1) 1pt solid;\n  color: var(--sklearn-color-fitted-level-1);\n}\n\n/* On hover */\n#sk-container-id-7 a.estimator_doc_link:hover {\n  /* unfitted */\n  background-color: var(--sklearn-color-unfitted-level-3);\n  color: var(--sklearn-color-background);\n  text-decoration: none;\n}\n\n#sk-container-id-7 a.estimator_doc_link.fitted:hover {\n  /* fitted */\n  background-color: var(--sklearn-color-fitted-level-3);\n}\n</style><div id=\"sk-container-id-7\" class=\"sk-top-container\"><div class=\"sk-text-repr-fallback\"><pre>LinearRegression()</pre><b>In a Jupyter environment, please rerun this cell to show the HTML representation or trust the notebook. <br />On GitHub, the HTML representation is unable to render, please try loading this page with nbviewer.org.</b></div><div class=\"sk-container\" hidden><div class=\"sk-item\"><div class=\"sk-estimator fitted sk-toggleable\"><input class=\"sk-toggleable__control sk-hidden--visually\" id=\"sk-estimator-id-7\" type=\"checkbox\" checked><label for=\"sk-estimator-id-7\" class=\"sk-toggleable__label fitted sk-toggleable__label-arrow fitted\">&nbsp;&nbsp;LinearRegression<a class=\"sk-estimator-doc-link fitted\" rel=\"noreferrer\" target=\"_blank\" href=\"https://scikit-learn.org/1.4/modules/generated/sklearn.linear_model.LinearRegression.html\">?<span>Documentation for LinearRegression</span></a><span class=\"sk-estimator-doc-link fitted\">i<span>Fitted</span></span></label><div class=\"sk-toggleable__content fitted\"><pre>LinearRegression()</pre></div> </div></div></div></div>"
     },
     "execution_count": 94,
     "metadata": {},
     "output_type": "execute_result"
    }
   ],
   "source": [
    "reg_model = linear_model.LinearRegression()\n",
    "reg_model = LinearRegression().fit(x_train, y_train)\n",
    "reg_model"
   ],
   "metadata": {
    "collapsed": false,
    "ExecuteTime": {
     "end_time": "2024-04-03T14:03:18.605444200Z",
     "start_time": "2024-04-03T14:03:18.579818300Z"
    }
   },
   "id": "854257226c805109",
   "execution_count": 94
  },
  {
   "cell_type": "code",
   "outputs": [
    {
     "data": {
      "text/plain": "array([ 3.84395169e+00,  6.42380488e+01,  5.75242053e+01, ...,\n        7.87577629e+02,  6.25669038e-01, -3.87159584e+00])"
     },
     "execution_count": 95,
     "metadata": {},
     "output_type": "execute_result"
    }
   ],
   "source": [
    "y_pred = reg_model.predict(x_test)\n",
    "y_pred"
   ],
   "metadata": {
    "collapsed": false,
    "ExecuteTime": {
     "end_time": "2024-04-03T14:03:20.422958600Z",
     "start_time": "2024-04-03T14:03:20.397319700Z"
    }
   },
   "id": "3f20af07fab5f310",
   "execution_count": 95
  },
  {
   "cell_type": "code",
   "outputs": [
    {
     "data": {
      "text/plain": "      Predicted_Unit_Sale_Price\n0                      3.843952\n1                     64.238049\n2                     57.524205\n3                    756.934613\n4                     87.371682\n...                         ...\n6455                  38.740528\n6456                  58.599184\n6457                 787.577629\n6458                   0.625669\n6459                  -3.871596\n\n[6460 rows x 1 columns]",
      "text/html": "<div>\n<style scoped>\n    .dataframe tbody tr th:only-of-type {\n        vertical-align: middle;\n    }\n\n    .dataframe tbody tr th {\n        vertical-align: top;\n    }\n\n    .dataframe thead th {\n        text-align: right;\n    }\n</style>\n<table border=\"1\" class=\"dataframe\">\n  <thead>\n    <tr style=\"text-align: right;\">\n      <th></th>\n      <th>Predicted_Unit_Sale_Price</th>\n    </tr>\n  </thead>\n  <tbody>\n    <tr>\n      <th>0</th>\n      <td>3.843952</td>\n    </tr>\n    <tr>\n      <th>1</th>\n      <td>64.238049</td>\n    </tr>\n    <tr>\n      <th>2</th>\n      <td>57.524205</td>\n    </tr>\n    <tr>\n      <th>3</th>\n      <td>756.934613</td>\n    </tr>\n    <tr>\n      <th>4</th>\n      <td>87.371682</td>\n    </tr>\n    <tr>\n      <th>...</th>\n      <td>...</td>\n    </tr>\n    <tr>\n      <th>6455</th>\n      <td>38.740528</td>\n    </tr>\n    <tr>\n      <th>6456</th>\n      <td>58.599184</td>\n    </tr>\n    <tr>\n      <th>6457</th>\n      <td>787.577629</td>\n    </tr>\n    <tr>\n      <th>6458</th>\n      <td>0.625669</td>\n    </tr>\n    <tr>\n      <th>6459</th>\n      <td>-3.871596</td>\n    </tr>\n  </tbody>\n</table>\n<p>6460 rows × 1 columns</p>\n</div>"
     },
     "execution_count": 96,
     "metadata": {},
     "output_type": "execute_result"
    }
   ],
   "source": [
    "prediction_df = pd.DataFrame(y_pred)\n",
    "prediction_df = prediction_df.rename(columns = {0 : 'Predicted_Unit_Sale_Price'})\n",
    "prediction_df"
   ],
   "metadata": {
    "collapsed": false,
    "ExecuteTime": {
     "end_time": "2024-04-03T14:03:23.489126100Z",
     "start_time": "2024-04-03T14:03:23.481537500Z"
    }
   },
   "id": "9a6f02d3fa1e06c",
   "execution_count": 96
  },
  {
   "cell_type": "code",
   "outputs": [
    {
     "data": {
      "text/plain": "      UNIT_SALE_PRICE  Predicted_Unit_Sale_Price\n0               22.61                   3.843952\n1               63.27                  64.238049\n2               61.84                  57.524205\n3              526.59                 756.934613\n4               90.00                  87.371682\n...               ...                        ...\n6455            37.18                  38.740528\n6456            60.33                  58.599184\n6457           613.16                 787.577629\n6458            10.64                   0.625669\n6459            13.22                  -3.871596\n\n[6460 rows x 2 columns]",
      "text/html": "<div>\n<style scoped>\n    .dataframe tbody tr th:only-of-type {\n        vertical-align: middle;\n    }\n\n    .dataframe tbody tr th {\n        vertical-align: top;\n    }\n\n    .dataframe thead th {\n        text-align: right;\n    }\n</style>\n<table border=\"1\" class=\"dataframe\">\n  <thead>\n    <tr style=\"text-align: right;\">\n      <th></th>\n      <th>UNIT_SALE_PRICE</th>\n      <th>Predicted_Unit_Sale_Price</th>\n    </tr>\n  </thead>\n  <tbody>\n    <tr>\n      <th>0</th>\n      <td>22.61</td>\n      <td>3.843952</td>\n    </tr>\n    <tr>\n      <th>1</th>\n      <td>63.27</td>\n      <td>64.238049</td>\n    </tr>\n    <tr>\n      <th>2</th>\n      <td>61.84</td>\n      <td>57.524205</td>\n    </tr>\n    <tr>\n      <th>3</th>\n      <td>526.59</td>\n      <td>756.934613</td>\n    </tr>\n    <tr>\n      <th>4</th>\n      <td>90.00</td>\n      <td>87.371682</td>\n    </tr>\n    <tr>\n      <th>...</th>\n      <td>...</td>\n      <td>...</td>\n    </tr>\n    <tr>\n      <th>6455</th>\n      <td>37.18</td>\n      <td>38.740528</td>\n    </tr>\n    <tr>\n      <th>6456</th>\n      <td>60.33</td>\n      <td>58.599184</td>\n    </tr>\n    <tr>\n      <th>6457</th>\n      <td>613.16</td>\n      <td>787.577629</td>\n    </tr>\n    <tr>\n      <th>6458</th>\n      <td>10.64</td>\n      <td>0.625669</td>\n    </tr>\n    <tr>\n      <th>6459</th>\n      <td>13.22</td>\n      <td>-3.871596</td>\n    </tr>\n  </tbody>\n</table>\n<p>6460 rows × 2 columns</p>\n</div>"
     },
     "execution_count": 97,
     "metadata": {},
     "output_type": "execute_result"
    }
   ],
   "source": [
    "y_test_prediction_merge = pd.concat([y_test.reset_index()['UNIT_SALE_PRICE'], prediction_df], axis=1)\n",
    "y_test_prediction_merge.loc[y_test_prediction_merge['Predicted_Unit_Sale_Price'].notna(), :]"
   ],
   "metadata": {
    "collapsed": false,
    "ExecuteTime": {
     "end_time": "2024-04-03T14:03:26.006576800Z",
     "start_time": "2024-04-03T14:03:25.970397200Z"
    }
   },
   "id": "16f5eab6fdbb4962",
   "execution_count": 97
  },
  {
   "cell_type": "code",
   "outputs": [
    {
     "data": {
      "text/plain": "<Figure size 640x480 with 1 Axes>",
      "image/png": "[encoded data removed]"
     },
     "metadata": {},
     "output_type": "display_data"
    }
   ],
   "source": [
    "plt.scatter(y_test_prediction_merge['UNIT_SALE_PRICE'], y_test_prediction_merge['Predicted_Unit_Sale_Price'])\n",
    "plt.xlabel('UNIT_SALE_PRICE')\n",
    "plt.ylabel('Predicted_Unit_Sale_Price')\n",
    "plt.show()"
   ],
   "metadata": {
    "collapsed": false,
    "ExecuteTime": {
     "end_time": "2024-04-03T14:05:52.147832500Z",
     "start_time": "2024-04-03T14:05:51.931609700Z"
    }
   },
   "id": "932e33751b549c07",
   "execution_count": 104
  },
  {
   "cell_type": "code",
   "outputs": [
    {
     "data": {
      "text/plain": "2796.175157389565"
     },
     "execution_count": 101,
     "metadata": {},
     "output_type": "execute_result"
    }
   ],
   "source": [
    "mean_squared_error(y_test_prediction_merge['UNIT_SALE_PRICE'], y_test_prediction_merge['Predicted_Unit_Sale_Price'])"
   ],
   "metadata": {
    "collapsed": false,
    "ExecuteTime": {
     "end_time": "2024-04-03T14:05:20.341353700Z",
     "start_time": "2024-04-03T14:05:20.329449400Z"
    }
   },
   "id": "19b94337ac3ec03a",
   "execution_count": 101
  },
  {
   "cell_type": "code",
   "outputs": [
    {
     "data": {
      "text/plain": "27.164867741547326"
     },
     "execution_count": 103,
     "metadata": {},
     "output_type": "execute_result"
    }
   ],
   "source": [
    "mean_absolute_error(y_test_prediction_merge['UNIT_SALE_PRICE'], y_test_prediction_merge['Predicted_Unit_Sale_Price'])"
   ],
   "metadata": {
    "collapsed": false,
    "ExecuteTime": {
     "end_time": "2024-04-03T14:05:36.153655Z",
     "start_time": "2024-04-03T14:05:36.141747400Z"
    }
   },
   "id": "780c703180075a6e",
   "execution_count": 103
  },
  {
   "cell_type": "code",
   "outputs": [
    {
     "data": {
      "text/plain": "984696.15"
     },
     "execution_count": 107,
     "metadata": {},
     "output_type": "execute_result"
    }
   ],
   "source": [
    "totalUnitSalePrice = y_test_prediction_merge['UNIT_SALE_PRICE'].sum()\n",
    "totalUnitSalePrice"
   ],
   "metadata": {
    "collapsed": false,
    "ExecuteTime": {
     "end_time": "2024-04-03T14:08:11.762919800Z",
     "start_time": "2024-04-03T14:08:11.748305100Z"
    }
   },
   "id": "9e49c9a95fdcb47",
   "execution_count": 107
  },
  {
   "cell_type": "code",
   "outputs": [
    {
     "data": {
      "text/plain": "984840.5926110864"
     },
     "execution_count": 108,
     "metadata": {},
     "output_type": "execute_result"
    }
   ],
   "source": [
    "totalPredictedUnitSalePrice = y_test_prediction_merge['Predicted_Unit_Sale_Price'].sum()\n",
    "totalPredictedUnitSalePrice"
   ],
   "metadata": {
    "collapsed": false,
    "ExecuteTime": {
     "end_time": "2024-04-03T14:08:14.085392700Z",
     "start_time": "2024-04-03T14:08:14.071457400Z"
    }
   },
   "id": "96b8a84f516e300b",
   "execution_count": 108
  }
 ],
 "metadata": {
  "kernelspec": {
   "display_name": "Python 3",
   "language": "python",
   "name": "python3"
  },
  "language_info": {
   "codemirror_mode": {
    "name": "ipython",
    "version": 2
   },
   "file_extension": ".py",
   "mimetype": "text/x-python",
   "name": "python",
   "nbconvert_exporter": "python",
   "pygments_lexer": "ipython2",
   "version": "2.7.6"
  }
 },
 "nbformat": 4,
 "nbformat_minor": 5
}
