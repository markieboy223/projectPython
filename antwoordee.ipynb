{
 "cells": [
  {
   "cell_type": "markdown",
   "metadata": {},
   "source": [
    "# Practicumopdrachten Week 2.3 (eerste kans)"
   ]
  },
  {
   "cell_type": "markdown",
   "metadata": {},
   "source": [
    "## Dependencies importeren"
   ]
  },
  {
   "cell_type": "markdown",
   "metadata": {},
   "source": [
    "Kopieer in het codeblok hieronder van het vorige practicum de import-code voor de dependencies die het vaakst worden gebruikt om data in te lezen. Geef er ook de gebruikelijke aliassen aan.<br>\n",
    "Zet eventuele warnings uit."
   ]
  },
  {
   "cell_type": "code",
   "execution_count": 148,
   "metadata": {
    "ExecuteTime": {
     "end_time": "2024-02-27T14:43:34.615668900Z",
     "start_time": "2024-02-27T14:43:34.090133500Z"
    }
   },
   "outputs": [],
   "source": [
    "import pandas as pd\n",
    "import sqlite3\n",
    "import warnings\n",
    "warnings.simplefilter('ignore')"
   ]
  },
  {
   "cell_type": "markdown",
   "metadata": {},
   "source": [
    "Zet het bestand go_sales.sqlite in hetzelfde mapje als dit notebook."
   ]
  },
  {
   "cell_type": "markdown",
   "metadata": {},
   "source": [
    "## Databasetabellen inlezen"
   ]
  },
  {
   "cell_type": "markdown",
   "metadata": {},
   "source": [
    "Kopieer in het codeblok hieronder van het vorige practicum de code om een connectie met het bestand go_sales.sqlite te maken."
   ]
  },
  {
   "cell_type": "code",
   "execution_count": 149,
   "metadata": {
    "ExecuteTime": {
     "end_time": "2024-02-27T14:43:34.659058700Z",
     "start_time": "2024-02-27T14:43:34.593917100Z"
    }
   },
   "outputs": [],
   "source": [
    "sales_connection = sqlite3.connect('go_sales.sqlite')"
   ]
  },
  {
   "cell_type": "markdown",
   "metadata": {},
   "source": [
    "Lees van de ingelezen go_sales-database te volgende tabellen in met behulp van \"SELECT * FROM *tabel*\".\n",
    "- product\n",
    "- product_type\n",
    "- product_line\n",
    "- sales_staff\n",
    "- sales_branch\n",
    "- retailer_site\n",
    "- country\n",
    "- order_header\n",
    "- order_details\n",
    "- target\n",
    "- returned_item\n",
    "- return_reason"
   ]
  },
  {
   "cell_type": "code",
   "execution_count": 187,
   "metadata": {
    "ExecuteTime": {
     "end_time": "2024-02-28T10:05:47.993597300Z",
     "start_time": "2024-02-28T10:05:47.769168100Z"
    }
   },
   "outputs": [
    {
     "name": "stdout",
     "output_type": "stream",
     "text": [
      "    SALES_STAFF_CODE FIRST_NAME   LAST_NAME                   POSITION_EN  \\\n",
      "0                100     Tuomas  Savolainen  Level 2 Sales Representative   \n",
      "1                101   Chang-ho         Kim  Level 2 Sales Representative   \n",
      "2                102    Jung-ho        Choi  Level 3 Sales Representative   \n",
      "3                103  Kwei-Ping         Kao  Level 2 Sales Representative   \n",
      "4                104  Chin-Tsai        Fang  Level 3 Sales Representative   \n",
      "..               ...        ...         ...                           ...   \n",
      "97                95      Tomás    Iglesias  Level 2 Sales Representative   \n",
      "98                96     Bayard       Lopes                Branch Manager   \n",
      "99                97     Viviam      Barros  Level 3 Sales Representative   \n",
      "100               98    Eduardo   Guimarães  Level 2 Sales Representative   \n",
      "101               99     Helena    Lindholm  Level 3 Sales Representative   \n",
      "\n",
      "              WORK_PHONE EXTENSION                  FAX  \\\n",
      "0    +358(0)17 - 433 127       825  +358(0)17 - 433 129   \n",
      "1          82-2-778-6587      1228        82-2-778-6586   \n",
      "2          82-2-778-6587      2641        82-2-778-6586   \n",
      "3        886-2-2975-1988      1541      886-2-2989-4978   \n",
      "4        886-2-2975-1988      2311      886-2-2989-4978   \n",
      "..                   ...       ...                  ...   \n",
      "97       +35 94 322 3540       325      +35 91 548 1637   \n",
      "98     +55 (11) 344-4444      3490    +55 (11) 333-2223   \n",
      "99     +55 (11) 344-4444      3364    +55 (11) 333-2223   \n",
      "100    +55 (11) 344-4444      1442    +55 (11) 333-2223   \n",
      "101  +358(0)17 - 433 127       489  +358(0)17 - 433 129   \n",
      "\n",
      "                       EMAIL  DATE_HIRED SALES_BRANCH_CODE TRIAL888  \n",
      "0    TSavolainen@grtd123.com   23-7-2014                31        T  \n",
      "1           CKim@grtd123.com  15-12-2014                32        T  \n",
      "2          JChoi@grtd123.com  27-11-2014                32        T  \n",
      "3          KKwao@grtd123.com   7-10-2014                33        T  \n",
      "4           CFon@grtd123.com    8-5-2012                33        T  \n",
      "..                       ...         ...               ...      ...  \n",
      "97     TIglesias@grtd123.com   19-2-2014                29        T  \n",
      "98        BLopes@grtd123.com   12-8-2013                30        T  \n",
      "99       VBarros@grtd123.com   10-2-2017                30        T  \n",
      "100   EGuimaraes@grtd123.com   14-2-2015                30        T  \n",
      "101    HLindholm@grtd123.com   17-8-2013                31        T  \n",
      "\n",
      "[102 rows x 11 columns]\n"
     ]
    }
   ],
   "source": [
    "tables_to_read = ['product', 'product_type', 'product_line', 'sales_staff', 'sales_branch', \n",
    "                  'retailer_site', 'country', 'order_header', 'order_details',\n",
    "                  'returned_item', 'return_reason']\n",
    "\n",
    "dataframes = {}\n",
    "\n",
    "for table in tables_to_read:\n",
    "    query = f\"SELECT * FROM {table}\"\n",
    "    dataframes[table] = pd.read_sql_query(query, sales_connection)\n",
    "\n",
    "product_df = dataframes['product']\n",
    "product_type_df = dataframes['product_type']\n",
    "product_line_df = dataframes['product_line']\n",
    "sales_staff_df = dataframes['sales_staff']\n",
    "sales_branch_df = dataframes['sales_branch']\n",
    "retailer_site_df = dataframes['retailer_site']\n",
    "country_df = dataframes['country']\n",
    "order_header_df = dataframes['order_header']\n",
    "order_details_df = dataframes['order_details']\n",
    "returned_item_df = dataframes['returned_item']\n",
    "return_reason_df = dataframes['return_reason']\n",
    "\n",
    "print(sales_staff_df)"
   ]
  },
  {
   "cell_type": "markdown",
   "metadata": {},
   "source": [
    "Let op! Voor alle onderstaande opdrachten mag je <u>alleen Python</u> gebruiken, <u>geen SQL!</u>"
   ]
  },
  {
   "cell_type": "markdown",
   "metadata": {},
   "source": [
    "## Selecties op één tabel zonder functies"
   ]
  },
  {
   "cell_type": "markdown",
   "metadata": {},
   "source": [
    "Geef een overzicht met daarin de producten en hun productiekosten waarvan de productiekosten lager dan 100 dollar en hoger dan 50 dollar ligt. (2 kolommen, 23 rijen)"
   ]
  },
  {
   "cell_type": "code",
   "execution_count": 151,
   "metadata": {
    "ExecuteTime": {
     "end_time": "2024-02-27T14:43:34.855696500Z",
     "start_time": "2024-02-27T14:43:34.810758700Z"
    }
   },
   "outputs": [
    {
     "data": {
      "text/plain": "                       PRODUCT_NAME  PRODUCTION_COST\n13                Blue Steel Putter            60.00\n14            Blue Steel Max Putter            81.80\n17              Course Pro Golf Bag            80.00\n24                  Hibernator Lite            60.00\n25                       Hibernator            86.00\n28  Hibernator Self - Inflating Mat            78.55\n31              Hibernator Camp Cot            65.33\n32     Canyon Mule Climber Backpack            62.50\n56          Granite Climbing Helmet            52.86\n58            Husky Harness Extreme            55.00\n69                   Granite Hammer            57.13\n71        TrailChef Deluxe Cook Set            85.11\n81                        Polar Ice            73.33\n83                     Polar Sports            80.00\n84                       Polar Wave            60.00\n85                    Polar Extreme            72.50\n88                     Edge Extreme            80.00\n91                        Seeker 35            79.19\n92                        Seeker 50            92.58\n93           TrailChef Double Flame            75.00\n94                   Seeker Extreme            94.12\n97                   Glacier Deluxe            56.25\n98                      Glacier GPS            78.55",
      "text/html": "<div>\n<style scoped>\n    .dataframe tbody tr th:only-of-type {\n        vertical-align: middle;\n    }\n\n    .dataframe tbody tr th {\n        vertical-align: top;\n    }\n\n    .dataframe thead th {\n        text-align: right;\n    }\n</style>\n<table border=\"1\" class=\"dataframe\">\n  <thead>\n    <tr style=\"text-align: right;\">\n      <th></th>\n      <th>PRODUCT_NAME</th>\n      <th>PRODUCTION_COST</th>\n    </tr>\n  </thead>\n  <tbody>\n    <tr>\n      <th>13</th>\n      <td>Blue Steel Putter</td>\n      <td>60.00</td>\n    </tr>\n    <tr>\n      <th>14</th>\n      <td>Blue Steel Max Putter</td>\n      <td>81.80</td>\n    </tr>\n    <tr>\n      <th>17</th>\n      <td>Course Pro Golf Bag</td>\n      <td>80.00</td>\n    </tr>\n    <tr>\n      <th>24</th>\n      <td>Hibernator Lite</td>\n      <td>60.00</td>\n    </tr>\n    <tr>\n      <th>25</th>\n      <td>Hibernator</td>\n      <td>86.00</td>\n    </tr>\n    <tr>\n      <th>28</th>\n      <td>Hibernator Self - Inflating Mat</td>\n      <td>78.55</td>\n    </tr>\n    <tr>\n      <th>31</th>\n      <td>Hibernator Camp Cot</td>\n      <td>65.33</td>\n    </tr>\n    <tr>\n      <th>32</th>\n      <td>Canyon Mule Climber Backpack</td>\n      <td>62.50</td>\n    </tr>\n    <tr>\n      <th>56</th>\n      <td>Granite Climbing Helmet</td>\n      <td>52.86</td>\n    </tr>\n    <tr>\n      <th>58</th>\n      <td>Husky Harness Extreme</td>\n      <td>55.00</td>\n    </tr>\n    <tr>\n      <th>69</th>\n      <td>Granite Hammer</td>\n      <td>57.13</td>\n    </tr>\n    <tr>\n      <th>71</th>\n      <td>TrailChef Deluxe Cook Set</td>\n      <td>85.11</td>\n    </tr>\n    <tr>\n      <th>81</th>\n      <td>Polar Ice</td>\n      <td>73.33</td>\n    </tr>\n    <tr>\n      <th>83</th>\n      <td>Polar Sports</td>\n      <td>80.00</td>\n    </tr>\n    <tr>\n      <th>84</th>\n      <td>Polar Wave</td>\n      <td>60.00</td>\n    </tr>\n    <tr>\n      <th>85</th>\n      <td>Polar Extreme</td>\n      <td>72.50</td>\n    </tr>\n    <tr>\n      <th>88</th>\n      <td>Edge Extreme</td>\n      <td>80.00</td>\n    </tr>\n    <tr>\n      <th>91</th>\n      <td>Seeker 35</td>\n      <td>79.19</td>\n    </tr>\n    <tr>\n      <th>92</th>\n      <td>Seeker 50</td>\n      <td>92.58</td>\n    </tr>\n    <tr>\n      <th>93</th>\n      <td>TrailChef Double Flame</td>\n      <td>75.00</td>\n    </tr>\n    <tr>\n      <th>94</th>\n      <td>Seeker Extreme</td>\n      <td>94.12</td>\n    </tr>\n    <tr>\n      <th>97</th>\n      <td>Glacier Deluxe</td>\n      <td>56.25</td>\n    </tr>\n    <tr>\n      <th>98</th>\n      <td>Glacier GPS</td>\n      <td>78.55</td>\n    </tr>\n  </tbody>\n</table>\n</div>"
     },
     "execution_count": 151,
     "metadata": {},
     "output_type": "execute_result"
    }
   ],
   "source": [
    "product_df['PRODUCTION_COST'] = pd.to_numeric(product_df['PRODUCTION_COST'], errors='coerce')\n",
    "producten_filtered = product_df.loc[(product_df['PRODUCTION_COST'] > 50) & (product_df['PRODUCTION_COST'] < 100), ['PRODUCT_NAME', 'PRODUCTION_COST']]\n",
    "producten_filtered"
   ]
  },
  {
   "cell_type": "markdown",
   "metadata": {},
   "source": [
    "Geef een overzicht met daarin de producten en hun marge waarvan de marge lager dan 20 % of hoger dan 60 % ligt. (2 kolommen, 7 rijen) "
   ]
  },
  {
   "cell_type": "code",
   "execution_count": 152,
   "metadata": {
    "ExecuteTime": {
     "end_time": "2024-02-27T14:43:34.978819100Z",
     "start_time": "2024-02-27T14:43:34.824404900Z"
    }
   },
   "outputs": [],
   "source": [
    "product_df['MARGIN'] = pd.to_numeric(product_df['MARGIN'])\n",
    "result = product_df[['PRODUCT_NAME', 'MARGIN']][(product_df['MARGIN'] < 0.20) | (product_df['MARGIN'] > 0.60)]\n",
    "#result"
   ]
  },
  {
   "cell_type": "markdown",
   "metadata": {},
   "source": [
    "Geef een overzicht met daarin de landen waar met francs wordt betaald. Sorteer de uitkomst op land.  (1 kolom, 3 rijen)"
   ]
  },
  {
   "cell_type": "code",
   "execution_count": 153,
   "metadata": {
    "ExecuteTime": {
     "end_time": "2024-02-27T14:43:35.022996500Z",
     "start_time": "2024-02-27T14:43:34.844490700Z"
    }
   },
   "outputs": [],
   "source": [
    "countries_francs = country_df[['COUNTRY', 'CURRENCY_NAME']][country_df['CURRENCY_NAME'] == 'francs']\n",
    "# countries_francs"
   ]
  },
  {
   "cell_type": "markdown",
   "metadata": {},
   "source": [
    "Geef een overzicht met daarin de verschillende introductiedatums waarop producten met meer dan 50% marge worden geïntroduceerd (1 kolom, 7 rijen) "
   ]
  },
  {
   "cell_type": "code",
   "execution_count": 154,
   "metadata": {
    "ExecuteTime": {
     "end_time": "2024-02-27T14:43:35.209045100Z",
     "start_time": "2024-02-27T14:43:35.024999700Z"
    }
   },
   "outputs": [],
   "source": [
    "product_df['MARGIN'] = pd.to_numeric(product_df['MARGIN'], errors='coerce')\n",
    "products_high_margin = product_df[['INTRODUCTION_DATE', 'MARGIN']][product_df['MARGIN'] > 0.50]\n",
    "products_high_margin_unique_dates = products_high_margin.drop_duplicates(subset='INTRODUCTION_DATE')\n",
    "# products_high_margin_unique_dates"
   ]
  },
  {
   "cell_type": "markdown",
   "metadata": {},
   "source": [
    "Geef een overzicht met daarin het eerste adres en de stad van verkoopafdelingen waarvan zowel het tweede adres als de regio bekend is (2 kolommen, 28 rijen)"
   ]
  },
  {
   "cell_type": "code",
   "execution_count": 155,
   "metadata": {
    "ExecuteTime": {
     "end_time": "2024-02-27T14:43:35.271704600Z",
     "start_time": "2024-02-27T14:43:35.194618100Z"
    }
   },
   "outputs": [],
   "source": [
    "verkoopafdelingen = sales_branch_df[['ADDRESS1', 'CITY']][(sales_branch_df['ADDRESS2'].notna()) & (sales_branch_df['REGION'].notna())]\n",
    "# verkoopafdelingen"
   ]
  },
  {
   "cell_type": "markdown",
   "metadata": {},
   "source": [
    "Geef een overzicht met daarin de landen waar met dollars (dollars of new dollar) wordt betaald. Sorteer de uitkomst op land. (1 kolom, 4 rijen) "
   ]
  },
  {
   "cell_type": "code",
   "execution_count": 155,
   "metadata": {
    "ExecuteTime": {
     "end_time": "2024-02-27T14:43:35.356817Z",
     "start_time": "2024-02-27T14:43:35.271884800Z"
    }
   },
   "outputs": [],
   "source": []
  },
  {
   "cell_type": "markdown",
   "metadata": {},
   "source": [
    "Geef een overzicht met daarin beide adressen en de stad van vestigingen van klanten waarvan de postcode begint met een ‘D’ (van duitsland). Filter op vestigingen die een tweede adres hebben. (3 kolommen, 2 rijen) "
   ]
  },
  {
   "cell_type": "code",
   "execution_count": 155,
   "metadata": {
    "ExecuteTime": {
     "end_time": "2024-02-27T14:43:35.397472200Z",
     "start_time": "2024-02-27T14:43:35.355652200Z"
    }
   },
   "outputs": [],
   "source": []
  },
  {
   "cell_type": "markdown",
   "metadata": {},
   "source": [
    "## Selecties op één tabel met functies"
   ]
  },
  {
   "cell_type": "markdown",
   "metadata": {},
   "source": [
    "Geef het totaal aantal producten dat is teruggebracht (1 waarde) "
   ]
  },
  {
   "cell_type": "code",
   "execution_count": 155,
   "metadata": {
    "ExecuteTime": {
     "end_time": "2024-02-27T14:43:35.492831200Z",
     "start_time": "2024-02-27T14:43:35.397981400Z"
    }
   },
   "outputs": [],
   "source": []
  },
  {
   "cell_type": "markdown",
   "metadata": {},
   "source": [
    "Geef het aantal regio’s waarin verkoopafdelingen gevestigd zijn. (1 waarde)"
   ]
  },
  {
   "cell_type": "code",
   "execution_count": 155,
   "metadata": {
    "ExecuteTime": {
     "end_time": "2024-02-27T14:43:35.539973Z",
     "start_time": "2024-02-27T14:43:35.467503400Z"
    }
   },
   "outputs": [],
   "source": []
  },
  {
   "cell_type": "markdown",
   "metadata": {},
   "source": [
    "Maak 3 variabelen:\n",
    "- Een met de laagste\n",
    "- Een met de hoogste\n",
    "- Een met de gemiddelde (afgerond op 2 decimalen)\n",
    "\n",
    "marge van producten (3 kolommen, 1 rij) "
   ]
  },
  {
   "cell_type": "code",
   "execution_count": 155,
   "metadata": {
    "ExecuteTime": {
     "end_time": "2024-02-27T14:43:35.600510800Z",
     "start_time": "2024-02-27T14:43:35.541972400Z"
    }
   },
   "outputs": [],
   "source": []
  },
  {
   "cell_type": "markdown",
   "metadata": {},
   "source": [
    "Geef het aantal vestigingen van klanten waarvan het 2e adres niet bekend is (1 waarde)"
   ]
  },
  {
   "cell_type": "code",
   "execution_count": 155,
   "metadata": {
    "ExecuteTime": {
     "end_time": "2024-02-27T14:43:35.714005500Z",
     "start_time": "2024-02-27T14:43:35.600510800Z"
    }
   },
   "outputs": [],
   "source": []
  },
  {
   "cell_type": "markdown",
   "metadata": {},
   "source": [
    "Geef de gemiddelde kostprijs van de verkochte producten waarop korting (unit_sale_price < unit_price) is verleend (1 waarde) "
   ]
  },
  {
   "cell_type": "code",
   "execution_count": 155,
   "metadata": {
    "ExecuteTime": {
     "end_time": "2024-02-27T14:43:35.753460500Z",
     "start_time": "2024-02-27T14:43:35.714877100Z"
    }
   },
   "outputs": [],
   "source": []
  },
  {
   "cell_type": "markdown",
   "metadata": {},
   "source": [
    "Geef een overzicht met daarin het aantal medewerkers per medewerkersfunctie (2 kolommen, 7 rijen) "
   ]
  },
  {
   "cell_type": "code",
   "execution_count": 155,
   "metadata": {
    "ExecuteTime": {
     "end_time": "2024-02-27T14:43:35.830704600Z",
     "start_time": "2024-02-27T14:43:35.753460500Z"
    }
   },
   "outputs": [],
   "source": []
  },
  {
   "cell_type": "markdown",
   "metadata": {},
   "source": [
    "Geef een overzicht met daarin per telefoonnummer het aantal medewerkers dat op dat telefoonnummer bereikbaar is. Toon alleen de telefoonnummer waarop meer dan 4 medewerkers bereikbaar zijn. (2 kolommen, 10 rijen) "
   ]
  },
  {
   "cell_type": "code",
   "execution_count": 155,
   "metadata": {
    "ExecuteTime": {
     "end_time": "2024-02-27T14:43:35.850606400Z",
     "start_time": "2024-02-27T14:43:35.817671Z"
    }
   },
   "outputs": [],
   "source": []
  },
  {
   "cell_type": "markdown",
   "metadata": {},
   "source": [
    "## Selecties op meerdere tabellen zonder functies"
   ]
  },
  {
   "cell_type": "markdown",
   "metadata": {},
   "source": [
    "Geef een overzicht met daarin het eerste adres en de stad van vestigingen van klanten uit ‘Netherlands’ (2 kolommen, 20 rijen) "
   ]
  },
  {
   "cell_type": "code",
   "execution_count": 155,
   "metadata": {
    "ExecuteTime": {
     "end_time": "2024-02-27T14:43:35.974423900Z",
     "start_time": "2024-02-27T14:43:35.852508600Z"
    }
   },
   "outputs": [],
   "source": []
  },
  {
   "cell_type": "markdown",
   "metadata": {},
   "source": [
    "Geef een overzicht met daarin de productnamen die tot het producttype ‘Eyewear’ behoren. (1 kolom, 5 rijen) "
   ]
  },
  {
   "cell_type": "code",
   "execution_count": 155,
   "metadata": {
    "ExecuteTime": {
     "end_time": "2024-02-27T14:43:35.996469500Z",
     "start_time": "2024-02-27T14:43:35.957930700Z"
    }
   },
   "outputs": [],
   "source": []
  },
  {
   "cell_type": "markdown",
   "metadata": {},
   "source": [
    "Geef een overzicht met daarin alle unieke eerste adressen van klantvestigingen en de voornaam en achternaam van de verkopers die ‘Branch Manager’ zijn en aan deze vestigingen hebben verkocht (3 kolommen, 1 rij) "
   ]
  },
  {
   "cell_type": "code",
   "execution_count": 155,
   "metadata": {
    "ExecuteTime": {
     "end_time": "2024-02-27T14:43:36.076637Z",
     "start_time": "2024-02-27T14:43:35.997467800Z"
    }
   },
   "outputs": [],
   "source": []
  },
  {
   "cell_type": "markdown",
   "metadata": {},
   "source": [
    "Geef een overzicht met daarin van de verkopers hun functie en indien zij iets hebben verkocht de datum waarop de verkoop heeft plaatsgevonden. Laat alleen de verschillende namen van de posities zien van de verkopers die het woord ‘Manager’ in hun positienaam hebben staan. (2 kolommen, 9 rijen) "
   ]
  },
  {
   "cell_type": "code",
   "execution_count": 155,
   "metadata": {
    "ExecuteTime": {
     "end_time": "2024-02-27T14:43:36.095678Z",
     "start_time": "2024-02-27T14:43:36.059063800Z"
    }
   },
   "outputs": [],
   "source": []
  },
  {
   "cell_type": "markdown",
   "metadata": {},
   "source": [
    "Geef een overzicht met daarin de verschillende namen van producten en bijbehorende namen van producttypen van de producten waarvoor ooit meer dan 750 stuks tegelijk verkocht zijn. (2 kolommen, 9 rijen) "
   ]
  },
  {
   "cell_type": "code",
   "execution_count": 155,
   "metadata": {
    "ExecuteTime": {
     "end_time": "2024-02-27T14:43:36.164944700Z",
     "start_time": "2024-02-27T14:43:36.097677100Z"
    }
   },
   "outputs": [],
   "source": []
  },
  {
   "cell_type": "markdown",
   "metadata": {},
   "source": [
    "Geef een overzicht met daarin de productnamen waarvan ooit meer dan 40% korting is verleend. De formule voor korting is: (unit_price - unit_sale_price) / unit_price (1 kolom, 8 rijen) "
   ]
  },
  {
   "cell_type": "code",
   "execution_count": 155,
   "metadata": {
    "ExecuteTime": {
     "end_time": "2024-02-27T14:43:36.197051700Z",
     "start_time": "2024-02-27T14:43:36.164730100Z"
    }
   },
   "outputs": [],
   "source": []
  },
  {
   "cell_type": "markdown",
   "metadata": {},
   "source": [
    "Geef een overzicht met daarin de retourreden van producten waarvan ooit meer dan 90% van de aangeschafte hoeveelheid is teruggebracht (return_quantity/quantity). (1 kolom, 3 rijen) "
   ]
  },
  {
   "cell_type": "code",
   "execution_count": 155,
   "metadata": {
    "ExecuteTime": {
     "end_time": "2024-02-27T14:43:36.252865100Z",
     "start_time": "2024-02-27T14:43:36.197051700Z"
    }
   },
   "outputs": [],
   "source": []
  },
  {
   "cell_type": "markdown",
   "metadata": {},
   "source": [
    "## Selecties op meerdere tabellen met functies"
   ]
  },
  {
   "cell_type": "markdown",
   "metadata": {},
   "source": [
    "Geef een overzicht met daarin per producttype het aantal producten die tot dat producttype behoren. (2 kolommen, 21 rijen) "
   ]
  },
  {
   "cell_type": "code",
   "execution_count": 166,
   "metadata": {
    "ExecuteTime": {
     "end_time": "2024-02-27T14:45:23.728525700Z",
     "start_time": "2024-02-27T14:45:23.620760200Z"
    }
   },
   "outputs": [
    {
     "data": {
      "text/plain": "   TYPE_CODE  AANTAL_PRODUCTEN\n0          1                10\n1         10                 5\n2         11                 5\n3         12                 5\n4         13                 4\n5         14                 4\n6         15                 5\n7         16                 5\n8         17                 5\n9         18                 4\n10        19                 4\n11         2                 6\n12        20                 3\n13        21                 4\n14         3                 7\n15         4                 6\n16         5                12\n17         6                 4\n18         7                 4\n19         8                 7\n20         9                 6",
      "text/html": "<div>\n<style scoped>\n    .dataframe tbody tr th:only-of-type {\n        vertical-align: middle;\n    }\n\n    .dataframe tbody tr th {\n        vertical-align: top;\n    }\n\n    .dataframe thead th {\n        text-align: right;\n    }\n</style>\n<table border=\"1\" class=\"dataframe\">\n  <thead>\n    <tr style=\"text-align: right;\">\n      <th></th>\n      <th>TYPE_CODE</th>\n      <th>AANTAL_PRODUCTEN</th>\n    </tr>\n  </thead>\n  <tbody>\n    <tr>\n      <th>0</th>\n      <td>1</td>\n      <td>10</td>\n    </tr>\n    <tr>\n      <th>1</th>\n      <td>10</td>\n      <td>5</td>\n    </tr>\n    <tr>\n      <th>2</th>\n      <td>11</td>\n      <td>5</td>\n    </tr>\n    <tr>\n      <th>3</th>\n      <td>12</td>\n      <td>5</td>\n    </tr>\n    <tr>\n      <th>4</th>\n      <td>13</td>\n      <td>4</td>\n    </tr>\n    <tr>\n      <th>5</th>\n      <td>14</td>\n      <td>4</td>\n    </tr>\n    <tr>\n      <th>6</th>\n      <td>15</td>\n      <td>5</td>\n    </tr>\n    <tr>\n      <th>7</th>\n      <td>16</td>\n      <td>5</td>\n    </tr>\n    <tr>\n      <th>8</th>\n      <td>17</td>\n      <td>5</td>\n    </tr>\n    <tr>\n      <th>9</th>\n      <td>18</td>\n      <td>4</td>\n    </tr>\n    <tr>\n      <th>10</th>\n      <td>19</td>\n      <td>4</td>\n    </tr>\n    <tr>\n      <th>11</th>\n      <td>2</td>\n      <td>6</td>\n    </tr>\n    <tr>\n      <th>12</th>\n      <td>20</td>\n      <td>3</td>\n    </tr>\n    <tr>\n      <th>13</th>\n      <td>21</td>\n      <td>4</td>\n    </tr>\n    <tr>\n      <th>14</th>\n      <td>3</td>\n      <td>7</td>\n    </tr>\n    <tr>\n      <th>15</th>\n      <td>4</td>\n      <td>6</td>\n    </tr>\n    <tr>\n      <th>16</th>\n      <td>5</td>\n      <td>12</td>\n    </tr>\n    <tr>\n      <th>17</th>\n      <td>6</td>\n      <td>4</td>\n    </tr>\n    <tr>\n      <th>18</th>\n      <td>7</td>\n      <td>4</td>\n    </tr>\n    <tr>\n      <th>19</th>\n      <td>8</td>\n      <td>7</td>\n    </tr>\n    <tr>\n      <th>20</th>\n      <td>9</td>\n      <td>6</td>\n    </tr>\n  </tbody>\n</table>\n</div>"
     },
     "execution_count": 166,
     "metadata": {},
     "output_type": "execute_result"
    }
   ],
   "source": [
    "merged_df = pd.merge(product_df, product_type_df, on=\"PRODUCT_TYPE_CODE\")\n",
    "product_counts = merged_df.groupby(\"PRODUCT_TYPE_CODE\").size()\n",
    "product_type_counts_df = pd.DataFrame({\"TYPE_CODE\": product_counts.index, \"AANTAL_PRODUCTEN\": product_counts.values})\n",
    "product_type_counts_df\n"
   ]
  },
  {
   "cell_type": "markdown",
   "metadata": {},
   "source": [
    "Geef een overzicht met daarin per land het aantal vestigingen van klanten die zich in dat land bevinden. (2 kolommen, 21 rijen) "
   ]
  },
  {
   "cell_type": "code",
   "execution_count": 173,
   "metadata": {
    "ExecuteTime": {
     "end_time": "2024-02-27T14:51:42.496734700Z",
     "start_time": "2024-02-27T14:51:42.468791100Z"
    }
   },
   "outputs": [
    {
     "data": {
      "text/plain": "   Country_Code  Aantal_Vestigingen\n0             1                   2\n1            10                   1\n2            11                   2\n3            12                   1\n4            13                   1\n5            14                   1\n6            16                   1\n7            17                   1\n8            19                   1\n9             2                   2\n10           20                   1\n11           21                   1\n12           22                   1\n13            3                   4\n14            4                   2\n15            5                   1\n16            6                   1\n17            7                   1\n18            8                   1\n19            9                   2",
      "text/html": "<div>\n<style scoped>\n    .dataframe tbody tr th:only-of-type {\n        vertical-align: middle;\n    }\n\n    .dataframe tbody tr th {\n        vertical-align: top;\n    }\n\n    .dataframe thead th {\n        text-align: right;\n    }\n</style>\n<table border=\"1\" class=\"dataframe\">\n  <thead>\n    <tr style=\"text-align: right;\">\n      <th></th>\n      <th>Country_Code</th>\n      <th>Aantal_Vestigingen</th>\n    </tr>\n  </thead>\n  <tbody>\n    <tr>\n      <th>0</th>\n      <td>1</td>\n      <td>2</td>\n    </tr>\n    <tr>\n      <th>1</th>\n      <td>10</td>\n      <td>1</td>\n    </tr>\n    <tr>\n      <th>2</th>\n      <td>11</td>\n      <td>2</td>\n    </tr>\n    <tr>\n      <th>3</th>\n      <td>12</td>\n      <td>1</td>\n    </tr>\n    <tr>\n      <th>4</th>\n      <td>13</td>\n      <td>1</td>\n    </tr>\n    <tr>\n      <th>5</th>\n      <td>14</td>\n      <td>1</td>\n    </tr>\n    <tr>\n      <th>6</th>\n      <td>16</td>\n      <td>1</td>\n    </tr>\n    <tr>\n      <th>7</th>\n      <td>17</td>\n      <td>1</td>\n    </tr>\n    <tr>\n      <th>8</th>\n      <td>19</td>\n      <td>1</td>\n    </tr>\n    <tr>\n      <th>9</th>\n      <td>2</td>\n      <td>2</td>\n    </tr>\n    <tr>\n      <th>10</th>\n      <td>20</td>\n      <td>1</td>\n    </tr>\n    <tr>\n      <th>11</th>\n      <td>21</td>\n      <td>1</td>\n    </tr>\n    <tr>\n      <th>12</th>\n      <td>22</td>\n      <td>1</td>\n    </tr>\n    <tr>\n      <th>13</th>\n      <td>3</td>\n      <td>4</td>\n    </tr>\n    <tr>\n      <th>14</th>\n      <td>4</td>\n      <td>2</td>\n    </tr>\n    <tr>\n      <th>15</th>\n      <td>5</td>\n      <td>1</td>\n    </tr>\n    <tr>\n      <th>16</th>\n      <td>6</td>\n      <td>1</td>\n    </tr>\n    <tr>\n      <th>17</th>\n      <td>7</td>\n      <td>1</td>\n    </tr>\n    <tr>\n      <th>18</th>\n      <td>8</td>\n      <td>1</td>\n    </tr>\n    <tr>\n      <th>19</th>\n      <td>9</td>\n      <td>2</td>\n    </tr>\n  </tbody>\n</table>\n</div>"
     },
     "execution_count": 173,
     "metadata": {},
     "output_type": "execute_result"
    }
   ],
   "source": [
    "merged_df = pd.merge(sales_branch_df, country_df, on=\"COUNTRY_CODE\")\n",
    "vestigingen_land = merged_df.groupby(\"COUNTRY_CODE\").size()\n",
    "vestigingen_land_df = pd.DataFrame({\"Country_Code\": vestigingen_land.index, \"Aantal_Vestigingen\":vestigingen_land.values})\n",
    "vestigingen_land_df"
   ]
  },
  {
   "cell_type": "markdown",
   "metadata": {},
   "source": [
    "Geef een overzicht met daarin van de producten behorend tot het producttype ‘Cooking Gear’ per productnaam de totaal verkochte hoeveelheid en de gemiddelde verkoopprijs. Sorteer de uitkomst op totaal verkochte hoeveelheid. (4 kolommen, 10 rijen) "
   ]
  },
  {
   "cell_type": "code",
   "execution_count": 184,
   "metadata": {
    "ExecuteTime": {
     "end_time": "2024-02-27T15:06:12.514773900Z",
     "start_time": "2024-02-27T15:06:12.491188100Z"
    }
   },
   "outputs": [
    {
     "data": {
      "text/plain": "Series([], Name: PRODUCT_NAME, dtype: object)"
     },
     "execution_count": 184,
     "metadata": {},
     "output_type": "execute_result"
    }
   ],
   "source": [
    "cooking_gear_code = product_type_df[product_type_df[\"PRODUCT_TYPE_EN\"] == \"Cooking Gear\"][\"PRODUCT_TYPE_CODE\"]\n",
    "product_names = product_df[product_df['PRODUCT_TYPE_CODE'].isin([cooking_gear_code])]['PRODUCT_NAME']"
   ]
  },
  {
   "cell_type": "markdown",
   "metadata": {},
   "source": [
    "Geef een overzicht met daarin van de verkopers behorend tot de verkoopafdeling uit ‘Amsterdam’ de voornaam en achternaam van de verkoper en zijn laagste en hoogste verkooptarget van 2006. (4 kolommen, 4 rijen) "
   ]
  },
  {
   "cell_type": "code",
   "execution_count": 156,
   "metadata": {
    "ExecuteTime": {
     "end_time": "2024-02-27T14:43:36.644968600Z",
     "start_time": "2024-02-27T14:43:36.580004400Z"
    }
   },
   "outputs": [],
   "source": []
  },
  {
   "cell_type": "markdown",
   "metadata": {},
   "source": [
    "Geef een overzicht met daarin per land de naam van het land, de naam van de stad waar de verkoopafdeling is gevestigd (noem de kolomnaam in het overzicht ‘verkoper’) en het aantal steden waar zich klanten bevinden in dat land (noem de kolomnaam in het overzicht ‘klanten’) (3 kolommen, 29 rijen) "
   ]
  },
  {
   "cell_type": "code",
   "execution_count": 156,
   "metadata": {
    "ExecuteTime": {
     "end_time": "2024-02-27T14:43:36.710963700Z",
     "start_time": "2024-02-27T14:43:36.629412800Z"
    }
   },
   "outputs": [],
   "source": []
  },
  {
   "cell_type": "markdown",
   "source": [],
   "metadata": {
    "collapsed": false
   }
  },
  {
   "cell_type": "markdown",
   "metadata": {},
   "source": [
    "## Pythonvertalingen van SUBSELECT en UNION met o.a. for-loops"
   ]
  },
  {
   "cell_type": "markdown",
   "metadata": {},
   "source": [
    "Geef een overzicht met daarin de voornaam en de achternaam van de medewerkers die nog nooit wat hebben verkocht (2 kolommen, 25 rijen) "
   ]
  },
  {
   "cell_type": "code",
   "execution_count": 157,
   "metadata": {
    "ExecuteTime": {
     "end_time": "2024-02-27T14:43:36.719534600Z",
     "start_time": "2024-02-27T14:43:36.695915200Z"
    }
   },
   "outputs": [],
   "source": [
    "# Find all sales staff codes in order_header_df\n",
    "existing_codes = order_header_df['SALES_STAFF_CODE']\n",
    "\n",
    "# Filter sales_staff_df to exclude codes in existing_codes\n",
    "staff_without_sales = sales_staff_df[~sales_staff_df['SALES_STAFF_CODE'].isin(existing_codes)]\n",
    "selected_columns = ['FIRST_NAME', 'LAST_NAME']\n",
    "filtered_staff = staff_without_sales[selected_columns]\n",
    "\n",
    "# Print the DataFrame\n",
    "#filtered_staff"
   ]
  },
  {
   "cell_type": "markdown",
   "metadata": {},
   "source": [
    "Geef een overzicht met daarin het aantal producten waarvan de marge lager is dan de gemiddelde marge van alle producten samen. Geef in het overzicht tevens aan wat de gemiddelde marge is van dit aantal producten waarvan de marge lager dan de gemiddelde marge van alle producten samen is. (1 kolom, 2 rijen) "
   ]
  },
  {
   "cell_type": "code",
   "execution_count": 158,
   "metadata": {
    "ExecuteTime": {
     "end_time": "2024-02-27T14:43:36.811688100Z",
     "start_time": "2024-02-27T14:43:36.722042400Z"
    }
   },
   "outputs": [
    {
     "name": "stdout",
     "output_type": "stream",
     "text": [
      "   Average Margin  Products Below Avg\n",
      "0        0.396609                  59\n"
     ]
    }
   ],
   "source": [
    "numericMargin = pd.to_numeric(product_df['MARGIN'])\n",
    "total_margin = numericMargin.sum()\n",
    "# shape wordt gebruikt om het aantal rijen en kolommen te bepalen door[0] bepaal je aantal rijen en met [1] aantal kolommen\n",
    "total_Products = product_df['PRODUCT_NUMBER'].count()\n",
    "avg_margin_product = total_margin/total_Products\n",
    "low_margin_products = product_df['MARGIN'] < avg_margin_product\n",
    "\n",
    "total_low_margin = low_margin_products.sum()\n",
    "data = {\n",
    "    \"Average Margin\": [avg_margin_product],\n",
    "    \"Products Below Avg\": [low_margin_products.sum()]\n",
    "}\n",
    "\n",
    "overview_df = pd.DataFrame(data)\n",
    "\n",
    "# Print the DataFrame\n",
    "print(overview_df)"
   ]
  },
  {
   "cell_type": "markdown",
   "metadata": {},
   "source": [
    "Geef een overzicht met daarin de namen van de producten die voor meer dan 500 (verkoopprijs) zijn verkocht maar nooit zijn teruggebracht. (1 kolom, 13 rijen) "
   ]
  },
  {
   "cell_type": "code",
   "execution_count": 159,
   "metadata": {
    "ExecuteTime": {
     "end_time": "2024-02-27T14:43:36.855198Z",
     "start_time": "2024-02-27T14:43:36.796441100Z"
    }
   },
   "outputs": [
    {
     "data": {
      "text/plain": "4              Hailstorm Titanium Irons\n6         Lady Hailstorm Titanium Irons\n7          Hailstorm Titanium Woods Set\n8             Hailstorm Steel Woods Set\n9     Lady Hailstorm Titanium Woods Set\n10       Lady Hailstorm Steel Woods Set\n19                            Star Dome\n21                         Star Gazer 3\n22                         Star Gazer 6\n55                       Husky Rope 200\nName: PRODUCT_NAME, dtype: object"
     },
     "execution_count": 159,
     "metadata": {},
     "output_type": "execute_result"
    }
   ],
   "source": [
    "products_over500 = product_df[\"PRODUCTION_COST\"] * (1 +product_df[\"MARGIN\"]) > 500\n",
    "over500_products_df = product_df[products_over500]\n",
    "over500_product_names = over500_products_df[\"PRODUCT_NAME\"]\n",
    "over500_product_names #klopt niet met de 13 rijen die verwacht worden en ik moet ook nog de check uitvoeren of ze nog nooit zijn teruggebracht\n"
   ]
  },
  {
   "cell_type": "markdown",
   "metadata": {},
   "source": [
    "Geef een overzicht met daarin per (achternaam van) medewerker of hij/zij manager is of niet, door deze informatie toe te voegen als extra 'Ja/Nee'-kolom.<br>\n",
    "Hint: gebruik een for-loop waarin je o.a. bepaalt of het woord 'Manager' in de functie (position_en) staat. (2 kolommen, 102 rijen)."
   ]
  },
  {
   "cell_type": "code",
   "execution_count": 188,
   "metadata": {
    "ExecuteTime": {
     "end_time": "2024-02-28T10:06:34.215275Z",
     "start_time": "2024-02-28T10:06:34.180106300Z"
    }
   },
   "outputs": [
    {
     "data": {
      "text/plain": "(0      Savolainen\n 1             Kim\n 2            Choi\n 3             Kao\n 4            Fang\n           ...    \n 97       Iglesias\n 98          Lopes\n 99         Barros\n 100     Guimarães\n 101      Lindholm\n Name: LAST_NAME, Length: 102, dtype: object,\n 0      Level 2 Sales Representative\n 1      Level 2 Sales Representative\n 2      Level 3 Sales Representative\n 3      Level 2 Sales Representative\n 4      Level 3 Sales Representative\n                    ...             \n 97     Level 2 Sales Representative\n 98                   Branch Manager\n 99     Level 3 Sales Representative\n 100    Level 2 Sales Representative\n 101    Level 3 Sales Representative\n Name: POSITION_EN, Length: 102, dtype: object)"
     },
     "execution_count": 188,
     "metadata": {},
     "output_type": "execute_result"
    }
   ],
   "source": [
    "naam_functie = sales_staff_df['LAST_NAME'], sales_staff_df['POSITION_EN']\n",
    "naam_functie"
   ]
  },
  {
   "cell_type": "markdown",
   "metadata": {},
   "source": [
    "Met de onderstaande code laat je Python het huidige jaar uitrekenen."
   ]
  },
  {
   "cell_type": "code",
   "execution_count": 161,
   "metadata": {
    "ExecuteTime": {
     "end_time": "2024-02-27T14:43:37.022921Z",
     "start_time": "2024-02-27T14:43:36.939674900Z"
    }
   },
   "outputs": [
    {
     "data": {
      "text/plain": "2024"
     },
     "execution_count": 161,
     "metadata": {},
     "output_type": "execute_result"
    }
   ],
   "source": [
    "from datetime import date\n",
    "date.today().year"
   ]
  },
  {
   "cell_type": "markdown",
   "metadata": {},
   "source": [
    "Met de onderstaande code selecteer je op een bepaald jaartal uit een datum."
   ]
  },
  {
   "cell_type": "code",
   "execution_count": 162,
   "metadata": {
    "ExecuteTime": {
     "end_time": "2024-02-27T14:43:37.086213100Z",
     "start_time": "2024-02-27T14:43:37.008835400Z"
    }
   },
   "outputs": [
    {
     "data": {
      "text/plain": "2013"
     },
     "execution_count": 162,
     "metadata": {},
     "output_type": "execute_result"
    }
   ],
   "source": [
    "from datetime import datetime\n",
    "\n",
    "date_str = '16-8-2013'\n",
    "date_format = '%d-%m-%Y'\n",
    "date_obj = datetime.strptime(date_str, date_format)\n",
    "\n",
    "date_obj.year"
   ]
  },
  {
   "cell_type": "markdown",
   "metadata": {},
   "source": [
    "Geef met behulp van bovenstaande hulpcode een overzicht met daarin op basis van het aantal jaar dat iemand in dienst is of een medewerker ‘kort in dienst’ (minder dan 25 jaar in dienst) of een ‘lang in dienst’ (groter gelijk dan 12 jaar in dienst) is. Geef daarbij per medewerker in een aparte kolom zowel ‘kort in dienst’ als ‘lang in dienst’ aan. Gebruik (wederom) een for-loop.<br>\n",
    "(2 kolommen, 102 rijen) "
   ]
  },
  {
   "cell_type": "code",
   "execution_count": 162,
   "metadata": {
    "ExecuteTime": {
     "end_time": "2024-02-27T14:43:37.162061700Z",
     "start_time": "2024-02-27T14:43:37.088293Z"
    }
   },
   "outputs": [],
   "source": []
  }
 ],
 "metadata": {
  "kernelspec": {
   "display_name": "python-in-deds-P4iSP_yI-py3.11",
   "language": "python",
   "name": "python3"
  },
  "language_info": {
   "codemirror_mode": {
    "name": "ipython",
    "version": 3
   },
   "file_extension": ".py",
   "mimetype": "text/x-python",
   "name": "python",
   "nbconvert_exporter": "python",
   "pygments_lexer": "ipython3",
   "version": "3.12.2"
  }
 },
 "nbformat": 4,
 "nbformat_minor": 2
}
